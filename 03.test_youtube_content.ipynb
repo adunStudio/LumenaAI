{
 "cells": [
  {
   "cell_type": "code",
   "execution_count": 1,
   "outputs": [],
   "source": [
    "from value_object import YouTubeVideoLink\n",
    "from entity import YouTubeContent\n",
    "from typing import List\n",
    "\n",
    "temp_thumbnail_link: str = 'https://i.ytimg.com/vi/kjSpztdWcUQ/hqdefault.jpg?sqp=-oaymwEnCNACELwBSFryq4qpAxkIARUAAIhCGAHYAQHiAQoIGBACGAY4AUAB&rs=AOn4CLDMzFBodogAsXyXi0D-Osz7IGVDkA'\n",
    "\n",
    "youtube_contents: List[YouTubeContent] = []\n",
    "\n",
    "youtube_contents.append(YouTubeContent('타이틀1', temp_thumbnail_link, YouTubeVideoLink('https://www.youtube.com/watch?v=MmW166cHj54&list=PLO-mt5Iu5TeZF8xMHqtT_DhAPKmjF6i3x'), '설명1', ['유니티', '강좌'], '뱀서라이크'))\n",
    "\n",
    "youtube_contents.append(YouTubeContent('타이틀1', temp_thumbnail_link, YouTubeVideoLink('https://www.youtube.com/watch?v=MmW166cHj54&list=PLO-mt5Iu5TeZF8xMHqtT_DhAPKmjF6i3x'), '설명1', ['유니티', '강좌'], '뱀서라이크'))\n",
    "\n",
    "youtube_contents.append(YouTubeContent('타이틀1', temp_thumbnail_link, YouTubeVideoLink('https://www.youtube.com/watch?v=MmW166cHj54&list=PLO-mt5Iu5TeZF8xMHqtT_DhAPKmjF6i3x'), '설명1', ['유니티', '강좌'], '뱀서라이크'))"
   ],
   "metadata": {
    "collapsed": false
   }
  },
  {
   "cell_type": "code",
   "execution_count": 6,
   "outputs": [
    {
     "name": "stdout",
     "output_type": "stream",
     "text": [
      "<entity.youtube_content.YouTubeContent object at 0x105d304c0>\n",
      "타이틀1\n",
      "https://i.ytimg.com/vi/kjSpztdWcUQ/hqdefault.jpg?sqp=-oaymwEnCNACELwBSFryq4qpAxkIARUAAIhCGAHYAQHiAQoIGBACGAY4AUAB&rs=AOn4CLDMzFBodogAsXyXi0D-Osz7IGVDkA\n",
      "https://www.youtube.com/watch?v=MmW166cHj54\n",
      "설명1\n",
      "['유니티', '강좌']\n",
      "뱀서라이크\n"
     ]
    }
   ],
   "source": [
    "print(youtube_contents[0])\n",
    "print(youtube_contents[0].title)\n",
    "print(youtube_contents[0].thumbnail)\n",
    "print(youtube_contents[0].url)\n",
    "print(youtube_contents[0].description)\n",
    "print(youtube_contents[0].tags)\n",
    "print(youtube_contents[0].category)"
   ],
   "metadata": {
    "collapsed": false
   }
  }
 ],
 "metadata": {
  "kernelspec": {
   "display_name": "Python 3",
   "language": "python",
   "name": "python3"
  },
  "language_info": {
   "codemirror_mode": {
    "name": "ipython",
    "version": 2
   },
   "file_extension": ".py",
   "mimetype": "text/x-python",
   "name": "python",
   "nbconvert_exporter": "python",
   "pygments_lexer": "ipython2",
   "version": "2.7.6"
  }
 },
 "nbformat": 4,
 "nbformat_minor": 0
}
