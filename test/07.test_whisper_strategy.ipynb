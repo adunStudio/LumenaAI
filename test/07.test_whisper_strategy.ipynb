{
 "cells": [
  {
   "cell_type": "code",
   "execution_count": 7,
   "metadata": {
    "collapsed": true
   },
   "outputs": [
    {
     "name": "stdout",
     "output_type": "stream",
     "text": [
      "Requirement already satisfied: pip in /Users/kimhongil/.conda/envs/LumenaAI/lib/python3.10/site-packages (24.2)\r\n",
      "Collecting pip\r\n",
      "  Using cached pip-24.3.1-py3-none-any.whl.metadata (3.7 kB)\r\n",
      "Using cached pip-24.3.1-py3-none-any.whl (1.8 MB)\r\n",
      "Installing collected packages: pip\r\n",
      "  Attempting uninstall: pip\r\n",
      "    Found existing installation: pip 24.2\r\n",
      "    Uninstalling pip-24.2:\r\n",
      "      Successfully uninstalled pip-24.2\r\n",
      "Successfully installed pip-24.3.1\r\n",
      "Requirement already satisfied: transformers in /Users/kimhongil/.conda/envs/LumenaAI/lib/python3.10/site-packages (4.48.1)\r\n",
      "Requirement already satisfied: torch in /Users/kimhongil/.conda/envs/LumenaAI/lib/python3.10/site-packages (2.5.1)\r\n",
      "Requirement already satisfied: accelerate in /Users/kimhongil/.conda/envs/LumenaAI/lib/python3.10/site-packages (1.3.0)\r\n",
      "Requirement already satisfied: filelock in /Users/kimhongil/.conda/envs/LumenaAI/lib/python3.10/site-packages (from transformers) (3.17.0)\r\n",
      "Requirement already satisfied: huggingface-hub<1.0,>=0.24.0 in /Users/kimhongil/.conda/envs/LumenaAI/lib/python3.10/site-packages (from transformers) (0.27.1)\r\n",
      "Requirement already satisfied: numpy>=1.17 in /Users/kimhongil/.conda/envs/LumenaAI/lib/python3.10/site-packages (from transformers) (2.1.3)\r\n",
      "Requirement already satisfied: packaging>=20.0 in /Users/kimhongil/.conda/envs/LumenaAI/lib/python3.10/site-packages (from transformers) (24.2)\r\n",
      "Requirement already satisfied: pyyaml>=5.1 in /Users/kimhongil/.conda/envs/LumenaAI/lib/python3.10/site-packages (from transformers) (6.0.2)\r\n",
      "Requirement already satisfied: regex!=2019.12.17 in /Users/kimhongil/.conda/envs/LumenaAI/lib/python3.10/site-packages (from transformers) (2024.11.6)\r\n",
      "Requirement already satisfied: requests in /Users/kimhongil/.conda/envs/LumenaAI/lib/python3.10/site-packages (from transformers) (2.32.3)\r\n",
      "Requirement already satisfied: tokenizers<0.22,>=0.21 in /Users/kimhongil/.conda/envs/LumenaAI/lib/python3.10/site-packages (from transformers) (0.21.0)\r\n",
      "Requirement already satisfied: safetensors>=0.4.1 in /Users/kimhongil/.conda/envs/LumenaAI/lib/python3.10/site-packages (from transformers) (0.5.2)\r\n",
      "Requirement already satisfied: tqdm>=4.27 in /Users/kimhongil/.conda/envs/LumenaAI/lib/python3.10/site-packages (from transformers) (4.67.1)\r\n",
      "Requirement already satisfied: typing-extensions>=4.8.0 in /Users/kimhongil/.conda/envs/LumenaAI/lib/python3.10/site-packages (from torch) (4.12.2)\r\n",
      "Requirement already satisfied: networkx in /Users/kimhongil/.conda/envs/LumenaAI/lib/python3.10/site-packages (from torch) (3.4.2)\r\n",
      "Requirement already satisfied: jinja2 in /Users/kimhongil/.conda/envs/LumenaAI/lib/python3.10/site-packages (from torch) (3.1.4)\r\n",
      "Requirement already satisfied: fsspec in /Users/kimhongil/.conda/envs/LumenaAI/lib/python3.10/site-packages (from torch) (2024.12.0)\r\n",
      "Requirement already satisfied: sympy==1.13.1 in /Users/kimhongil/.conda/envs/LumenaAI/lib/python3.10/site-packages (from torch) (1.13.1)\r\n",
      "Requirement already satisfied: mpmath<1.4,>=1.1.0 in /Users/kimhongil/.conda/envs/LumenaAI/lib/python3.10/site-packages (from sympy==1.13.1->torch) (1.3.0)\r\n",
      "Requirement already satisfied: psutil in /Users/kimhongil/.conda/envs/LumenaAI/lib/python3.10/site-packages (from accelerate) (5.9.0)\r\n",
      "Requirement already satisfied: MarkupSafe>=2.0 in /Users/kimhongil/.conda/envs/LumenaAI/lib/python3.10/site-packages (from jinja2->torch) (2.1.3)\r\n",
      "Requirement already satisfied: charset-normalizer<4,>=2 in /Users/kimhongil/.conda/envs/LumenaAI/lib/python3.10/site-packages (from requests->transformers) (3.3.2)\r\n",
      "Requirement already satisfied: idna<4,>=2.5 in /Users/kimhongil/.conda/envs/LumenaAI/lib/python3.10/site-packages (from requests->transformers) (3.7)\r\n",
      "Requirement already satisfied: urllib3<3,>=1.21.1 in /Users/kimhongil/.conda/envs/LumenaAI/lib/python3.10/site-packages (from requests->transformers) (2.3.0)\r\n",
      "Requirement already satisfied: certifi>=2017.4.17 in /Users/kimhongil/.conda/envs/LumenaAI/lib/python3.10/site-packages (from requests->transformers) (2024.12.14)\r\n",
      "Requirement already satisfied: accelerate in /Users/kimhongil/.conda/envs/LumenaAI/lib/python3.10/site-packages (1.3.0)\r\n",
      "Requirement already satisfied: numpy<3.0.0,>=1.17 in /Users/kimhongil/.conda/envs/LumenaAI/lib/python3.10/site-packages (from accelerate) (2.1.3)\r\n",
      "Requirement already satisfied: packaging>=20.0 in /Users/kimhongil/.conda/envs/LumenaAI/lib/python3.10/site-packages (from accelerate) (24.2)\r\n",
      "Requirement already satisfied: psutil in /Users/kimhongil/.conda/envs/LumenaAI/lib/python3.10/site-packages (from accelerate) (5.9.0)\r\n",
      "Requirement already satisfied: pyyaml in /Users/kimhongil/.conda/envs/LumenaAI/lib/python3.10/site-packages (from accelerate) (6.0.2)\r\n",
      "Requirement already satisfied: torch>=2.0.0 in /Users/kimhongil/.conda/envs/LumenaAI/lib/python3.10/site-packages (from accelerate) (2.5.1)\r\n",
      "Requirement already satisfied: huggingface-hub>=0.21.0 in /Users/kimhongil/.conda/envs/LumenaAI/lib/python3.10/site-packages (from accelerate) (0.27.1)\r\n",
      "Requirement already satisfied: safetensors>=0.4.3 in /Users/kimhongil/.conda/envs/LumenaAI/lib/python3.10/site-packages (from accelerate) (0.5.2)\r\n",
      "Requirement already satisfied: filelock in /Users/kimhongil/.conda/envs/LumenaAI/lib/python3.10/site-packages (from huggingface-hub>=0.21.0->accelerate) (3.17.0)\r\n",
      "Requirement already satisfied: fsspec>=2023.5.0 in /Users/kimhongil/.conda/envs/LumenaAI/lib/python3.10/site-packages (from huggingface-hub>=0.21.0->accelerate) (2024.12.0)\r\n",
      "Requirement already satisfied: requests in /Users/kimhongil/.conda/envs/LumenaAI/lib/python3.10/site-packages (from huggingface-hub>=0.21.0->accelerate) (2.32.3)\r\n",
      "Requirement already satisfied: tqdm>=4.42.1 in /Users/kimhongil/.conda/envs/LumenaAI/lib/python3.10/site-packages (from huggingface-hub>=0.21.0->accelerate) (4.67.1)\r\n",
      "Requirement already satisfied: typing-extensions>=3.7.4.3 in /Users/kimhongil/.conda/envs/LumenaAI/lib/python3.10/site-packages (from huggingface-hub>=0.21.0->accelerate) (4.12.2)\r\n",
      "Requirement already satisfied: networkx in /Users/kimhongil/.conda/envs/LumenaAI/lib/python3.10/site-packages (from torch>=2.0.0->accelerate) (3.4.2)\r\n",
      "Requirement already satisfied: jinja2 in /Users/kimhongil/.conda/envs/LumenaAI/lib/python3.10/site-packages (from torch>=2.0.0->accelerate) (3.1.4)\r\n",
      "Requirement already satisfied: sympy==1.13.1 in /Users/kimhongil/.conda/envs/LumenaAI/lib/python3.10/site-packages (from torch>=2.0.0->accelerate) (1.13.1)\r\n",
      "Requirement already satisfied: mpmath<1.4,>=1.1.0 in /Users/kimhongil/.conda/envs/LumenaAI/lib/python3.10/site-packages (from sympy==1.13.1->torch>=2.0.0->accelerate) (1.3.0)\r\n",
      "Requirement already satisfied: MarkupSafe>=2.0 in /Users/kimhongil/.conda/envs/LumenaAI/lib/python3.10/site-packages (from jinja2->torch>=2.0.0->accelerate) (2.1.3)\r\n",
      "Requirement already satisfied: charset-normalizer<4,>=2 in /Users/kimhongil/.conda/envs/LumenaAI/lib/python3.10/site-packages (from requests->huggingface-hub>=0.21.0->accelerate) (3.3.2)\r\n",
      "Requirement already satisfied: idna<4,>=2.5 in /Users/kimhongil/.conda/envs/LumenaAI/lib/python3.10/site-packages (from requests->huggingface-hub>=0.21.0->accelerate) (3.7)\r\n",
      "Requirement already satisfied: urllib3<3,>=1.21.1 in /Users/kimhongil/.conda/envs/LumenaAI/lib/python3.10/site-packages (from requests->huggingface-hub>=0.21.0->accelerate) (2.3.0)\r\n",
      "Requirement already satisfied: certifi>=2017.4.17 in /Users/kimhongil/.conda/envs/LumenaAI/lib/python3.10/site-packages (from requests->huggingface-hub>=0.21.0->accelerate) (2024.12.14)\r\n",
      "Requirement already satisfied: librosa in /Users/kimhongil/.conda/envs/LumenaAI/lib/python3.10/site-packages (0.10.2.post1)\r\n",
      "Requirement already satisfied: audioread>=2.1.9 in /Users/kimhongil/.conda/envs/LumenaAI/lib/python3.10/site-packages (from librosa) (3.0.1)\r\n",
      "Requirement already satisfied: numpy!=1.22.0,!=1.22.1,!=1.22.2,>=1.20.3 in /Users/kimhongil/.conda/envs/LumenaAI/lib/python3.10/site-packages (from librosa) (2.1.3)\r\n",
      "Requirement already satisfied: scipy>=1.2.0 in /Users/kimhongil/.conda/envs/LumenaAI/lib/python3.10/site-packages (from librosa) (1.15.1)\r\n",
      "Requirement already satisfied: scikit-learn>=0.20.0 in /Users/kimhongil/.conda/envs/LumenaAI/lib/python3.10/site-packages (from librosa) (1.6.1)\r\n",
      "Requirement already satisfied: joblib>=0.14 in /Users/kimhongil/.conda/envs/LumenaAI/lib/python3.10/site-packages (from librosa) (1.4.2)\r\n",
      "Requirement already satisfied: decorator>=4.3.0 in /Users/kimhongil/.conda/envs/LumenaAI/lib/python3.10/site-packages (from librosa) (5.1.1)\r\n",
      "Requirement already satisfied: numba>=0.51.0 in /Users/kimhongil/.conda/envs/LumenaAI/lib/python3.10/site-packages (from librosa) (0.61.0)\r\n",
      "Requirement already satisfied: soundfile>=0.12.1 in /Users/kimhongil/.conda/envs/LumenaAI/lib/python3.10/site-packages (from librosa) (0.13.1)\r\n",
      "Requirement already satisfied: pooch>=1.1 in /Users/kimhongil/.conda/envs/LumenaAI/lib/python3.10/site-packages (from librosa) (1.8.2)\r\n",
      "Requirement already satisfied: soxr>=0.3.2 in /Users/kimhongil/.conda/envs/LumenaAI/lib/python3.10/site-packages (from librosa) (0.5.0.post1)\r\n",
      "Requirement already satisfied: typing-extensions>=4.1.1 in /Users/kimhongil/.conda/envs/LumenaAI/lib/python3.10/site-packages (from librosa) (4.12.2)\r\n",
      "Requirement already satisfied: lazy-loader>=0.1 in /Users/kimhongil/.conda/envs/LumenaAI/lib/python3.10/site-packages (from librosa) (0.4)\r\n",
      "Requirement already satisfied: msgpack>=1.0 in /Users/kimhongil/.conda/envs/LumenaAI/lib/python3.10/site-packages (from librosa) (1.1.0)\r\n",
      "Requirement already satisfied: packaging in /Users/kimhongil/.conda/envs/LumenaAI/lib/python3.10/site-packages (from lazy-loader>=0.1->librosa) (24.2)\r\n",
      "Requirement already satisfied: llvmlite<0.45,>=0.44.0dev0 in /Users/kimhongil/.conda/envs/LumenaAI/lib/python3.10/site-packages (from numba>=0.51.0->librosa) (0.44.0)\r\n",
      "Requirement already satisfied: platformdirs>=2.5.0 in /Users/kimhongil/.conda/envs/LumenaAI/lib/python3.10/site-packages (from pooch>=1.1->librosa) (3.10.0)\r\n",
      "Requirement already satisfied: requests>=2.19.0 in /Users/kimhongil/.conda/envs/LumenaAI/lib/python3.10/site-packages (from pooch>=1.1->librosa) (2.32.3)\r\n",
      "Requirement already satisfied: threadpoolctl>=3.1.0 in /Users/kimhongil/.conda/envs/LumenaAI/lib/python3.10/site-packages (from scikit-learn>=0.20.0->librosa) (3.5.0)\r\n",
      "Requirement already satisfied: cffi>=1.0 in /Users/kimhongil/.conda/envs/LumenaAI/lib/python3.10/site-packages (from soundfile>=0.12.1->librosa) (1.17.1)\r\n",
      "Requirement already satisfied: pycparser in /Users/kimhongil/.conda/envs/LumenaAI/lib/python3.10/site-packages (from cffi>=1.0->soundfile>=0.12.1->librosa) (2.21)\r\n",
      "Requirement already satisfied: charset-normalizer<4,>=2 in /Users/kimhongil/.conda/envs/LumenaAI/lib/python3.10/site-packages (from requests>=2.19.0->pooch>=1.1->librosa) (3.3.2)\r\n",
      "Requirement already satisfied: idna<4,>=2.5 in /Users/kimhongil/.conda/envs/LumenaAI/lib/python3.10/site-packages (from requests>=2.19.0->pooch>=1.1->librosa) (3.7)\r\n",
      "Requirement already satisfied: urllib3<3,>=1.21.1 in /Users/kimhongil/.conda/envs/LumenaAI/lib/python3.10/site-packages (from requests>=2.19.0->pooch>=1.1->librosa) (2.3.0)\r\n",
      "Requirement already satisfied: certifi>=2017.4.17 in /Users/kimhongil/.conda/envs/LumenaAI/lib/python3.10/site-packages (from requests>=2.19.0->pooch>=1.1->librosa) (2024.12.14)\r\n",
      "Requirement already satisfied: soundfile in /Users/kimhongil/.conda/envs/LumenaAI/lib/python3.10/site-packages (0.13.1)\r\n",
      "Requirement already satisfied: cffi>=1.0 in /Users/kimhongil/.conda/envs/LumenaAI/lib/python3.10/site-packages (from soundfile) (1.17.1)\r\n",
      "Requirement already satisfied: numpy in /Users/kimhongil/.conda/envs/LumenaAI/lib/python3.10/site-packages (from soundfile) (2.1.3)\r\n",
      "Requirement already satisfied: pycparser in /Users/kimhongil/.conda/envs/LumenaAI/lib/python3.10/site-packages (from cffi>=1.0->soundfile) (2.21)\r\n",
      "Requirement already satisfied: pydub in /Users/kimhongil/.conda/envs/LumenaAI/lib/python3.10/site-packages (0.25.1)\r\n",
      "Requirement already satisfied: openai in /Users/kimhongil/.conda/envs/LumenaAI/lib/python3.10/site-packages (1.60.1)\r\n",
      "Requirement already satisfied: anyio<5,>=3.5.0 in /Users/kimhongil/.conda/envs/LumenaAI/lib/python3.10/site-packages (from openai) (4.6.2)\r\n",
      "Requirement already satisfied: distro<2,>=1.7.0 in /Users/kimhongil/.conda/envs/LumenaAI/lib/python3.10/site-packages (from openai) (1.9.0)\r\n",
      "Requirement already satisfied: httpx<1,>=0.23.0 in /Users/kimhongil/.conda/envs/LumenaAI/lib/python3.10/site-packages (from openai) (0.27.0)\r\n",
      "Requirement already satisfied: jiter<1,>=0.4.0 in /Users/kimhongil/.conda/envs/LumenaAI/lib/python3.10/site-packages (from openai) (0.8.2)\r\n",
      "Requirement already satisfied: pydantic<3,>=1.9.0 in /Users/kimhongil/.conda/envs/LumenaAI/lib/python3.10/site-packages (from openai) (2.10.6)\r\n",
      "Requirement already satisfied: sniffio in /Users/kimhongil/.conda/envs/LumenaAI/lib/python3.10/site-packages (from openai) (1.3.0)\r\n",
      "Requirement already satisfied: tqdm>4 in /Users/kimhongil/.conda/envs/LumenaAI/lib/python3.10/site-packages (from openai) (4.67.1)\r\n",
      "Requirement already satisfied: typing-extensions<5,>=4.11 in /Users/kimhongil/.conda/envs/LumenaAI/lib/python3.10/site-packages (from openai) (4.12.2)\r\n",
      "Requirement already satisfied: idna>=2.8 in /Users/kimhongil/.conda/envs/LumenaAI/lib/python3.10/site-packages (from anyio<5,>=3.5.0->openai) (3.7)\r\n",
      "Requirement already satisfied: exceptiongroup>=1.0.2 in /Users/kimhongil/.conda/envs/LumenaAI/lib/python3.10/site-packages (from anyio<5,>=3.5.0->openai) (1.2.0)\r\n",
      "Requirement already satisfied: certifi in /Users/kimhongil/.conda/envs/LumenaAI/lib/python3.10/site-packages (from httpx<1,>=0.23.0->openai) (2024.12.14)\r\n",
      "Requirement already satisfied: httpcore==1.* in /Users/kimhongil/.conda/envs/LumenaAI/lib/python3.10/site-packages (from httpx<1,>=0.23.0->openai) (1.0.2)\r\n",
      "Requirement already satisfied: h11<0.15,>=0.13 in /Users/kimhongil/.conda/envs/LumenaAI/lib/python3.10/site-packages (from httpcore==1.*->httpx<1,>=0.23.0->openai) (0.14.0)\r\n",
      "Requirement already satisfied: annotated-types>=0.6.0 in /Users/kimhongil/.conda/envs/LumenaAI/lib/python3.10/site-packages (from pydantic<3,>=1.9.0->openai) (0.7.0)\r\n",
      "Requirement already satisfied: pydantic-core==2.27.2 in /Users/kimhongil/.conda/envs/LumenaAI/lib/python3.10/site-packages (from pydantic<3,>=1.9.0->openai) (2.27.2)\r\n"
     ]
    }
   ],
   "source": [
    "!pip install --upgrade pip\n",
    "!pip install --upgrade transformers torch accelerate\n",
    "!pip install accelerate\n",
    "!pip install librosa\n",
    "!pip install soundfile\n",
    "!pip install pydub\n",
    "!pip install openai"
   ]
  },
  {
   "cell_type": "code",
   "execution_count": 1,
   "outputs": [
    {
     "data": {
      "text/plain": "True"
     },
     "execution_count": 1,
     "metadata": {},
     "output_type": "execute_result"
    }
   ],
   "source": [
    "import os\n",
    "from dotenv import load_dotenv\n",
    "import time\n",
    "\n",
    "load_dotenv()"
   ],
   "metadata": {
    "collapsed": false
   }
  },
  {
   "cell_type": "code",
   "execution_count": 2,
   "outputs": [],
   "source": [
    "from application.strategy.stt_strategy_factory import STTStrategyType, STTStrategyFactory\n",
    "\n",
    "file_path = '../data/stt_72sec.mp3'"
   ],
   "metadata": {
    "collapsed": false
   }
  },
  {
   "cell_type": "code",
   "execution_count": 3,
   "outputs": [
    {
     "name": "stdout",
     "output_type": "stream",
     "text": [
      "TranscriptionVerbose(duration=71.83999633789062, language='korean', text='요즘 너무나 유행하고 있는 이 장르 뱀파이어서바이버와 비슷하다 뱀써라이크 그래서 제가 들고온 타이틀은 바로 언데드 서바이버 자 이 언데드 서바이버 강좌와 함께 여러분들은 유니티 게임 개발에 좀 더 익숙해지면서 뱀써라이크를 좀 더 이해할 수 있는 그런 시간이 될겁니다 매직서바이버, 탄산특공대, 뱀파이어서바이버 자 모두 개섞어라 우리는 언데드 서바이버다 자 500들도 안되는 적은 코드로 여러분들은 쉽게 따라하실 수가 있습니다 자 절대로 약하는게 아니구요 자 이 강좌를 통해서 여러분들은 2D 기본 움직임에다가 무한이동, 프리팩, 스크립트블 오브젝트 사운드 매니저, 헤드업 디스플레이 조이스틱에 모바일 빌드까지 다채롭게 배우실 수가 있습니다 자 지금까지 저의 새로운 강좌 언데드 서바이버에 대한 소개였구요 앞으로 제가 준비한 커리킴에 따라서 차근차근 업로드 할테니까 많은 기대 바랍니다 감사합니다', segments=[TranscriptionSegment(id=0, avg_logprob=-0.36549898982048035, compression_ratio=1.6285713911056519, end=3.8399999141693115, no_speech_prob=0.16581979393959045, seek=0, start=0.0, temperature=0.0, text=' 요즘 너무나 유행하고 있는 이 장르', tokens=[50364, 24835, 3214, 27532, 3404, 11878, 12724, 7040, 7153, 2620, 12280, 167, 9956, 50556]), TranscriptionSegment(id=1, avg_logprob=-0.36549898982048035, compression_ratio=1.6285713911056519, end=5.639999866485596, no_speech_prob=0.16581979393959045, seek=0, start=3.8399999141693115, temperature=0.0, text=' 뱀파이어서바이버와 비슷하다', tokens=[50556, 531, 109, 222, 17974, 40470, 1041, 226, 2163, 27344, 4250, 17910, 7590, 36156, 25786, 50646]), TranscriptionSegment(id=2, avg_logprob=-0.36549898982048035, compression_ratio=1.6285713911056519, end=7.039999961853027, no_speech_prob=0.16581979393959045, seek=0, start=5.639999866485596, temperature=0.0, text=' 뱀써라이크', tokens=[50646, 531, 109, 222, 168, 235, 3891, 2742, 1129, 12504, 50716]), TranscriptionSegment(id=3, avg_logprob=-0.36549898982048035, compression_ratio=1.6285713911056519, end=9.4399995803833, no_speech_prob=0.16581979393959045, seek=0, start=7.039999961853027, temperature=0.0, text=' 그래서 제가 들고온 타이틀은 바로', tokens=[50716, 8844, 7439, 43488, 28888, 8675, 12192, 13473, 222, 2124, 15965, 50836]), TranscriptionSegment(id=4, avg_logprob=-0.36549898982048035, compression_ratio=1.6285713911056519, end=12.039999961853027, no_speech_prob=0.16581979393959045, seek=0, start=9.4399995803833, temperature=0.0, text=' 언데드 서바이버', tokens=[50836, 44014, 235, 2004, 7087, 32558, 27344, 4250, 110, 226, 50966]), TranscriptionSegment(id=5, avg_logprob=-0.36549898982048035, compression_ratio=1.6285713911056519, end=15.239999771118164, no_speech_prob=0.16581979393959045, seek=0, start=13.039999961853027, temperature=0.0, text=' 자 이 언데드 서바이버 강좌와 함께', tokens=[51016, 5650, 2620, 44014, 235, 2004, 7087, 32558, 27344, 4250, 17910, 14623, 14227, 234, 7590, 21469, 51126]), TranscriptionSegment(id=6, avg_logprob=-0.36549898982048035, compression_ratio=1.6285713911056519, end=19.040000915527344, no_speech_prob=0.16581979393959045, seek=0, start=15.239999771118164, temperature=0.0, text=' 여러분들은 유니티 게임 개발에 좀 더 익숙해지면서', tokens=[51126, 25745, 2124, 11878, 1425, 21081, 23927, 30185, 17248, 1517, 6796, 6990, 45664, 47522, 7002, 28719, 9332, 51316]), TranscriptionSegment(id=7, avg_logprob=-0.36549898982048035, compression_ratio=1.6285713911056519, end=21.040000915527344, no_speech_prob=0.16581979393959045, seek=0, start=19.040000915527344, temperature=0.0, text=' 뱀써라이크를 좀 더 이해할 수 있는', tokens=[51316, 531, 109, 222, 168, 235, 3891, 2742, 1129, 25175, 2429, 6796, 6990, 49373, 7999, 4446, 7153, 51416]), TranscriptionSegment(id=8, avg_logprob=-0.36549898982048035, compression_ratio=1.6285713911056519, end=23.040000915527344, no_speech_prob=0.16581979393959045, seek=0, start=21.040000915527344, temperature=0.0, text=' 그런 시간이 될겁니다', tokens=[51416, 9306, 39330, 16625, 45798, 1972, 51516]), TranscriptionSegment(id=9, avg_logprob=-0.36549898982048035, compression_ratio=1.6285713911056519, end=25.540000915527344, no_speech_prob=0.16581979393959045, seek=0, start=23.040000915527344, temperature=0.0, text=' 매직서바이버, 탄산특공대, 뱀파이어서바이버', tokens=[51516, 17591, 11664, 38296, 27344, 4250, 17910, 11, 46979, 16551, 5963, 117, 14913, 14173, 11, 531, 109, 222, 17974, 40470, 1041, 226, 2163, 27344, 4250, 17910, 51641]), TranscriptionSegment(id=10, avg_logprob=-0.36549898982048035, compression_ratio=1.6285713911056519, end=27.540000915527344, no_speech_prob=0.16581979393959045, seek=0, start=25.540000915527344, temperature=0.0, text=' 자 모두 개섞어라', tokens=[51641, 5650, 27615, 14552, 1645, 252, 6540, 2742, 51741]), TranscriptionSegment(id=11, avg_logprob=-0.19612069427967072, compression_ratio=1.5910364389419556, end=30.579999923706055, no_speech_prob=0.0024341526441276073, seek=2754, start=27.579999923706055, temperature=0.0, text=' 우리는 언데드 서바이버다', tokens=[50366, 42425, 44014, 235, 2004, 7087, 32558, 27344, 4250, 17910, 1235, 50516]), TranscriptionSegment(id=12, avg_logprob=-0.19612069427967072, compression_ratio=1.5910364389419556, end=33.58000183105469, no_speech_prob=0.0024341526441276073, seek=2754, start=30.579999923706055, temperature=0.0, text=' 자 500들도 안되는 적은 코드로', tokens=[50516, 5650, 5923, 14271, 3744, 9658, 43653, 14370, 2124, 31512, 6300, 1955, 50666]), TranscriptionSegment(id=13, avg_logprob=-0.19612069427967072, compression_ratio=1.5910364389419556, end=35.58000183105469, no_speech_prob=0.0024341526441276073, seek=2754, start=33.58000183105469, temperature=0.0, text=' 여러분들은 쉽게 따라하실 수가 있습니다', tokens=[50666, 25745, 2124, 33561, 1810, 24453, 2240, 8323, 27345, 10552, 50766]), TranscriptionSegment(id=14, avg_logprob=-0.19612069427967072, compression_ratio=1.5910364389419556, end=37.58000183105469, no_speech_prob=0.0024341526441276073, seek=2754, start=35.58000183105469, temperature=0.0, text=' 자 절대로 약하는게 아니구요', tokens=[50766, 5650, 36144, 15527, 11503, 7116, 1810, 5651, 23111, 50866]), TranscriptionSegment(id=15, avg_logprob=-0.19612069427967072, compression_ratio=1.5910364389419556, end=39.58000183105469, no_speech_prob=0.0024341526441276073, seek=2754, start=37.58000183105469, temperature=0.0, text=' 자 이 강좌를 통해서 여러분들은', tokens=[50866, 5650, 2620, 14623, 14227, 29039, 17006, 8275, 25745, 2124, 50966]), TranscriptionSegment(id=16, avg_logprob=-0.19612069427967072, compression_ratio=1.5910364389419556, end=41.58000183105469, no_speech_prob=0.0024341526441276073, seek=2754, start=39.58000183105469, temperature=0.0, text=' 2D 기본 움직임에다가', tokens=[50966, 568, 35, 40456, 42114, 13311, 1517, 14325, 51066]), TranscriptionSegment(id=17, avg_logprob=-0.19612069427967072, compression_ratio=1.5910364389419556, end=43.58000183105469, no_speech_prob=0.0024341526441276073, seek=2754, start=41.58000183105469, temperature=0.0, text=' 무한이동, 프리팩, 스크립트블 오브젝트', tokens=[51066, 27387, 3049, 4250, 8309, 11, 32051, 2250, 7827, 102, 11, 11196, 223, 1698, 18306, 18903, 48411, 10258, 21934, 2179, 251, 8857, 51166]), TranscriptionSegment(id=18, avg_logprob=-0.19612069427967072, compression_ratio=1.5910364389419556, end=45.58000183105469, no_speech_prob=0.0024341526441276073, seek=2754, start=43.58000183105469, temperature=0.0, text=' 사운드 매니저, 헤드업 디스플레이', tokens=[51166, 4744, 40071, 7087, 17591, 1425, 11738, 11, 13431, 2990, 7087, 11534, 25158, 9605, 242, 2457, 38845, 51266]), TranscriptionSegment(id=19, avg_logprob=-0.19612069427967072, compression_ratio=1.5910364389419556, end=47.58000183105469, no_speech_prob=0.0024341526441276073, seek=2754, start=45.58000183105469, temperature=0.0, text=' 조이스틱에 모바일 빌드까지', tokens=[51266, 7430, 37641, 4644, 233, 109, 1517, 8941, 27344, 6403, 5005, 2457, 7087, 8786, 51366]), TranscriptionSegment(id=20, avg_logprob=-0.19612069427967072, compression_ratio=1.5910364389419556, end=50.58000183105469, no_speech_prob=0.0024341526441276073, seek=2754, start=47.58000183105469, temperature=0.0, text=' 다채롭게 배우실 수가 있습니다', tokens=[51366, 4279, 23805, 2703, 42087, 1810, 14155, 7812, 8323, 27345, 10552, 51516]), TranscriptionSegment(id=21, avg_logprob=-0.19612069427967072, compression_ratio=1.5910364389419556, end=52.58000183105469, no_speech_prob=0.0024341526441276073, seek=2754, start=50.58000183105469, temperature=0.0, text=' 자 지금까지 저의 새로운 강좌', tokens=[51516, 5650, 41309, 4841, 2785, 41088, 14623, 14227, 234, 51616]), TranscriptionSegment(id=22, avg_logprob=-0.19612069427967072, compression_ratio=1.5910364389419556, end=54.58000183105469, no_speech_prob=0.0024341526441276073, seek=2754, start=52.58000183105469, temperature=0.0, text=' 언데드 서바이버에 대한 소개였구요', tokens=[51616, 44014, 235, 2004, 7087, 32558, 27344, 4250, 17910, 1517, 23358, 42784, 21149, 23111, 51716]), TranscriptionSegment(id=23, avg_logprob=-0.19612069427967072, compression_ratio=1.5910364389419556, end=56.58000183105469, no_speech_prob=0.0024341526441276073, seek=2754, start=54.58000183105469, temperature=0.0, text=' 앞으로 제가 준비한 커리킴에 따라서', tokens=[51716, 30293, 7439, 21911, 3049, 39573, 2250, 13289, 112, 1517, 24453, 2393, 51816]), TranscriptionSegment(id=24, avg_logprob=-0.18786217272281647, compression_ratio=0.9397590160369873, end=58.619998931884766, no_speech_prob=0.2092600017786026, seek=5658, start=56.619998931884766, temperature=0.0, text=' 차근차근 업로드 할테니까', tokens=[50366, 15391, 17904, 15886, 17904, 32892, 12888, 167, 7087, 8981, 9964, 2457, 233, 230, 3294, 50466]), TranscriptionSegment(id=25, avg_logprob=-0.18786217272281647, compression_ratio=0.9397590160369873, end=60.619998931884766, no_speech_prob=0.2092600017786026, seek=5658, start=58.619998931884766, temperature=0.0, text=' 많은 기대 바랍니다', tokens=[50466, 18494, 41055, 9040, 252, 27169, 50566]), TranscriptionSegment(id=26, avg_logprob=-0.18786217272281647, compression_ratio=0.9397590160369873, end=62.619998931884766, no_speech_prob=0.2092600017786026, seek=5658, start=60.619998931884766, temperature=0.0, text=' 감사합니다', tokens=[50566, 24399, 50666])], words=None, task='transcribe')\n",
      "수행 시간: 5.0444초\n"
     ]
    }
   ],
   "source": [
    "# OpenAI 위스퍼\n",
    "openai_whisper_strategy = STTStrategyFactory.create(STTStrategyType.OPENAI_WHISPER, api_key=os.environ['OPENAI_API_KEY'])\n",
    "\n",
    "\n",
    "start_time = time.time()\n",
    "\n",
    "result = openai_whisper_strategy.transcribe(file_path)\n",
    "print(result)\n",
    "\n",
    "end_time = time.time()\n",
    "print(f\"수행 시간: {end_time - start_time:.4f}초\")"
   ],
   "metadata": {
    "collapsed": false
   }
  },
  {
   "cell_type": "code",
   "execution_count": 5,
   "outputs": [
    {
     "name": "stderr",
     "output_type": "stream",
     "text": [
      "/Users/kimhongil/.conda/envs/LumenaAI/lib/python3.10/site-packages/transformers/models/whisper/generation_whisper.py:573: FutureWarning: The input name `inputs` is deprecated. Please make sure to use `input_features` instead.\n",
      "  warnings.warn(\n",
      "Due to a bug fix in https://github.com/huggingface/transformers/pull/28687 transcription using a multilingual Whisper will default to language detection followed by transcription instead of translation to English.This might be a breaking change for your use case. If you want to instead always translate your audio to English, make sure to pass `language='en'`.\n",
      "Passing a tuple of `past_key_values` is deprecated and will be removed in Transformers v4.43.0. You should pass an instance of `EncoderDecoderCache` instead, e.g. `past_key_values=EncoderDecoderCache.from_legacy_cache(past_key_values)`.\n"
     ]
    },
    {
     "name": "stdout",
     "output_type": "stream",
     "text": [
      "캐시가 성공적으로 비워졌습니다.\n",
      "{'text': ' 요즘 너무나 유행하고 있는 이 장르 뱀파이어 서바이버와 비슷하다 뱀서 라이크 그래서 제가 들고 온 타이틀은 바로 언데드 서바이버 자 이 언데드 서바이버 강좌와 함께 여러분들은 유니티 게임 개발에 좀 더 익숙해지면서 뱀서 라이크를 좀 더 이해할 수 있는 그런 시간이 될 겁니다 매직 서바이버 타산 특강 대 뱀파이어 서바이버 자 모든 개석거라 우리는 언데드 서바이버다 500줄도 안되는 적은 코드로 여러분들은 쉽게 따라하실 수가 있습니다 절대로 약하는게 아니구요 이 강좌를 통해서 여러분들은 2D 기본 움직임에다가 무한이동, 프리팩, 스크립트블 오브젝트 사운드 매니저, 헤드업 디스플레이 조이스틱에 모바일 빌드까지 다채롭게 배우실 수가 있습니다 지금까지 저의 새로운 강좌 언데드 서버에 대한 소개였구요 앞으로 제가 준비한 커리큘로에 따라서 차근차근 업로드 할테니까요 많은 기대 바랍니다 감사합니다', 'chunks': [{'timestamp': (0.0, 3.64), 'text': ' 요즘 너무나 유행하고 있는 이 장르'}, {'timestamp': (3.64, 5.48), 'text': ' 뱀파이어 서바이버와 비슷하다'}, {'timestamp': (5.48, 6.86), 'text': ' 뱀서 라이크'}, {'timestamp': (6.86, 9.2), 'text': ' 그래서 제가 들고 온 타이틀은 바로'}, {'timestamp': (9.2, 11.5), 'text': ' 언데드 서바이버'}, {'timestamp': (11.5, 15.08), 'text': ' 자 이 언데드 서바이버 강좌와 함께'}, {'timestamp': (15.08, 17.54), 'text': ' 여러분들은 유니티 게임 개발에'}, {'timestamp': (17.54, 18.62), 'text': ' 좀 더 익숙해지면서'}, {'timestamp': (18.62, 21.02), 'text': ' 뱀서 라이크를 좀 더 이해할 수 있는'}, {'timestamp': (21.02, 22.5), 'text': ' 그런 시간이 될 겁니다'}, {'timestamp': (22.5, 25.54), 'text': ' 매직 서바이버 타산 특강 대 뱀파이어 서바이버'}, {'timestamp': (25.54, 27.24), 'text': ' 자 모든 개석거라'}, {'timestamp': (27.24, 29.76), 'text': ' 우리는 언데드 서바이버다'}, {'timestamp': (29.76, 0.0), 'text': ''}, {'timestamp': (3.84, 5.94), 'text': ' 500줄도 안되는 적은 코드로 여러분들은 쉽게 따라하실 수가 있습니다'}, {'timestamp': (5.94, 8.18), 'text': ' 절대로 약하는게 아니구요'}, {'timestamp': (8.18, 10.02), 'text': ' 이 강좌를 통해서 여러분들은'}, {'timestamp': (10.02, 11.54), 'text': ' 2D 기본 움직임에다가'}, {'timestamp': (11.54, 13.9), 'text': ' 무한이동, 프리팩, 스크립트블 오브젝트'}, {'timestamp': (13.9, 15.82), 'text': ' 사운드 매니저, 헤드업 디스플레이'}, {'timestamp': (15.82, 18.06), 'text': ' 조이스틱에 모바일 빌드까지'}, {'timestamp': (18.06, 20.22), 'text': ' 다채롭게 배우실 수가 있습니다'}, {'timestamp': (20.22, 22.92), 'text': ' 지금까지 저의 새로운 강좌'}, {'timestamp': (22.92, 25.14), 'text': ' 언데드 서버에 대한 소개였구요'}, {'timestamp': (25.14, 27.32), 'text': ' 앞으로 제가 준비한 커리큘로에 따라서'}, {'timestamp': (27.32, 29.54), 'text': ' 차근차근 업로드 할테니까요'}, {'timestamp': (29.54, 0.0), 'text': ''}, {'timestamp': (2.02, 3.44), 'text': ' 많은 기대 바랍니다 감사합니다'}]}\n",
      "수행 시간: 23.6353초\n"
     ]
    }
   ],
   "source": [
    "# Local 위스퍼(openai/whisper-large-v3-turbo)\n",
    "\n",
    "local_whisper_strategy = STTStrategyFactory.create(STTStrategyType.LOCAL_WHISPER, model_name='openai/whisper-large-v3-turbo')\n",
    "\n",
    "start_time = time.time()\n",
    "\n",
    "result = local_whisper_strategy.transcribe(file_path)\n",
    "print(result)\n",
    "\n",
    "end_time = time.time()\n",
    "print(f\"수행 시간: {end_time - start_time:.4f}초\")"
   ],
   "metadata": {
    "collapsed": false
   }
  }
 ],
 "metadata": {
  "kernelspec": {
   "display_name": "Python 3",
   "language": "python",
   "name": "python3"
  },
  "language_info": {
   "codemirror_mode": {
    "name": "ipython",
    "version": 2
   },
   "file_extension": ".py",
   "mimetype": "text/x-python",
   "name": "python",
   "nbconvert_exporter": "python",
   "pygments_lexer": "ipython2",
   "version": "2.7.6"
  }
 },
 "nbformat": 4,
 "nbformat_minor": 0
}
