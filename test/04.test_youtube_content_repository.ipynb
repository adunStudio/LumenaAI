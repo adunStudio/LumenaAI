{
 "cells": [
  {
   "cell_type": "code",
   "execution_count": 5,
   "metadata": {
    "collapsed": true
   },
   "outputs": [
    {
     "name": "stdout",
     "output_type": "stream",
     "text": [
      "Requirement already satisfied: pymongo in /Users/kimhongil/.conda/envs/LumenaAI/lib/python3.10/site-packages (4.10.1)\r\n",
      "Requirement already satisfied: dnspython<3.0.0,>=1.16.0 in /Users/kimhongil/.conda/envs/LumenaAI/lib/python3.10/site-packages (from pymongo) (2.7.0)\r\n",
      "Requirement already satisfied: python-dotenv in /Users/kimhongil/.conda/envs/LumenaAI/lib/python3.10/site-packages (1.0.1)\r\n"
     ]
    }
   ],
   "source": [
    "!pip install pymongo\n",
    "!pip install python-dotenv"
   ]
  },
  {
   "cell_type": "code",
   "execution_count": 6,
   "outputs": [
    {
     "data": {
      "text/plain": "True"
     },
     "execution_count": 6,
     "metadata": {},
     "output_type": "execute_result"
    }
   ],
   "source": [
    "import os\n",
    "from dotenv import load_dotenv\n",
    "\n",
    "load_dotenv()"
   ],
   "metadata": {
    "collapsed": false
   }
  },
  {
   "cell_type": "code",
   "execution_count": 7,
   "outputs": [
    {
     "name": "stdout",
     "output_type": "stream",
     "text": [
      "Connected to MongoDB\n"
     ]
    }
   ],
   "source": [
    "from infrastructure.database import  MongoDBClient\n",
    "\n",
    "MONGO_CONNECTION_STRING = os.environ['MONGO_CONNECTION_STRING']\n",
    "\n",
    "client = MongoDBClient(MONGO_CONNECTION_STRING)\n",
    "client.connect()"
   ],
   "metadata": {
    "collapsed": false
   }
  },
  {
   "cell_type": "code",
   "execution_count": 8,
   "outputs": [],
   "source": [
    "from infrastructure.repository import YouTubeContentRepository\n",
    "\n",
    "repo = YouTubeContentRepository(client)\n",
    "\n",
    "from domain.entity import YouTubeContent\n",
    "from domain.value_object import YouTubeVideoLink\n",
    "content = YouTubeContent(\n",
    "    title=\"Sample Video\",\n",
    "    thumbnail=\"https://example.com/thumbnail.jpg\",\n",
    "    url=YouTubeVideoLink(\"https://www.youtube.com/watch?v=dQw4w9WgXcQ\"),\n",
    "    description=\"This is a sample video.\",\n",
    "    tags=[\"music\", \"viral\"],\n",
    "    category=\"Music\"\n",
    ")"
   ],
   "metadata": {
    "collapsed": false
   }
  },
  {
   "cell_type": "code",
   "execution_count": 9,
   "outputs": [
    {
     "name": "stdout",
     "output_type": "stream",
     "text": [
      "True\n"
     ]
    }
   ],
   "source": [
    "# 문서 삽입 or 업데이트 (url 기반)\n",
    "result = repo.save(content)\n",
    "print(result)"
   ],
   "metadata": {
    "collapsed": false
   }
  },
  {
   "cell_type": "code",
   "execution_count": 11,
   "outputs": [
    {
     "name": "stdout",
     "output_type": "stream",
     "text": [
      "Sample Video\n"
     ]
    }
   ],
   "source": [
    "# 문서 조회\n",
    "find_content = repo.find_by_url(YouTubeVideoLink(\"https://www.youtube.com/watch?v=dQw4w9WgXcQ\"))\n",
    "print(find_content.title)"
   ],
   "metadata": {
    "collapsed": false
   }
  },
  {
   "cell_type": "code",
   "execution_count": 15,
   "outputs": [
    {
     "name": "stdout",
     "output_type": "stream",
     "text": [
      "Sample Video\n"
     ]
    }
   ],
   "source": [
    "# 모든 문서 조회\n",
    "contents = repo.find_all()\n",
    "for con in contents:\n",
    "    print(con.title)"
   ],
   "metadata": {
    "collapsed": false
   }
  },
  {
   "cell_type": "code",
   "execution_count": 16,
   "outputs": [
    {
     "name": "stdout",
     "output_type": "stream",
     "text": [
      "True\n"
     ]
    }
   ],
   "source": [
    "# 문서 삭제\n",
    "result = repo.delete_by_url(content.url)\n",
    "print(result)"
   ],
   "metadata": {
    "collapsed": false
   }
  },
  {
   "cell_type": "code",
   "execution_count": 19,
   "outputs": [
    {
     "name": "stdout",
     "output_type": "stream",
     "text": [
      "True\n"
     ]
    }
   ],
   "source": [
    "# 문서 조회\n",
    "find_content = repo.find_by_url(YouTubeVideoLink(\"https://www.youtube.com/watch?v=dQw4w9WgXcQ\"))\n",
    "print(find_content is None)"
   ],
   "metadata": {
    "collapsed": false
   }
  }
 ],
 "metadata": {
  "kernelspec": {
   "display_name": "Python 3",
   "language": "python",
   "name": "python3"
  },
  "language_info": {
   "codemirror_mode": {
    "name": "ipython",
    "version": 2
   },
   "file_extension": ".py",
   "mimetype": "text/x-python",
   "name": "python",
   "nbconvert_exporter": "python",
   "pygments_lexer": "ipython2",
   "version": "2.7.6"
  }
 },
 "nbformat": 4,
 "nbformat_minor": 0
}
