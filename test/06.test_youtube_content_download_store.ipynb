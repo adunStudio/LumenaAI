{
 "cells": [
  {
   "cell_type": "code",
   "execution_count": 8,
   "metadata": {
    "collapsed": true
   },
   "outputs": [
    {
     "name": "stdout",
     "output_type": "stream",
     "text": [
      "Connected to MongoDB\n"
     ]
    }
   ],
   "source": [
    "from infrastructure.database.mongo_client import MongoDBClient\n",
    "from infrastructure.repository import YouTubeContentRepository\n",
    "from application.use_case import YouTubeContentDownloadAndStore\n",
    "\n",
    "import os\n",
    "from dotenv import load_dotenv\n",
    "\n",
    "load_dotenv()\n",
    "\n",
    "# MongoDB 클라이언트 초기화\n",
    "client = MongoDBClient(uri=os.environ['MONGO_CONNECTION_STRING'])\n",
    "client.connect()\n",
    "\n",
    "# 저장소 초기화\n",
    "repository = YouTubeContentRepository(client)\n",
    "\n",
    "# 유즈케이스 초기화\n",
    "yds = YouTubeContentDownloadAndStore(repository)"
   ]
  },
  {
   "cell_type": "code",
   "execution_count": 9,
   "outputs": [
    {
     "name": "stdout",
     "output_type": "stream",
     "text": [
      "데이터 저장 완료\n",
      "../downloads/test\n",
      "파일이 이미 존재합니다: ../downloads/test/유니티 뱀서라이크 개발강좌가 온다?! 언데드 서바이버.mp3\n"
     ]
    },
    {
     "data": {
      "text/plain": "True"
     },
     "execution_count": 9,
     "metadata": {},
     "output_type": "execute_result"
    }
   ],
   "source": [
    "test_url = 'https://www.youtube.com/watch?v=MmW166cHj54&list=PLO-mt5Iu5TeZF8xMHqtT_DhAPKmjF6i3x&index=1'\n",
    "test_category = 'test'\n",
    "\n",
    "from domain.value_object import YouTubeVideoLink\n",
    "repository.delete_by_url(YouTubeVideoLink(test_url))\n",
    "\n",
    "custom_download_folder = '../downloads'\n",
    "yds.execute(test_url, test_category, custom_download_folder)"
   ],
   "metadata": {
    "collapsed": false
   }
  },
  {
   "cell_type": "code",
   "execution_count": 10,
   "outputs": [
    {
     "data": {
      "text/plain": "  category                                                url  noplaylist\n0    뱀서라이크  https://www.youtube.com/playlist?list=PLO-mt5I...       False\n1    비행기슈팅  https://www.youtube.com/playlist?list=PLO-mt5I...       False\n2   탑다운RPG  https://www.youtube.com/playlist?list=PLO-mt5I...       False\n3     플랫포머  https://www.youtube.com/playlist?list=PLO-mt5I...       False\n4     유니티6  https://www.youtube.com/watch?v=350EWYC_1ZA&li...        True\n5     유니티6  https://www.youtube.com/watch?v=Q7mHfbEzaJM&li...        True\n6     유니티6        https://www.youtube.com/watch?v=r4aZypBrFHE        True\n7     유니티6        https://www.youtube.com/watch?v=3mSO1sMdGxM        True",
      "text/html": "<div>\n<style scoped>\n    .dataframe tbody tr th:only-of-type {\n        vertical-align: middle;\n    }\n\n    .dataframe tbody tr th {\n        vertical-align: top;\n    }\n\n    .dataframe thead th {\n        text-align: right;\n    }\n</style>\n<table border=\"1\" class=\"dataframe\">\n  <thead>\n    <tr style=\"text-align: right;\">\n      <th></th>\n      <th>category</th>\n      <th>url</th>\n      <th>noplaylist</th>\n    </tr>\n  </thead>\n  <tbody>\n    <tr>\n      <th>0</th>\n      <td>뱀서라이크</td>\n      <td>https://www.youtube.com/playlist?list=PLO-mt5I...</td>\n      <td>False</td>\n    </tr>\n    <tr>\n      <th>1</th>\n      <td>비행기슈팅</td>\n      <td>https://www.youtube.com/playlist?list=PLO-mt5I...</td>\n      <td>False</td>\n    </tr>\n    <tr>\n      <th>2</th>\n      <td>탑다운RPG</td>\n      <td>https://www.youtube.com/playlist?list=PLO-mt5I...</td>\n      <td>False</td>\n    </tr>\n    <tr>\n      <th>3</th>\n      <td>플랫포머</td>\n      <td>https://www.youtube.com/playlist?list=PLO-mt5I...</td>\n      <td>False</td>\n    </tr>\n    <tr>\n      <th>4</th>\n      <td>유니티6</td>\n      <td>https://www.youtube.com/watch?v=350EWYC_1ZA&amp;li...</td>\n      <td>True</td>\n    </tr>\n    <tr>\n      <th>5</th>\n      <td>유니티6</td>\n      <td>https://www.youtube.com/watch?v=Q7mHfbEzaJM&amp;li...</td>\n      <td>True</td>\n    </tr>\n    <tr>\n      <th>6</th>\n      <td>유니티6</td>\n      <td>https://www.youtube.com/watch?v=r4aZypBrFHE</td>\n      <td>True</td>\n    </tr>\n    <tr>\n      <th>7</th>\n      <td>유니티6</td>\n      <td>https://www.youtube.com/watch?v=3mSO1sMdGxM</td>\n      <td>True</td>\n    </tr>\n  </tbody>\n</table>\n</div>"
     },
     "execution_count": 10,
     "metadata": {},
     "output_type": "execute_result"
    }
   ],
   "source": [
    "import pandas as pd\n",
    "\n",
    "youtube_parse_list = pd.read_csv('../data/youtube_parse_list.csv')\n",
    "youtube_parse_list"
   ],
   "metadata": {
    "collapsed": false
   }
  },
  {
   "cell_type": "code",
   "execution_count": 11,
   "outputs": [],
   "source": [
    "import yt_dlp\n",
    "\n",
    "def get_playlist_info(url):\n",
    "    ydl_opts = {\n",
    "        'quiet': True,\n",
    "        'extract_flat': True,  # 재생목록일 경우 정보만 가져옴\n",
    "        'noplaylist': False,  # 사용자의 선택에 따라 재생목록 전체 또는 단일 동영상 처리\n",
    "    }\n",
    "    with yt_dlp.YoutubeDL(ydl_opts) as ydl:\n",
    "        info = ydl.extract_info(url, download=False)\n",
    "        return info\n"
   ],
   "metadata": {
    "collapsed": false
   }
  },
  {
   "cell_type": "code",
   "execution_count": 14,
   "outputs": [
    {
     "name": "stderr",
     "output_type": "stream",
     "text": [
      "WARNING: [youtube:tab] Incomplete data received. Retrying (1/3)...\n",
      "WARNING: [youtube:tab] Incomplete data received. Retrying (2/3)...\n",
      "WARNING: [youtube:tab] Incomplete data received. Retrying (3/3)...\n",
      "WARNING: [youtube:tab] Incomplete data received. Giving up after 3 retries\n"
     ]
    },
    {
     "name": "stdout",
     "output_type": "stream",
     "text": [
      "데이터가 이미 존재합니다.\n",
      "../downloads/test\n",
      "파일이 이미 존재합니다: ../downloads/test/유니티 뱀서라이크 개발강좌가 온다?! 언데드 서바이버.mp3\n",
      "--------------------------------------------------------\n",
      "데이터 저장 완료\n",
      "../downloads/뱀서라이크\n",
      "오디오 다운로드 중: https://www.youtube.com/watch?v=qOTbP9ciJ88\n",
      "                                                       \r   오디오가 성공적으로 다운로드되어 저장되었습니다: ../downloads/뱀서라이크/2D 오브젝트🧍만들기 [유니티 뱀서라이크 01].mp3\n",
      "--------------------------------------------------------\n",
      "데이터 저장 완료\n",
      "../downloads/뱀서라이크\n",
      "오디오 다운로드 중: https://www.youtube.com/watch?v=YAu4yWU5D5U\n",
      "                                                       \r   "
     ]
    },
    {
     "ename": "KeyboardInterrupt",
     "evalue": "",
     "output_type": "error",
     "traceback": [
      "\u001B[0;31m---------------------------------------------------------------------------\u001B[0m",
      "\u001B[0;31mKeyboardInterrupt\u001B[0m                         Traceback (most recent call last)",
      "Cell \u001B[0;32mIn[14], line 12\u001B[0m\n\u001B[1;32m     10\u001B[0m     \u001B[38;5;28;01mfor\u001B[39;00m entry \u001B[38;5;129;01min\u001B[39;00m playlist_info[\u001B[38;5;124m'\u001B[39m\u001B[38;5;124mentries\u001B[39m\u001B[38;5;124m'\u001B[39m]:\n\u001B[1;32m     11\u001B[0m         video_url \u001B[38;5;241m=\u001B[39m entry\u001B[38;5;241m.\u001B[39mget(\u001B[38;5;124m'\u001B[39m\u001B[38;5;124murl\u001B[39m\u001B[38;5;124m'\u001B[39m)\n\u001B[0;32m---> 12\u001B[0m         \u001B[43myds\u001B[49m\u001B[38;5;241;43m.\u001B[39;49m\u001B[43mexecute\u001B[49m\u001B[43m(\u001B[49m\u001B[43mvideo_url\u001B[49m\u001B[43m,\u001B[49m\u001B[43m \u001B[49m\u001B[43mcategory\u001B[49m\u001B[43m,\u001B[49m\u001B[43m \u001B[49m\u001B[43mcustom_download_folder\u001B[49m\u001B[43m)\u001B[49m\n\u001B[1;32m     13\u001B[0m         \u001B[38;5;28mprint\u001B[39m(\u001B[38;5;124m'\u001B[39m\u001B[38;5;124m----\u001B[39m\u001B[38;5;124m'\u001B[39m \u001B[38;5;241m*\u001B[39m\u001B[38;5;241m14\u001B[39m)\n\u001B[1;32m     15\u001B[0m \u001B[38;5;28;01melse\u001B[39;00m:\n",
      "File \u001B[0;32m~/Documents/GitHub/LumenaAI/application/use_case/youtube_content_download_and_store.py:46\u001B[0m, in \u001B[0;36mYouTubeContentDownloadAndStore.execute\u001B[0;34m(self, youtube_url, category, custom_folder)\u001B[0m\n\u001B[1;32m     44\u001B[0m \u001B[38;5;66;03m# 5. 오디오 파일 다운로드\u001B[39;00m\n\u001B[1;32m     45\u001B[0m \u001B[38;5;28;01mif\u001B[39;00m success:\n\u001B[0;32m---> 46\u001B[0m     \u001B[38;5;28;43mself\u001B[39;49m\u001B[38;5;241;43m.\u001B[39;49m\u001B[43m_download_audio\u001B[49m\u001B[43m(\u001B[49m\u001B[43myoutube_video_link\u001B[49m\u001B[43m,\u001B[49m\u001B[43m \u001B[49m\u001B[43mcontent\u001B[49m\u001B[38;5;241;43m.\u001B[39;49m\u001B[43mtitle\u001B[49m\u001B[43m,\u001B[49m\u001B[43m \u001B[49m\u001B[43mcontent\u001B[49m\u001B[38;5;241;43m.\u001B[39;49m\u001B[43mcategory\u001B[49m\u001B[43m,\u001B[49m\u001B[43m \u001B[49m\u001B[43mcustom_folder\u001B[49m\u001B[43m)\u001B[49m\n\u001B[1;32m     48\u001B[0m \u001B[38;5;28;01mreturn\u001B[39;00m success\n",
      "File \u001B[0;32m~/Documents/GitHub/LumenaAI/application/use_case/youtube_content_download_and_store.py:106\u001B[0m, in \u001B[0;36mYouTubeContentDownloadAndStore._download_audio\u001B[0;34m(video_link, file_name, category, custom_folder)\u001B[0m\n\u001B[1;32m    104\u001B[0m     \u001B[38;5;28;01mwith\u001B[39;00m yt_dlp\u001B[38;5;241m.\u001B[39mYoutubeDL(ydl_opts) \u001B[38;5;28;01mas\u001B[39;00m ydl:\n\u001B[1;32m    105\u001B[0m         \u001B[38;5;28mprint\u001B[39m(\u001B[38;5;124mf\u001B[39m\u001B[38;5;124m\"\u001B[39m\u001B[38;5;124m오디오 다운로드 중: \u001B[39m\u001B[38;5;132;01m{\u001B[39;00mvideo_link\u001B[38;5;241m.\u001B[39murl\u001B[38;5;132;01m}\u001B[39;00m\u001B[38;5;124m\"\u001B[39m)\n\u001B[0;32m--> 106\u001B[0m         \u001B[43mydl\u001B[49m\u001B[38;5;241;43m.\u001B[39;49m\u001B[43mdownload\u001B[49m\u001B[43m(\u001B[49m\u001B[43m[\u001B[49m\u001B[43mvideo_link\u001B[49m\u001B[38;5;241;43m.\u001B[39;49m\u001B[43murl\u001B[49m\u001B[43m]\u001B[49m\u001B[43m)\u001B[49m\n\u001B[1;32m    107\u001B[0m     \u001B[38;5;28mprint\u001B[39m(\u001B[38;5;124mf\u001B[39m\u001B[38;5;124m\"\u001B[39m\u001B[38;5;124m오디오가 성공적으로 다운로드되어 저장되었습니다: \u001B[39m\u001B[38;5;132;01m{\u001B[39;00mfile_path\u001B[38;5;132;01m}\u001B[39;00m\u001B[38;5;124m\"\u001B[39m)\n\u001B[1;32m    108\u001B[0m \u001B[38;5;28;01mexcept\u001B[39;00m \u001B[38;5;167;01mException\u001B[39;00m \u001B[38;5;28;01mas\u001B[39;00m e:\n",
      "File \u001B[0;32m~/.conda/envs/LumenaAI/lib/python3.10/site-packages/yt_dlp/YoutubeDL.py:3618\u001B[0m, in \u001B[0;36mYoutubeDL.download\u001B[0;34m(self, url_list)\u001B[0m\n\u001B[1;32m   3615\u001B[0m     \u001B[38;5;28;01mraise\u001B[39;00m SameFileError(outtmpl)\n\u001B[1;32m   3617\u001B[0m \u001B[38;5;28;01mfor\u001B[39;00m url \u001B[38;5;129;01min\u001B[39;00m url_list:\n\u001B[0;32m-> 3618\u001B[0m     \u001B[38;5;28;43mself\u001B[39;49m\u001B[38;5;241;43m.\u001B[39;49m\u001B[43m__download_wrapper\u001B[49m\u001B[43m(\u001B[49m\u001B[38;5;28;43mself\u001B[39;49m\u001B[38;5;241;43m.\u001B[39;49m\u001B[43mextract_info\u001B[49m\u001B[43m)\u001B[49m\u001B[43m(\u001B[49m\n\u001B[1;32m   3619\u001B[0m \u001B[43m        \u001B[49m\u001B[43murl\u001B[49m\u001B[43m,\u001B[49m\u001B[43m \u001B[49m\u001B[43mforce_generic_extractor\u001B[49m\u001B[38;5;241;43m=\u001B[39;49m\u001B[38;5;28;43mself\u001B[39;49m\u001B[38;5;241;43m.\u001B[39;49m\u001B[43mparams\u001B[49m\u001B[38;5;241;43m.\u001B[39;49m\u001B[43mget\u001B[49m\u001B[43m(\u001B[49m\u001B[38;5;124;43m'\u001B[39;49m\u001B[38;5;124;43mforce_generic_extractor\u001B[39;49m\u001B[38;5;124;43m'\u001B[39;49m\u001B[43m,\u001B[49m\u001B[43m \u001B[49m\u001B[38;5;28;43;01mFalse\u001B[39;49;00m\u001B[43m)\u001B[49m\u001B[43m)\u001B[49m\n\u001B[1;32m   3621\u001B[0m \u001B[38;5;28;01mreturn\u001B[39;00m \u001B[38;5;28mself\u001B[39m\u001B[38;5;241m.\u001B[39m_download_retcode\n",
      "File \u001B[0;32m~/.conda/envs/LumenaAI/lib/python3.10/site-packages/yt_dlp/YoutubeDL.py:3591\u001B[0m, in \u001B[0;36mYoutubeDL.__download_wrapper.<locals>.wrapper\u001B[0;34m(*args, **kwargs)\u001B[0m\n\u001B[1;32m   3588\u001B[0m \u001B[38;5;129m@functools\u001B[39m\u001B[38;5;241m.\u001B[39mwraps(func)\n\u001B[1;32m   3589\u001B[0m \u001B[38;5;28;01mdef\u001B[39;00m \u001B[38;5;21mwrapper\u001B[39m(\u001B[38;5;241m*\u001B[39margs, \u001B[38;5;241m*\u001B[39m\u001B[38;5;241m*\u001B[39mkwargs):\n\u001B[1;32m   3590\u001B[0m     \u001B[38;5;28;01mtry\u001B[39;00m:\n\u001B[0;32m-> 3591\u001B[0m         res \u001B[38;5;241m=\u001B[39m \u001B[43mfunc\u001B[49m\u001B[43m(\u001B[49m\u001B[38;5;241;43m*\u001B[39;49m\u001B[43margs\u001B[49m\u001B[43m,\u001B[49m\u001B[43m \u001B[49m\u001B[38;5;241;43m*\u001B[39;49m\u001B[38;5;241;43m*\u001B[39;49m\u001B[43mkwargs\u001B[49m\u001B[43m)\u001B[49m\n\u001B[1;32m   3592\u001B[0m     \u001B[38;5;28;01mexcept\u001B[39;00m CookieLoadError:\n\u001B[1;32m   3593\u001B[0m         \u001B[38;5;28;01mraise\u001B[39;00m\n",
      "File \u001B[0;32m~/.conda/envs/LumenaAI/lib/python3.10/site-packages/yt_dlp/YoutubeDL.py:1626\u001B[0m, in \u001B[0;36mYoutubeDL.extract_info\u001B[0;34m(self, url, download, ie_key, extra_info, process, force_generic_extractor)\u001B[0m\n\u001B[1;32m   1624\u001B[0m             \u001B[38;5;28;01mraise\u001B[39;00m ExistingVideoReached\n\u001B[1;32m   1625\u001B[0m         \u001B[38;5;28;01mbreak\u001B[39;00m\n\u001B[0;32m-> 1626\u001B[0m     \u001B[38;5;28;01mreturn\u001B[39;00m \u001B[38;5;28;43mself\u001B[39;49m\u001B[38;5;241;43m.\u001B[39;49m\u001B[43m__extract_info\u001B[49m\u001B[43m(\u001B[49m\u001B[43murl\u001B[49m\u001B[43m,\u001B[49m\u001B[43m \u001B[49m\u001B[38;5;28;43mself\u001B[39;49m\u001B[38;5;241;43m.\u001B[39;49m\u001B[43mget_info_extractor\u001B[49m\u001B[43m(\u001B[49m\u001B[43mkey\u001B[49m\u001B[43m)\u001B[49m\u001B[43m,\u001B[49m\u001B[43m \u001B[49m\u001B[43mdownload\u001B[49m\u001B[43m,\u001B[49m\u001B[43m \u001B[49m\u001B[43mextra_info\u001B[49m\u001B[43m,\u001B[49m\u001B[43m \u001B[49m\u001B[43mprocess\u001B[49m\u001B[43m)\u001B[49m\n\u001B[1;32m   1627\u001B[0m \u001B[38;5;28;01melse\u001B[39;00m:\n\u001B[1;32m   1628\u001B[0m     extractors_restricted \u001B[38;5;241m=\u001B[39m \u001B[38;5;28mself\u001B[39m\u001B[38;5;241m.\u001B[39mparams\u001B[38;5;241m.\u001B[39mget(\u001B[38;5;124m'\u001B[39m\u001B[38;5;124mallowed_extractors\u001B[39m\u001B[38;5;124m'\u001B[39m) \u001B[38;5;129;01mnot\u001B[39;00m \u001B[38;5;129;01min\u001B[39;00m (\u001B[38;5;28;01mNone\u001B[39;00m, [\u001B[38;5;124m'\u001B[39m\u001B[38;5;124mdefault\u001B[39m\u001B[38;5;124m'\u001B[39m])\n",
      "File \u001B[0;32m~/.conda/envs/LumenaAI/lib/python3.10/site-packages/yt_dlp/YoutubeDL.py:1637\u001B[0m, in \u001B[0;36mYoutubeDL._handle_extraction_exceptions.<locals>.wrapper\u001B[0;34m(self, *args, **kwargs)\u001B[0m\n\u001B[1;32m   1635\u001B[0m \u001B[38;5;28;01mwhile\u001B[39;00m \u001B[38;5;28;01mTrue\u001B[39;00m:\n\u001B[1;32m   1636\u001B[0m     \u001B[38;5;28;01mtry\u001B[39;00m:\n\u001B[0;32m-> 1637\u001B[0m         \u001B[38;5;28;01mreturn\u001B[39;00m \u001B[43mfunc\u001B[49m\u001B[43m(\u001B[49m\u001B[38;5;28;43mself\u001B[39;49m\u001B[43m,\u001B[49m\u001B[43m \u001B[49m\u001B[38;5;241;43m*\u001B[39;49m\u001B[43margs\u001B[49m\u001B[43m,\u001B[49m\u001B[43m \u001B[49m\u001B[38;5;241;43m*\u001B[39;49m\u001B[38;5;241;43m*\u001B[39;49m\u001B[43mkwargs\u001B[49m\u001B[43m)\u001B[49m\n\u001B[1;32m   1638\u001B[0m     \u001B[38;5;28;01mexcept\u001B[39;00m (CookieLoadError, DownloadCancelled, LazyList\u001B[38;5;241m.\u001B[39mIndexError, PagedList\u001B[38;5;241m.\u001B[39mIndexError):\n\u001B[1;32m   1639\u001B[0m         \u001B[38;5;28;01mraise\u001B[39;00m\n",
      "File \u001B[0;32m~/.conda/envs/LumenaAI/lib/python3.10/site-packages/yt_dlp/YoutubeDL.py:1793\u001B[0m, in \u001B[0;36mYoutubeDL.__extract_info\u001B[0;34m(self, url, ie, download, extra_info, process)\u001B[0m\n\u001B[1;32m   1791\u001B[0m \u001B[38;5;28;01mif\u001B[39;00m process:\n\u001B[1;32m   1792\u001B[0m     \u001B[38;5;28mself\u001B[39m\u001B[38;5;241m.\u001B[39m_wait_for_video(ie_result)\n\u001B[0;32m-> 1793\u001B[0m     \u001B[38;5;28;01mreturn\u001B[39;00m \u001B[38;5;28;43mself\u001B[39;49m\u001B[38;5;241;43m.\u001B[39;49m\u001B[43mprocess_ie_result\u001B[49m\u001B[43m(\u001B[49m\u001B[43mie_result\u001B[49m\u001B[43m,\u001B[49m\u001B[43m \u001B[49m\u001B[43mdownload\u001B[49m\u001B[43m,\u001B[49m\u001B[43m \u001B[49m\u001B[43mextra_info\u001B[49m\u001B[43m)\u001B[49m\n\u001B[1;32m   1794\u001B[0m \u001B[38;5;28;01melse\u001B[39;00m:\n\u001B[1;32m   1795\u001B[0m     \u001B[38;5;28;01mreturn\u001B[39;00m ie_result\n",
      "File \u001B[0;32m~/.conda/envs/LumenaAI/lib/python3.10/site-packages/yt_dlp/YoutubeDL.py:1852\u001B[0m, in \u001B[0;36mYoutubeDL.process_ie_result\u001B[0;34m(self, ie_result, download, extra_info)\u001B[0m\n\u001B[1;32m   1850\u001B[0m \u001B[38;5;28;01mif\u001B[39;00m result_type \u001B[38;5;241m==\u001B[39m \u001B[38;5;124m'\u001B[39m\u001B[38;5;124mvideo\u001B[39m\u001B[38;5;124m'\u001B[39m:\n\u001B[1;32m   1851\u001B[0m     \u001B[38;5;28mself\u001B[39m\u001B[38;5;241m.\u001B[39madd_extra_info(ie_result, extra_info)\n\u001B[0;32m-> 1852\u001B[0m     ie_result \u001B[38;5;241m=\u001B[39m \u001B[38;5;28;43mself\u001B[39;49m\u001B[38;5;241;43m.\u001B[39;49m\u001B[43mprocess_video_result\u001B[49m\u001B[43m(\u001B[49m\u001B[43mie_result\u001B[49m\u001B[43m,\u001B[49m\u001B[43m \u001B[49m\u001B[43mdownload\u001B[49m\u001B[38;5;241;43m=\u001B[39;49m\u001B[43mdownload\u001B[49m\u001B[43m)\u001B[49m\n\u001B[1;32m   1853\u001B[0m     \u001B[38;5;28mself\u001B[39m\u001B[38;5;241m.\u001B[39m_raise_pending_errors(ie_result)\n\u001B[1;32m   1854\u001B[0m     additional_urls \u001B[38;5;241m=\u001B[39m (ie_result \u001B[38;5;129;01mor\u001B[39;00m {})\u001B[38;5;241m.\u001B[39mget(\u001B[38;5;124m'\u001B[39m\u001B[38;5;124madditional_urls\u001B[39m\u001B[38;5;124m'\u001B[39m)\n",
      "File \u001B[0;32m~/.conda/envs/LumenaAI/lib/python3.10/site-packages/yt_dlp/YoutubeDL.py:3024\u001B[0m, in \u001B[0;36mYoutubeDL.process_video_result\u001B[0;34m(self, info_dict, download)\u001B[0m\n\u001B[1;32m   3022\u001B[0m downloaded_formats\u001B[38;5;241m.\u001B[39mappend(new_info)\n\u001B[1;32m   3023\u001B[0m \u001B[38;5;28;01mtry\u001B[39;00m:\n\u001B[0;32m-> 3024\u001B[0m     \u001B[38;5;28;43mself\u001B[39;49m\u001B[38;5;241;43m.\u001B[39;49m\u001B[43mprocess_info\u001B[49m\u001B[43m(\u001B[49m\u001B[43mnew_info\u001B[49m\u001B[43m)\u001B[49m\n\u001B[1;32m   3025\u001B[0m \u001B[38;5;28;01mexcept\u001B[39;00m MaxDownloadsReached:\n\u001B[1;32m   3026\u001B[0m     max_downloads_reached \u001B[38;5;241m=\u001B[39m \u001B[38;5;28;01mTrue\u001B[39;00m\n",
      "File \u001B[0;32m~/.conda/envs/LumenaAI/lib/python3.10/site-packages/yt_dlp/YoutubeDL.py:177\u001B[0m, in \u001B[0;36m_catch_unsafe_extension_error.<locals>.wrapper\u001B[0;34m(self, *args, **kwargs)\u001B[0m\n\u001B[1;32m    174\u001B[0m \u001B[38;5;129m@functools\u001B[39m\u001B[38;5;241m.\u001B[39mwraps(func)\n\u001B[1;32m    175\u001B[0m \u001B[38;5;28;01mdef\u001B[39;00m \u001B[38;5;21mwrapper\u001B[39m(\u001B[38;5;28mself\u001B[39m, \u001B[38;5;241m*\u001B[39margs, \u001B[38;5;241m*\u001B[39m\u001B[38;5;241m*\u001B[39mkwargs):\n\u001B[1;32m    176\u001B[0m     \u001B[38;5;28;01mtry\u001B[39;00m:\n\u001B[0;32m--> 177\u001B[0m         \u001B[38;5;28;01mreturn\u001B[39;00m \u001B[43mfunc\u001B[49m\u001B[43m(\u001B[49m\u001B[38;5;28;43mself\u001B[39;49m\u001B[43m,\u001B[49m\u001B[43m \u001B[49m\u001B[38;5;241;43m*\u001B[39;49m\u001B[43margs\u001B[49m\u001B[43m,\u001B[49m\u001B[43m \u001B[49m\u001B[38;5;241;43m*\u001B[39;49m\u001B[38;5;241;43m*\u001B[39;49m\u001B[43mkwargs\u001B[49m\u001B[43m)\u001B[49m\n\u001B[1;32m    178\u001B[0m     \u001B[38;5;28;01mexcept\u001B[39;00m _UnsafeExtensionError \u001B[38;5;28;01mas\u001B[39;00m error:\n\u001B[1;32m    179\u001B[0m         \u001B[38;5;28mself\u001B[39m\u001B[38;5;241m.\u001B[39mreport_error(\n\u001B[1;32m    180\u001B[0m             \u001B[38;5;124mf\u001B[39m\u001B[38;5;124m'\u001B[39m\u001B[38;5;124mThe extracted extension (\u001B[39m\u001B[38;5;132;01m{\u001B[39;00merror\u001B[38;5;241m.\u001B[39mextension\u001B[38;5;132;01m!r}\u001B[39;00m\u001B[38;5;124m) is unusual \u001B[39m\u001B[38;5;124m'\u001B[39m\n\u001B[1;32m    181\u001B[0m             \u001B[38;5;124m'\u001B[39m\u001B[38;5;124mand will be skipped for safety reasons. \u001B[39m\u001B[38;5;124m'\u001B[39m\n\u001B[1;32m    182\u001B[0m             \u001B[38;5;124mf\u001B[39m\u001B[38;5;124m'\u001B[39m\u001B[38;5;124mIf you believe this is an error\u001B[39m\u001B[38;5;132;01m{\u001B[39;00mbug_reports_message(\u001B[38;5;124m\"\u001B[39m\u001B[38;5;124m,\u001B[39m\u001B[38;5;124m\"\u001B[39m)\u001B[38;5;132;01m}\u001B[39;00m\u001B[38;5;124m'\u001B[39m)\n",
      "File \u001B[0;32m~/.conda/envs/LumenaAI/lib/python3.10/site-packages/yt_dlp/YoutubeDL.py:3570\u001B[0m, in \u001B[0;36mYoutubeDL.process_info\u001B[0;34m(self, info_dict)\u001B[0m\n\u001B[1;32m   3568\u001B[0m fixup()\n\u001B[1;32m   3569\u001B[0m \u001B[38;5;28;01mtry\u001B[39;00m:\n\u001B[0;32m-> 3570\u001B[0m     replace_info_dict(\u001B[38;5;28;43mself\u001B[39;49m\u001B[38;5;241;43m.\u001B[39;49m\u001B[43mpost_process\u001B[49m\u001B[43m(\u001B[49m\u001B[43mdl_filename\u001B[49m\u001B[43m,\u001B[49m\u001B[43m \u001B[49m\u001B[43minfo_dict\u001B[49m\u001B[43m,\u001B[49m\u001B[43m \u001B[49m\u001B[43mfiles_to_move\u001B[49m\u001B[43m)\u001B[49m)\n\u001B[1;32m   3571\u001B[0m \u001B[38;5;28;01mexcept\u001B[39;00m PostProcessingError \u001B[38;5;28;01mas\u001B[39;00m err:\n\u001B[1;32m   3572\u001B[0m     \u001B[38;5;28mself\u001B[39m\u001B[38;5;241m.\u001B[39mreport_error(\u001B[38;5;124mf\u001B[39m\u001B[38;5;124m'\u001B[39m\u001B[38;5;124mPostprocessing: \u001B[39m\u001B[38;5;132;01m{\u001B[39;00merr\u001B[38;5;132;01m}\u001B[39;00m\u001B[38;5;124m'\u001B[39m)\n",
      "File \u001B[0;32m~/.conda/envs/LumenaAI/lib/python3.10/site-packages/yt_dlp/YoutubeDL.py:3754\u001B[0m, in \u001B[0;36mYoutubeDL.post_process\u001B[0;34m(self, filename, info, files_to_move)\u001B[0m\n\u001B[1;32m   3752\u001B[0m info[\u001B[38;5;124m'\u001B[39m\u001B[38;5;124mfilepath\u001B[39m\u001B[38;5;124m'\u001B[39m] \u001B[38;5;241m=\u001B[39m filename\n\u001B[1;32m   3753\u001B[0m info[\u001B[38;5;124m'\u001B[39m\u001B[38;5;124m__files_to_move\u001B[39m\u001B[38;5;124m'\u001B[39m] \u001B[38;5;241m=\u001B[39m files_to_move \u001B[38;5;129;01mor\u001B[39;00m {}\n\u001B[0;32m-> 3754\u001B[0m info \u001B[38;5;241m=\u001B[39m \u001B[38;5;28;43mself\u001B[39;49m\u001B[38;5;241;43m.\u001B[39;49m\u001B[43mrun_all_pps\u001B[49m\u001B[43m(\u001B[49m\u001B[38;5;124;43m'\u001B[39;49m\u001B[38;5;124;43mpost_process\u001B[39;49m\u001B[38;5;124;43m'\u001B[39;49m\u001B[43m,\u001B[49m\u001B[43m \u001B[49m\u001B[43minfo\u001B[49m\u001B[43m,\u001B[49m\u001B[43m \u001B[49m\u001B[43madditional_pps\u001B[49m\u001B[38;5;241;43m=\u001B[39;49m\u001B[43minfo\u001B[49m\u001B[38;5;241;43m.\u001B[39;49m\u001B[43mget\u001B[49m\u001B[43m(\u001B[49m\u001B[38;5;124;43m'\u001B[39;49m\u001B[38;5;124;43m__postprocessors\u001B[39;49m\u001B[38;5;124;43m'\u001B[39;49m\u001B[43m)\u001B[49m\u001B[43m)\u001B[49m\n\u001B[1;32m   3755\u001B[0m info \u001B[38;5;241m=\u001B[39m \u001B[38;5;28mself\u001B[39m\u001B[38;5;241m.\u001B[39mrun_pp(MoveFilesAfterDownloadPP(\u001B[38;5;28mself\u001B[39m), info)\n\u001B[1;32m   3756\u001B[0m \u001B[38;5;28;01mdel\u001B[39;00m info[\u001B[38;5;124m'\u001B[39m\u001B[38;5;124m__files_to_move\u001B[39m\u001B[38;5;124m'\u001B[39m]\n",
      "File \u001B[0;32m~/.conda/envs/LumenaAI/lib/python3.10/site-packages/yt_dlp/YoutubeDL.py:3736\u001B[0m, in \u001B[0;36mYoutubeDL.run_all_pps\u001B[0;34m(self, key, info, additional_pps)\u001B[0m\n\u001B[1;32m   3734\u001B[0m     \u001B[38;5;28mself\u001B[39m\u001B[38;5;241m.\u001B[39m_forceprint(key, info)\n\u001B[1;32m   3735\u001B[0m \u001B[38;5;28;01mfor\u001B[39;00m pp \u001B[38;5;129;01min\u001B[39;00m (additional_pps \u001B[38;5;129;01mor\u001B[39;00m []) \u001B[38;5;241m+\u001B[39m \u001B[38;5;28mself\u001B[39m\u001B[38;5;241m.\u001B[39m_pps[key]:\n\u001B[0;32m-> 3736\u001B[0m     info \u001B[38;5;241m=\u001B[39m \u001B[38;5;28;43mself\u001B[39;49m\u001B[38;5;241;43m.\u001B[39;49m\u001B[43mrun_pp\u001B[49m\u001B[43m(\u001B[49m\u001B[43mpp\u001B[49m\u001B[43m,\u001B[49m\u001B[43m \u001B[49m\u001B[43minfo\u001B[49m\u001B[43m)\u001B[49m\n\u001B[1;32m   3737\u001B[0m \u001B[38;5;28;01mreturn\u001B[39;00m info\n",
      "File \u001B[0;32m~/.conda/envs/LumenaAI/lib/python3.10/site-packages/yt_dlp/YoutubeDL.py:3714\u001B[0m, in \u001B[0;36mYoutubeDL.run_pp\u001B[0;34m(self, pp, infodict)\u001B[0m\n\u001B[1;32m   3712\u001B[0m     infodict[\u001B[38;5;124m'\u001B[39m\u001B[38;5;124m__files_to_move\u001B[39m\u001B[38;5;124m'\u001B[39m] \u001B[38;5;241m=\u001B[39m {}\n\u001B[1;32m   3713\u001B[0m \u001B[38;5;28;01mtry\u001B[39;00m:\n\u001B[0;32m-> 3714\u001B[0m     files_to_delete, infodict \u001B[38;5;241m=\u001B[39m \u001B[43mpp\u001B[49m\u001B[38;5;241;43m.\u001B[39;49m\u001B[43mrun\u001B[49m\u001B[43m(\u001B[49m\u001B[43minfodict\u001B[49m\u001B[43m)\u001B[49m\n\u001B[1;32m   3715\u001B[0m \u001B[38;5;28;01mexcept\u001B[39;00m PostProcessingError \u001B[38;5;28;01mas\u001B[39;00m e:\n\u001B[1;32m   3716\u001B[0m     \u001B[38;5;66;03m# Must be True and not 'only_download'\u001B[39;00m\n\u001B[1;32m   3717\u001B[0m     \u001B[38;5;28;01mif\u001B[39;00m \u001B[38;5;28mself\u001B[39m\u001B[38;5;241m.\u001B[39mparams\u001B[38;5;241m.\u001B[39mget(\u001B[38;5;124m'\u001B[39m\u001B[38;5;124mignoreerrors\u001B[39m\u001B[38;5;124m'\u001B[39m) \u001B[38;5;129;01mis\u001B[39;00m \u001B[38;5;28;01mTrue\u001B[39;00m:\n",
      "File \u001B[0;32m~/.conda/envs/LumenaAI/lib/python3.10/site-packages/yt_dlp/postprocessor/common.py:22\u001B[0m, in \u001B[0;36mPostProcessorMetaClass.run_wrapper.<locals>.run\u001B[0;34m(self, info, *args, **kwargs)\u001B[0m\n\u001B[1;32m     20\u001B[0m info_copy \u001B[38;5;241m=\u001B[39m \u001B[38;5;28mself\u001B[39m\u001B[38;5;241m.\u001B[39m_copy_infodict(info)\n\u001B[1;32m     21\u001B[0m \u001B[38;5;28mself\u001B[39m\u001B[38;5;241m.\u001B[39m_hook_progress({\u001B[38;5;124m'\u001B[39m\u001B[38;5;124mstatus\u001B[39m\u001B[38;5;124m'\u001B[39m: \u001B[38;5;124m'\u001B[39m\u001B[38;5;124mstarted\u001B[39m\u001B[38;5;124m'\u001B[39m}, info_copy)\n\u001B[0;32m---> 22\u001B[0m ret \u001B[38;5;241m=\u001B[39m \u001B[43mfunc\u001B[49m\u001B[43m(\u001B[49m\u001B[38;5;28;43mself\u001B[39;49m\u001B[43m,\u001B[49m\u001B[43m \u001B[49m\u001B[43minfo\u001B[49m\u001B[43m,\u001B[49m\u001B[43m \u001B[49m\u001B[38;5;241;43m*\u001B[39;49m\u001B[43margs\u001B[49m\u001B[43m,\u001B[49m\u001B[43m \u001B[49m\u001B[38;5;241;43m*\u001B[39;49m\u001B[38;5;241;43m*\u001B[39;49m\u001B[43mkwargs\u001B[49m\u001B[43m)\u001B[49m\n\u001B[1;32m     23\u001B[0m \u001B[38;5;28;01mif\u001B[39;00m ret \u001B[38;5;129;01mis\u001B[39;00m \u001B[38;5;129;01mnot\u001B[39;00m \u001B[38;5;28;01mNone\u001B[39;00m:\n\u001B[1;32m     24\u001B[0m     _, info \u001B[38;5;241m=\u001B[39m ret\n",
      "File \u001B[0;32m~/.conda/envs/LumenaAI/lib/python3.10/site-packages/yt_dlp/postprocessor/common.py:127\u001B[0m, in \u001B[0;36mPostProcessor._restrict_to.<locals>.decorator.<locals>.wrapper\u001B[0;34m(self, info)\u001B[0m\n\u001B[1;32m    122\u001B[0m format_type \u001B[38;5;241m=\u001B[39m (\n\u001B[1;32m    123\u001B[0m     \u001B[38;5;124m'\u001B[39m\u001B[38;5;124mvideo\u001B[39m\u001B[38;5;124m'\u001B[39m \u001B[38;5;28;01mif\u001B[39;00m info\u001B[38;5;241m.\u001B[39mget(\u001B[38;5;124m'\u001B[39m\u001B[38;5;124mvcodec\u001B[39m\u001B[38;5;124m'\u001B[39m) \u001B[38;5;241m!=\u001B[39m \u001B[38;5;124m'\u001B[39m\u001B[38;5;124mnone\u001B[39m\u001B[38;5;124m'\u001B[39m\n\u001B[1;32m    124\u001B[0m     \u001B[38;5;28;01melse\u001B[39;00m \u001B[38;5;124m'\u001B[39m\u001B[38;5;124maudio\u001B[39m\u001B[38;5;124m'\u001B[39m \u001B[38;5;28;01mif\u001B[39;00m info\u001B[38;5;241m.\u001B[39mget(\u001B[38;5;124m'\u001B[39m\u001B[38;5;124macodec\u001B[39m\u001B[38;5;124m'\u001B[39m) \u001B[38;5;241m!=\u001B[39m \u001B[38;5;124m'\u001B[39m\u001B[38;5;124mnone\u001B[39m\u001B[38;5;124m'\u001B[39m\n\u001B[1;32m    125\u001B[0m     \u001B[38;5;28;01melse\u001B[39;00m \u001B[38;5;124m'\u001B[39m\u001B[38;5;124mimages\u001B[39m\u001B[38;5;124m'\u001B[39m)\n\u001B[1;32m    126\u001B[0m \u001B[38;5;28;01mif\u001B[39;00m allowed[format_type]:\n\u001B[0;32m--> 127\u001B[0m     \u001B[38;5;28;01mreturn\u001B[39;00m \u001B[43mfunc\u001B[49m\u001B[43m(\u001B[49m\u001B[38;5;28;43mself\u001B[39;49m\u001B[43m,\u001B[49m\u001B[43m \u001B[49m\u001B[43minfo\u001B[49m\u001B[43m)\u001B[49m\n\u001B[1;32m    128\u001B[0m \u001B[38;5;28;01melse\u001B[39;00m:\n\u001B[1;32m    129\u001B[0m     \u001B[38;5;28mself\u001B[39m\u001B[38;5;241m.\u001B[39mto_screen(\u001B[38;5;124mf\u001B[39m\u001B[38;5;124m'\u001B[39m\u001B[38;5;124mSkipping \u001B[39m\u001B[38;5;132;01m{\u001B[39;00mformat_type\u001B[38;5;132;01m}\u001B[39;00m\u001B[38;5;124m'\u001B[39m)\n",
      "File \u001B[0;32m~/.conda/envs/LumenaAI/lib/python3.10/site-packages/yt_dlp/postprocessor/ffmpeg.py:530\u001B[0m, in \u001B[0;36mFFmpegExtractAudioPP.run\u001B[0;34m(self, information)\u001B[0m\n\u001B[1;32m    527\u001B[0m     \u001B[38;5;28;01mreturn\u001B[39;00m [], information\n\u001B[1;32m    529\u001B[0m \u001B[38;5;28mself\u001B[39m\u001B[38;5;241m.\u001B[39mto_screen(\u001B[38;5;124mf\u001B[39m\u001B[38;5;124m'\u001B[39m\u001B[38;5;124mDestination: \u001B[39m\u001B[38;5;132;01m{\u001B[39;00mnew_path\u001B[38;5;132;01m}\u001B[39;00m\u001B[38;5;124m'\u001B[39m)\n\u001B[0;32m--> 530\u001B[0m \u001B[38;5;28;43mself\u001B[39;49m\u001B[38;5;241;43m.\u001B[39;49m\u001B[43mrun_ffmpeg\u001B[49m\u001B[43m(\u001B[49m\u001B[43mpath\u001B[49m\u001B[43m,\u001B[49m\u001B[43m \u001B[49m\u001B[43mtemp_path\u001B[49m\u001B[43m,\u001B[49m\u001B[43m \u001B[49m\u001B[43macodec\u001B[49m\u001B[43m,\u001B[49m\u001B[43m \u001B[49m\u001B[43mmore_opts\u001B[49m\u001B[43m)\u001B[49m\n\u001B[1;32m    532\u001B[0m os\u001B[38;5;241m.\u001B[39mreplace(path, orig_path)\n\u001B[1;32m    533\u001B[0m os\u001B[38;5;241m.\u001B[39mreplace(temp_path, new_path)\n",
      "File \u001B[0;32m~/.conda/envs/LumenaAI/lib/python3.10/site-packages/yt_dlp/postprocessor/ffmpeg.py:479\u001B[0m, in \u001B[0;36mFFmpegExtractAudioPP.run_ffmpeg\u001B[0;34m(self, path, out_path, codec, more_opts)\u001B[0m\n\u001B[1;32m    477\u001B[0m opts \u001B[38;5;241m=\u001B[39m [\u001B[38;5;124m'\u001B[39m\u001B[38;5;124m-vn\u001B[39m\u001B[38;5;124m'\u001B[39m, \u001B[38;5;241m*\u001B[39macodec_opts, \u001B[38;5;241m*\u001B[39mmore_opts]\n\u001B[1;32m    478\u001B[0m \u001B[38;5;28;01mtry\u001B[39;00m:\n\u001B[0;32m--> 479\u001B[0m     \u001B[43mFFmpegPostProcessor\u001B[49m\u001B[38;5;241;43m.\u001B[39;49m\u001B[43mrun_ffmpeg\u001B[49m\u001B[43m(\u001B[49m\u001B[38;5;28;43mself\u001B[39;49m\u001B[43m,\u001B[49m\u001B[43m \u001B[49m\u001B[43mpath\u001B[49m\u001B[43m,\u001B[49m\u001B[43m \u001B[49m\u001B[43mout_path\u001B[49m\u001B[43m,\u001B[49m\u001B[43m \u001B[49m\u001B[43mopts\u001B[49m\u001B[43m)\u001B[49m\n\u001B[1;32m    480\u001B[0m \u001B[38;5;28;01mexcept\u001B[39;00m FFmpegPostProcessorError \u001B[38;5;28;01mas\u001B[39;00m err:\n\u001B[1;32m    481\u001B[0m     \u001B[38;5;28;01mraise\u001B[39;00m PostProcessingError(\u001B[38;5;124mf\u001B[39m\u001B[38;5;124m'\u001B[39m\u001B[38;5;124maudio conversion failed: \u001B[39m\u001B[38;5;132;01m{\u001B[39;00merr\u001B[38;5;241m.\u001B[39mmsg\u001B[38;5;132;01m}\u001B[39;00m\u001B[38;5;124m'\u001B[39m)\n",
      "File \u001B[0;32m~/.conda/envs/LumenaAI/lib/python3.10/site-packages/yt_dlp/postprocessor/ffmpeg.py:374\u001B[0m, in \u001B[0;36mFFmpegPostProcessor.run_ffmpeg\u001B[0;34m(self, path, out_path, opts, **kwargs)\u001B[0m\n\u001B[1;32m    373\u001B[0m \u001B[38;5;28;01mdef\u001B[39;00m \u001B[38;5;21mrun_ffmpeg\u001B[39m(\u001B[38;5;28mself\u001B[39m, path, out_path, opts, \u001B[38;5;241m*\u001B[39m\u001B[38;5;241m*\u001B[39mkwargs):\n\u001B[0;32m--> 374\u001B[0m     \u001B[38;5;28;01mreturn\u001B[39;00m \u001B[38;5;28;43mself\u001B[39;49m\u001B[38;5;241;43m.\u001B[39;49m\u001B[43mrun_ffmpeg_multiple_files\u001B[49m\u001B[43m(\u001B[49m\u001B[43m[\u001B[49m\u001B[43mpath\u001B[49m\u001B[43m]\u001B[49m\u001B[43m,\u001B[49m\u001B[43m \u001B[49m\u001B[43mout_path\u001B[49m\u001B[43m,\u001B[49m\u001B[43m \u001B[49m\u001B[43mopts\u001B[49m\u001B[43m,\u001B[49m\u001B[43m \u001B[49m\u001B[38;5;241;43m*\u001B[39;49m\u001B[38;5;241;43m*\u001B[39;49m\u001B[43mkwargs\u001B[49m\u001B[43m)\u001B[49m\n",
      "File \u001B[0;32m~/.conda/envs/LumenaAI/lib/python3.10/site-packages/yt_dlp/postprocessor/ffmpeg.py:329\u001B[0m, in \u001B[0;36mFFmpegPostProcessor.run_ffmpeg_multiple_files\u001B[0;34m(self, input_paths, out_path, opts, **kwargs)\u001B[0m\n\u001B[1;32m    328\u001B[0m \u001B[38;5;28;01mdef\u001B[39;00m \u001B[38;5;21mrun_ffmpeg_multiple_files\u001B[39m(\u001B[38;5;28mself\u001B[39m, input_paths, out_path, opts, \u001B[38;5;241m*\u001B[39m\u001B[38;5;241m*\u001B[39mkwargs):\n\u001B[0;32m--> 329\u001B[0m     \u001B[38;5;28;01mreturn\u001B[39;00m \u001B[38;5;28;43mself\u001B[39;49m\u001B[38;5;241;43m.\u001B[39;49m\u001B[43mreal_run_ffmpeg\u001B[49m\u001B[43m(\u001B[49m\n\u001B[1;32m    330\u001B[0m \u001B[43m        \u001B[49m\u001B[43m[\u001B[49m\u001B[43m(\u001B[49m\u001B[43mpath\u001B[49m\u001B[43m,\u001B[49m\u001B[43m \u001B[49m\u001B[43m[\u001B[49m\u001B[43m]\u001B[49m\u001B[43m)\u001B[49m\u001B[43m \u001B[49m\u001B[38;5;28;43;01mfor\u001B[39;49;00m\u001B[43m \u001B[49m\u001B[43mpath\u001B[49m\u001B[43m \u001B[49m\u001B[38;5;129;43;01min\u001B[39;49;00m\u001B[43m \u001B[49m\u001B[43minput_paths\u001B[49m\u001B[43m]\u001B[49m\u001B[43m,\u001B[49m\n\u001B[1;32m    331\u001B[0m \u001B[43m        \u001B[49m\u001B[43m[\u001B[49m\u001B[43m(\u001B[49m\u001B[43mout_path\u001B[49m\u001B[43m,\u001B[49m\u001B[43m \u001B[49m\u001B[43mopts\u001B[49m\u001B[43m)\u001B[49m\u001B[43m]\u001B[49m\u001B[43m,\u001B[49m\u001B[43m \u001B[49m\u001B[38;5;241;43m*\u001B[39;49m\u001B[38;5;241;43m*\u001B[39;49m\u001B[43mkwargs\u001B[49m\u001B[43m)\u001B[49m\n",
      "File \u001B[0;32m~/.conda/envs/LumenaAI/lib/python3.10/site-packages/yt_dlp/postprocessor/ffmpeg.py:363\u001B[0m, in \u001B[0;36mFFmpegPostProcessor.real_run_ffmpeg\u001B[0;34m(self, input_path_opts, output_path_opts, expected_retcodes)\u001B[0m\n\u001B[1;32m    358\u001B[0m     cmd \u001B[38;5;241m+\u001B[39m\u001B[38;5;241m=\u001B[39m itertools\u001B[38;5;241m.\u001B[39mchain\u001B[38;5;241m.\u001B[39mfrom_iterable(\n\u001B[1;32m    359\u001B[0m         make_args(path, \u001B[38;5;28mlist\u001B[39m(opts), arg_type, i \u001B[38;5;241m+\u001B[39m \u001B[38;5;241m1\u001B[39m)\n\u001B[1;32m    360\u001B[0m         \u001B[38;5;28;01mfor\u001B[39;00m i, (path, opts) \u001B[38;5;129;01min\u001B[39;00m \u001B[38;5;28menumerate\u001B[39m(path_opts) \u001B[38;5;28;01mif\u001B[39;00m path)\n\u001B[1;32m    362\u001B[0m \u001B[38;5;28mself\u001B[39m\u001B[38;5;241m.\u001B[39mwrite_debug(\u001B[38;5;124mf\u001B[39m\u001B[38;5;124m'\u001B[39m\u001B[38;5;124mffmpeg command line: \u001B[39m\u001B[38;5;132;01m{\u001B[39;00mshell_quote(cmd)\u001B[38;5;132;01m}\u001B[39;00m\u001B[38;5;124m'\u001B[39m)\n\u001B[0;32m--> 363\u001B[0m _, stderr, returncode \u001B[38;5;241m=\u001B[39m \u001B[43mPopen\u001B[49m\u001B[38;5;241;43m.\u001B[39;49m\u001B[43mrun\u001B[49m\u001B[43m(\u001B[49m\n\u001B[1;32m    364\u001B[0m \u001B[43m    \u001B[49m\u001B[43mcmd\u001B[49m\u001B[43m,\u001B[49m\u001B[43m \u001B[49m\u001B[43mtext\u001B[49m\u001B[38;5;241;43m=\u001B[39;49m\u001B[38;5;28;43;01mTrue\u001B[39;49;00m\u001B[43m,\u001B[49m\u001B[43m \u001B[49m\u001B[43mstdout\u001B[49m\u001B[38;5;241;43m=\u001B[39;49m\u001B[43msubprocess\u001B[49m\u001B[38;5;241;43m.\u001B[39;49m\u001B[43mPIPE\u001B[49m\u001B[43m,\u001B[49m\u001B[43m \u001B[49m\u001B[43mstderr\u001B[49m\u001B[38;5;241;43m=\u001B[39;49m\u001B[43msubprocess\u001B[49m\u001B[38;5;241;43m.\u001B[39;49m\u001B[43mPIPE\u001B[49m\u001B[43m,\u001B[49m\u001B[43m \u001B[49m\u001B[43mstdin\u001B[49m\u001B[38;5;241;43m=\u001B[39;49m\u001B[43msubprocess\u001B[49m\u001B[38;5;241;43m.\u001B[39;49m\u001B[43mPIPE\u001B[49m\u001B[43m)\u001B[49m\n\u001B[1;32m    365\u001B[0m \u001B[38;5;28;01mif\u001B[39;00m returncode \u001B[38;5;129;01mnot\u001B[39;00m \u001B[38;5;129;01min\u001B[39;00m variadic(expected_retcodes):\n\u001B[1;32m    366\u001B[0m     \u001B[38;5;28mself\u001B[39m\u001B[38;5;241m.\u001B[39mwrite_debug(stderr)\n",
      "File \u001B[0;32m~/.conda/envs/LumenaAI/lib/python3.10/site-packages/yt_dlp/utils/_utils.py:906\u001B[0m, in \u001B[0;36mPopen.run\u001B[0;34m(cls, timeout, *args, **kwargs)\u001B[0m\n\u001B[1;32m    904\u001B[0m \u001B[38;5;28;01mwith\u001B[39;00m \u001B[38;5;28mcls\u001B[39m(\u001B[38;5;241m*\u001B[39margs, \u001B[38;5;241m*\u001B[39m\u001B[38;5;241m*\u001B[39mkwargs) \u001B[38;5;28;01mas\u001B[39;00m proc:\n\u001B[1;32m    905\u001B[0m     default \u001B[38;5;241m=\u001B[39m \u001B[38;5;124m'\u001B[39m\u001B[38;5;124m'\u001B[39m \u001B[38;5;28;01mif\u001B[39;00m proc\u001B[38;5;241m.\u001B[39m__text_mode \u001B[38;5;28;01melse\u001B[39;00m \u001B[38;5;124mb\u001B[39m\u001B[38;5;124m'\u001B[39m\u001B[38;5;124m'\u001B[39m\n\u001B[0;32m--> 906\u001B[0m     stdout, stderr \u001B[38;5;241m=\u001B[39m \u001B[43mproc\u001B[49m\u001B[38;5;241;43m.\u001B[39;49m\u001B[43mcommunicate_or_kill\u001B[49m\u001B[43m(\u001B[49m\u001B[43mtimeout\u001B[49m\u001B[38;5;241;43m=\u001B[39;49m\u001B[43mtimeout\u001B[49m\u001B[43m)\u001B[49m\n\u001B[1;32m    907\u001B[0m     \u001B[38;5;28;01mreturn\u001B[39;00m stdout \u001B[38;5;129;01mor\u001B[39;00m default, stderr \u001B[38;5;129;01mor\u001B[39;00m default, proc\u001B[38;5;241m.\u001B[39mreturncode\n",
      "File \u001B[0;32m~/.conda/envs/LumenaAI/lib/python3.10/site-packages/yt_dlp/utils/_utils.py:892\u001B[0m, in \u001B[0;36mPopen.communicate_or_kill\u001B[0;34m(self, *args, **kwargs)\u001B[0m\n\u001B[1;32m    890\u001B[0m \u001B[38;5;28;01mdef\u001B[39;00m \u001B[38;5;21mcommunicate_or_kill\u001B[39m(\u001B[38;5;28mself\u001B[39m, \u001B[38;5;241m*\u001B[39margs, \u001B[38;5;241m*\u001B[39m\u001B[38;5;241m*\u001B[39mkwargs):\n\u001B[1;32m    891\u001B[0m     \u001B[38;5;28;01mtry\u001B[39;00m:\n\u001B[0;32m--> 892\u001B[0m         \u001B[38;5;28;01mreturn\u001B[39;00m \u001B[38;5;28;43mself\u001B[39;49m\u001B[38;5;241;43m.\u001B[39;49m\u001B[43mcommunicate\u001B[49m\u001B[43m(\u001B[49m\u001B[38;5;241;43m*\u001B[39;49m\u001B[43margs\u001B[49m\u001B[43m,\u001B[49m\u001B[43m \u001B[49m\u001B[38;5;241;43m*\u001B[39;49m\u001B[38;5;241;43m*\u001B[39;49m\u001B[43mkwargs\u001B[49m\u001B[43m)\u001B[49m\n\u001B[1;32m    893\u001B[0m     \u001B[38;5;28;01mexcept\u001B[39;00m \u001B[38;5;167;01mBaseException\u001B[39;00m:  \u001B[38;5;66;03m# Including KeyboardInterrupt\u001B[39;00m\n\u001B[1;32m    894\u001B[0m         \u001B[38;5;28mself\u001B[39m\u001B[38;5;241m.\u001B[39mkill(timeout\u001B[38;5;241m=\u001B[39m\u001B[38;5;28;01mNone\u001B[39;00m)\n",
      "File \u001B[0;32m~/.conda/envs/LumenaAI/lib/python3.10/subprocess.py:1154\u001B[0m, in \u001B[0;36mPopen.communicate\u001B[0;34m(self, input, timeout)\u001B[0m\n\u001B[1;32m   1151\u001B[0m     endtime \u001B[38;5;241m=\u001B[39m \u001B[38;5;28;01mNone\u001B[39;00m\n\u001B[1;32m   1153\u001B[0m \u001B[38;5;28;01mtry\u001B[39;00m:\n\u001B[0;32m-> 1154\u001B[0m     stdout, stderr \u001B[38;5;241m=\u001B[39m \u001B[38;5;28;43mself\u001B[39;49m\u001B[38;5;241;43m.\u001B[39;49m\u001B[43m_communicate\u001B[49m\u001B[43m(\u001B[49m\u001B[38;5;28;43minput\u001B[39;49m\u001B[43m,\u001B[49m\u001B[43m \u001B[49m\u001B[43mendtime\u001B[49m\u001B[43m,\u001B[49m\u001B[43m \u001B[49m\u001B[43mtimeout\u001B[49m\u001B[43m)\u001B[49m\n\u001B[1;32m   1155\u001B[0m \u001B[38;5;28;01mexcept\u001B[39;00m \u001B[38;5;167;01mKeyboardInterrupt\u001B[39;00m:\n\u001B[1;32m   1156\u001B[0m     \u001B[38;5;66;03m# https://bugs.python.org/issue25942\u001B[39;00m\n\u001B[1;32m   1157\u001B[0m     \u001B[38;5;66;03m# See the detailed comment in .wait().\u001B[39;00m\n\u001B[1;32m   1158\u001B[0m     \u001B[38;5;28;01mif\u001B[39;00m timeout \u001B[38;5;129;01mis\u001B[39;00m \u001B[38;5;129;01mnot\u001B[39;00m \u001B[38;5;28;01mNone\u001B[39;00m:\n",
      "File \u001B[0;32m~/.conda/envs/LumenaAI/lib/python3.10/subprocess.py:2021\u001B[0m, in \u001B[0;36mPopen._communicate\u001B[0;34m(self, input, endtime, orig_timeout)\u001B[0m\n\u001B[1;32m   2014\u001B[0m     \u001B[38;5;28mself\u001B[39m\u001B[38;5;241m.\u001B[39m_check_timeout(endtime, orig_timeout,\n\u001B[1;32m   2015\u001B[0m                         stdout, stderr,\n\u001B[1;32m   2016\u001B[0m                         skip_check_and_raise\u001B[38;5;241m=\u001B[39m\u001B[38;5;28;01mTrue\u001B[39;00m)\n\u001B[1;32m   2017\u001B[0m     \u001B[38;5;28;01mraise\u001B[39;00m \u001B[38;5;167;01mRuntimeError\u001B[39;00m(  \u001B[38;5;66;03m# Impossible :)\u001B[39;00m\n\u001B[1;32m   2018\u001B[0m         \u001B[38;5;124m'\u001B[39m\u001B[38;5;124m_check_timeout(..., skip_check_and_raise=True) \u001B[39m\u001B[38;5;124m'\u001B[39m\n\u001B[1;32m   2019\u001B[0m         \u001B[38;5;124m'\u001B[39m\u001B[38;5;124mfailed to raise TimeoutExpired.\u001B[39m\u001B[38;5;124m'\u001B[39m)\n\u001B[0;32m-> 2021\u001B[0m ready \u001B[38;5;241m=\u001B[39m \u001B[43mselector\u001B[49m\u001B[38;5;241;43m.\u001B[39;49m\u001B[43mselect\u001B[49m\u001B[43m(\u001B[49m\u001B[43mtimeout\u001B[49m\u001B[43m)\u001B[49m\n\u001B[1;32m   2022\u001B[0m \u001B[38;5;28mself\u001B[39m\u001B[38;5;241m.\u001B[39m_check_timeout(endtime, orig_timeout, stdout, stderr)\n\u001B[1;32m   2024\u001B[0m \u001B[38;5;66;03m# XXX Rewrite these to use non-blocking I/O on the file\u001B[39;00m\n\u001B[1;32m   2025\u001B[0m \u001B[38;5;66;03m# objects; they are no longer using C stdio!\u001B[39;00m\n",
      "File \u001B[0;32m~/.conda/envs/LumenaAI/lib/python3.10/selectors.py:416\u001B[0m, in \u001B[0;36m_PollLikeSelector.select\u001B[0;34m(self, timeout)\u001B[0m\n\u001B[1;32m    414\u001B[0m ready \u001B[38;5;241m=\u001B[39m []\n\u001B[1;32m    415\u001B[0m \u001B[38;5;28;01mtry\u001B[39;00m:\n\u001B[0;32m--> 416\u001B[0m     fd_event_list \u001B[38;5;241m=\u001B[39m \u001B[38;5;28;43mself\u001B[39;49m\u001B[38;5;241;43m.\u001B[39;49m\u001B[43m_selector\u001B[49m\u001B[38;5;241;43m.\u001B[39;49m\u001B[43mpoll\u001B[49m\u001B[43m(\u001B[49m\u001B[43mtimeout\u001B[49m\u001B[43m)\u001B[49m\n\u001B[1;32m    417\u001B[0m \u001B[38;5;28;01mexcept\u001B[39;00m \u001B[38;5;167;01mInterruptedError\u001B[39;00m:\n\u001B[1;32m    418\u001B[0m     \u001B[38;5;28;01mreturn\u001B[39;00m ready\n",
      "\u001B[0;31mKeyboardInterrupt\u001B[0m: "
     ]
    }
   ],
   "source": [
    "custom_download_folder = '../downloads'\n",
    "\n",
    "for row in youtube_parse_list.itertuples(index=False):\n",
    "    category = row.category\n",
    "    url = row.url\n",
    "    is_playlist = not row.noplaylist\n",
    "\n",
    "    if is_playlist:\n",
    "        playlist_info = get_playlist_info(url)\n",
    "        for entry in playlist_info['entries']:\n",
    "            video_url = entry.get('url')\n",
    "            yds.execute(video_url, category, custom_download_folder)\n",
    "            print('----' * 7)\n",
    "\n",
    "    else:\n",
    "        yds.execute(url, category, custom_download_folder)\n",
    "        print('----' * 7)"
   ],
   "metadata": {
    "collapsed": false
   }
  }
 ],
 "metadata": {
  "kernelspec": {
   "display_name": "Python 3",
   "language": "python",
   "name": "python3"
  },
  "language_info": {
   "codemirror_mode": {
    "name": "ipython",
    "version": 2
   },
   "file_extension": ".py",
   "mimetype": "text/x-python",
   "name": "python",
   "nbconvert_exporter": "python",
   "pygments_lexer": "ipython2",
   "version": "2.7.6"
  }
 },
 "nbformat": 4,
 "nbformat_minor": 0
}
