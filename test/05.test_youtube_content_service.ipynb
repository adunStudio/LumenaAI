{
 "cells": [
  {
   "cell_type": "code",
   "execution_count": 1,
   "metadata": {
    "collapsed": true
   },
   "outputs": [
    {
     "name": "stdout",
     "output_type": "stream",
     "text": [
      "Connected to MongoDB\n"
     ]
    }
   ],
   "source": [
    "from infrastructure.database.mongo_client import MongoDBClient\n",
    "from infrastructure.repository import YouTubeContentRepository\n",
    "from application.service import YouTubeContentService\n",
    "\n",
    "import os\n",
    "from dotenv import load_dotenv\n",
    "\n",
    "load_dotenv()\n",
    "\n",
    "# MongoDB 클라이언트 초기화\n",
    "client = MongoDBClient(uri=os.environ['MONGO_CONNECTION_STRING'])\n",
    "client.connect()\n",
    "\n",
    "# 저장소 초기화\n",
    "repository = YouTubeContentRepository(client)\n",
    "\n",
    "# 서비스 초기화\n",
    "service = YouTubeContentService(repository)\n",
    "\n",
    "# 아따 귀찮다잉: 의존성 주입 기능이 필요함"
   ]
  },
  {
   "cell_type": "code",
   "execution_count": 2,
   "outputs": [
    {
     "name": "stdout",
     "output_type": "stream",
     "text": [
      "Sample Video\n",
      "https://www.youtube.com/watch?v=dQw4w9WgXcQ\n",
      "Music\n"
     ]
    }
   ],
   "source": [
    "contents = service.list_all_content()\n",
    "for content in contents:\n",
    "    print(content.title)\n",
    "    print(content.url)\n",
    "    print(content.category)"
   ],
   "metadata": {
    "collapsed": false
   }
  },
  {
   "cell_type": "code",
   "execution_count": 3,
   "outputs": [],
   "source": [
    "result = service.update_category('https://www.youtube.com/watch?v=dQw4w9WgXcQ', 'Apple')"
   ],
   "metadata": {
    "collapsed": false
   }
  },
  {
   "cell_type": "code",
   "execution_count": 4,
   "outputs": [
    {
     "name": "stdout",
     "output_type": "stream",
     "text": [
      "Sample Video\n",
      "https://www.youtube.com/watch?v=dQw4w9WgXcQ\n",
      "Apple\n"
     ]
    }
   ],
   "source": [
    "contents = service.list_all_content()\n",
    "for content in contents:\n",
    "    print(content.title)\n",
    "    print(content.url)\n",
    "    print(content.category)"
   ],
   "metadata": {
    "collapsed": false
   }
  }
 ],
 "metadata": {
  "kernelspec": {
   "display_name": "Python 3",
   "language": "python",
   "name": "python3"
  },
  "language_info": {
   "codemirror_mode": {
    "name": "ipython",
    "version": 2
   },
   "file_extension": ".py",
   "mimetype": "text/x-python",
   "name": "python",
   "nbconvert_exporter": "python",
   "pygments_lexer": "ipython2",
   "version": "2.7.6"
  }
 },
 "nbformat": 4,
 "nbformat_minor": 0
}
