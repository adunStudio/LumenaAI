{
 "cells": [
  {
   "cell_type": "code",
   "execution_count": null,
   "metadata": {
    "collapsed": true,
    "pycharm": {
     "is_executing": true
    }
   },
   "outputs": [],
   "source": [
    "!pip install yt_dlp pandas"
   ]
  },
  {
   "cell_type": "code",
   "execution_count": 15,
   "outputs": [
    {
     "data": {
      "text/plain": "  category                                                url  noplaylist\n0    뱀서라이크  https://www.youtube.com/playlist?list=PLO-mt5I...       False\n1    비행기슈팅  https://www.youtube.com/playlist?list=PLO-mt5I...       False\n2   탑다운RPG  https://www.youtube.com/playlist?list=PLO-mt5I...       False\n3     플랫포머  https://www.youtube.com/playlist?list=PLO-mt5I...       False\n4     유니티6  https://www.youtube.com/watch?v=350EWYC_1ZA&li...        True\n5     유니티6  https://www.youtube.com/watch?v=Q7mHfbEzaJM&li...        True\n6     유니티6        https://www.youtube.com/watch?v=r4aZypBrFHE        True\n7     유니티6        https://www.youtube.com/watch?v=3mSO1sMdGxM        True",
      "text/html": "<div>\n<style scoped>\n    .dataframe tbody tr th:only-of-type {\n        vertical-align: middle;\n    }\n\n    .dataframe tbody tr th {\n        vertical-align: top;\n    }\n\n    .dataframe thead th {\n        text-align: right;\n    }\n</style>\n<table border=\"1\" class=\"dataframe\">\n  <thead>\n    <tr style=\"text-align: right;\">\n      <th></th>\n      <th>category</th>\n      <th>url</th>\n      <th>noplaylist</th>\n    </tr>\n  </thead>\n  <tbody>\n    <tr>\n      <th>0</th>\n      <td>뱀서라이크</td>\n      <td>https://www.youtube.com/playlist?list=PLO-mt5I...</td>\n      <td>False</td>\n    </tr>\n    <tr>\n      <th>1</th>\n      <td>비행기슈팅</td>\n      <td>https://www.youtube.com/playlist?list=PLO-mt5I...</td>\n      <td>False</td>\n    </tr>\n    <tr>\n      <th>2</th>\n      <td>탑다운RPG</td>\n      <td>https://www.youtube.com/playlist?list=PLO-mt5I...</td>\n      <td>False</td>\n    </tr>\n    <tr>\n      <th>3</th>\n      <td>플랫포머</td>\n      <td>https://www.youtube.com/playlist?list=PLO-mt5I...</td>\n      <td>False</td>\n    </tr>\n    <tr>\n      <th>4</th>\n      <td>유니티6</td>\n      <td>https://www.youtube.com/watch?v=350EWYC_1ZA&amp;li...</td>\n      <td>True</td>\n    </tr>\n    <tr>\n      <th>5</th>\n      <td>유니티6</td>\n      <td>https://www.youtube.com/watch?v=Q7mHfbEzaJM&amp;li...</td>\n      <td>True</td>\n    </tr>\n    <tr>\n      <th>6</th>\n      <td>유니티6</td>\n      <td>https://www.youtube.com/watch?v=r4aZypBrFHE</td>\n      <td>True</td>\n    </tr>\n    <tr>\n      <th>7</th>\n      <td>유니티6</td>\n      <td>https://www.youtube.com/watch?v=3mSO1sMdGxM</td>\n      <td>True</td>\n    </tr>\n  </tbody>\n</table>\n</div>"
     },
     "execution_count": 15,
     "metadata": {},
     "output_type": "execute_result"
    }
   ],
   "source": [
    "import pandas as pd\n",
    "\n",
    "video_parse_list = pd.read_csv('data/videos_parse_list.csv')\n",
    "video_parse_list"
   ],
   "metadata": {
    "collapsed": false
   }
  },
  {
   "cell_type": "code",
   "execution_count": 16,
   "outputs": [
    {
     "name": "stdout",
     "output_type": "stream",
     "text": [
      "True\n",
      "False\n",
      "True\n",
      "https://www.youtube.com/watch?v=MmW166cHj54\n"
     ]
    }
   ],
   "source": [
    "from value_object import YouTubeLink\n",
    "\n",
    "print(YouTubeLink.is_valid_youtube_link('https://www.youtube.com/watch?v=MmW166cHj54'))\n",
    "print(YouTubeLink.is_valid_youtube_link('https://www.youtube.com/playlist?list=PLO-mt5Iu5TeZF8xMHqtT_DhAPKmjF6i3x'))\n",
    "print(YouTubeLink.is_valid_youtube_link('https://www.youtube.com/watch?v=MmW166cHj54&list=PLO-mt5Iu5TeZF8xMHqtT_DhAPKmjF6i3x&index=1'))\n",
    "print(YouTubeLink.extract_video_link('https://www.youtube.com/watch?v=MmW166cHj54&list=PLO-mt5Iu5TeZF8xMHqtT_DhAPKmjF6i3x&index=1'))"
   ],
   "metadata": {
    "collapsed": false
   }
  },
  {
   "cell_type": "code",
   "execution_count": 17,
   "outputs": [],
   "source": [
    "a = YouTubeLink('https://www.youtube.com/watch?v=MmW166cHj54')"
   ],
   "metadata": {
    "collapsed": false
   }
  },
  {
   "cell_type": "code",
   "execution_count": 18,
   "outputs": [
    {
     "ename": "InvalidYouTubeLinkException",
     "evalue": "유효하지 않은 유튜브 링크입니다: https://www.youtube.com/playlist?list=PLO-mt5Iu5TeZF8xMHqtT_DhAPKmjF6i3x",
     "output_type": "error",
     "traceback": [
      "\u001B[0;31m---------------------------------------------------------------------------\u001B[0m",
      "\u001B[0;31mInvalidYouTubeLinkException\u001B[0m               Traceback (most recent call last)",
      "Cell \u001B[0;32mIn[18], line 1\u001B[0m\n\u001B[0;32m----> 1\u001B[0m b \u001B[38;5;241m=\u001B[39m \u001B[43mYouTubeLink\u001B[49m\u001B[43m(\u001B[49m\u001B[38;5;124;43m'\u001B[39;49m\u001B[38;5;124;43mhttps://www.youtube.com/playlist?list=PLO-mt5Iu5TeZF8xMHqtT_DhAPKmjF6i3x\u001B[39;49m\u001B[38;5;124;43m'\u001B[39;49m\u001B[43m)\u001B[49m\n",
      "File \u001B[0;32m<string>:4\u001B[0m, in \u001B[0;36m__init__\u001B[0;34m(self, raw_url)\u001B[0m\n",
      "File \u001B[0;32m~/Documents/GitHub/LumenaAI/value_object/youtube_link.py:16\u001B[0m, in \u001B[0;36mYouTubeLink.__post_init__\u001B[0;34m(self)\u001B[0m\n\u001B[1;32m     14\u001B[0m \u001B[38;5;28;01mdef\u001B[39;00m \u001B[38;5;21m__post_init__\u001B[39m(\u001B[38;5;28mself\u001B[39m):\n\u001B[1;32m     15\u001B[0m     \u001B[38;5;28;01mif\u001B[39;00m \u001B[38;5;129;01mnot\u001B[39;00m \u001B[38;5;28mself\u001B[39m\u001B[38;5;241m.\u001B[39mis_valid_youtube_link(\u001B[38;5;28mself\u001B[39m\u001B[38;5;241m.\u001B[39mraw_url):\n\u001B[0;32m---> 16\u001B[0m         \u001B[38;5;28;01mraise\u001B[39;00m InvalidYouTubeLinkException(\u001B[38;5;124mf\u001B[39m\u001B[38;5;124m\"\u001B[39m\u001B[38;5;124m유효하지 않은 유튜브 링크입니다: \u001B[39m\u001B[38;5;132;01m{\u001B[39;00m\u001B[38;5;28mself\u001B[39m\u001B[38;5;241m.\u001B[39mraw_url\u001B[38;5;132;01m}\u001B[39;00m\u001B[38;5;124m\"\u001B[39m)\n\u001B[1;32m     17\u001B[0m     \u001B[38;5;28mobject\u001B[39m\u001B[38;5;241m.\u001B[39m\u001B[38;5;21m__setattr__\u001B[39m(\u001B[38;5;28mself\u001B[39m, \u001B[38;5;124m\"\u001B[39m\u001B[38;5;124m_url\u001B[39m\u001B[38;5;124m\"\u001B[39m, \u001B[38;5;28mself\u001B[39m\u001B[38;5;241m.\u001B[39mextract_video_link(\u001B[38;5;28mself\u001B[39m\u001B[38;5;241m.\u001B[39mraw_url))\n",
      "\u001B[0;31mInvalidYouTubeLinkException\u001B[0m: 유효하지 않은 유튜브 링크입니다: https://www.youtube.com/playlist?list=PLO-mt5Iu5TeZF8xMHqtT_DhAPKmjF6i3x"
     ]
    }
   ],
   "source": [
    "b = YouTubeLink('https://www.youtube.com/playlist?list=PLO-mt5Iu5TeZF8xMHqtT_DhAPKmjF6i3x')"
   ],
   "metadata": {
    "collapsed": false
   }
  },
  {
   "cell_type": "code",
   "execution_count": 19,
   "outputs": [],
   "source": [
    "c = YouTubeLink('https://www.youtube.com/watch?v=MmW166cHj54&list=PLO-mt5Iu5TeZF8xMHqtT_DhAPKmjF6i3x&index=1')"
   ],
   "metadata": {
    "collapsed": false
   }
  },
  {
   "cell_type": "code",
   "execution_count": 20,
   "outputs": [
    {
     "name": "stdout",
     "output_type": "stream",
     "text": [
      "https://www.youtube.com/watch?v=MmW166cHj54\n",
      "https://www.youtube.com/watch?v=MmW166cHj54\n",
      "https://www.youtube.com/watch?v=MmW166cHj54\n"
     ]
    }
   ],
   "source": [
    "print(a)\n",
    "print(a.url)\n",
    "print(a.raw_url)"
   ],
   "metadata": {
    "collapsed": false
   }
  },
  {
   "cell_type": "code",
   "execution_count": 21,
   "outputs": [
    {
     "name": "stdout",
     "output_type": "stream",
     "text": [
      "https://www.youtube.com/watch?v=MmW166cHj54\n",
      "https://www.youtube.com/watch?v=MmW166cHj54\n",
      "https://www.youtube.com/watch?v=MmW166cHj54&list=PLO-mt5Iu5TeZF8xMHqtT_DhAPKmjF6i3x&index=1\n"
     ]
    }
   ],
   "source": [
    "print(c)\n",
    "print(c.url)\n",
    "print(c.raw_url)"
   ],
   "metadata": {
    "collapsed": false
   }
  },
  {
   "cell_type": "code",
   "execution_count": 22,
   "outputs": [
    {
     "name": "stdout",
     "output_type": "stream",
     "text": [
      "True\n"
     ]
    }
   ],
   "source": [
    "print(a==c)"
   ],
   "metadata": {
    "collapsed": false
   }
  }
 ],
 "metadata": {
  "kernelspec": {
   "display_name": "Python 3",
   "language": "python",
   "name": "python3"
  },
  "language_info": {
   "codemirror_mode": {
    "name": "ipython",
    "version": 2
   },
   "file_extension": ".py",
   "mimetype": "text/x-python",
   "name": "python",
   "nbconvert_exporter": "python",
   "pygments_lexer": "ipython2",
   "version": "2.7.6"
  }
 },
 "nbformat": 4,
 "nbformat_minor": 0
}
