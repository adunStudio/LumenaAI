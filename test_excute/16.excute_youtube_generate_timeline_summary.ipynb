{
 "cells": [
  {
   "cell_type": "code",
   "metadata": {
    "collapsed": true,
    "ExecuteTime": {
     "end_time": "2025-01-30T12:17:33.936441Z",
     "start_time": "2025-01-30T12:17:33.398432Z"
    }
   },
   "source": [
    "from infrastructure.database.mongo_client import MongoDBClient\n",
    "from infrastructure.repository import YoutubeContentRepository\n",
    "from use_case import YouTubeGenerateTimelineSummary\n",
    "from domain import YoutubeTimelineSummary\n",
    "\n",
    "import os\n",
    "from dotenv import load_dotenv\n",
    "from langchain_openai import ChatOpenAI\n",
    "\n",
    "load_dotenv()\n",
    "OPENAI_API_KEY = os.environ['OPENAI_API_KEY']\n",
    "\n",
    "# MongoDB 클라이언트 초기화\n",
    "client = MongoDBClient(uri=os.environ['MONGO_CONNECTION_STRING'])\n",
    "client.connect()\n",
    "\n",
    "# 저장소 초기화\n",
    "repository = YoutubeContentRepository(client)\n",
    "\n",
    "# LLM\n",
    "openai_llm = ChatOpenAI(model=\"gpt-4o-mini\", api_key=OPENAI_API_KEY)\n",
    "\n",
    "# 유즈-케이스\n",
    "youtube_generate_timeline_summary = YouTubeGenerateTimelineSummary(repository, openai_llm)\n",
    "\n",
    "contents = repository.find_all()\n",
    "\n",
    "count = len(contents)\n",
    "for i, content in enumerate(contents):\n",
    "    print(f'{i + 1}/{count}: {content.channel}: {content.title}: {content.url.url}')\n",
    "\n",
    "    if content.timeline_summary is None:\n",
    "        print(\"타임라인 요약 생성!!\")\n",
    "        youtube_generate_timeline_summary.execute(content.url.url)"
   ],
   "outputs": [
    {
     "ename": "KeyboardInterrupt",
     "evalue": "",
     "output_type": "error",
     "traceback": [
      "\u001B[0;31m---------------------------------------------------------------------------\u001B[0m",
      "\u001B[0;31mKeyboardInterrupt\u001B[0m                         Traceback (most recent call last)",
      "Cell \u001B[0;32mIn[1], line 2\u001B[0m\n\u001B[1;32m      1\u001B[0m \u001B[38;5;28;01mfrom\u001B[39;00m \u001B[38;5;21;01minfrastructure\u001B[39;00m\u001B[38;5;21;01m.\u001B[39;00m\u001B[38;5;21;01mdatabase\u001B[39;00m\u001B[38;5;21;01m.\u001B[39;00m\u001B[38;5;21;01mmongo_client\u001B[39;00m \u001B[38;5;28;01mimport\u001B[39;00m MongoDBClient\n\u001B[0;32m----> 2\u001B[0m \u001B[38;5;28;01mfrom\u001B[39;00m \u001B[38;5;21;01minfrastructure\u001B[39;00m\u001B[38;5;21;01m.\u001B[39;00m\u001B[38;5;21;01mrepository\u001B[39;00m \u001B[38;5;28;01mimport\u001B[39;00m YouTubeContentRepository\n\u001B[1;32m      3\u001B[0m \u001B[38;5;28;01mfrom\u001B[39;00m \u001B[38;5;21;01muse_case\u001B[39;00m \u001B[38;5;28;01mimport\u001B[39;00m YouTubeGenerateTimelineSummary\n\u001B[1;32m      4\u001B[0m \u001B[38;5;28;01mfrom\u001B[39;00m \u001B[38;5;21;01mdomain\u001B[39;00m \u001B[38;5;28;01mimport\u001B[39;00m YoutubeTimelineSummary\n",
      "File \u001B[0;32m~/Documents/GitHub/LumenaAI/infrastructure/repository/__init__.py:1\u001B[0m\n\u001B[0;32m----> 1\u001B[0m \u001B[38;5;28;01mfrom\u001B[39;00m \u001B[38;5;21;01m.\u001B[39;00m\u001B[38;5;21;01myoutube_content_repository\u001B[39;00m \u001B[38;5;28;01mimport\u001B[39;00m YouTubeContentRepository\n",
      "File \u001B[0;32m~/Documents/GitHub/LumenaAI/infrastructure/repository/youtube_content_repository.py:4\u001B[0m\n\u001B[1;32m      1\u001B[0m \u001B[38;5;28;01mfrom\u001B[39;00m \u001B[38;5;21;01mpymongo\u001B[39;00m\u001B[38;5;21;01m.\u001B[39;00m\u001B[38;5;21;01mresults\u001B[39;00m \u001B[38;5;28;01mimport\u001B[39;00m UpdateResult, DeleteResult\n\u001B[1;32m      3\u001B[0m \u001B[38;5;28;01mfrom\u001B[39;00m \u001B[38;5;21;01minfrastructure\u001B[39;00m\u001B[38;5;21;01m.\u001B[39;00m\u001B[38;5;21;01mdatabase\u001B[39;00m\u001B[38;5;21;01m.\u001B[39;00m\u001B[38;5;21;01mmongo_client\u001B[39;00m \u001B[38;5;28;01mimport\u001B[39;00m MongoDBClient\n\u001B[0;32m----> 4\u001B[0m \u001B[38;5;28;01mfrom\u001B[39;00m \u001B[38;5;21;01mdomain\u001B[39;00m\u001B[38;5;21;01m.\u001B[39;00m\u001B[38;5;21;01myoutube_content\u001B[39;00m \u001B[38;5;28;01mimport\u001B[39;00m YouTubeContent\n\u001B[1;32m      5\u001B[0m \u001B[38;5;28;01mfrom\u001B[39;00m \u001B[38;5;21;01mdomain\u001B[39;00m\u001B[38;5;21;01m.\u001B[39;00m\u001B[38;5;21;01myoutube_video_link\u001B[39;00m \u001B[38;5;28;01mimport\u001B[39;00m YouTubeVideoLink\n\u001B[1;32m      8\u001B[0m \u001B[38;5;28;01mclass\u001B[39;00m \u001B[38;5;21;01mYouTubeContentRepository\u001B[39;00m:\n",
      "File \u001B[0;32m~/Documents/GitHub/LumenaAI/domain/__init__.py:8\u001B[0m\n\u001B[1;32m      6\u001B[0m \u001B[38;5;28;01mfrom\u001B[39;00m \u001B[38;5;21;01m.\u001B[39;00m\u001B[38;5;21;01myoutube_timeline_summary\u001B[39;00m \u001B[38;5;28;01mimport\u001B[39;00m YoutubeTimelineSummary\n\u001B[1;32m      7\u001B[0m \u001B[38;5;28;01mfrom\u001B[39;00m \u001B[38;5;21;01m.\u001B[39;00m\u001B[38;5;21;01myoutube_timeline_section\u001B[39;00m \u001B[38;5;28;01mimport\u001B[39;00m YoutubeTimelineSection\n\u001B[0;32m----> 8\u001B[0m \u001B[38;5;28;01mfrom\u001B[39;00m \u001B[38;5;21;01m.\u001B[39;00m\u001B[38;5;21;01mchat_message\u001B[39;00m \u001B[38;5;28;01mimport\u001B[39;00m AdvancedAIMessage, AdvancedHumanMessage\n\u001B[1;32m      9\u001B[0m \u001B[38;5;28;01mfrom\u001B[39;00m \u001B[38;5;21;01m.\u001B[39;00m\u001B[38;5;21;01mchat_session\u001B[39;00m \u001B[38;5;28;01mimport\u001B[39;00m ChatSession, AdvancedMessageType\n",
      "File \u001B[0;32m~/Documents/GitHub/LumenaAI/domain/chat_message.py:1\u001B[0m\n\u001B[0;32m----> 1\u001B[0m \u001B[38;5;28;01mfrom\u001B[39;00m \u001B[38;5;21;01mlangchain_core\u001B[39;00m\u001B[38;5;21;01m.\u001B[39;00m\u001B[38;5;21;01mmessages\u001B[39;00m \u001B[38;5;28;01mimport\u001B[39;00m AIMessage, HumanMessage\n\u001B[1;32m      2\u001B[0m \u001B[38;5;28;01mimport\u001B[39;00m \u001B[38;5;21;01mtiktoken\u001B[39;00m\n\u001B[1;32m      3\u001B[0m \u001B[38;5;28;01mfrom\u001B[39;00m \u001B[38;5;21;01mtyping\u001B[39;00m \u001B[38;5;28;01mimport\u001B[39;00m Dict, Any\n",
      "File \u001B[0;32m/opt/anaconda3/envs/LumenaAI/lib/python3.10/site-packages/langchain_core/__init__.py:19\u001B[0m\n\u001B[1;32m     13\u001B[0m \u001B[38;5;28;01mfrom\u001B[39;00m \u001B[38;5;21;01mlangchain_core\u001B[39;00m\u001B[38;5;21;01m.\u001B[39;00m\u001B[38;5;21;01m_api\u001B[39;00m \u001B[38;5;28;01mimport\u001B[39;00m (\n\u001B[1;32m     14\u001B[0m     surface_langchain_beta_warnings,\n\u001B[1;32m     15\u001B[0m     surface_langchain_deprecation_warnings,\n\u001B[1;32m     16\u001B[0m )\n\u001B[1;32m     18\u001B[0m \u001B[38;5;28;01mtry\u001B[39;00m:\n\u001B[0;32m---> 19\u001B[0m     __version__ \u001B[38;5;241m=\u001B[39m \u001B[43mmetadata\u001B[49m\u001B[38;5;241;43m.\u001B[39;49m\u001B[43mversion\u001B[49m\u001B[43m(\u001B[49m\u001B[43m__package__\u001B[49m\u001B[43m)\u001B[49m\n\u001B[1;32m     20\u001B[0m \u001B[38;5;28;01mexcept\u001B[39;00m metadata\u001B[38;5;241m.\u001B[39mPackageNotFoundError:\n\u001B[1;32m     21\u001B[0m     \u001B[38;5;66;03m# Case where package metadata is not available.\u001B[39;00m\n\u001B[1;32m     22\u001B[0m     __version__ \u001B[38;5;241m=\u001B[39m \u001B[38;5;124m\"\u001B[39m\u001B[38;5;124m\"\u001B[39m\n",
      "File \u001B[0;32m/opt/anaconda3/envs/LumenaAI/lib/python3.10/importlib/metadata/__init__.py:996\u001B[0m, in \u001B[0;36mversion\u001B[0;34m(distribution_name)\u001B[0m\n\u001B[1;32m    989\u001B[0m \u001B[38;5;28;01mdef\u001B[39;00m \u001B[38;5;21mversion\u001B[39m(distribution_name):\n\u001B[1;32m    990\u001B[0m \u001B[38;5;250m    \u001B[39m\u001B[38;5;124;03m\"\"\"Get the version string for the named package.\u001B[39;00m\n\u001B[1;32m    991\u001B[0m \n\u001B[1;32m    992\u001B[0m \u001B[38;5;124;03m    :param distribution_name: The name of the distribution package to query.\u001B[39;00m\n\u001B[1;32m    993\u001B[0m \u001B[38;5;124;03m    :return: The version string for the package as defined in the package's\u001B[39;00m\n\u001B[1;32m    994\u001B[0m \u001B[38;5;124;03m        \"Version\" metadata key.\u001B[39;00m\n\u001B[1;32m    995\u001B[0m \u001B[38;5;124;03m    \"\"\"\u001B[39;00m\n\u001B[0;32m--> 996\u001B[0m     \u001B[38;5;28;01mreturn\u001B[39;00m \u001B[43mdistribution\u001B[49m\u001B[43m(\u001B[49m\u001B[43mdistribution_name\u001B[49m\u001B[43m)\u001B[49m\u001B[38;5;241;43m.\u001B[39;49m\u001B[43mversion\u001B[49m\n",
      "File \u001B[0;32m/opt/anaconda3/envs/LumenaAI/lib/python3.10/importlib/metadata/__init__.py:627\u001B[0m, in \u001B[0;36mDistribution.version\u001B[0;34m(self)\u001B[0m\n\u001B[1;32m    624\u001B[0m \u001B[38;5;129m@property\u001B[39m\n\u001B[1;32m    625\u001B[0m \u001B[38;5;28;01mdef\u001B[39;00m \u001B[38;5;21mversion\u001B[39m(\u001B[38;5;28mself\u001B[39m):\n\u001B[1;32m    626\u001B[0m \u001B[38;5;250m    \u001B[39m\u001B[38;5;124;03m\"\"\"Return the 'Version' metadata for the distribution package.\"\"\"\u001B[39;00m\n\u001B[0;32m--> 627\u001B[0m     \u001B[38;5;28;01mreturn\u001B[39;00m \u001B[38;5;28;43mself\u001B[39;49m\u001B[38;5;241;43m.\u001B[39;49m\u001B[43mmetadata\u001B[49m[\u001B[38;5;124m'\u001B[39m\u001B[38;5;124mVersion\u001B[39m\u001B[38;5;124m'\u001B[39m]\n",
      "File \u001B[0;32m/opt/anaconda3/envs/LumenaAI/lib/python3.10/importlib/metadata/__init__.py:605\u001B[0m, in \u001B[0;36mDistribution.metadata\u001B[0;34m(self)\u001B[0m\n\u001B[1;32m    597\u001B[0m \u001B[38;5;129m@property\u001B[39m\n\u001B[1;32m    598\u001B[0m \u001B[38;5;28;01mdef\u001B[39;00m \u001B[38;5;21mmetadata\u001B[39m(\u001B[38;5;28mself\u001B[39m) \u001B[38;5;241m-\u001B[39m\u001B[38;5;241m>\u001B[39m _meta\u001B[38;5;241m.\u001B[39mPackageMetadata:\n\u001B[1;32m    599\u001B[0m \u001B[38;5;250m    \u001B[39m\u001B[38;5;124;03m\"\"\"Return the parsed metadata for this Distribution.\u001B[39;00m\n\u001B[1;32m    600\u001B[0m \n\u001B[1;32m    601\u001B[0m \u001B[38;5;124;03m    The returned object will have keys that name the various bits of\u001B[39;00m\n\u001B[1;32m    602\u001B[0m \u001B[38;5;124;03m    metadata.  See PEP 566 for details.\u001B[39;00m\n\u001B[1;32m    603\u001B[0m \u001B[38;5;124;03m    \"\"\"\u001B[39;00m\n\u001B[1;32m    604\u001B[0m     text \u001B[38;5;241m=\u001B[39m (\n\u001B[0;32m--> 605\u001B[0m         \u001B[38;5;28;43mself\u001B[39;49m\u001B[38;5;241;43m.\u001B[39;49m\u001B[43mread_text\u001B[49m\u001B[43m(\u001B[49m\u001B[38;5;124;43m'\u001B[39;49m\u001B[38;5;124;43mMETADATA\u001B[39;49m\u001B[38;5;124;43m'\u001B[39;49m\u001B[43m)\u001B[49m\n\u001B[1;32m    606\u001B[0m         \u001B[38;5;129;01mor\u001B[39;00m \u001B[38;5;28mself\u001B[39m\u001B[38;5;241m.\u001B[39mread_text(\u001B[38;5;124m'\u001B[39m\u001B[38;5;124mPKG-INFO\u001B[39m\u001B[38;5;124m'\u001B[39m)\n\u001B[1;32m    607\u001B[0m         \u001B[38;5;66;03m# This last clause is here to support old egg-info files.  Its\u001B[39;00m\n\u001B[1;32m    608\u001B[0m         \u001B[38;5;66;03m# effect is to just end up using the PathDistribution's self._path\u001B[39;00m\n\u001B[1;32m    609\u001B[0m         \u001B[38;5;66;03m# (which points to the egg-info file) attribute unchanged.\u001B[39;00m\n\u001B[1;32m    610\u001B[0m         \u001B[38;5;129;01mor\u001B[39;00m \u001B[38;5;28mself\u001B[39m\u001B[38;5;241m.\u001B[39mread_text(\u001B[38;5;124m'\u001B[39m\u001B[38;5;124m'\u001B[39m)\n\u001B[1;32m    611\u001B[0m     )\n\u001B[1;32m    612\u001B[0m     \u001B[38;5;28;01mreturn\u001B[39;00m _adapters\u001B[38;5;241m.\u001B[39mMessage(email\u001B[38;5;241m.\u001B[39mmessage_from_string(text))\n",
      "File \u001B[0;32m/opt/anaconda3/envs/LumenaAI/lib/python3.10/importlib/metadata/__init__.py:927\u001B[0m, in \u001B[0;36mPathDistribution.read_text\u001B[0;34m(self, filename)\u001B[0m\n\u001B[1;32m    919\u001B[0m \u001B[38;5;28;01mdef\u001B[39;00m \u001B[38;5;21mread_text\u001B[39m(\u001B[38;5;28mself\u001B[39m, filename):\n\u001B[1;32m    920\u001B[0m     \u001B[38;5;28;01mwith\u001B[39;00m suppress(\n\u001B[1;32m    921\u001B[0m         \u001B[38;5;167;01mFileNotFoundError\u001B[39;00m,\n\u001B[1;32m    922\u001B[0m         \u001B[38;5;167;01mIsADirectoryError\u001B[39;00m,\n\u001B[0;32m   (...)\u001B[0m\n\u001B[1;32m    925\u001B[0m         \u001B[38;5;167;01mPermissionError\u001B[39;00m,\n\u001B[1;32m    926\u001B[0m     ):\n\u001B[0;32m--> 927\u001B[0m         \u001B[38;5;28;01mreturn\u001B[39;00m \u001B[38;5;28;43mself\u001B[39;49m\u001B[38;5;241;43m.\u001B[39;49m\u001B[43m_path\u001B[49m\u001B[38;5;241;43m.\u001B[39;49m\u001B[43mjoinpath\u001B[49m\u001B[43m(\u001B[49m\u001B[43mfilename\u001B[49m\u001B[43m)\u001B[49m\u001B[38;5;241;43m.\u001B[39;49m\u001B[43mread_text\u001B[49m\u001B[43m(\u001B[49m\u001B[43mencoding\u001B[49m\u001B[38;5;241;43m=\u001B[39;49m\u001B[38;5;124;43m'\u001B[39;49m\u001B[38;5;124;43mutf-8\u001B[39;49m\u001B[38;5;124;43m'\u001B[39;49m\u001B[43m)\u001B[49m\n",
      "File \u001B[0;32m/opt/anaconda3/envs/LumenaAI/lib/python3.10/pathlib.py:1135\u001B[0m, in \u001B[0;36mPath.read_text\u001B[0;34m(self, encoding, errors)\u001B[0m\n\u001B[1;32m   1133\u001B[0m encoding \u001B[38;5;241m=\u001B[39m io\u001B[38;5;241m.\u001B[39mtext_encoding(encoding)\n\u001B[1;32m   1134\u001B[0m \u001B[38;5;28;01mwith\u001B[39;00m \u001B[38;5;28mself\u001B[39m\u001B[38;5;241m.\u001B[39mopen(mode\u001B[38;5;241m=\u001B[39m\u001B[38;5;124m'\u001B[39m\u001B[38;5;124mr\u001B[39m\u001B[38;5;124m'\u001B[39m, encoding\u001B[38;5;241m=\u001B[39mencoding, errors\u001B[38;5;241m=\u001B[39merrors) \u001B[38;5;28;01mas\u001B[39;00m f:\n\u001B[0;32m-> 1135\u001B[0m     \u001B[38;5;28;01mreturn\u001B[39;00m \u001B[43mf\u001B[49m\u001B[38;5;241;43m.\u001B[39;49m\u001B[43mread\u001B[49m\u001B[43m(\u001B[49m\u001B[43m)\u001B[49m\n",
      "File \u001B[0;32m/opt/anaconda3/envs/LumenaAI/lib/python3.10/codecs.py:319\u001B[0m, in \u001B[0;36mBufferedIncrementalDecoder.decode\u001B[0;34m(self, input, final)\u001B[0m\n\u001B[1;32m    314\u001B[0m \u001B[38;5;28;01mdef\u001B[39;00m \u001B[38;5;21m_buffer_decode\u001B[39m(\u001B[38;5;28mself\u001B[39m, \u001B[38;5;28minput\u001B[39m, errors, final):\n\u001B[1;32m    315\u001B[0m     \u001B[38;5;66;03m# Overwrite this method in subclasses: It must decode input\u001B[39;00m\n\u001B[1;32m    316\u001B[0m     \u001B[38;5;66;03m# and return an (output, length consumed) tuple\u001B[39;00m\n\u001B[1;32m    317\u001B[0m     \u001B[38;5;28;01mraise\u001B[39;00m \u001B[38;5;167;01mNotImplementedError\u001B[39;00m\n\u001B[0;32m--> 319\u001B[0m \u001B[38;5;28;01mdef\u001B[39;00m \u001B[38;5;21mdecode\u001B[39m(\u001B[38;5;28mself\u001B[39m, \u001B[38;5;28minput\u001B[39m, final\u001B[38;5;241m=\u001B[39m\u001B[38;5;28;01mFalse\u001B[39;00m):\n\u001B[1;32m    320\u001B[0m     \u001B[38;5;66;03m# decode input (taking the buffer into account)\u001B[39;00m\n\u001B[1;32m    321\u001B[0m     data \u001B[38;5;241m=\u001B[39m \u001B[38;5;28mself\u001B[39m\u001B[38;5;241m.\u001B[39mbuffer \u001B[38;5;241m+\u001B[39m \u001B[38;5;28minput\u001B[39m\n\u001B[1;32m    322\u001B[0m     (result, consumed) \u001B[38;5;241m=\u001B[39m \u001B[38;5;28mself\u001B[39m\u001B[38;5;241m.\u001B[39m_buffer_decode(data, \u001B[38;5;28mself\u001B[39m\u001B[38;5;241m.\u001B[39merrors, final)\n",
      "\u001B[0;31mKeyboardInterrupt\u001B[0m: "
     ]
    }
   ],
   "execution_count": 1
  }
 ],
 "metadata": {
  "kernelspec": {
   "display_name": "Python 3",
   "language": "python",
   "name": "python3"
  },
  "language_info": {
   "codemirror_mode": {
    "name": "ipython",
    "version": 2
   },
   "file_extension": ".py",
   "mimetype": "text/x-python",
   "name": "python",
   "nbconvert_exporter": "python",
   "pygments_lexer": "ipython2",
   "version": "2.7.6"
  }
 },
 "nbformat": 4,
 "nbformat_minor": 0
}
