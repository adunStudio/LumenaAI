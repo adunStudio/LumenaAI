{
 "cells": [
  {
   "metadata": {
    "ExecuteTime": {
     "end_time": "2025-01-25T19:01:58.580258Z",
     "start_time": "2025-01-25T18:24:05.171061Z"
    }
   },
   "cell_type": "code",
   "source": [
    "import warnings\n",
    "warnings.filterwarnings(\"ignore\")"
   ],
   "outputs": [],
   "execution_count": 1
  },
  {
   "cell_type": "code",
   "metadata": {
    "collapsed": true,
    "ExecuteTime": {
     "end_time": "2025-01-25T18:24:15.765091Z",
     "start_time": "2025-01-25T18:24:05.188191Z"
    }
   },
   "source": [
    "from infrastructure.database.mongo_client import MongoDBClient\n",
    "from infrastructure.repository import YouTubeContentRepository\n",
    "from application.strategy.stt_strategy_factory import STTStrategyType, STTStrategyFactory\n",
    "from application.use_case import YouTubeContentSTTScriptUpdate\n",
    "\n",
    "import os\n",
    "from dotenv import load_dotenv\n",
    "\n",
    "load_dotenv()\n",
    "\n",
    "# MongoDB 클라이언트 초기화\n",
    "client = MongoDBClient(uri=os.environ['MONGO_CONNECTION_STRING'])\n",
    "client.connect()\n",
    "\n",
    "# 저장소 초기화\n",
    "repository = YouTubeContentRepository(client)\n",
    "\n",
    "# STT 초기화\n",
    "stt_strategy = STTStrategyFactory.create(STTStrategyType.LOCAL_WHISPER)\n",
    "\n",
    "# 스크립트 업데이터 초기화\n",
    "stt_updater = YouTubeContentSTTScriptUpdate(repository, stt_strategy)"
   ],
   "outputs": [
    {
     "name": "stderr",
     "output_type": "stream",
     "text": [
      "INFO:speechbrain.utils.quirks:Applied quirks (see `speechbrain.utils.quirks`): [disable_jit_profiling, allow_tf32]\n",
      "INFO:speechbrain.utils.quirks:Excluded quirks specified by the `SB_DISABLE_QUIRKS` environment (comma-separated list): []\n"
     ]
    },
    {
     "name": "stdout",
     "output_type": "stream",
     "text": [
      "Connected to MongoDB\n"
     ]
    },
    {
     "name": "stderr",
     "output_type": "stream",
     "text": [
      "Device set to use mps\n"
     ]
    }
   ],
   "execution_count": 2
  },
  {
   "cell_type": "code",
   "source": [
    "contents = repository.find_without_script()\n",
    "\n",
    "for content in contents:\n",
    "    stt_updater.execute(content, '../downloads')"
   ],
   "metadata": {
    "collapsed": false,
    "jupyter": {
     "is_executing": true
    },
    "ExecuteTime": {
     "start_time": "2025-01-25T18:24:15.842282Z"
    }
   },
   "outputs": [
    {
     "name": "stdout",
     "output_type": "stream",
     "text": [
      "STT 시도: 뱀서라이크/오브젝트 풀링🏊으로 소환하기 [유니티 뱀서라이크 06]\n"
     ]
    },
    {
     "name": "stderr",
     "output_type": "stream",
     "text": [
      "Due to a bug fix in https://github.com/huggingface/transformers/pull/28687 transcription using a multilingual Whisper will default to language detection followed by transcription instead of translation to English.This might be a breaking change for your use case. If you want to instead always translate your audio to English, make sure to pass `language='en'`.\n",
      "Passing a tuple of `past_key_values` is deprecated and will be removed in Transformers v4.43.0. You should pass an instance of `EncoderDecoderCache` instead, e.g. `past_key_values=EncoderDecoderCache.from_legacy_cache(past_key_values)`.\n"
     ]
    },
    {
     "name": "stdout",
     "output_type": "stream",
     "text": [
      "스크립트 저장 성공(오브젝트 풀링🏊으로 소환하기 [유니티 뱀서라이크 06]) 수행 시간: 554.1003초\n",
      "STT 시도: 뱀서라이크/소환 레벨⏳적용하기 [유니티 뱀서라이크 06+]\n",
      "스크립트 저장 성공(소환 레벨⏳적용하기 [유니티 뱀서라이크 06+]) 수행 시간: 318.5633초\n",
      "STT 시도: 뱀서라이크/회전하는🪓근접무기 구현 [유니티 뱀서라이크 07]\n",
      "스크립트 저장 성공(회전하는🪓근접무기 구현 [유니티 뱀서라이크 07]) 수행 시간: 531.8939초\n",
      "STT 시도: 뱀서라이크/자동🎯원거리 공격 구현 [유니티 뱀서라이크 08]\n",
      "스크립트 저장 성공(자동🎯원거리 공격 구현 [유니티 뱀서라이크 08]) 수행 시간: 541.4434초\n",
      "STT 시도: 뱀서라이크/타격감🌟있는 몬스터 처치 만들기 [유니티 뱀서라이크 09]\n"
     ]
    }
   ],
   "execution_count": null
  }
 ],
 "metadata": {
  "kernelspec": {
   "display_name": "Python 3",
   "language": "python",
   "name": "python3"
  },
  "language_info": {
   "codemirror_mode": {
    "name": "ipython",
    "version": 2
   },
   "file_extension": ".py",
   "mimetype": "text/x-python",
   "name": "python",
   "nbconvert_exporter": "python",
   "pygments_lexer": "ipython2",
   "version": "2.7.6"
  }
 },
 "nbformat": 4,
 "nbformat_minor": 0
}
