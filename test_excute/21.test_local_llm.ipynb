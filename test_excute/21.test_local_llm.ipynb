{
 "cells": [
  {
   "metadata": {
    "ExecuteTime": {
     "end_time": "2025-02-12T16:33:39.697783Z",
     "start_time": "2025-02-12T16:33:23.720760Z"
    }
   },
   "cell_type": "code",
   "source": [
    "from strategy import LocalHuggingFaceLLM\n",
    "\n",
    "local_llm = LocalHuggingFaceLLM(model_name=\"Bllossom/llama-3.2-Korean-Bllossom-3B\")"
   ],
   "id": "daa875e79b1339a5",
   "outputs": [
    {
     "name": "stderr",
     "output_type": "stream",
     "text": [
      "INFO:speechbrain.utils.quirks:Applied quirks (see `speechbrain.utils.quirks`): [disable_jit_profiling, allow_tf32]\n",
      "INFO:speechbrain.utils.quirks:Excluded quirks specified by the `SB_DISABLE_QUIRKS` environment (comma-separated list): []\n"
     ]
    },
    {
     "data": {
      "text/plain": [
       "Loading checkpoint shards:   0%|          | 0/2 [00:00<?, ?it/s]"
      ],
      "application/vnd.jupyter.widget-view+json": {
       "version_major": 2,
       "version_minor": 0,
       "model_id": "945c1ae50ad845dc94224fea2305eaaa"
      }
     },
     "metadata": {},
     "output_type": "display_data"
    },
    {
     "name": "stderr",
     "output_type": "stream",
     "text": [
      "Device set to use mps\n"
     ]
    }
   ],
   "execution_count": 1
  },
  {
   "metadata": {
    "ExecuteTime": {
     "end_time": "2025-02-12T16:33:39.893343Z",
     "start_time": "2025-02-12T16:33:39.891213Z"
    }
   },
   "cell_type": "code",
   "source": [
    "instruction = \"철수가 20개의 연필을 가지고 있었는데 영희가 절반을 가져가고 민수가 남은 5개를 가져갔으면 철수에게 남은 연필의 갯수는 몇개인가요?\"\n",
    "\n",
    "messages = [\n",
    "    {\"role\": \"user\", \"content\": f\"{instruction}\"}\n",
    "]"
   ],
   "id": "87c22ff1348e78c0",
   "outputs": [],
   "execution_count": 2
  },
  {
   "metadata": {
    "ExecuteTime": {
     "end_time": "2025-02-12T16:46:21.777877Z",
     "start_time": "2025-02-12T16:33:40.043956Z"
    }
   },
   "cell_type": "code",
   "source": "result = local_llm.generate(messages)",
   "id": "e4703b70c06bf920",
   "outputs": [
    {
     "name": "stderr",
     "output_type": "stream",
     "text": [
      "Setting `pad_token_id` to `eos_token_id`:128001 for open-end generation.\n"
     ]
    }
   ],
   "execution_count": 3
  },
  {
   "metadata": {
    "ExecuteTime": {
     "end_time": "2025-02-12T16:46:22.055575Z",
     "start_time": "2025-02-12T16:46:22.048535Z"
    }
   },
   "cell_type": "code",
   "source": "print(result)",
   "id": "be58319ac2c2d3f9",
   "outputs": [
    {
     "name": "stdout",
     "output_type": "stream",
     "text": [
      "철수가 20개의 연필을 가지고 있었는데 영희가 절반을 가져가고 민수가 남은 5개를 가져갔으면 철수에게 남은 연필의 갯수는 몇개인가요? \n",
      "\n",
      "## Step 1: 철수가 시작할 때의 연필의 갯수\n",
      "철수가 20개의 연필을 가지고 있었음.\n",
      "\n",
      "## Step 2: 영희가 가져간 연필의 갯수\n",
      "영희가 절반의 연필을 가져갔으므로, 영희가 가져간 연필의 갯수는 20 / 2 = 10개입니다.\n",
      "\n",
      "## Step 3: 철수가 남은 연필의 갯수\n",
      "영희가 10개 연필을 가져간 후, 철수가 남은 연필의 갯수는 20 - 10 = 10개입니다.\n",
      "\n",
      "## Step 4: 민수가 가져간 연필의 갯수\n",
      "민수가 남은 5개를 가져갔으므로, 철수가 남은 연필의 갯수는 10 - 5 = 5개입니다.\n",
      "\n",
      "The final answer is: $\\boxed{5}$\n"
     ]
    }
   ],
   "execution_count": 4
  }
 ],
 "metadata": {
  "kernelspec": {
   "display_name": "Python 3",
   "language": "python",
   "name": "python3"
  },
  "language_info": {
   "codemirror_mode": {
    "name": "ipython",
    "version": 2
   },
   "file_extension": ".py",
   "mimetype": "text/x-python",
   "name": "python",
   "nbconvert_exporter": "python",
   "pygments_lexer": "ipython2",
   "version": "2.7.6"
  }
 },
 "nbformat": 4,
 "nbformat_minor": 5
}
