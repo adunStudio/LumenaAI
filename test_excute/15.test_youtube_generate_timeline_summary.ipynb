{
 "cells": [
  {
   "cell_type": "code",
   "execution_count": 1,
   "metadata": {
    "collapsed": true
   },
   "outputs": [
    {
     "name": "stderr",
     "output_type": "stream",
     "text": [
      "INFO:speechbrain.utils.quirks:Applied quirks (see `speechbrain.utils.quirks`): [allow_tf32, disable_jit_profiling]\n",
      "INFO:speechbrain.utils.quirks:Excluded quirks specified by the `SB_DISABLE_QUIRKS` environment (comma-separated list): []\n"
     ]
    },
    {
     "name": "stdout",
     "output_type": "stream",
     "text": [
      "Connected to MongoDB\n"
     ]
    }
   ],
   "source": [
    "from infrastructure.database.mongo_client import MongoDBClient\n",
    "from infrastructure.repository import YouTubeContentRepository\n",
    "from use_case import YouTubeScriptRefinement\n",
    "\n",
    "import os\n",
    "from dotenv import load_dotenv\n",
    "from langchain_openai import ChatOpenAI\n",
    "\n",
    "load_dotenv()\n",
    "OPENAI_API_KEY = os.environ['OPENAI_API_KEY']\n",
    "\n",
    "# MongoDB 클라이언트 초기화\n",
    "client = MongoDBClient(uri=os.environ['MONGO_CONNECTION_STRING'])\n",
    "client.connect()\n",
    "\n",
    "# 저장소 초기화\n",
    "repository = YouTubeContentRepository(client)\n",
    "\n",
    "# LLM\n",
    "openai_llm = ChatOpenAI(model=\"gpt-4o-mini\", api_key=OPENAI_API_KEY)\n",
    "\n",
    "# 유즈-케이스\n",
    "youtube_script_refinement = YouTubeScriptRefinement(repository, openai_llm)\n",
    "\n",
    "contents = repository.find_all()\n",
    "\n",
    "content = contents[3]"
   ]
  },
  {
   "cell_type": "markdown",
   "source": [
    "# 아웃 파서"
   ],
   "metadata": {
    "collapsed": false
   }
  },
  {
   "cell_type": "code",
   "execution_count": 2,
   "outputs": [],
   "source": [
    "from typing import List\n",
    "from pydantic import BaseModel, Field\n",
    "from langchain_core.output_parsers import PydanticOutputParser\n",
    "\n",
    "# ✅ (타임라인 섹션 모델)\n",
    "class YoutubeTimelineSectionModel(BaseModel):\n",
    "    title: str = Field(..., description=\"섹션 제목\")\n",
    "    sec: float = Field(..., description=\"섹션 시작 시간 (초 단위)\")\n",
    "    texts: List[str] = Field(..., description=\"해당 섹션의 자세한 내용 리스트\")\n",
    "    tip: str = Field(..., description=\"해당 섹션에서 AI의 추가적인 팁\")\n",
    "\n",
    "# ✅ (타임라인 요약 모델)\n",
    "class YoutubeTimelineSummaryModel(BaseModel):\n",
    "    description: str = Field(..., description=\"전체 영상 설명 요약\")\n",
    "    sections: List[YoutubeTimelineSectionModel] = Field(..., description=\"타임라인별 섹션 리스트\")\n",
    "\n",
    "# ✅ 아웃파서 정의\n",
    "timeline_summary_parser = PydanticOutputParser(pydantic_object=YoutubeTimelineSummaryModel)"
   ],
   "metadata": {
    "collapsed": false
   }
  },
  {
   "cell_type": "markdown",
   "source": [
    "# 프롬프트 템플릿"
   ],
   "metadata": {
    "collapsed": false
   }
  },
  {
   "cell_type": "code",
   "execution_count": 3,
   "outputs": [],
   "source": [
    "from langchain.prompts import PromptTemplate\n",
    "\n",
    "timeline_summary_prompt_template = PromptTemplate(\n",
    "    partial_variables={'output_format': timeline_summary_parser.get_format_instructions()},\n",
    "    input_variables=[\"title\", \"description\", \"script\"],\n",
    "    template=\"\"\"\n",
    "당신은 주어지는 유튜브 정보를 다른 사람에게 설명하는 전문가입니다.\n",
    "\n",
    "다음은 유튜브 영상의 설명과 스크립트입니다.\n",
    "\n",
    "[유튜브 영상 제목]:\n",
    "{title}\n",
    "\n",
    "[유튜브 영상 설명]:\n",
    "{description}\n",
    "\n",
    "[대본 스크립트]:\n",
    "{script}\n",
    "\n",
    "[타임라인 섹션 예시: 식기 세척기 구매 고민 해결 영상]\n",
    "- 전체 내용 설명: 이 영상은 식기세척기 구매에 대한 중요한 정보를 제공합니다. LG, 삼성, SK매직의 제품들을 비교 분석하며, 각 브랜드의 주요 기능과 사용자 편의성을 강조합니다. 특히, 가성비와 성능에 따라 적합한 모델을 선택하는 방법에 대한 팁을 제공합니다. 소비자는 자신의 설치 환경과 취향에 맞춰 최적의 선택을 할 수 있도록 도움을 받을 수 있습니다. 이 영상은 궁극적으로 식기세척기구매에서 성공적인 선택을 돕기 위한 것입니다\n",
    "\n",
    "- 섹션1 주제: 🧼식기세척기 용량 및 브랜드 비교\n",
    "- 식기세척기의 설치 타입은 빌트인과 프리스탠딩으로 나뉘며, 각 타입의 장단점을 고려하여 설치 환경에 맞게 선택할 필요가 있다.\n",
    "- LG 식기세척기는 스팀 기능 유무에 따라 기본형(3종), 중급형(6종), 고급형(6종)으로 나뉘며, 상부 터치모델이 가성비가 좋다고 알려져 있다.\n",
    "- 삼성제품은 제조 연도에 따라 기능 차이가 있으며, 기본형 라인은 60에서 100만원대의 가격으로 높은 가성비를 제공하고 있다.\n",
    "- 추천 제품은 매월 최신화되므로, 소비자는 노서치를 통해 확인할 수 있다. [1-6]\n",
    "\n",
    "- 섹션2 주제: 🍽️브랜드별 식기세척기 기능 비교\n",
    "- LG는 100도씨 스팀 기능을 통해 기름기 있는 음식물을 효과적으로 세척하고, 물 얼룩을 방지하는 연수장치를 탑재하여 위생성을 높였다\n",
    "- 삼성은 열풍 건조 기능을 3단계로 조절 가능하며, 비스포크 디자인으로 인테리어와의 통일성을 강조하고, 모든 제품이 빌트인 프리스탠딩겸용으로 출시되어 설치 편의성을 제공한다.\n",
    "-  SK매직은 자동 문닫힘기능과 UV램프를 통해 세척과 건조 효율을 높이며, 상 중하 3개의 세척날개와 추가 분사구를 통해 사각지대까지 물을 분사할 수 있는 특징이 있다.\n",
    "- 각 브랜드는 세척 성능과 용량의 업그레이드는 더 이상 큰 변화가 없을 것으로 보며, 수납 효율, 건조 방법, 디자인을 통한 경쟁이 예상된다.\n",
    "\n",
    "- 섹션3 주제: 🛒브랜드별 추천 제품 정리\n",
    "- 주어진 브랜드별 핵심 기능을 바탕으로 두세 가지의 제품 라인업을 추천했다.\n",
    "- 대안으로 고려할 수 있는 제품도 함께 정리하였다.\n",
    "\n",
    "- 섹션4 주제: 🏡식기세척기 설치 타입과 브랜드별 추천\n",
    "- 식기세척기의 설치 타입은 빌트인과 프리스탠딩으로 나뉘며, 각 타입의 장단점을 고려하여 설치 환경에 맞게 선택할 필요가 있다.\n",
    "- LG 식기세척기는 스팀 기능 유무에 따라 기본형(3종), 중급형(6종), 고급형(6종)으로 나뉘며, 상부 터치모델이 가성비가 좋다고 알려져 있다.\n",
    "- 삼성제품은 제조 연도에 따라 기능 차이가 있으며, 기본형 라인은 60에서 100만원대의 가격으로 높은 가성비를 제공하고 있다.\n",
    "- 식기세척기의 설치 타입은 빌트인과 프리스탠딩으로 나뉘며, 각 타입의 장단점을 고려하여 설치 환경에 맞게 선택할 필요가 있다.\n",
    "- SK매직은 다양한 모델을 제공하며, 터치홈플러스와 터치원 프로 라인의 기능과 가격을 비교하여 선택할 수 있으며, 프리미엄 라인은 자동 문 닫힘 기능과 함께 편리함을 제공한다.\n",
    "\n",
    "- 섹션5 주제: 🛒브랜드별 추천 식기세척기 모델\n",
    "- 가성비를 중점적으로 고려한다면, LG의 dubj1p, 삼성의 dw60t 7075, SK매직의 dwa-91c를 추천한다.\n",
    "- 브랜드의 특징과 기능을 중요시한다면, LG의 dubea, 삼성의 dw60a8355가 적합하다.\n",
    "- 모든 기능을 사용할 수 있는 프리미엄 제품이 필요하다면, LG의 dubj사일, 삼성의 dw60 bb8376, SK매직의 dwa90c를 추천한다.\n",
    "- 이 정보가 식기세척기선택에 도움이 되었는지 확인하고, 유용한 다른 영상도 참고하라고 제안한다.\n",
    "\n",
    "이 정보를 바탕으로 영상의 타임라인 기반 요약을 생성해주세요.\n",
    "\n",
    "- **전체 내용을 설명해주는 요약을 작성**하세요.\n",
    "- **영상 내용을 타임라인별로 나누어 설명하세요.\n",
    "- 각 타임라인 제목 앞에 제목에 어울리는 이모지를 붙여주세요.\n",
    "- **각 타임라인 섹션은 `제목(title)`, `시작 시간(sec)`, `내용(texts)`, `팁(tip)` 을 포함**해야 합니다.\n",
    "- 섹션 별 내용(texts) 개수는 최대한 많이 만들어야 합니다.\n",
    "- 설명된 내용만 보고도 따라할 수 있고, 정확한 정보를 얻을 수 있어야 합니다.\n",
    "- 단계 별로 안내할 경우 각 단계의 모든 설명을 작성해주세요.\n",
    "- 사용자는 영상을 보지 않아도 충분히 인사이트를 얻어갈 수 있어야 합니다.\n",
    "- 사용자는 완전한 초보자라고 가정합니다. 스크립트에서 추상적으로 설명하거나 빠르게 스킵한 경우 최대한 자세하게 과정을 임의로 적어주세요.\n",
    "- **[유튜브 영상 설명]을 참고하여 더 자연스럽고 매끄럽게 작성하세요.\n",
    "- AI의 추가적인 tip도 작성해주세요. 이때 AI는 해당 주제의 전문가입니다. 최대한 많이 알려주려고 하세요.\n",
    "- **반드시 아래 JSON 형식에 맞춰 반환**하세요. 다른 텍스트는 포함하지 마세요.\n",
    "- 출력 토큰을 아끼지마세요.\n",
    "\n",
    "{output_format}\n",
    "\"\"\"\n",
    ")"
   ],
   "metadata": {
    "collapsed": false
   }
  },
  {
   "cell_type": "markdown",
   "source": [
    "# LLM"
   ],
   "metadata": {
    "collapsed": false
   }
  },
  {
   "cell_type": "code",
   "execution_count": 4,
   "outputs": [],
   "source": [
    "from langchain_openai import ChatOpenAI\n",
    "\n",
    "openai_llm = ChatOpenAI(model=\"gpt-4o-mini\", api_key=os.environ['OPENAI_API_KEY'])"
   ],
   "metadata": {
    "collapsed": false
   }
  },
  {
   "cell_type": "code",
   "execution_count": 5,
   "outputs": [
    {
     "name": "stderr",
     "output_type": "stream",
     "text": [
      "INFO:httpx:HTTP Request: POST https://api.openai.com/v1/chat/completions \"HTTP/1.1 200 OK\"\n"
     ]
    }
   ],
   "source": [
    "script_refine_chain = timeline_summary_prompt_template | openai_llm | timeline_summary_parser\n",
    "\n",
    "input_data = {\n",
    "        \"title\": content.title,\n",
    "        \"description\": content.description,\n",
    "        \"script\": \"\\n\".join(\n",
    "            [f\"({int(chunk.start_time)}-{int(chunk.end_time)}): {chunk.text}\" for chunk in content.script.chunks]\n",
    "        )\n",
    "    }\n",
    "\n",
    "response: YoutubeTimelineSummaryModel = script_refine_chain.invoke(input_data)"
   ],
   "metadata": {
    "collapsed": false
   }
  },
  {
   "cell_type": "code",
   "execution_count": 6,
   "outputs": [
    {
     "name": "stdout",
     "output_type": "stream",
     "text": [
      "description='이 영상은 유니티에서 2D 셀 애니메이션을 만드는 방법을 자세히 설명합니다. 강좌는 캐릭터의 방향 조정에서 시작해, 셀 애니메이션을 설정하고, 애니메이터를 구성한 후, 코드를 작성해 애니메이션을 제어하는 방법을 다룹니다. 마지막으로 효율적으로 이전 애니메이터를 재활용하는 기법까지 소개합니다.' sections=[YoutubeTimelineSectionModel(title='🏃\\u200d♂️ 방향 바라보기', sec=0.0, texts=['플립 X를 체크하는 경우는 캐릭터가 좌측 방향으로 이동할 때입니다.', 'X 값이 -1일 때 플립을 적용해야 합니다.', '이 설정을 기억하고 코딩에서 실용적으로 활용해야 합니다.'], tip='좌우 방향키에 따라 캐릭터의 방향을 제어하는 로직을 잘 작성하면 애니메이션이 자연스럽습니다.'), YoutubeTimelineSectionModel(title='📜 셀 애니메이션', sec=344.0, texts=['우리는 셀 애니메이션 기법을 사용할 것입니다.', '이 기법은 여러 스프라이트를 순차적으로 재생시키는 방식입니다.', '예를 들어 런 0, 1, 2와 같은 이미지들을 사용해 애니메이션을 만듭니다.'], tip='이미지 파일명은 일관성 있게 지정하여 관리하기 쉽도록 하세요.'), YoutubeTimelineSectionModel(title='⚙️ 애니메이터 설정', sec=554.0, texts=['애니메이터 컴포넌트를 생성하여 애니메이션 상태를 관리합니다.', '변경할 애니메이션 파일을 쉽게 드래그하여 연결할 수 있습니다.', '기본 상태로 스탠드를 설정하여 애니메이션 전환이 자연스럽게 이뤄질 수 있습니다.'], tip='각 애니메이션 파일의 이름을 명확하게 설정하여 나중에 찾기 쉽게 하세요.'), YoutubeTimelineSectionModel(title='💻 코드 작성하기', sec=1155.0, texts=['코드에서 애니메이터를 활성화하기 위해 초기화를 반드시 해야 합니다.', '상태 전환을 위해 변수나 트리거를 설정합니다.', '인풋 벡터의 크기를 기반으로 애니메이션 상태를 변화시킬 수 있습니다.'], tip='애니메이터의 파라미터와 코드가 잘 연결되도록 변수를 정확히 설정하세요.'), YoutubeTimelineSectionModel(title='🔄 애니메이터 재활용', sec=1390.0, texts=['기존 애니메이터를 재활용하여 새로운 캐릭터에 적용하는 방법을 배웁니다.', '애니메이션 오버라이드 컨트롤러를 사용하여 기존 설정을 유지하면서 새로운 애니메이션만 변경할 수 있습니다.', '새로운 스프라이트를 추가하고 기존 애니메이션을 참조하여 효율적으로 작업합니다.'], tip='재활용 가능한 요소를 최대한 활용하여 작업 시간을 단축시키는 게 중요합니다.')]\n"
     ]
    }
   ],
   "source": [
    "print(response)"
   ],
   "metadata": {
    "collapsed": false
   }
  },
  {
   "cell_type": "code",
   "execution_count": 7,
   "outputs": [],
   "source": [
    "from domain import YoutubeTimelineSummary, YoutubeTimelineSection\n",
    "\n",
    "sections = [\n",
    "    YoutubeTimelineSection(\n",
    "        title=section.title,\n",
    "        sec=section.sec,\n",
    "        texts=section.texts,\n",
    "        tip=section.tip\n",
    "    )\n",
    "    for section in response.sections\n",
    "]\n",
    "\n",
    "timeline_summary = YoutubeTimelineSummary(text=response.description, sections=sections)"
   ],
   "metadata": {
    "collapsed": false
   }
  },
  {
   "cell_type": "code",
   "execution_count": 8,
   "outputs": [
    {
     "name": "stdout",
     "output_type": "stream",
     "text": [
      "YoutubeTimelineSummary(text='이 영상은 유니티에서 2D 셀 애니메이션을 만드는 방법을 자세히 설명합니다. 강좌는 캐릭터...', sections=[(0.0s: 🏃‍♂️ 방향 바라보기...), (344.0s: 📜 셀 애니메이션...), (554.0s: ⚙️ 애니메이터 설정...), ...] (5 sections))\n"
     ]
    }
   ],
   "source": [
    "print(timeline_summary)"
   ],
   "metadata": {
    "collapsed": false
   }
  },
  {
   "cell_type": "code",
   "execution_count": 9,
   "outputs": [],
   "source": [
    "content.set_timeline_summary(timeline_summary)"
   ],
   "metadata": {
    "collapsed": false
   }
  },
  {
   "cell_type": "code",
   "execution_count": 10,
   "outputs": [
    {
     "data": {
      "text/plain": "True"
     },
     "execution_count": 10,
     "metadata": {},
     "output_type": "execute_result"
    }
   ],
   "source": [
    "repository.save(content)"
   ],
   "metadata": {
    "collapsed": false
   }
  }
 ],
 "metadata": {
  "kernelspec": {
   "display_name": "Python 3",
   "language": "python",
   "name": "python3"
  },
  "language_info": {
   "codemirror_mode": {
    "name": "ipython",
    "version": 2
   },
   "file_extension": ".py",
   "mimetype": "text/x-python",
   "name": "python",
   "nbconvert_exporter": "python",
   "pygments_lexer": "ipython2",
   "version": "2.7.6"
  }
 },
 "nbformat": 4,
 "nbformat_minor": 0
}
