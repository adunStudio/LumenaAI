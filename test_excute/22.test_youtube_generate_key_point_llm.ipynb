{
 "cells": [
  {
   "cell_type": "code",
   "metadata": {
    "collapsed": true,
    "ExecuteTime": {
     "end_time": "2025-02-12T17:47:07.183538Z",
     "start_time": "2025-02-12T17:45:43.941674Z"
    }
   },
   "source": [
    "from infrastructure.database.mongo_client import MongoDBClient\n",
    "from infrastructure.repository import YoutubeContentRepository\n",
    "from strategy import LocalHuggingFaceLLM\n",
    "from domain.youtube_timeline_summary import YoutubeTimelineSummary\n",
    "from domain.youtube_timeline_section import YoutubeTimelineSection\n",
    "from domain.youtube_content import YouTubeContent\n",
    "\n",
    "import os\n",
    "from dotenv import load_dotenv\n",
    "from langchain_openai import ChatOpenAI\n",
    "\n",
    "load_dotenv()\n",
    "OPENAI_API_KEY = os.environ['OPENAI_API_KEY']\n",
    "\n",
    "# MongoDB 클라이언트 초기화\n",
    "client = MongoDBClient(uri=os.environ['MONGO_CONNECTION_STRING'])\n",
    "client.connect()\n",
    "\n",
    "# 저장소 초기화\n",
    "content_repo: YoutubeContentRepository = YoutubeContentRepository(client)\n",
    "\n",
    "# LLM\n",
    "#local_llm = LocalHuggingFaceLLM(model_name=\"Bllossom/llama-3.2-Korean-Bllossom-3B\")\n",
    "\n",
    "from langchain_huggingface import HuggingFacePipeline\n",
    "local_llm = HuggingFacePipeline.from_model_id(\n",
    "    model_id=\"Bllossom/llama-3.2-Korean-Bllossom-3B\",\n",
    "    task=\"text-generation\",\n",
    "    pipeline_kwargs={\n",
    "        \"max_new_tokens\": 256,\n",
    "        \"top_k\": 50,\n",
    "        \"temperature\": 0.1,\n",
    "    },\n",
    ")\n",
    "\n",
    "\n",
    "# Content\n",
    "contents = content_repo.find_all()\n",
    "content: YouTubeContent = contents[1]"
   ],
   "outputs": [
    {
     "name": "stderr",
     "output_type": "stream",
     "text": [
      "INFO:speechbrain.utils.quirks:Applied quirks (see `speechbrain.utils.quirks`): [disable_jit_profiling, allow_tf32]\n",
      "INFO:speechbrain.utils.quirks:Excluded quirks specified by the `SB_DISABLE_QUIRKS` environment (comma-separated list): []\n"
     ]
    },
    {
     "name": "stdout",
     "output_type": "stream",
     "text": [
      "Connected to MongoDB\n"
     ]
    },
    {
     "data": {
      "text/plain": [
       "Loading checkpoint shards:   0%|          | 0/2 [00:00<?, ?it/s]"
      ],
      "application/vnd.jupyter.widget-view+json": {
       "version_major": 2,
       "version_minor": 0,
       "model_id": "07d8d07dfd6442878ad4a6b67bc2c124"
      }
     },
     "metadata": {},
     "output_type": "display_data"
    },
    {
     "name": "stderr",
     "output_type": "stream",
     "text": [
      "Device set to use mps:0\n"
     ]
    }
   ],
   "execution_count": 1
  },
  {
   "cell_type": "markdown",
   "source": [
    "# 아웃 파서"
   ],
   "metadata": {
    "collapsed": false
   }
  },
  {
   "cell_type": "code",
   "source": [
    "from typing import List\n",
    "from pydantic import BaseModel, Field\n",
    "from langchain_core.output_parsers import PydanticOutputParser\n",
    "\n",
    "# ✅ (핵심 키포인트 모델)\n",
    "class YoutubeKeyPointModel(BaseModel):\n",
    "    term: str = Field(..., description=\"핵심 용어\")\n",
    "    description: str = Field(..., description=\"핵심 용어에 대한 설명\")\n",
    "\n",
    "# ✅ (핵심 키포인트 컬렉션 모델)\n",
    "class YoutubeKeyPointCollectionModel(BaseModel):\n",
    "    key_points: List[YoutubeKeyPointModel] = Field(..., description=\"영상에서 추출된 핵심 키포인트 리스트\")\n",
    "\n",
    "# ✅ 아웃파서 정의\n",
    "key_point_parser = PydanticOutputParser(pydantic_object=YoutubeKeyPointCollectionModel)"
   ],
   "metadata": {
    "collapsed": false,
    "ExecuteTime": {
     "end_time": "2025-02-12T17:47:08.282750Z",
     "start_time": "2025-02-12T17:47:08.128066Z"
    }
   },
   "outputs": [],
   "execution_count": 2
  },
  {
   "cell_type": "markdown",
   "source": [
    "# 프롬프트 템플릿"
   ],
   "metadata": {
    "collapsed": false
   }
  },
  {
   "cell_type": "code",
   "source": [
    "from langchain.prompts import PromptTemplate\n",
    "\n",
    "key_point_prompt_template = PromptTemplate(\n",
    "    partial_variables={'output_format': key_point_parser.get_format_instructions()},\n",
    "    input_variables=[\"summary\"],\n",
    "    template=\"\"\"\n",
    "다음은 유튜브 타임라인 요약 문서입니다. 이 내용을 분석하여 핵심 용어(KeyPoint)와 설명을 생성하세요.\n",
    "설명을 생성할 때 영상 위주가 아닌 최대한 전문적이고 구체적으로 추가 설명해주세요. 저는 영상 내용 뿐 아니라 그 용어에 대한 내용을 알고 싶습니다.\n",
    "중요하지 않더라도 알면 좋을 추가 핵심 용어도 더해주세요.\n",
    "\n",
    "[타임라인 요약]:\n",
    "{summary}\n",
    "\n",
    "[가이드]:\n",
    "- 필드는 `term`과 `description`을 포함하며, 결과는 여러 개의 키포인트 리스트로 구성됩니다.\n",
    "- 반드시 아래 JSON 형식에 맞춰 반환하세요.\n",
    "- 다른 텍스트는 포함하지 마세요.\n",
    "\n",
    "[반환 형식]:\n",
    "{output_format}\n",
    "\"\"\"\n",
    ")"
   ],
   "metadata": {
    "collapsed": false,
    "ExecuteTime": {
     "end_time": "2025-02-12T17:47:08.328673Z",
     "start_time": "2025-02-12T17:47:08.314930Z"
    }
   },
   "outputs": [],
   "execution_count": 3
  },
  {
   "cell_type": "markdown",
   "source": [
    "# LLM"
   ],
   "metadata": {
    "collapsed": false
   }
  },
  {
   "metadata": {
    "collapsed": false,
    "ExecuteTime": {
     "end_time": "2025-02-12T17:47:08.342844Z",
     "start_time": "2025-02-12T17:47:08.340256Z"
    }
   },
   "cell_type": "code",
   "source": [
    "chain = key_point_prompt_template | local_llm | key_point_parser\n",
    "\n",
    "\n",
    "summary: YoutubeTimelineSummary = content.timeline_summary\n",
    "\n",
    "summary_texts = f\"{summary.text}\\n\"\n",
    "\n",
    "for section in summary.sections:\n",
    "    summary_texts = summary_texts + '\\n'\n",
    "    for text in section.texts:\n",
    "        summary_texts = summary_texts + f'- {text}\\n'\n",
    "\n",
    "\n",
    "print(key_point_prompt_template)"
   ],
   "outputs": [
    {
     "name": "stdout",
     "output_type": "stream",
     "text": [
      "input_variables=['summary'] input_types={} partial_variables={'output_format': 'The output should be formatted as a JSON instance that conforms to the JSON schema below.\\n\\nAs an example, for the schema {\"properties\": {\"foo\": {\"title\": \"Foo\", \"description\": \"a list of strings\", \"type\": \"array\", \"items\": {\"type\": \"string\"}}}, \"required\": [\"foo\"]}\\nthe object {\"foo\": [\"bar\", \"baz\"]} is a well-formatted instance of the schema. The object {\"properties\": {\"foo\": [\"bar\", \"baz\"]}} is not well-formatted.\\n\\nHere is the output schema:\\n```\\n{\"$defs\": {\"YoutubeKeyPointModel\": {\"properties\": {\"term\": {\"description\": \"핵심 용어\", \"title\": \"Term\", \"type\": \"string\"}, \"description\": {\"description\": \"핵심 용어에 대한 설명\", \"title\": \"Description\", \"type\": \"string\"}}, \"required\": [\"term\", \"description\"], \"title\": \"YoutubeKeyPointModel\", \"type\": \"object\"}}, \"properties\": {\"key_points\": {\"description\": \"영상에서 추출된 핵심 키포인트 리스트\", \"items\": {\"$ref\": \"#/$defs/YoutubeKeyPointModel\"}, \"title\": \"Key Points\", \"type\": \"array\"}}, \"required\": [\"key_points\"]}\\n```'} template='\\n다음은 유튜브 타임라인 요약 문서입니다. 이 내용을 분석하여 핵심 용어(KeyPoint)와 설명을 생성하세요.\\n설명을 생성할 때 영상 위주가 아닌 최대한 전문적이고 구체적으로 추가 설명해주세요. 저는 영상 내용 뿐 아니라 그 용어에 대한 내용을 알고 싶습니다.\\n중요하지 않더라도 알면 좋을 추가 핵심 용어도 더해주세요.\\n\\n[타임라인 요약]:\\n{summary}\\n\\n[가이드]:\\n- 필드는 `term`과 `description`을 포함하며, 결과는 여러 개의 키포인트 리스트로 구성됩니다.\\n- 반드시 아래 JSON 형식에 맞춰 반환하세요.\\n- 다른 텍스트는 포함하지 마세요.\\n\\n[반환 형식]:\\n{output_format}\\n'\n"
     ]
    }
   ],
   "execution_count": 4
  },
  {
   "cell_type": "code",
   "source": [
    "input_data = {\n",
    "        \"summary\": summary_texts\n",
    "    }\n",
    "\n",
    "response: YoutubeKeyPointCollectionModel = chain.invoke(input_data)"
   ],
   "metadata": {
    "collapsed": false,
    "ExecuteTime": {
     "end_time": "2025-02-12T21:21:42.632648Z",
     "start_time": "2025-02-12T17:47:08.370801Z"
    }
   },
   "outputs": [
    {
     "ename": "OutputParserException",
     "evalue": "Failed to parse YoutubeKeyPointCollectionModel from completion {\"$defs\": {\"YoutubeKeyPointModel\": {\"properties\": {\"term\": {\"description\": \"\\ud575\\uc2ec \\uc6a9\\uc5b4\", \"title\": \"Term\", \"type\": \"string\"}, \"description\": {\"description\": \"\\ud575\\uc2ec \\uc6a9\\uc5b4\\uc5d0 \\ub300\\ud55c \\uc124\\uba85\", \"title\": \"Description\", \"type\": \"string\"}}, \"required\": [\"term\", \"description\"], \"title\": \"YoutubeKeyPointModel\", \"type\": \"object\"}}, \"properties\": {\"key_points\": {\"description\": \"\\uc601\\uc0c1\\uc5d0\\uc11c \\ucd94\\ucd9c\\ub41c \\ud575\\uc2ec \\ud0a4\\ud3ec\\uc778\\ud2b8 \\ub9ac\\uc2a4\\ud2b8\", \"items\": {\"$ref\": \"#/$defs/YoutubeKeyPointModel\"}, \"title\": \"Key Points\", \"type\": \"array\"}}, \"required\": [\"key_points\"]}. Got: 1 validation error for YoutubeKeyPointCollectionModel\nkey_points\n  Field required [type=missing, input_value={'$defs': {'YoutubeKeyPoi...quired': ['key_points']}, input_type=dict]\n    For further information visit https://errors.pydantic.dev/2.10/v/missing\nFor troubleshooting, visit: https://python.langchain.com/docs/troubleshooting/errors/OUTPUT_PARSING_FAILURE ",
     "output_type": "error",
     "traceback": [
      "\u001B[0;31m---------------------------------------------------------------------------\u001B[0m",
      "\u001B[0;31mValidationError\u001B[0m                           Traceback (most recent call last)",
      "File \u001B[0;32m/opt/anaconda3/envs/LumenaAI/lib/python3.10/site-packages/langchain_core/output_parsers/pydantic.py:28\u001B[0m, in \u001B[0;36mPydanticOutputParser._parse_obj\u001B[0;34m(self, obj)\u001B[0m\n\u001B[1;32m     27\u001B[0m \u001B[38;5;28;01mif\u001B[39;00m \u001B[38;5;28missubclass\u001B[39m(\u001B[38;5;28mself\u001B[39m\u001B[38;5;241m.\u001B[39mpydantic_object, pydantic\u001B[38;5;241m.\u001B[39mBaseModel):\n\u001B[0;32m---> 28\u001B[0m     \u001B[38;5;28;01mreturn\u001B[39;00m \u001B[38;5;28;43mself\u001B[39;49m\u001B[38;5;241;43m.\u001B[39;49m\u001B[43mpydantic_object\u001B[49m\u001B[38;5;241;43m.\u001B[39;49m\u001B[43mmodel_validate\u001B[49m\u001B[43m(\u001B[49m\u001B[43mobj\u001B[49m\u001B[43m)\u001B[49m\n\u001B[1;32m     29\u001B[0m \u001B[38;5;28;01melif\u001B[39;00m \u001B[38;5;28missubclass\u001B[39m(\u001B[38;5;28mself\u001B[39m\u001B[38;5;241m.\u001B[39mpydantic_object, pydantic\u001B[38;5;241m.\u001B[39mv1\u001B[38;5;241m.\u001B[39mBaseModel):\n",
      "File \u001B[0;32m/opt/anaconda3/envs/LumenaAI/lib/python3.10/site-packages/pydantic/main.py:627\u001B[0m, in \u001B[0;36mBaseModel.model_validate\u001B[0;34m(cls, obj, strict, from_attributes, context)\u001B[0m\n\u001B[1;32m    626\u001B[0m __tracebackhide__ \u001B[38;5;241m=\u001B[39m \u001B[38;5;28;01mTrue\u001B[39;00m\n\u001B[0;32m--> 627\u001B[0m \u001B[38;5;28;01mreturn\u001B[39;00m \u001B[38;5;28;43mcls\u001B[39;49m\u001B[38;5;241;43m.\u001B[39;49m\u001B[43m__pydantic_validator__\u001B[49m\u001B[38;5;241;43m.\u001B[39;49m\u001B[43mvalidate_python\u001B[49m\u001B[43m(\u001B[49m\n\u001B[1;32m    628\u001B[0m \u001B[43m    \u001B[49m\u001B[43mobj\u001B[49m\u001B[43m,\u001B[49m\u001B[43m \u001B[49m\u001B[43mstrict\u001B[49m\u001B[38;5;241;43m=\u001B[39;49m\u001B[43mstrict\u001B[49m\u001B[43m,\u001B[49m\u001B[43m \u001B[49m\u001B[43mfrom_attributes\u001B[49m\u001B[38;5;241;43m=\u001B[39;49m\u001B[43mfrom_attributes\u001B[49m\u001B[43m,\u001B[49m\u001B[43m \u001B[49m\u001B[43mcontext\u001B[49m\u001B[38;5;241;43m=\u001B[39;49m\u001B[43mcontext\u001B[49m\n\u001B[1;32m    629\u001B[0m \u001B[43m\u001B[49m\u001B[43m)\u001B[49m\n",
      "\u001B[0;31mValidationError\u001B[0m: 1 validation error for YoutubeKeyPointCollectionModel\nkey_points\n  Field required [type=missing, input_value={'$defs': {'YoutubeKeyPoi...quired': ['key_points']}, input_type=dict]\n    For further information visit https://errors.pydantic.dev/2.10/v/missing",
      "\nThe above exception was the direct cause of the following exception:\n",
      "\u001B[0;31mOutputParserException\u001B[0m                     Traceback (most recent call last)",
      "Cell \u001B[0;32mIn[5], line 5\u001B[0m\n\u001B[1;32m      1\u001B[0m input_data \u001B[38;5;241m=\u001B[39m {\n\u001B[1;32m      2\u001B[0m         \u001B[38;5;124m\"\u001B[39m\u001B[38;5;124msummary\u001B[39m\u001B[38;5;124m\"\u001B[39m: summary_texts\n\u001B[1;32m      3\u001B[0m     }\n\u001B[0;32m----> 5\u001B[0m response: YoutubeKeyPointCollectionModel \u001B[38;5;241m=\u001B[39m \u001B[43mchain\u001B[49m\u001B[38;5;241;43m.\u001B[39;49m\u001B[43minvoke\u001B[49m\u001B[43m(\u001B[49m\u001B[43minput_data\u001B[49m\u001B[43m)\u001B[49m\n",
      "File \u001B[0;32m/opt/anaconda3/envs/LumenaAI/lib/python3.10/site-packages/langchain_core/runnables/base.py:3016\u001B[0m, in \u001B[0;36mRunnableSequence.invoke\u001B[0;34m(self, input, config, **kwargs)\u001B[0m\n\u001B[1;32m   3014\u001B[0m             \u001B[38;5;28minput\u001B[39m \u001B[38;5;241m=\u001B[39m context\u001B[38;5;241m.\u001B[39mrun(step\u001B[38;5;241m.\u001B[39minvoke, \u001B[38;5;28minput\u001B[39m, config, \u001B[38;5;241m*\u001B[39m\u001B[38;5;241m*\u001B[39mkwargs)\n\u001B[1;32m   3015\u001B[0m         \u001B[38;5;28;01melse\u001B[39;00m:\n\u001B[0;32m-> 3016\u001B[0m             \u001B[38;5;28minput\u001B[39m \u001B[38;5;241m=\u001B[39m \u001B[43mcontext\u001B[49m\u001B[38;5;241;43m.\u001B[39;49m\u001B[43mrun\u001B[49m\u001B[43m(\u001B[49m\u001B[43mstep\u001B[49m\u001B[38;5;241;43m.\u001B[39;49m\u001B[43minvoke\u001B[49m\u001B[43m,\u001B[49m\u001B[43m \u001B[49m\u001B[38;5;28;43minput\u001B[39;49m\u001B[43m,\u001B[49m\u001B[43m \u001B[49m\u001B[43mconfig\u001B[49m\u001B[43m)\u001B[49m\n\u001B[1;32m   3017\u001B[0m \u001B[38;5;66;03m# finish the root run\u001B[39;00m\n\u001B[1;32m   3018\u001B[0m \u001B[38;5;28;01mexcept\u001B[39;00m \u001B[38;5;167;01mBaseException\u001B[39;00m \u001B[38;5;28;01mas\u001B[39;00m e:\n",
      "File \u001B[0;32m/opt/anaconda3/envs/LumenaAI/lib/python3.10/site-packages/langchain_core/output_parsers/base.py:202\u001B[0m, in \u001B[0;36mBaseOutputParser.invoke\u001B[0;34m(self, input, config, **kwargs)\u001B[0m\n\u001B[1;32m    193\u001B[0m     \u001B[38;5;28;01mreturn\u001B[39;00m \u001B[38;5;28mself\u001B[39m\u001B[38;5;241m.\u001B[39m_call_with_config(\n\u001B[1;32m    194\u001B[0m         \u001B[38;5;28;01mlambda\u001B[39;00m inner_input: \u001B[38;5;28mself\u001B[39m\u001B[38;5;241m.\u001B[39mparse_result(\n\u001B[1;32m    195\u001B[0m             [ChatGeneration(message\u001B[38;5;241m=\u001B[39minner_input)]\n\u001B[0;32m   (...)\u001B[0m\n\u001B[1;32m    199\u001B[0m         run_type\u001B[38;5;241m=\u001B[39m\u001B[38;5;124m\"\u001B[39m\u001B[38;5;124mparser\u001B[39m\u001B[38;5;124m\"\u001B[39m,\n\u001B[1;32m    200\u001B[0m     )\n\u001B[1;32m    201\u001B[0m \u001B[38;5;28;01melse\u001B[39;00m:\n\u001B[0;32m--> 202\u001B[0m     \u001B[38;5;28;01mreturn\u001B[39;00m \u001B[38;5;28;43mself\u001B[39;49m\u001B[38;5;241;43m.\u001B[39;49m\u001B[43m_call_with_config\u001B[49m\u001B[43m(\u001B[49m\n\u001B[1;32m    203\u001B[0m \u001B[43m        \u001B[49m\u001B[38;5;28;43;01mlambda\u001B[39;49;00m\u001B[43m \u001B[49m\u001B[43minner_input\u001B[49m\u001B[43m:\u001B[49m\u001B[43m \u001B[49m\u001B[38;5;28;43mself\u001B[39;49m\u001B[38;5;241;43m.\u001B[39;49m\u001B[43mparse_result\u001B[49m\u001B[43m(\u001B[49m\u001B[43m[\u001B[49m\u001B[43mGeneration\u001B[49m\u001B[43m(\u001B[49m\u001B[43mtext\u001B[49m\u001B[38;5;241;43m=\u001B[39;49m\u001B[43minner_input\u001B[49m\u001B[43m)\u001B[49m\u001B[43m]\u001B[49m\u001B[43m)\u001B[49m\u001B[43m,\u001B[49m\n\u001B[1;32m    204\u001B[0m \u001B[43m        \u001B[49m\u001B[38;5;28;43minput\u001B[39;49m\u001B[43m,\u001B[49m\n\u001B[1;32m    205\u001B[0m \u001B[43m        \u001B[49m\u001B[43mconfig\u001B[49m\u001B[43m,\u001B[49m\n\u001B[1;32m    206\u001B[0m \u001B[43m        \u001B[49m\u001B[43mrun_type\u001B[49m\u001B[38;5;241;43m=\u001B[39;49m\u001B[38;5;124;43m\"\u001B[39;49m\u001B[38;5;124;43mparser\u001B[39;49m\u001B[38;5;124;43m\"\u001B[39;49m\u001B[43m,\u001B[49m\n\u001B[1;32m    207\u001B[0m \u001B[43m    \u001B[49m\u001B[43m)\u001B[49m\n",
      "File \u001B[0;32m/opt/anaconda3/envs/LumenaAI/lib/python3.10/site-packages/langchain_core/runnables/base.py:1914\u001B[0m, in \u001B[0;36mRunnable._call_with_config\u001B[0;34m(self, func, input, config, run_type, serialized, **kwargs)\u001B[0m\n\u001B[1;32m   1910\u001B[0m     context \u001B[38;5;241m=\u001B[39m copy_context()\n\u001B[1;32m   1911\u001B[0m     context\u001B[38;5;241m.\u001B[39mrun(_set_config_context, child_config)\n\u001B[1;32m   1912\u001B[0m     output \u001B[38;5;241m=\u001B[39m cast(\n\u001B[1;32m   1913\u001B[0m         Output,\n\u001B[0;32m-> 1914\u001B[0m         \u001B[43mcontext\u001B[49m\u001B[38;5;241;43m.\u001B[39;49m\u001B[43mrun\u001B[49m\u001B[43m(\u001B[49m\n\u001B[1;32m   1915\u001B[0m \u001B[43m            \u001B[49m\u001B[43mcall_func_with_variable_args\u001B[49m\u001B[43m,\u001B[49m\u001B[43m  \u001B[49m\u001B[38;5;66;43;03m# type: ignore[arg-type]\u001B[39;49;00m\n\u001B[1;32m   1916\u001B[0m \u001B[43m            \u001B[49m\u001B[43mfunc\u001B[49m\u001B[43m,\u001B[49m\u001B[43m  \u001B[49m\u001B[38;5;66;43;03m# type: ignore[arg-type]\u001B[39;49;00m\n\u001B[1;32m   1917\u001B[0m \u001B[43m            \u001B[49m\u001B[38;5;28;43minput\u001B[39;49m\u001B[43m,\u001B[49m\u001B[43m  \u001B[49m\u001B[38;5;66;43;03m# type: ignore[arg-type]\u001B[39;49;00m\n\u001B[1;32m   1918\u001B[0m \u001B[43m            \u001B[49m\u001B[43mconfig\u001B[49m\u001B[43m,\u001B[49m\n\u001B[1;32m   1919\u001B[0m \u001B[43m            \u001B[49m\u001B[43mrun_manager\u001B[49m\u001B[43m,\u001B[49m\n\u001B[1;32m   1920\u001B[0m \u001B[43m            \u001B[49m\u001B[38;5;241;43m*\u001B[39;49m\u001B[38;5;241;43m*\u001B[39;49m\u001B[43mkwargs\u001B[49m\u001B[43m,\u001B[49m\n\u001B[1;32m   1921\u001B[0m \u001B[43m        \u001B[49m\u001B[43m)\u001B[49m,\n\u001B[1;32m   1922\u001B[0m     )\n\u001B[1;32m   1923\u001B[0m \u001B[38;5;28;01mexcept\u001B[39;00m \u001B[38;5;167;01mBaseException\u001B[39;00m \u001B[38;5;28;01mas\u001B[39;00m e:\n\u001B[1;32m   1924\u001B[0m     run_manager\u001B[38;5;241m.\u001B[39mon_chain_error(e)\n",
      "File \u001B[0;32m/opt/anaconda3/envs/LumenaAI/lib/python3.10/site-packages/langchain_core/runnables/config.py:396\u001B[0m, in \u001B[0;36mcall_func_with_variable_args\u001B[0;34m(func, input, config, run_manager, **kwargs)\u001B[0m\n\u001B[1;32m    394\u001B[0m \u001B[38;5;28;01mif\u001B[39;00m run_manager \u001B[38;5;129;01mis\u001B[39;00m \u001B[38;5;129;01mnot\u001B[39;00m \u001B[38;5;28;01mNone\u001B[39;00m \u001B[38;5;129;01mand\u001B[39;00m accepts_run_manager(func):\n\u001B[1;32m    395\u001B[0m     kwargs[\u001B[38;5;124m\"\u001B[39m\u001B[38;5;124mrun_manager\u001B[39m\u001B[38;5;124m\"\u001B[39m] \u001B[38;5;241m=\u001B[39m run_manager\n\u001B[0;32m--> 396\u001B[0m \u001B[38;5;28;01mreturn\u001B[39;00m \u001B[43mfunc\u001B[49m\u001B[43m(\u001B[49m\u001B[38;5;28;43minput\u001B[39;49m\u001B[43m,\u001B[49m\u001B[43m \u001B[49m\u001B[38;5;241;43m*\u001B[39;49m\u001B[38;5;241;43m*\u001B[39;49m\u001B[43mkwargs\u001B[49m\u001B[43m)\u001B[49m\n",
      "File \u001B[0;32m/opt/anaconda3/envs/LumenaAI/lib/python3.10/site-packages/langchain_core/output_parsers/base.py:203\u001B[0m, in \u001B[0;36mBaseOutputParser.invoke.<locals>.<lambda>\u001B[0;34m(inner_input)\u001B[0m\n\u001B[1;32m    193\u001B[0m     \u001B[38;5;28;01mreturn\u001B[39;00m \u001B[38;5;28mself\u001B[39m\u001B[38;5;241m.\u001B[39m_call_with_config(\n\u001B[1;32m    194\u001B[0m         \u001B[38;5;28;01mlambda\u001B[39;00m inner_input: \u001B[38;5;28mself\u001B[39m\u001B[38;5;241m.\u001B[39mparse_result(\n\u001B[1;32m    195\u001B[0m             [ChatGeneration(message\u001B[38;5;241m=\u001B[39minner_input)]\n\u001B[0;32m   (...)\u001B[0m\n\u001B[1;32m    199\u001B[0m         run_type\u001B[38;5;241m=\u001B[39m\u001B[38;5;124m\"\u001B[39m\u001B[38;5;124mparser\u001B[39m\u001B[38;5;124m\"\u001B[39m,\n\u001B[1;32m    200\u001B[0m     )\n\u001B[1;32m    201\u001B[0m \u001B[38;5;28;01melse\u001B[39;00m:\n\u001B[1;32m    202\u001B[0m     \u001B[38;5;28;01mreturn\u001B[39;00m \u001B[38;5;28mself\u001B[39m\u001B[38;5;241m.\u001B[39m_call_with_config(\n\u001B[0;32m--> 203\u001B[0m         \u001B[38;5;28;01mlambda\u001B[39;00m inner_input: \u001B[38;5;28;43mself\u001B[39;49m\u001B[38;5;241;43m.\u001B[39;49m\u001B[43mparse_result\u001B[49m\u001B[43m(\u001B[49m\u001B[43m[\u001B[49m\u001B[43mGeneration\u001B[49m\u001B[43m(\u001B[49m\u001B[43mtext\u001B[49m\u001B[38;5;241;43m=\u001B[39;49m\u001B[43minner_input\u001B[49m\u001B[43m)\u001B[49m\u001B[43m]\u001B[49m\u001B[43m)\u001B[49m,\n\u001B[1;32m    204\u001B[0m         \u001B[38;5;28minput\u001B[39m,\n\u001B[1;32m    205\u001B[0m         config,\n\u001B[1;32m    206\u001B[0m         run_type\u001B[38;5;241m=\u001B[39m\u001B[38;5;124m\"\u001B[39m\u001B[38;5;124mparser\u001B[39m\u001B[38;5;124m\"\u001B[39m,\n\u001B[1;32m    207\u001B[0m     )\n",
      "File \u001B[0;32m/opt/anaconda3/envs/LumenaAI/lib/python3.10/site-packages/langchain_core/output_parsers/pydantic.py:68\u001B[0m, in \u001B[0;36mPydanticOutputParser.parse_result\u001B[0;34m(self, result, partial)\u001B[0m\n\u001B[1;32m     66\u001B[0m \u001B[38;5;28;01mtry\u001B[39;00m:\n\u001B[1;32m     67\u001B[0m     json_object \u001B[38;5;241m=\u001B[39m \u001B[38;5;28msuper\u001B[39m()\u001B[38;5;241m.\u001B[39mparse_result(result)\n\u001B[0;32m---> 68\u001B[0m     \u001B[38;5;28;01mreturn\u001B[39;00m \u001B[38;5;28;43mself\u001B[39;49m\u001B[38;5;241;43m.\u001B[39;49m\u001B[43m_parse_obj\u001B[49m\u001B[43m(\u001B[49m\u001B[43mjson_object\u001B[49m\u001B[43m)\u001B[49m\n\u001B[1;32m     69\u001B[0m \u001B[38;5;28;01mexcept\u001B[39;00m OutputParserException:\n\u001B[1;32m     70\u001B[0m     \u001B[38;5;28;01mif\u001B[39;00m partial:\n",
      "File \u001B[0;32m/opt/anaconda3/envs/LumenaAI/lib/python3.10/site-packages/langchain_core/output_parsers/pydantic.py:36\u001B[0m, in \u001B[0;36mPydanticOutputParser._parse_obj\u001B[0;34m(self, obj)\u001B[0m\n\u001B[1;32m     34\u001B[0m             \u001B[38;5;28;01mraise\u001B[39;00m OutputParserException(msg)\n\u001B[1;32m     35\u001B[0m     \u001B[38;5;28;01mexcept\u001B[39;00m (pydantic\u001B[38;5;241m.\u001B[39mValidationError, pydantic\u001B[38;5;241m.\u001B[39mv1\u001B[38;5;241m.\u001B[39mValidationError) \u001B[38;5;28;01mas\u001B[39;00m e:\n\u001B[0;32m---> 36\u001B[0m         \u001B[38;5;28;01mraise\u001B[39;00m \u001B[38;5;28mself\u001B[39m\u001B[38;5;241m.\u001B[39m_parser_exception(e, obj) \u001B[38;5;28;01mfrom\u001B[39;00m \u001B[38;5;21;01me\u001B[39;00m\n\u001B[1;32m     37\u001B[0m \u001B[38;5;28;01melse\u001B[39;00m:  \u001B[38;5;66;03m# pydantic v1\u001B[39;00m\n\u001B[1;32m     38\u001B[0m     \u001B[38;5;28;01mtry\u001B[39;00m:\n",
      "\u001B[0;31mOutputParserException\u001B[0m: Failed to parse YoutubeKeyPointCollectionModel from completion {\"$defs\": {\"YoutubeKeyPointModel\": {\"properties\": {\"term\": {\"description\": \"\\ud575\\uc2ec \\uc6a9\\uc5b4\", \"title\": \"Term\", \"type\": \"string\"}, \"description\": {\"description\": \"\\ud575\\uc2ec \\uc6a9\\uc5b4\\uc5d0 \\ub300\\ud55c \\uc124\\uba85\", \"title\": \"Description\", \"type\": \"string\"}}, \"required\": [\"term\", \"description\"], \"title\": \"YoutubeKeyPointModel\", \"type\": \"object\"}}, \"properties\": {\"key_points\": {\"description\": \"\\uc601\\uc0c1\\uc5d0\\uc11c \\ucd94\\ucd9c\\ub41c \\ud575\\uc2ec \\ud0a4\\ud3ec\\uc778\\ud2b8 \\ub9ac\\uc2a4\\ud2b8\", \"items\": {\"$ref\": \"#/$defs/YoutubeKeyPointModel\"}, \"title\": \"Key Points\", \"type\": \"array\"}}, \"required\": [\"key_points\"]}. Got: 1 validation error for YoutubeKeyPointCollectionModel\nkey_points\n  Field required [type=missing, input_value={'$defs': {'YoutubeKeyPoi...quired': ['key_points']}, input_type=dict]\n    For further information visit https://errors.pydantic.dev/2.10/v/missing\nFor troubleshooting, visit: https://python.langchain.com/docs/troubleshooting/errors/OUTPUT_PARSING_FAILURE "
     ]
    }
   ],
   "execution_count": 5
  },
  {
   "cell_type": "code",
   "execution_count": 89,
   "outputs": [
    {
     "name": "stdout",
     "output_type": "stream",
     "text": [
      "C# 스크립트: Unity에서 게임 로직을 구현하기 위해 사용하는 프로그래밍 언어. C# 스크립트는 게임 오브젝트의 동작, 상호작용, 행동을 정의하는 데 핵심적인 역할을 한다.\n",
      "입력 받기: 사용자로부터 입력을 받아 게임 내에서의 행동을 제어하는 방법. Unity에서는 input.GetAxis() 함수를 활용하여 사용자 입력을 감지하며, 'Horizontal'과 'Vertical' 축에 따라 방향키 입력을 처리할 수 있다.\n",
      "물리 이동: 게임 오브젝트의 이동 방식을 물리 법칙에 따라 구현하는 방법. Rigidbody2D 컴포넌트를 사용하여 힘, 속도, 위치를 조절할 수 있으며, 물리 엔진에 기반해 보다 자연스러운 움직임을 구현할 수 있다.\n",
      "Rigidbody2D: Unity의 2D 물리 엔진에서 게임 오브젝트에 물리적인 특성을 추가하기 위해 사용되는 컴포넌트. 물리적 상호작용을 통해 충돌, 중력 그리고 속도와 관련된 행동을 구현할 수 있다.\n",
      "FixedUpdate: Unity에서 물리 연산을 처리할 때 사용되는 메소드. 매 프레임이 아닌 일정한 timestep으로 호출되므로, 물리조건의 일관성을 유지하기 위해 Rigidbody와 함께 주로 사용된다.\n",
      "Normalize: 벡터의 방향성을 유지하면서 벡터의 크기를 1로 맞추는 과정. 플레이어의 이동 방향을 정규화하면, 이동 속도를 균일하게 유지하면서 방향만을 조정할 수 있다.\n",
      "AddForce: Rigidbody에 힘을 가하여 물리적인 움직임을 주는 메소드. 힘을 주어 오브젝트를 자연스럽게 이동시키는 데 사용되며, 물리 엔진에 의한 시뮬레이션이 실행된다.\n",
      "Velocity: Rigidbody의 속도를 직접적으로 설정하는 속성. Velocity를 통해 오브젝트의 이동 속도를 정밀하게 조정할 수 있으며, 즉각적인 반응을 필요로 하는 상황에서 유용하다.\n",
      "MovePosition: Rigidbody의 위치를 직접적으로 변경하는 방법. 간단한 경로 이동을 구현할 때 사용되며, 물리 상호작용을 무시하고 기본적인 이동을 수행할 수 있다.\n"
     ]
    }
   ],
   "source": [
    "for key_point in response.key_points:\n",
    "    print(f'{key_point.term}: {key_point.description}')"
   ],
   "metadata": {
    "collapsed": false
   }
  }
 ],
 "metadata": {
  "kernelspec": {
   "display_name": "Python 3",
   "language": "python",
   "name": "python3"
  },
  "language_info": {
   "codemirror_mode": {
    "name": "ipython",
    "version": 2
   },
   "file_extension": ".py",
   "mimetype": "text/x-python",
   "name": "python",
   "nbconvert_exporter": "python",
   "pygments_lexer": "ipython2",
   "version": "2.7.6"
  }
 },
 "nbformat": 4,
 "nbformat_minor": 0
}
