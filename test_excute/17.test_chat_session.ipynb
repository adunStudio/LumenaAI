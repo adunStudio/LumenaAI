{
 "cells": [
  {
   "cell_type": "code",
   "id": "initial_id",
   "metadata": {
    "collapsed": true,
    "ExecuteTime": {
     "end_time": "2025-01-30T15:34:32.171292Z",
     "start_time": "2025-01-30T15:34:29.422674Z"
    }
   },
   "source": [
    "from infrastructure.database.mongo_client import MongoDBClient\n",
    "from infrastructure.repository import YoutubeContentRepository\n",
    "from infrastructure.repository import YoutubeChatRepository\n",
    "\n",
    "from domain import YoutubeChatSession, AdvancedMessageType, AdvancedAIMessage, AdvancedHumanMessage\n",
    "\n",
    "import os\n",
    "from dotenv import load_dotenv\n",
    "from langchain_openai import ChatOpenAI\n",
    "\n",
    "load_dotenv()\n",
    "OPENAI_API_KEY = os.environ['OPENAI_API_KEY']\n",
    "\n",
    "# MongoDB 클라이언트 초기화\n",
    "client = MongoDBClient(uri=os.environ['MONGO_CONNECTION_STRING'])\n",
    "client.connect()\n",
    "\n",
    "# 저장소 초기화\n",
    "youtube_content_repository = YoutubeContentRepository(client)\n",
    "youtube_chat_repository = YoutubeChatRepository(client)\n",
    "\n",
    "# LLM\n",
    "openai_llm = ChatOpenAI(model=\"gpt-4o-mini\", api_key=OPENAI_API_KEY)\n",
    "\n",
    "# url\n",
    "url = 'https://www.youtube.com/watch?v=qOTbP9ciJ88'\n",
    "\n",
    "content = youtube_content_repository.find_by_url(url)\n",
    "\n",
    "chat_session = youtube_chat_repository.get_session(url)\n",
    "if chat_session is None:\n",
    "    chat_session = YoutubeChatSession(url)\n",
    "    chat_session.add_message(AdvancedHumanMessage(\"안녕. 반갑다.\"))\n",
    "    chat_session.add_message(AdvancedAIMessage(\"반갑다 휴면..\"))\n",
    "\n",
    "youtube_chat_repository.save_session(chat_session)\n",
    "\n",
    "print(chat_session)\n",
    "for message in chat_session.messages:\n",
    "    print(message)"
   ],
   "outputs": [
    {
     "name": "stdout",
     "output_type": "stream",
     "text": [
      "Connected to MongoDB\n",
      "ChatSession(session_id=https://www.youtube.com/watch?v=qOTbP9ciJ88, messages_count=2)\n",
      "content='안녕. 반갑다.' additional_kwargs={} response_metadata={}\n",
      "content='반갑다 휴면..' additional_kwargs={} response_metadata={}\n"
     ]
    }
   ],
   "execution_count": 3
  }
 ],
 "metadata": {
  "kernelspec": {
   "display_name": "Python 3",
   "language": "python",
   "name": "python3"
  },
  "language_info": {
   "codemirror_mode": {
    "name": "ipython",
    "version": 2
   },
   "file_extension": ".py",
   "mimetype": "text/x-python",
   "name": "python",
   "nbconvert_exporter": "python",
   "pygments_lexer": "ipython2",
   "version": "2.7.6"
  }
 },
 "nbformat": 4,
 "nbformat_minor": 5
}
