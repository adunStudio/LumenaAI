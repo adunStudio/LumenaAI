{
 "cells": [
  {
   "cell_type": "code",
   "execution_count": 76,
   "metadata": {
    "collapsed": true
   },
   "outputs": [
    {
     "name": "stdout",
     "output_type": "stream",
     "text": [
      "Connected to MongoDB\n"
     ]
    }
   ],
   "source": [
    "from infrastructure.database.mongo_client import MongoDBClient\n",
    "from infrastructure.repository import YoutubeContentRepository\n",
    "from use_case import YouTubeScriptRefinement\n",
    "from domain.youtube_timeline_summary import YoutubeTimelineSummary\n",
    "from domain.youtube_timeline_section import YoutubeTimelineSection\n",
    "from domain.youtube_content import YouTubeContent\n",
    "\n",
    "\n",
    "import os\n",
    "from dotenv import load_dotenv\n",
    "from langchain_openai import ChatOpenAI\n",
    "\n",
    "load_dotenv()\n",
    "OPENAI_API_KEY = os.environ['OPENAI_API_KEY']\n",
    "\n",
    "# MongoDB 클라이언트 초기화\n",
    "client = MongoDBClient(uri=os.environ['MONGO_CONNECTION_STRING'])\n",
    "client.connect()\n",
    "\n",
    "# 저장소 초기화\n",
    "content_repo: YoutubeContentRepository = YoutubeContentRepository(client)\n",
    "\n",
    "# LLM\n",
    "openai_llm = ChatOpenAI(model=\"gpt-4o-mini\", api_key=OPENAI_API_KEY)\n",
    "\n",
    "\n",
    "# Content\n",
    "contents = content_repo.find_all()\n",
    "content: YouTubeContent = contents[1]"
   ]
  },
  {
   "cell_type": "markdown",
   "source": [
    "# 아웃 파서"
   ],
   "metadata": {
    "collapsed": false
   }
  },
  {
   "cell_type": "code",
   "execution_count": 77,
   "outputs": [],
   "source": [
    "from typing import List\n",
    "from pydantic import BaseModel, Field\n",
    "from langchain_core.output_parsers import PydanticOutputParser\n",
    "\n",
    "# ✅ (핵심 키포인트 모델)\n",
    "class YoutubeKeyPointModel(BaseModel):\n",
    "    term: str = Field(..., description=\"핵심 용어\")\n",
    "    description: str = Field(..., description=\"핵심 용어에 대한 설명\")\n",
    "\n",
    "# ✅ (핵심 키포인트 컬렉션 모델)\n",
    "class YoutubeKeyPointCollectionModel(BaseModel):\n",
    "    key_points: List[YoutubeKeyPointModel] = Field(..., description=\"영상에서 추출된 핵심 키포인트 리스트\")\n",
    "\n",
    "# ✅ 아웃파서 정의\n",
    "key_point_parser = PydanticOutputParser(pydantic_object=YoutubeKeyPointCollectionModel)"
   ],
   "metadata": {
    "collapsed": false
   }
  },
  {
   "cell_type": "markdown",
   "source": [
    "# 프롬프트 템플릿"
   ],
   "metadata": {
    "collapsed": false
   }
  },
  {
   "cell_type": "code",
   "execution_count": 78,
   "outputs": [],
   "source": [
    "from langchain.prompts import PromptTemplate\n",
    "\n",
    "key_point_prompt_template = PromptTemplate(\n",
    "    partial_variables={'output_format': key_point_parser.get_format_instructions()},\n",
    "    input_variables=[\"title\", \"descrption\", \"summary\"],\n",
    "    template=\"\"\"\n",
    "다음은 유튜브 영상의 제목, 설명 타임라인 요약 문서입니다. 이 내용을 분석하여 핵심 용어(KeyPoint)와 설명을 생성하세요.\n",
    "설명을 생성할 때 영상 위주가 아닌 최대한 전문적이고 구체적으로 추가 설명해주세요. 저는 영상 내용 뿐 아니라 그 용어에 대한 내용을 알고 싶습니다.\n",
    "\n",
    "[제목]:\n",
    "{title}\n",
    "\n",
    "[설명]:\n",
    "{description}\n",
    "\n",
    "[타임라인 요약]:\n",
    "{summary}\n",
    "\n",
    "\n",
    "[가이드]:\n",
    "- 필드는 `term`과 `description`을 포함하며, 결과는 여러 개의 키포인트 리스트로 구성됩니다.\n",
    "- 반드시 아래 JSON 형식에 맞춰 반환하세요.\n",
    "- 다른 텍스트는 포함하지 마세요.\n",
    "\n",
    "[반환 형식]:\n",
    "{output_format}\n",
    "\"\"\"\n",
    ")"
   ],
   "metadata": {
    "collapsed": false
   }
  },
  {
   "cell_type": "markdown",
   "source": [
    "# LLM"
   ],
   "metadata": {
    "collapsed": false
   }
  },
  {
   "cell_type": "code",
   "execution_count": 79,
   "outputs": [],
   "source": [
    "from langchain_openai import ChatOpenAI\n",
    "\n",
    "openai_llm = ChatOpenAI(model=\"gpt-4o-mini\", api_key=os.environ['OPENAI_API_KEY'])"
   ],
   "metadata": {
    "collapsed": false
   }
  },
  {
   "cell_type": "code",
   "execution_count": 80,
   "outputs": [
    {
     "name": "stdout",
     "output_type": "stream",
     "text": [
      "input_variables=['description', 'summary', 'title'] input_types={} partial_variables={'output_format': 'The output should be formatted as a JSON instance that conforms to the JSON schema below.\\n\\nAs an example, for the schema {\"properties\": {\"foo\": {\"title\": \"Foo\", \"description\": \"a list of strings\", \"type\": \"array\", \"items\": {\"type\": \"string\"}}}, \"required\": [\"foo\"]}\\nthe object {\"foo\": [\"bar\", \"baz\"]} is a well-formatted instance of the schema. The object {\"properties\": {\"foo\": [\"bar\", \"baz\"]}} is not well-formatted.\\n\\nHere is the output schema:\\n```\\n{\"$defs\": {\"YoutubeKeyPointModel\": {\"properties\": {\"term\": {\"description\": \"핵심 용어\", \"title\": \"Term\", \"type\": \"string\"}, \"description\": {\"description\": \"핵심 용어에 대한 설명\", \"title\": \"Description\", \"type\": \"string\"}}, \"required\": [\"term\", \"description\"], \"title\": \"YoutubeKeyPointModel\", \"type\": \"object\"}}, \"properties\": {\"key_points\": {\"description\": \"영상에서 추출된 핵심 키포인트 리스트\", \"items\": {\"$ref\": \"#/$defs/YoutubeKeyPointModel\"}, \"title\": \"Key Points\", \"type\": \"array\"}}, \"required\": [\"key_points\"]}\\n```'} template='\\n다음은 유튜브 영상의 제목, 설명 타임라인 요약 문서입니다. 이 내용을 분석하여 핵심 용어(KeyPoint)와 설명을 생성하세요.\\n설명을 생성할 때 영상 위주가 아닌 최대한 전문적이고 구체적으로 추가 설명해주세요. 저는 영상 내용 뿐 아니라 그 용어에 대한 내용을 알고 싶습니다.\\n\\n[제목]:\\n{title}\\n\\n[설명]:\\n{description}\\n\\n[타임라인 요약]:\\n{summary}\\n\\n\\n[가이드]:\\n- 필드는 `term`과 `description`을 포함하며, 결과는 여러 개의 키포인트 리스트로 구성됩니다.\\n- 반드시 아래 JSON 형식에 맞춰 반환하세요.\\n- 다른 텍스트는 포함하지 마세요.\\n\\n[반환 형식]:\\n{output_format}\\n'\n"
     ]
    }
   ],
   "source": [
    "script_refine_chain = key_point_prompt_template | openai_llm | key_point_parser\n",
    "\n",
    "\n",
    "summary: YoutubeTimelineSummary = content.timeline_summary\n",
    "\n",
    "summary_texts = f\"{summary.text}\\n\"\n",
    "\n",
    "for section in summary.sections:\n",
    "    summary_texts = summary_texts + '\\n'\n",
    "    for text in section.texts:\n",
    "        summary_texts = summary_texts + f'- {text}\\n'\n",
    "\n",
    "\n",
    "print(key_point_prompt_template)"
   ],
   "metadata": {
    "collapsed": false
   }
  },
  {
   "cell_type": "code",
   "execution_count": 81,
   "outputs": [
    {
     "name": "stderr",
     "output_type": "stream",
     "text": [
      "INFO:httpx:HTTP Request: POST https://api.openai.com/v1/chat/completions \"HTTP/1.1 200 OK\"\n"
     ]
    }
   ],
   "source": [
    "input_data = {\n",
    "        \"title\": content.title,\n",
    "        \"description\": content.description,\n",
    "        \"summary\": summary_texts\n",
    "    }\n",
    "\n",
    "response: YoutubeKeyPointCollectionModel = script_refine_chain.invoke(input_data)"
   ],
   "metadata": {
    "collapsed": false
   }
  },
  {
   "cell_type": "code",
   "execution_count": 82,
   "outputs": [
    {
     "name": "stdout",
     "output_type": "stream",
     "text": [
      "C# 스크립트: 유니티의 스크립트 작성 언어인 C#을 사용하여 게임 로직을 구현합니다. C#은 강력한 객체 지향 프로그래밍 언어로, 유니티에서는 주로 게임 오브젝트의 행동이나 상호작용을 정의하기 위해 사용됩니다.\n",
      "플레이어 이동: 게임 내에서 플레이어 캐릭터를 이동시키는 기능으로, 일반적으로 사용자 입력에 따라 캐릭터가 좌우, 상하로 반응하는 방식으로 구현됩니다. 이는 게임의 기본적인 조작 방식 중 하나로, 사용자 경험에 큰 영향을 미칩니다.\n",
      "Input.GetAxis(): 유니티에서 사용자 입력을 감지하기 위해 사용하는 함수로, 'Horizontal'과 'Vertical' 축의 입력 값을 가져옵니다. 이를 통해 키보드, 게임패드와 같은 장치로 부터의 이동 방향을 감지할 수 있습니다.\n",
      "RigidBody2D: 유니티에서 2D 물리 엔진에 기반한 물체의 물리적 성질을 다루기 위한 컴포넌트로, 물리 시뮬레이션을 통해 오브젝트에 힘을 적용하거나 충돌을 처리할 수 있게 합니다. 플레이어 이동 및 물리 상호작용에 필수적입니다.\n",
      "FixedUpdate: 유니티의 스크립트에서 물리 연산을 위한 업데이트 메서드로, 매 프레임이 아닌 일정한 시간 간격으로 호출되어 물리 엔진 관련 코드 블록을 실행합니다. 이는 물리 이동을 구현할 때 일정한 자연스러운 움직임을 보장합니다.\n",
      "AddForce: RigidBody2D를 통해 물리적인 힘을 객체에 직접적으로 추가하는 메서드로, 이를 이용해 객체의 속도를 변화시킬 수 있습니다. 물리 기반의 움직임을 보다 사실감 있게 구현할 수 있습니다.\n",
      "Normalize: 벡터의 방향을 유지하면서 벡터의 크기를 1로 조정하는 과정으로, 이를 통해 방향을 유도할 수 있습니다. 게임에서 방향 벡터를 정규화함으로써 일관된 이동 속도를 유지할 수 있습니다.\n",
      "FixedDeltaTime: 유니티에서 물리 시뮬레이션과 관련된 시간 간격을 정의하는 값으로, 물리 업데이트 간의 시간 간격을 일정하게 유지함으로써 정밀한 물리 연산을 가능하게 합니다. 이는 이동 속도를 일정하게 유지하는 데 중요한 역할을 합니다.\n"
     ]
    }
   ],
   "source": [
    "for key_point in response.key_points:\n",
    "    print(f'{key_point.term}: {key_point.description}')"
   ],
   "metadata": {
    "collapsed": false
   }
  }
 ],
 "metadata": {
  "kernelspec": {
   "display_name": "Python 3",
   "language": "python",
   "name": "python3"
  },
  "language_info": {
   "codemirror_mode": {
    "name": "ipython",
    "version": 2
   },
   "file_extension": ".py",
   "mimetype": "text/x-python",
   "name": "python",
   "nbconvert_exporter": "python",
   "pygments_lexer": "ipython2",
   "version": "2.7.6"
  }
 },
 "nbformat": 4,
 "nbformat_minor": 0
}
