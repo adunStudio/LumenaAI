{
 "cells": [
  {
   "cell_type": "code",
   "execution_count": 83,
   "metadata": {
    "collapsed": true
   },
   "outputs": [
    {
     "name": "stdout",
     "output_type": "stream",
     "text": [
      "Connected to MongoDB\n"
     ]
    }
   ],
   "source": [
    "from infrastructure.database.mongo_client import MongoDBClient\n",
    "from infrastructure.repository import YoutubeContentRepository\n",
    "from use_case import YouTubeScriptRefinement\n",
    "from domain.youtube_timeline_summary import YoutubeTimelineSummary\n",
    "from domain.youtube_timeline_section import YoutubeTimelineSection\n",
    "from domain.youtube_content import YouTubeContent\n",
    "\n",
    "\n",
    "import os\n",
    "from dotenv import load_dotenv\n",
    "from langchain_openai import ChatOpenAI\n",
    "\n",
    "load_dotenv()\n",
    "OPENAI_API_KEY = os.environ['OPENAI_API_KEY']\n",
    "\n",
    "# MongoDB 클라이언트 초기화\n",
    "client = MongoDBClient(uri=os.environ['MONGO_CONNECTION_STRING'])\n",
    "client.connect()\n",
    "\n",
    "# 저장소 초기화\n",
    "content_repo: YoutubeContentRepository = YoutubeContentRepository(client)\n",
    "\n",
    "# LLM\n",
    "openai_llm = ChatOpenAI(model=\"gpt-4o-mini\", api_key=OPENAI_API_KEY)\n",
    "\n",
    "\n",
    "# Content\n",
    "contents = content_repo.find_all()\n",
    "content: YouTubeContent = contents[1]"
   ]
  },
  {
   "cell_type": "markdown",
   "source": [
    "# 아웃 파서"
   ],
   "metadata": {
    "collapsed": false
   }
  },
  {
   "cell_type": "code",
   "execution_count": 84,
   "outputs": [],
   "source": [
    "from typing import List\n",
    "from pydantic import BaseModel, Field\n",
    "from langchain_core.output_parsers import PydanticOutputParser\n",
    "\n",
    "# ✅ (핵심 키포인트 모델)\n",
    "class YoutubeKeyPointModel(BaseModel):\n",
    "    term: str = Field(..., description=\"핵심 용어\")\n",
    "    description: str = Field(..., description=\"핵심 용어에 대한 설명\")\n",
    "\n",
    "# ✅ (핵심 키포인트 컬렉션 모델)\n",
    "class YoutubeKeyPointCollectionModel(BaseModel):\n",
    "    key_points: List[YoutubeKeyPointModel] = Field(..., description=\"영상에서 추출된 핵심 키포인트 리스트\")\n",
    "\n",
    "# ✅ 아웃파서 정의\n",
    "key_point_parser = PydanticOutputParser(pydantic_object=YoutubeKeyPointCollectionModel)"
   ],
   "metadata": {
    "collapsed": false
   }
  },
  {
   "cell_type": "markdown",
   "source": [
    "# 프롬프트 템플릿"
   ],
   "metadata": {
    "collapsed": false
   }
  },
  {
   "cell_type": "code",
   "execution_count": 85,
   "outputs": [],
   "source": [
    "from langchain.prompts import PromptTemplate\n",
    "\n",
    "key_point_prompt_template = PromptTemplate(\n",
    "    partial_variables={'output_format': key_point_parser.get_format_instructions()},\n",
    "    input_variables=[\"title\", \"descrption\", \"summary\"],\n",
    "    template=\"\"\"\n",
    "다음은 유튜브 영상의 제목, 설명 타임라인 요약 문서입니다. 이 내용을 분석하여 핵심 용어(KeyPoint)와 설명을 생성하세요.\n",
    "설명을 생성할 때 영상 위주가 아닌 최대한 전문적이고 구체적으로 추가 설명해주세요. 저는 영상 내용 뿐 아니라 그 용어에 대한 내용을 알고 싶습니다.\n",
    "중요하지 않더라도 알면 좋을 추가 핵심 용어도 더해주세요. \n",
    "\n",
    "[제목]:\n",
    "{title}\n",
    "\n",
    "[설명]:\n",
    "{description}\n",
    "\n",
    "[타임라인 요약]:\n",
    "{summary}\n",
    "\n",
    "\n",
    "[가이드]:\n",
    "- 필드는 `term`과 `description`을 포함하며, 결과는 여러 개의 키포인트 리스트로 구성됩니다.\n",
    "- 반드시 아래 JSON 형식에 맞춰 반환하세요.\n",
    "- 다른 텍스트는 포함하지 마세요.\n",
    "\n",
    "[반환 형식]:\n",
    "{output_format}\n",
    "\"\"\"\n",
    ")"
   ],
   "metadata": {
    "collapsed": false
   }
  },
  {
   "cell_type": "markdown",
   "source": [
    "# LLM"
   ],
   "metadata": {
    "collapsed": false
   }
  },
  {
   "cell_type": "code",
   "execution_count": 86,
   "outputs": [],
   "source": [
    "from langchain_openai import ChatOpenAI\n",
    "\n",
    "openai_llm = ChatOpenAI(model=\"gpt-4o-mini\", api_key=os.environ['OPENAI_API_KEY'])"
   ],
   "metadata": {
    "collapsed": false
   }
  },
  {
   "cell_type": "code",
   "execution_count": 87,
   "outputs": [
    {
     "name": "stdout",
     "output_type": "stream",
     "text": [
      "input_variables=['description', 'summary', 'title'] input_types={} partial_variables={'output_format': 'The output should be formatted as a JSON instance that conforms to the JSON schema below.\\n\\nAs an example, for the schema {\"properties\": {\"foo\": {\"title\": \"Foo\", \"description\": \"a list of strings\", \"type\": \"array\", \"items\": {\"type\": \"string\"}}}, \"required\": [\"foo\"]}\\nthe object {\"foo\": [\"bar\", \"baz\"]} is a well-formatted instance of the schema. The object {\"properties\": {\"foo\": [\"bar\", \"baz\"]}} is not well-formatted.\\n\\nHere is the output schema:\\n```\\n{\"$defs\": {\"YoutubeKeyPointModel\": {\"properties\": {\"term\": {\"description\": \"핵심 용어\", \"title\": \"Term\", \"type\": \"string\"}, \"description\": {\"description\": \"핵심 용어에 대한 설명\", \"title\": \"Description\", \"type\": \"string\"}}, \"required\": [\"term\", \"description\"], \"title\": \"YoutubeKeyPointModel\", \"type\": \"object\"}}, \"properties\": {\"key_points\": {\"description\": \"영상에서 추출된 핵심 키포인트 리스트\", \"items\": {\"$ref\": \"#/$defs/YoutubeKeyPointModel\"}, \"title\": \"Key Points\", \"type\": \"array\"}}, \"required\": [\"key_points\"]}\\n```'} template='\\n다음은 유튜브 영상의 제목, 설명 타임라인 요약 문서입니다. 이 내용을 분석하여 핵심 용어(KeyPoint)와 설명을 생성하세요.\\n설명을 생성할 때 영상 위주가 아닌 최대한 전문적이고 구체적으로 추가 설명해주세요. 저는 영상 내용 뿐 아니라 그 용어에 대한 내용을 알고 싶습니다.\\n중요하지 않더라도 알면 좋을 추가 핵심 용어도 더해주세요. \\n\\n[제목]:\\n{title}\\n\\n[설명]:\\n{description}\\n\\n[타임라인 요약]:\\n{summary}\\n\\n\\n[가이드]:\\n- 필드는 `term`과 `description`을 포함하며, 결과는 여러 개의 키포인트 리스트로 구성됩니다.\\n- 반드시 아래 JSON 형식에 맞춰 반환하세요.\\n- 다른 텍스트는 포함하지 마세요.\\n\\n[반환 형식]:\\n{output_format}\\n'\n"
     ]
    }
   ],
   "source": [
    "script_refine_chain = key_point_prompt_template | openai_llm | key_point_parser\n",
    "\n",
    "\n",
    "summary: YoutubeTimelineSummary = content.timeline_summary\n",
    "\n",
    "summary_texts = f\"{summary.text}\\n\"\n",
    "\n",
    "for section in summary.sections:\n",
    "    summary_texts = summary_texts + '\\n'\n",
    "    for text in section.texts:\n",
    "        summary_texts = summary_texts + f'- {text}\\n'\n",
    "\n",
    "\n",
    "print(key_point_prompt_template)"
   ],
   "metadata": {
    "collapsed": false
   }
  },
  {
   "cell_type": "code",
   "execution_count": 88,
   "outputs": [
    {
     "name": "stderr",
     "output_type": "stream",
     "text": [
      "INFO:httpx:HTTP Request: POST https://api.openai.com/v1/chat/completions \"HTTP/1.1 200 OK\"\n"
     ]
    }
   ],
   "source": [
    "input_data = {\n",
    "        \"title\": content.title,\n",
    "        \"description\": content.description,\n",
    "        \"summary\": summary_texts\n",
    "    }\n",
    "\n",
    "response: YoutubeKeyPointCollectionModel = script_refine_chain.invoke(input_data)"
   ],
   "metadata": {
    "collapsed": false
   }
  },
  {
   "cell_type": "code",
   "execution_count": 89,
   "outputs": [
    {
     "name": "stdout",
     "output_type": "stream",
     "text": [
      "C# 스크립트: Unity에서 게임 로직을 구현하기 위해 사용하는 프로그래밍 언어. C# 스크립트는 게임 오브젝트의 동작, 상호작용, 행동을 정의하는 데 핵심적인 역할을 한다.\n",
      "입력 받기: 사용자로부터 입력을 받아 게임 내에서의 행동을 제어하는 방법. Unity에서는 input.GetAxis() 함수를 활용하여 사용자 입력을 감지하며, 'Horizontal'과 'Vertical' 축에 따라 방향키 입력을 처리할 수 있다.\n",
      "물리 이동: 게임 오브젝트의 이동 방식을 물리 법칙에 따라 구현하는 방법. Rigidbody2D 컴포넌트를 사용하여 힘, 속도, 위치를 조절할 수 있으며, 물리 엔진에 기반해 보다 자연스러운 움직임을 구현할 수 있다.\n",
      "Rigidbody2D: Unity의 2D 물리 엔진에서 게임 오브젝트에 물리적인 특성을 추가하기 위해 사용되는 컴포넌트. 물리적 상호작용을 통해 충돌, 중력 그리고 속도와 관련된 행동을 구현할 수 있다.\n",
      "FixedUpdate: Unity에서 물리 연산을 처리할 때 사용되는 메소드. 매 프레임이 아닌 일정한 timestep으로 호출되므로, 물리조건의 일관성을 유지하기 위해 Rigidbody와 함께 주로 사용된다.\n",
      "Normalize: 벡터의 방향성을 유지하면서 벡터의 크기를 1로 맞추는 과정. 플레이어의 이동 방향을 정규화하면, 이동 속도를 균일하게 유지하면서 방향만을 조정할 수 있다.\n",
      "AddForce: Rigidbody에 힘을 가하여 물리적인 움직임을 주는 메소드. 힘을 주어 오브젝트를 자연스럽게 이동시키는 데 사용되며, 물리 엔진에 의한 시뮬레이션이 실행된다.\n",
      "Velocity: Rigidbody의 속도를 직접적으로 설정하는 속성. Velocity를 통해 오브젝트의 이동 속도를 정밀하게 조정할 수 있으며, 즉각적인 반응을 필요로 하는 상황에서 유용하다.\n",
      "MovePosition: Rigidbody의 위치를 직접적으로 변경하는 방법. 간단한 경로 이동을 구현할 때 사용되며, 물리 상호작용을 무시하고 기본적인 이동을 수행할 수 있다.\n"
     ]
    }
   ],
   "source": [
    "for key_point in response.key_points:\n",
    "    print(f'{key_point.term}: {key_point.description}')"
   ],
   "metadata": {
    "collapsed": false
   }
  }
 ],
 "metadata": {
  "kernelspec": {
   "display_name": "Python 3",
   "language": "python",
   "name": "python3"
  },
  "language_info": {
   "codemirror_mode": {
    "name": "ipython",
    "version": 2
   },
   "file_extension": ".py",
   "mimetype": "text/x-python",
   "name": "python",
   "nbconvert_exporter": "python",
   "pygments_lexer": "ipython2",
   "version": "2.7.6"
  }
 },
 "nbformat": 4,
 "nbformat_minor": 0
}
