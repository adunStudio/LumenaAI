{
 "cells": [
  {
   "cell_type": "code",
   "metadata": {
    "collapsed": true,
    "ExecuteTime": {
     "end_time": "2025-01-30T12:17:33.936441Z",
     "start_time": "2025-01-30T12:17:33.398432Z"
    },
    "pycharm": {
     "is_executing": true
    }
   },
   "source": [
    "from infrastructure.database.mongo_client import MongoDBClient\n",
    "from infrastructure.repository import YoutubeContentRepository, YoutubeKeyPointCollectionRepository\n",
    "from use_case import YouTubeGenerateKeyPoint\n",
    "\n",
    "import os\n",
    "from dotenv import load_dotenv\n",
    "from langchain_openai import ChatOpenAI\n",
    "\n",
    "load_dotenv()\n",
    "OPENAI_API_KEY = os.environ['OPENAI_API_KEY']\n",
    "\n",
    "# MongoDB 클라이언트 초기화\n",
    "client = MongoDBClient(uri=os.environ['MONGO_CONNECTION_STRING'])\n",
    "client.connect()\n",
    "\n",
    "# 저장소 초기화\n",
    "content_repo = YoutubeContentRepository(client)\n",
    "keypoint_repo = YoutubeKeyPointCollectionRepository(client)\n",
    "\n",
    "# LLM\n",
    "openai_llm = ChatOpenAI(model=\"gpt-4o-mini\", api_key=OPENAI_API_KEY)\n",
    "\n",
    "# 유즈-케이스\n",
    "use_case:YouTubeGenerateKeyPoint = YouTubeGenerateKeyPoint(content_repo, keypoint_repo, openai_llm)\n",
    "\n",
    "contents = content_repo.find_all()\n",
    "\n",
    "count = len(contents)\n",
    "for i, content in enumerate(contents):\n",
    "    print(f'{i + 1}/{count}: {content.channel}: {content.title}: {content.url.url}')\n",
    "\n",
    "    url = content.url.url\n",
    "    if keypoint_repo.get(url) is not None:\n",
    "        continue\n",
    "\n",
    "    print(\"키포인트 생성!!\")\n",
    "    use_case.execute(url)"
   ],
   "outputs": [
    {
     "name": "stdout",
     "output_type": "stream",
     "text": [
      "Connected to MongoDB\n",
      "1/162: Goldmetal: 2D 오브젝트🧍만들기 [유니티 뱀서라이크 01]: https://www.youtube.com/watch?v=qOTbP9ciJ88\n",
      "키포인트 생성!!\n"
     ]
    },
    {
     "name": "stderr",
     "output_type": "stream",
     "text": [
      "INFO:httpx:HTTP Request: POST https://api.openai.com/v1/chat/completions \"HTTP/1.1 200 OK\"\n"
     ]
    },
    {
     "name": "stdout",
     "output_type": "stream",
     "text": [
      "2/162: Goldmetal: 플레이어 이동🚶구현하기 [유니티 뱀서라이크 02]: https://www.youtube.com/watch?v=YAu4yWU5D5U\n",
      "키포인트 생성!!\n"
     ]
    },
    {
     "name": "stderr",
     "output_type": "stream",
     "text": [
      "INFO:httpx:HTTP Request: POST https://api.openai.com/v1/chat/completions \"HTTP/1.1 200 OK\"\n"
     ]
    },
    {
     "name": "stdout",
     "output_type": "stream",
     "text": [
      "3/162: Goldmetal: 새로운 인풋시스템🎮적용하기 [유니티 뱀서라이크 02+]: https://www.youtube.com/watch?v=tKMnVBTes0M\n",
      "키포인트 생성!!\n"
     ]
    },
    {
     "name": "stderr",
     "output_type": "stream",
     "text": [
      "INFO:httpx:HTTP Request: POST https://api.openai.com/v1/chat/completions \"HTTP/1.1 200 OK\"\n"
     ]
    },
    {
     "name": "stdout",
     "output_type": "stream",
     "text": [
      "4/162: Goldmetal: 2D 셀 애니메이션🏃제작하기 [유니티 뱀서라이크 03]: https://www.youtube.com/watch?v=vizfd1TeRMI\n",
      "키포인트 생성!!\n"
     ]
    },
    {
     "name": "stderr",
     "output_type": "stream",
     "text": [
      "INFO:httpx:HTTP Request: POST https://api.openai.com/v1/chat/completions \"HTTP/1.1 200 OK\"\n"
     ]
    },
    {
     "name": "stdout",
     "output_type": "stream",
     "text": [
      "5/162: Goldmetal: 무한🌍맵 이동 [유니티 뱀서라이크 04]: https://www.youtube.com/watch?v=SNjgew0VhHY\n",
      "키포인트 생성!!\n"
     ]
    },
    {
     "name": "stderr",
     "output_type": "stream",
     "text": [
      "INFO:httpx:HTTP Request: POST https://api.openai.com/v1/chat/completions \"HTTP/1.1 200 OK\"\n"
     ]
    },
    {
     "name": "stdout",
     "output_type": "stream",
     "text": [
      "6/162: Goldmetal: 몬스터🧟만들기 [유니티 뱀서라이크 05]: https://www.youtube.com/watch?v=0aUCu1BcZxs\n",
      "키포인트 생성!!\n"
     ]
    },
    {
     "name": "stderr",
     "output_type": "stream",
     "text": [
      "INFO:httpx:HTTP Request: POST https://api.openai.com/v1/chat/completions \"HTTP/1.1 200 OK\"\n"
     ]
    },
    {
     "name": "stdout",
     "output_type": "stream",
     "text": [
      "7/162: Goldmetal: 오브젝트 풀링🏊으로 소환하기 [유니티 뱀서라이크 06]: https://www.youtube.com/watch?v=A7mfPH8jyBE\n",
      "키포인트 생성!!\n"
     ]
    }
   ],
   "execution_count": null
  }
 ],
 "metadata": {
  "kernelspec": {
   "display_name": "Python 3",
   "language": "python",
   "name": "python3"
  },
  "language_info": {
   "codemirror_mode": {
    "name": "ipython",
    "version": 2
   },
   "file_extension": ".py",
   "mimetype": "text/x-python",
   "name": "python",
   "nbconvert_exporter": "python",
   "pygments_lexer": "ipython2",
   "version": "2.7.6"
  }
 },
 "nbformat": 4,
 "nbformat_minor": 0
}
