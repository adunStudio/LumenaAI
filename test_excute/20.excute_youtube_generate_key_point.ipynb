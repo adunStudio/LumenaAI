{
 "cells": [
  {
   "cell_type": "code",
   "metadata": {
    "collapsed": true,
    "ExecuteTime": {
     "end_time": "2025-01-30T12:17:33.936441Z",
     "start_time": "2025-01-30T12:17:33.398432Z"
    }
   },
   "source": [
    "from infrastructure.database.mongo_client import MongoDBClient\n",
    "from infrastructure.repository import YoutubeContentRepository, YoutubeKeyPointCollectionRepository\n",
    "from use_case import YouTubeGenerateKeyPoint\n",
    "\n",
    "import os\n",
    "from dotenv import load_dotenv\n",
    "from langchain_openai import ChatOpenAI\n",
    "\n",
    "load_dotenv()\n",
    "OPENAI_API_KEY = os.environ['OPENAI_API_KEY']\n",
    "\n",
    "# MongoDB 클라이언트 초기화\n",
    "client = MongoDBClient(uri=os.environ['MONGO_CONNECTION_STRING'])\n",
    "client.connect()\n",
    "\n",
    "# 저장소 초기화\n",
    "content_repo = YoutubeContentRepository(client)\n",
    "keypoint_repo = YoutubeKeyPointCollectionRepository(client)\n",
    "\n",
    "# LLM\n",
    "openai_llm = ChatOpenAI(model=\"gpt-4o-mini\", api_key=OPENAI_API_KEY)\n",
    "\n",
    "# 유즈-케이스\n",
    "use_case:YouTubeGenerateKeyPoint = YouTubeGenerateKeyPoint(content_repo, keypoint_repo, openai_llm)\n",
    "\n",
    "contents = content_repo.find_all()\n",
    "\n",
    "count = len(contents)\n",
    "for i, content in enumerate(contents):\n",
    "    print(f'{i + 1}/{count}: {content.channel}: {content.title}: {content.url.url}')\n",
    "\n",
    "    url = content.url.url\n",
    "    if keypoint_repo.get(url) is not None:\n",
    "        continue\n",
    "\n",
    "    print(\"키포인트 생성!!\")\n",
    "    use_case.execute(url)"
   ],
   "outputs": [
    {
     "name": "stdout",
     "output_type": "stream",
     "text": [
      "Connected to MongoDB\n",
      "1/162: Goldmetal: 2D 오브젝트🧍만들기 [유니티 뱀서라이크 01]: https://www.youtube.com/watch?v=qOTbP9ciJ88\n",
      "키포인트 생성!!\n"
     ]
    },
    {
     "name": "stderr",
     "output_type": "stream",
     "text": [
      "INFO:httpx:HTTP Request: POST https://api.openai.com/v1/chat/completions \"HTTP/1.1 200 OK\"\n"
     ]
    },
    {
     "name": "stdout",
     "output_type": "stream",
     "text": [
      "2/162: Goldmetal: 플레이어 이동🚶구현하기 [유니티 뱀서라이크 02]: https://www.youtube.com/watch?v=YAu4yWU5D5U\n",
      "키포인트 생성!!\n"
     ]
    },
    {
     "name": "stderr",
     "output_type": "stream",
     "text": [
      "INFO:httpx:HTTP Request: POST https://api.openai.com/v1/chat/completions \"HTTP/1.1 200 OK\"\n"
     ]
    },
    {
     "name": "stdout",
     "output_type": "stream",
     "text": [
      "3/162: Goldmetal: 새로운 인풋시스템🎮적용하기 [유니티 뱀서라이크 02+]: https://www.youtube.com/watch?v=tKMnVBTes0M\n",
      "키포인트 생성!!\n"
     ]
    },
    {
     "name": "stderr",
     "output_type": "stream",
     "text": [
      "INFO:httpx:HTTP Request: POST https://api.openai.com/v1/chat/completions \"HTTP/1.1 200 OK\"\n"
     ]
    },
    {
     "name": "stdout",
     "output_type": "stream",
     "text": [
      "4/162: Goldmetal: 2D 셀 애니메이션🏃제작하기 [유니티 뱀서라이크 03]: https://www.youtube.com/watch?v=vizfd1TeRMI\n",
      "키포인트 생성!!\n"
     ]
    },
    {
     "name": "stderr",
     "output_type": "stream",
     "text": [
      "INFO:httpx:HTTP Request: POST https://api.openai.com/v1/chat/completions \"HTTP/1.1 200 OK\"\n"
     ]
    },
    {
     "name": "stdout",
     "output_type": "stream",
     "text": [
      "5/162: Goldmetal: 무한🌍맵 이동 [유니티 뱀서라이크 04]: https://www.youtube.com/watch?v=SNjgew0VhHY\n",
      "키포인트 생성!!\n"
     ]
    },
    {
     "name": "stderr",
     "output_type": "stream",
     "text": [
      "INFO:httpx:HTTP Request: POST https://api.openai.com/v1/chat/completions \"HTTP/1.1 200 OK\"\n"
     ]
    },
    {
     "name": "stdout",
     "output_type": "stream",
     "text": [
      "6/162: Goldmetal: 몬스터🧟만들기 [유니티 뱀서라이크 05]: https://www.youtube.com/watch?v=0aUCu1BcZxs\n",
      "키포인트 생성!!\n"
     ]
    },
    {
     "name": "stderr",
     "output_type": "stream",
     "text": [
      "INFO:httpx:HTTP Request: POST https://api.openai.com/v1/chat/completions \"HTTP/1.1 200 OK\"\n"
     ]
    },
    {
     "name": "stdout",
     "output_type": "stream",
     "text": [
      "7/162: Goldmetal: 오브젝트 풀링🏊으로 소환하기 [유니티 뱀서라이크 06]: https://www.youtube.com/watch?v=A7mfPH8jyBE\n",
      "키포인트 생성!!\n"
     ]
    },
    {
     "name": "stderr",
     "output_type": "stream",
     "text": [
      "INFO:httpx:HTTP Request: POST https://api.openai.com/v1/chat/completions \"HTTP/1.1 200 OK\"\n"
     ]
    },
    {
     "name": "stdout",
     "output_type": "stream",
     "text": [
      "8/162: Goldmetal: 소환 레벨⏳적용하기 [유니티 뱀서라이크 06+]: https://www.youtube.com/watch?v=SSg_9q-8h-A\n",
      "키포인트 생성!!\n"
     ]
    },
    {
     "name": "stderr",
     "output_type": "stream",
     "text": [
      "INFO:httpx:HTTP Request: POST https://api.openai.com/v1/chat/completions \"HTTP/1.1 200 OK\"\n"
     ]
    },
    {
     "name": "stdout",
     "output_type": "stream",
     "text": [
      "9/162: Goldmetal: 회전하는🪓근접무기 구현 [유니티 뱀서라이크 07]: https://www.youtube.com/watch?v=HPJVVcRKwn0\n",
      "키포인트 생성!!\n"
     ]
    },
    {
     "name": "stderr",
     "output_type": "stream",
     "text": [
      "INFO:httpx:HTTP Request: POST https://api.openai.com/v1/chat/completions \"HTTP/1.1 200 OK\"\n"
     ]
    },
    {
     "name": "stdout",
     "output_type": "stream",
     "text": [
      "10/162: Goldmetal: 자동🎯원거리 공격 구현 [유니티 뱀서라이크 08]: https://www.youtube.com/watch?v=dBQHtMI-Og4\n",
      "키포인트 생성!!\n"
     ]
    },
    {
     "name": "stderr",
     "output_type": "stream",
     "text": [
      "INFO:httpx:HTTP Request: POST https://api.openai.com/v1/chat/completions \"HTTP/1.1 200 OK\"\n"
     ]
    },
    {
     "name": "stdout",
     "output_type": "stream",
     "text": [
      "11/162: Goldmetal: 타격감🌟있는 몬스터 처치 만들기 [유니티 뱀서라이크 09]: https://www.youtube.com/watch?v=JRaIlTEmvHY\n",
      "키포인트 생성!!\n"
     ]
    },
    {
     "name": "stderr",
     "output_type": "stream",
     "text": [
      "INFO:httpx:HTTP Request: POST https://api.openai.com/v1/chat/completions \"HTTP/1.1 200 OK\"\n"
     ]
    },
    {
     "name": "stdout",
     "output_type": "stream",
     "text": [
      "12/162: Goldmetal: HUD📐제작하기 [유니티 뱀서라이크 10]: https://www.youtube.com/watch?v=ip0xffLSWlk\n",
      "키포인트 생성!!\n"
     ]
    },
    {
     "name": "stderr",
     "output_type": "stream",
     "text": [
      "INFO:httpx:HTTP Request: POST https://api.openai.com/v1/chat/completions \"HTTP/1.1 200 OK\"\n"
     ]
    },
    {
     "name": "stdout",
     "output_type": "stream",
     "text": [
      "13/162: Goldmetal: 능력 업그레이드💪구현 [유니티 뱀서라이크 11]: https://www.youtube.com/watch?v=-47pjK-P888\n",
      "키포인트 생성!!\n"
     ]
    },
    {
     "name": "stderr",
     "output_type": "stream",
     "text": [
      "INFO:httpx:HTTP Request: POST https://api.openai.com/v1/chat/completions \"HTTP/1.1 200 OK\"\n"
     ]
    },
    {
     "name": "stdout",
     "output_type": "stream",
     "text": [
      "14/162: Goldmetal: 플레이어 무기 장착 표현하기 [유니티 뱀서라이크 11+]: https://www.youtube.com/watch?v=NE5j8YmJ5Ds\n",
      "키포인트 생성!!\n"
     ]
    },
    {
     "name": "stderr",
     "output_type": "stream",
     "text": [
      "INFO:httpx:HTTP Request: POST https://api.openai.com/v1/chat/completions \"HTTP/1.1 200 OK\"\n"
     ]
    },
    {
     "name": "stdout",
     "output_type": "stream",
     "text": [
      "15/162: Goldmetal: 레벨업🥳시스템 [유니티 뱀서라이크 12]: https://www.youtube.com/watch?v=eo8bLO7kHVo\n",
      "키포인트 생성!!\n"
     ]
    },
    {
     "name": "stderr",
     "output_type": "stream",
     "text": [
      "INFO:httpx:HTTP Request: POST https://api.openai.com/v1/chat/completions \"HTTP/1.1 200 OK\"\n"
     ]
    },
    {
     "name": "stdout",
     "output_type": "stream",
     "text": [
      "16/162: Goldmetal: 게임 시작과 종료 [유니티 뱀서라이크 13]: https://www.youtube.com/watch?v=Lt2Q9glJlw0\n",
      "키포인트 생성!!\n"
     ]
    },
    {
     "name": "stderr",
     "output_type": "stream",
     "text": [
      "INFO:httpx:HTTP Request: POST https://api.openai.com/v1/chat/completions \"HTTP/1.1 200 OK\"\n"
     ]
    },
    {
     "name": "stdout",
     "output_type": "stream",
     "text": [
      "17/162: Goldmetal: 플레이 캐릭터🧑‍🤝‍🧑선택 [유니티 뱀서라이크 14]: https://www.youtube.com/watch?v=vJACbWBDa90\n",
      "키포인트 생성!!\n"
     ]
    },
    {
     "name": "stderr",
     "output_type": "stream",
     "text": [
      "INFO:httpx:HTTP Request: POST https://api.openai.com/v1/chat/completions \"HTTP/1.1 200 OK\"\n"
     ]
    },
    {
     "name": "stdout",
     "output_type": "stream",
     "text": [
      "18/162: Goldmetal: 캐릭터 해금🔓시스템 [유니티 뱀서라이크 14+]: https://www.youtube.com/watch?v=QxsH5fE0iAo\n",
      "키포인트 생성!!\n"
     ]
    },
    {
     "name": "stderr",
     "output_type": "stream",
     "text": [
      "INFO:httpx:HTTP Request: POST https://api.openai.com/v1/chat/completions \"HTTP/1.1 200 OK\"\n"
     ]
    },
    {
     "name": "stdout",
     "output_type": "stream",
     "text": [
      "19/162: Goldmetal: 편리한 오디오🔊시스템 구축 [유니티 뱀서라이크 15]: https://www.youtube.com/watch?v=YPEkpwPrmPk\n",
      "키포인트 생성!!\n"
     ]
    },
    {
     "name": "stderr",
     "output_type": "stream",
     "text": [
      "INFO:httpx:HTTP Request: POST https://api.openai.com/v1/chat/completions \"HTTP/1.1 200 OK\"\n"
     ]
    },
    {
     "name": "stdout",
     "output_type": "stream",
     "text": [
      "20/162: Goldmetal: 로직🛠️보완하기 [유니티 뱀서라이크 16]: https://www.youtube.com/watch?v=XslHd_0oVXg\n",
      "키포인트 생성!!\n"
     ]
    },
    {
     "name": "stderr",
     "output_type": "stream",
     "text": [
      "INFO:httpx:HTTP Request: POST https://api.openai.com/v1/chat/completions \"HTTP/1.1 200 OK\"\n"
     ]
    },
    {
     "name": "stdout",
     "output_type": "stream",
     "text": [
      "21/162: Goldmetal: 모바일📱빌드하기 [유니티 뱀서라이크 17]: https://www.youtube.com/watch?v=O5Qvq4dypOg\n",
      "키포인트 생성!!\n"
     ]
    },
    {
     "name": "stderr",
     "output_type": "stream",
     "text": [
      "INFO:httpx:HTTP Request: POST https://api.openai.com/v1/chat/completions \"HTTP/1.1 200 OK\"\n"
     ]
    },
    {
     "name": "stdout",
     "output_type": "stream",
     "text": [
      "22/162: Goldmetal: 2D 종스크롤 슈팅 -  플레이어 이동 구현하기 [유니티 기초 강좌 B27 + 에셋 다운로드]: https://www.youtube.com/watch?v=ETYzjbnLixY\n",
      "키포인트 생성!!\n"
     ]
    },
    {
     "name": "stderr",
     "output_type": "stream",
     "text": [
      "INFO:httpx:HTTP Request: POST https://api.openai.com/v1/chat/completions \"HTTP/1.1 200 OK\"\n"
     ]
    },
    {
     "name": "stdout",
     "output_type": "stream",
     "text": [
      "23/162: Goldmetal: 2D 종스크롤 슈팅 -  총알발사 구현하기 [유니티 기초 강좌 B28]: https://www.youtube.com/watch?v=JUG0GnsJHQw\n",
      "키포인트 생성!!\n"
     ]
    },
    {
     "name": "stderr",
     "output_type": "stream",
     "text": [
      "INFO:httpx:HTTP Request: POST https://api.openai.com/v1/chat/completions \"HTTP/1.1 200 OK\"\n"
     ]
    },
    {
     "name": "stdout",
     "output_type": "stream",
     "text": [
      "24/162: Goldmetal: 2D 종스크롤 슈팅 -  적 비행기 만들기 [유니티 기초 강좌 B29]: https://www.youtube.com/watch?v=lKFka1regy8\n",
      "키포인트 생성!!\n"
     ]
    },
    {
     "name": "stderr",
     "output_type": "stream",
     "text": [
      "INFO:httpx:HTTP Request: POST https://api.openai.com/v1/chat/completions \"HTTP/1.1 200 OK\"\n"
     ]
    },
    {
     "name": "stdout",
     "output_type": "stream",
     "text": [
      "25/162: Goldmetal: 2D 종스크롤 슈팅 -  적 전투와 피격 이벤트 만들기 [유니티 기초 강좌 B30]: https://www.youtube.com/watch?v=OI7BvnN4zLE\n",
      "키포인트 생성!!\n"
     ]
    },
    {
     "name": "stderr",
     "output_type": "stream",
     "text": [
      "INFO:httpx:HTTP Request: POST https://api.openai.com/v1/chat/completions \"HTTP/1.1 200 OK\"\n"
     ]
    },
    {
     "name": "stdout",
     "output_type": "stream",
     "text": [
      "26/162: Goldmetal: 2D 종스크롤 슈팅 -  UI 간단하게 완성하기 [유니티 기초 강좌 B31]: https://www.youtube.com/watch?v=qXa7y1Que6s\n",
      "키포인트 생성!!\n"
     ]
    },
    {
     "name": "stderr",
     "output_type": "stream",
     "text": [
      "INFO:httpx:HTTP Request: POST https://api.openai.com/v1/chat/completions \"HTTP/1.1 200 OK\"\n"
     ]
    },
    {
     "name": "stdout",
     "output_type": "stream",
     "text": [
      "27/162: Goldmetal: 2D 종스크롤 슈팅 - 아이템과 필살기 구현하기 [유니티 기초 강좌 B32]: https://www.youtube.com/watch?v=RLbcov_aGfo\n",
      "키포인트 생성!!\n"
     ]
    },
    {
     "name": "stderr",
     "output_type": "stream",
     "text": [
      "INFO:httpx:HTTP Request: POST https://api.openai.com/v1/chat/completions \"HTTP/1.1 200 OK\"\n"
     ]
    },
    {
     "name": "stdout",
     "output_type": "stream",
     "text": [
      "28/162: Goldmetal: 2D 종스크롤 슈팅 - 원근감있는 무한 배경 만들기 [유니티 기초 강좌 B33]: https://www.youtube.com/watch?v=KUQAULcpYZU\n",
      "키포인트 생성!!\n"
     ]
    },
    {
     "name": "stderr",
     "output_type": "stream",
     "text": [
      "INFO:httpx:HTTP Request: POST https://api.openai.com/v1/chat/completions \"HTTP/1.1 200 OK\"\n"
     ]
    },
    {
     "name": "stdout",
     "output_type": "stream",
     "text": [
      "29/162: Goldmetal: 2D 종스크롤 슈팅 - 최적화의 기본, 오브젝트 풀링 (어려움!) [유니티 기초 강좌 B34]: https://www.youtube.com/watch?v=x-5eHMRSgeg\n",
      "키포인트 생성!!\n"
     ]
    },
    {
     "name": "stderr",
     "output_type": "stream",
     "text": [
      "INFO:httpx:HTTP Request: POST https://api.openai.com/v1/chat/completions \"HTTP/1.1 200 OK\"\n"
     ]
    },
    {
     "name": "stdout",
     "output_type": "stream",
     "text": [
      "30/162: Goldmetal: 2D 종스크롤 슈팅 - 텍스트파일을 이용한 커스텀 배치 구현 [유니티 기초 강좌 B35]: https://www.youtube.com/watch?v=yBjsGYUdyAA\n",
      "키포인트 생성!!\n"
     ]
    },
    {
     "name": "stderr",
     "output_type": "stream",
     "text": [
      "INFO:httpx:HTTP Request: POST https://api.openai.com/v1/chat/completions \"HTTP/1.1 200 OK\"\n"
     ]
    },
    {
     "name": "stdout",
     "output_type": "stream",
     "text": [
      "31/162: Goldmetal: 2D 종스크롤 슈팅 - 따라다니는 보조무기 만들기 [유니티 기초 강좌 B36]: https://www.youtube.com/watch?v=QPwF2Lsf7c8\n",
      "키포인트 생성!!\n"
     ]
    },
    {
     "name": "stderr",
     "output_type": "stream",
     "text": [
      "INFO:httpx:HTTP Request: POST https://api.openai.com/v1/chat/completions \"HTTP/1.1 200 OK\"\n"
     ]
    },
    {
     "name": "stdout",
     "output_type": "stream",
     "text": [
      "32/162: Goldmetal: 2D 종스크롤 슈팅 - 탄막을 뿜어대는 보스 만들기 [유니티 기초 강좌 B37]: https://www.youtube.com/watch?v=dnMVMBVpgYA\n",
      "키포인트 생성!!\n"
     ]
    },
    {
     "name": "stderr",
     "output_type": "stream",
     "text": [
      "INFO:httpx:HTTP Request: POST https://api.openai.com/v1/chat/completions \"HTTP/1.1 200 OK\"\n"
     ]
    },
    {
     "name": "stdout",
     "output_type": "stream",
     "text": [
      "33/162: Goldmetal: 2D 종스크롤 슈팅 - 모바일 슈팅게임 만들기 [유니티 기초 강좌 BE4]: https://www.youtube.com/watch?v=wM2IfVuEYYE\n",
      "키포인트 생성!!\n"
     ]
    },
    {
     "name": "stderr",
     "output_type": "stream",
     "text": [
      "INFO:httpx:HTTP Request: POST https://api.openai.com/v1/chat/completions \"HTTP/1.1 200 OK\"\n"
     ]
    },
    {
     "name": "stdout",
     "output_type": "stream",
     "text": [
      "34/162: Goldmetal: 탑다운 2D RPG - 도트 타일맵으로 쉽게 준비하기 [유니티 기초 강좌 B20 + 에셋 다운로드]: https://www.youtube.com/watch?v=JY-KFx3OsJo\n",
      "키포인트 생성!!\n"
     ]
    },
    {
     "name": "stderr",
     "output_type": "stream",
     "text": [
      "INFO:httpx:HTTP Request: POST https://api.openai.com/v1/chat/completions \"HTTP/1.1 200 OK\"\n"
     ]
    },
    {
     "name": "stdout",
     "output_type": "stream",
     "text": [
      "35/162: Goldmetal: 탑다운 2D RPG - 쯔꾸르식 액션 구현하기 [유니티 기초 강좌 B21]: https://www.youtube.com/watch?v=bZVa6C6vRBQ\n",
      "키포인트 생성!!\n"
     ]
    },
    {
     "name": "stderr",
     "output_type": "stream",
     "text": [
      "INFO:httpx:HTTP Request: POST https://api.openai.com/v1/chat/completions \"HTTP/1.1 200 OK\"\n"
     ]
    },
    {
     "name": "stdout",
     "output_type": "stream",
     "text": [
      "36/162: Goldmetal: 탑다운 2D RPG - 대화창 UI 구축하기 [유니티 기초 강좌 B22]: https://www.youtube.com/watch?v=jVBiGhlwhZg\n",
      "키포인트 생성!!\n"
     ]
    },
    {
     "name": "stderr",
     "output_type": "stream",
     "text": [
      "INFO:httpx:HTTP Request: POST https://api.openai.com/v1/chat/completions \"HTTP/1.1 200 OK\"\n"
     ]
    },
    {
     "name": "stdout",
     "output_type": "stream",
     "text": [
      "37/162: Goldmetal: 탑다운 2D RPG - 대화 시스템 구현하기 [유니티 기초 강좌 B23]: https://www.youtube.com/watch?v=qJjfYvEYKiE\n",
      "키포인트 생성!!\n"
     ]
    },
    {
     "name": "stderr",
     "output_type": "stream",
     "text": [
      "INFO:httpx:HTTP Request: POST https://api.openai.com/v1/chat/completions \"HTTP/1.1 200 OK\"\n"
     ]
    },
    {
     "name": "stdout",
     "output_type": "stream",
     "text": [
      "38/162: Goldmetal: 탑다운 2D RPG - 퀘스트 시스템 구현하기 [유니티 기초 강좌 B24]: https://www.youtube.com/watch?v=RwndWebxbmo\n",
      "키포인트 생성!!\n"
     ]
    },
    {
     "name": "stderr",
     "output_type": "stream",
     "text": [
      "INFO:httpx:HTTP Request: POST https://api.openai.com/v1/chat/completions \"HTTP/1.1 200 OK\"\n"
     ]
    },
    {
     "name": "stdout",
     "output_type": "stream",
     "text": [
      "39/162: Goldmetal: 탑다운 2D RPG - 대화 애니메이션 느낌있게 만들기 [유니티 기초 강좌 B25]: https://www.youtube.com/watch?v=emGwkkM6bnc\n",
      "키포인트 생성!!\n"
     ]
    },
    {
     "name": "stderr",
     "output_type": "stream",
     "text": [
      "INFO:httpx:HTTP Request: POST https://api.openai.com/v1/chat/completions \"HTTP/1.1 200 OK\"\n"
     ]
    },
    {
     "name": "stdout",
     "output_type": "stream",
     "text": [
      "40/162: Goldmetal: 탑다운 2D RPG - 서브메뉴와 저장기능 만들기 [유니티 기초 강좌 B26]: https://www.youtube.com/watch?v=mYjUVmws2F0\n",
      "키포인트 생성!!\n"
     ]
    },
    {
     "name": "stderr",
     "output_type": "stream",
     "text": [
      "INFO:httpx:HTTP Request: POST https://api.openai.com/v1/chat/completions \"HTTP/1.1 200 OK\"\n"
     ]
    },
    {
     "name": "stdout",
     "output_type": "stream",
     "text": [
      "41/162: Goldmetal: 탑다운 2D RPG - 모바일 UI & 안드로이드 빌드 [유니티 기초 강좌 BE3]: https://www.youtube.com/watch?v=IJxc-ANxO-w\n",
      "42/162: Goldmetal: 2D 플랫포머 - 프로젝트 준비하기 [유니티 기초 강좌 B13 + 에셋 다운로드]: https://www.youtube.com/watch?v=v_Y5FH_tCpc\n",
      "43/162: Goldmetal: 2D 플랫포머 - 아틀라스와 애니메이션 [유니티 기초 강좌 B14]: https://www.youtube.com/watch?v=IkvYstCzcoc\n",
      "44/162: Goldmetal: 2D 플랫포머 - 플레이어 이동 구현하기 [유니티 기초 강좌 B15]: https://www.youtube.com/watch?v=Z4iULRbiSTg\n",
      "45/162: Goldmetal: 2D 플랫포머 - 플레이어 점프 구현하기 [유니티 기초 강좌 B16]: https://www.youtube.com/watch?v=2SikOdH7xvQ\n",
      "46/162: Goldmetal: 2D 플랫포머 - 타일맵으로 플랫폼 만들기 [유니티 기초 강좌 B17]: https://www.youtube.com/watch?v=f8ixw9IpnD8\n",
      "47/162: Goldmetal: 2D 플랫포머 - 몬스터 AI 구현하기 [유니티 기초 강좌 B18]: https://www.youtube.com/watch?v=7MYUOzgZTf8\n",
      "48/162: Goldmetal: 2D 플랫포머 - 플레이어 피격 이벤트 구현하기 [유니티 기초 강좌 B19]: https://www.youtube.com/watch?v=epZFE5Hpbdc\n",
      "49/162: Goldmetal: 2D 플랫포머 - 스테이지를 넘나드는 게임 완성하기 [유니티 기초 강좌 BE2]: https://www.youtube.com/watch?v=GHUJMXtHKL0\n",
      "50/162: Unity Korea: 더욱 편리한 카메라워킹 패키지 유니티6의 시네머신3 소개: https://www.youtube.com/watch?v=350EWYC_1ZA\n",
      "51/162: Unity Korea: 편리한 기능과 API가 추가된 Unity 6 Physics 2D: https://www.youtube.com/watch?v=Q7mHfbEzaJM\n",
      "52/162: Unity Korea: [Unity 6] Unity 6를 소개합니다: https://www.youtube.com/watch?v=r4aZypBrFHE\n",
      "키포인트 생성!!\n",
      "53/162: Unity Korea: Unity 6 Fantasy Kingdom으로 알아보는 4가지 그래픽스 신기능: https://www.youtube.com/watch?v=3mSO1sMdGxM\n",
      "54/162: Goldmetal: 유니티 뱀서라이크 개발강좌가 온다?! 언데드 서바이버: https://www.youtube.com/watch?v=MmW166cHj54\n",
      "55/162: 고박사의 유니티 노트: [Unity C#] #01 변수 : 변수와 데이터 (Variable and data): https://www.youtube.com/watch?v=YKiTGbPIZKQ\n",
      "56/162: 고박사의 유니티 노트: [Unity C#] #02 변수 : 기본 데이터 형식 (Data type): https://www.youtube.com/watch?v=bA9AVLUSvIo\n",
      "57/162: 고박사의 유니티 노트: [Unity C#] #03 변수 : 데이터의 형 변환 (Type conversion): https://www.youtube.com/watch?v=3NuO7TaWl0s\n",
      "58/162: 고박사의 유니티 노트: [Unity C#] #04 변수 : 상수, 열거형, Nullable, var: https://www.youtube.com/watch?v=O3L2GMcQn1U\n",
      "59/162: 고박사의 유니티 노트: [Unity C#] #05 문자열 다루기: https://www.youtube.com/watch?v=8L_lWH9u2UU\n",
      "60/162: 고박사의 유니티 노트: [Unity C#] #06 연산자: https://www.youtube.com/watch?v=Ci9k6ECcRp0\n",
      "61/162: 고박사의 유니티 노트: [Unity C#] #07 조건문: https://www.youtube.com/watch?v=IvfJigYIrAU\n",
      "62/162: 고박사의 유니티 노트: [Unity C#] #08 반복문: https://www.youtube.com/watch?v=u8pxxQZFVH4\n",
      "63/162: 고박사의 유니티 노트: [Unity C#] 반복문 문제: https://www.youtube.com/watch?v=iao7UL-OBIw\n",
      "키포인트 생성!!\n",
      "64/162: 고박사의 유니티 노트: [Unity C#] #09 배열: https://www.youtube.com/watch?v=rtl5SoWaJvk\n",
      "65/162: 고박사의 유니티 노트: [Unity C#] #10 메소드 (Method): https://www.youtube.com/watch?v=o0Pklkow-AA\n",
      "키포인트 생성!!\n"
     ]
    },
    {
     "name": "stderr",
     "output_type": "stream",
     "text": [
      "INFO:httpx:HTTP Request: POST https://api.openai.com/v1/chat/completions \"HTTP/1.1 200 OK\"\n"
     ]
    },
    {
     "name": "stdout",
     "output_type": "stream",
     "text": [
      "66/162: 고박사의 유니티 노트: [Unity C#] #11 클래스 기초 (Class Basic): https://www.youtube.com/watch?v=wbzF4BNw5Zs\n",
      "67/162: 고박사의 유니티 노트: [Unity C#] #12 클래스 심화 (Class Advanced): https://www.youtube.com/watch?v=Y4mc6C7mYK0\n",
      "키포인트 생성!!\n"
     ]
    },
    {
     "name": "stderr",
     "output_type": "stream",
     "text": [
      "INFO:httpx:HTTP Request: POST https://api.openai.com/v1/chat/completions \"HTTP/1.1 200 OK\"\n"
     ]
    },
    {
     "name": "stdout",
     "output_type": "stream",
     "text": [
      "68/162: 고박사의 유니티 노트: [Unity C#] #13 클래스 추가 기능 (Class Additive Function): https://www.youtube.com/watch?v=2B16TSUyQPU\n",
      "키포인트 생성!!\n"
     ]
    },
    {
     "name": "stderr",
     "output_type": "stream",
     "text": [
      "INFO:httpx:HTTP Request: POST https://api.openai.com/v1/chat/completions \"HTTP/1.1 200 OK\"\n"
     ]
    },
    {
     "name": "stdout",
     "output_type": "stream",
     "text": [
      "69/162: 고박사의 유니티 노트: [Unity C#] #14 프로퍼티 (Property): https://www.youtube.com/watch?v=u0iXSe5IEV8\n",
      "키포인트 생성!!\n"
     ]
    },
    {
     "name": "stderr",
     "output_type": "stream",
     "text": [
      "INFO:httpx:HTTP Request: POST https://api.openai.com/v1/chat/completions \"HTTP/1.1 200 OK\"\n"
     ]
    },
    {
     "name": "stdout",
     "output_type": "stream",
     "text": [
      "70/162: 고박사의 유니티 노트: [Unity C#] #15 컬렉션 (Collection): https://www.youtube.com/watch?v=8WRh8TJkHBc\n",
      "키포인트 생성!!\n"
     ]
    },
    {
     "name": "stderr",
     "output_type": "stream",
     "text": [
      "INFO:httpx:HTTP Request: POST https://api.openai.com/v1/chat/completions \"HTTP/1.1 200 OK\"\n"
     ]
    },
    {
     "name": "stdout",
     "output_type": "stream",
     "text": [
      "71/162: 고박사의 유니티 노트: [Unity C#] #16 일반화 프로그래밍 (Generic Programming): https://www.youtube.com/watch?v=ab83gVHMZNg\n",
      "키포인트 생성!!\n"
     ]
    },
    {
     "name": "stderr",
     "output_type": "stream",
     "text": [
      "INFO:httpx:HTTP Request: POST https://api.openai.com/v1/chat/completions \"HTTP/1.1 200 OK\"\n"
     ]
    },
    {
     "name": "stdout",
     "output_type": "stream",
     "text": [
      "72/162: 고박사의 유니티 노트: [Unity C#] #17 파일입출력(File IO) - Directory, File: https://www.youtube.com/watch?v=argeDbqzUdE\n",
      "키포인트 생성!!\n"
     ]
    },
    {
     "name": "stderr",
     "output_type": "stream",
     "text": [
      "INFO:httpx:HTTP Request: POST https://api.openai.com/v1/chat/completions \"HTTP/1.1 200 OK\"\n"
     ]
    },
    {
     "name": "stdout",
     "output_type": "stream",
     "text": [
      "73/162: 고박사의 유니티 노트: [Unity C#] #18 파일입출력(File IO) - 스트림과 객체 직렬화: https://www.youtube.com/watch?v=SvUYPh6lnqo\n",
      "키포인트 생성!!\n"
     ]
    },
    {
     "name": "stderr",
     "output_type": "stream",
     "text": [
      "INFO:httpx:HTTP Request: POST https://api.openai.com/v1/chat/completions \"HTTP/1.1 200 OK\"\n"
     ]
    },
    {
     "name": "stdout",
     "output_type": "stream",
     "text": [
      "74/162: 고박사의 유니티 노트: [유니티 C#] #19 파일 브라우저 - 현재 폴더의 파일 목록 출력: https://www.youtube.com/watch?v=Bwi7EXCqscc\n",
      "키포인트 생성!!\n"
     ]
    },
    {
     "name": "stderr",
     "output_type": "stream",
     "text": [
      "INFO:httpx:HTTP Request: POST https://api.openai.com/v1/chat/completions \"HTTP/1.1 200 OK\"\n"
     ]
    },
    {
     "name": "stdout",
     "output_type": "stream",
     "text": [
      "75/162: 고박사의 유니티 노트: [유니티 C#] #20 파일 브라우저 - 폴더(Directory) 이동: https://www.youtube.com/watch?v=fsgEgPdHmFk\n",
      "키포인트 생성!!\n"
     ]
    },
    {
     "name": "stderr",
     "output_type": "stream",
     "text": [
      "INFO:httpx:HTTP Request: POST https://api.openai.com/v1/chat/completions \"HTTP/1.1 200 OK\"\n"
     ]
    },
    {
     "name": "stdout",
     "output_type": "stream",
     "text": [
      "76/162: 고박사의 유니티 노트: [유니티 C#] #21 파일 브라우저 - 문서, 일반 파일 선택 : 파일 정보 출력: https://www.youtube.com/watch?v=wBzAe9Ewsc4\n",
      "키포인트 생성!!\n"
     ]
    },
    {
     "name": "stderr",
     "output_type": "stream",
     "text": [
      "INFO:httpx:HTTP Request: POST https://api.openai.com/v1/chat/completions \"HTTP/1.1 200 OK\"\n"
     ]
    },
    {
     "name": "stdout",
     "output_type": "stream",
     "text": [
      "77/162: 고박사의 유니티 노트: [유니티 C#] #22 파일 브라우저 - PNG, JPG 파일 선택 : 이미지 출력: https://www.youtube.com/watch?v=ydS6u2bQI84\n",
      "키포인트 생성!!\n"
     ]
    },
    {
     "name": "stderr",
     "output_type": "stream",
     "text": [
      "INFO:httpx:HTTP Request: POST https://api.openai.com/v1/chat/completions \"HTTP/1.1 200 OK\"\n"
     ]
    },
    {
     "name": "stdout",
     "output_type": "stream",
     "text": [
      "78/162: 고박사의 유니티 노트: [유니티 C#] #23 파일 브라우저 - MP3 파일 선택 : 사운드 재생: https://www.youtube.com/watch?v=IvXg2PDb034\n",
      "키포인트 생성!!\n"
     ]
    },
    {
     "name": "stderr",
     "output_type": "stream",
     "text": [
      "INFO:httpx:HTTP Request: POST https://api.openai.com/v1/chat/completions \"HTTP/1.1 200 OK\"\n"
     ]
    },
    {
     "name": "stdout",
     "output_type": "stream",
     "text": [
      "79/162: 고박사의 유니티 노트: [유니티 C#] #24 파일 브라우저 - MP4 파일 선택 : 동영상 재생: https://www.youtube.com/watch?v=uqBQZqFMxkI\n",
      "키포인트 생성!!\n"
     ]
    },
    {
     "name": "stderr",
     "output_type": "stream",
     "text": [
      "INFO:httpx:HTTP Request: POST https://api.openai.com/v1/chat/completions \"HTTP/1.1 200 OK\"\n"
     ]
    },
    {
     "name": "stdout",
     "output_type": "stream",
     "text": [
      "80/162: 고박사의 유니티 노트: How to make a Minimap UI in Unity!: https://www.youtube.com/watch?v=IA9UfytQ5R8\n",
      "키포인트 생성!!\n"
     ]
    },
    {
     "name": "stderr",
     "output_type": "stream",
     "text": [
      "INFO:httpx:HTTP Request: POST https://api.openai.com/v1/chat/completions \"HTTP/1.1 200 OK\"\n"
     ]
    },
    {
     "name": "stdout",
     "output_type": "stream",
     "text": [
      "81/162: 고박사의 유니티 노트: How to make a HP/MP UI in Unity!: https://www.youtube.com/watch?v=C0y00zDBK3c\n",
      "82/162: 고박사의 유니티 노트: How to make a Dialog System in Unity!: https://www.youtube.com/watch?v=1fRbGvQlIEQ\n",
      "83/162: 고박사의 유니티 노트: How to make a Excel Importer in Unity!: https://www.youtube.com/watch?v=2oip0H7VgPM\n",
      "84/162: 고박사의 유니티 노트: How to make a Keep In Screen UI in Unity!: https://www.youtube.com/watch?v=emuT10nz5Ho\n",
      "85/162: 고박사의 유니티 노트: How to make a RTS Unit Control in Unity!: https://www.youtube.com/watch?v=vxCMOPCYeM0\n",
      "86/162: 고박사의 유니티 노트: How to make a FSM in Unity! [01]: https://www.youtube.com/watch?v=O_NJaHpbjaI\n",
      "87/162: 고박사의 유니티 노트: How to make a FSM in Unity! [02]: https://www.youtube.com/watch?v=4rmf0S885X4\n",
      "88/162: 고박사의 유니티 노트: How to make a FSM in Unity! [03]: https://www.youtube.com/watch?v=DeJO4zOFG9E\n",
      "89/162: 고박사의 유니티 노트: How to make a FSM in Unity! [04]: https://www.youtube.com/watch?v=xGu-sTL73iU\n",
      "90/162: 고박사의 유니티 노트: 유니티 룰렛 시스템 How to make a Roulette in Unity!: https://www.youtube.com/watch?v=L4tVAWcWHbs\n",
      "91/162: 고박사의 유니티 노트: 2D 플랫포머 캐릭터 이동 2D Platformer Movement with Raycast: https://www.youtube.com/watch?v=vfpnyz1a_no\n",
      "92/162: 고박사의 유니티 노트: 격자맵에서 부드러운 이동 구현 How to make a Grid based Smooth Movement in Unity!: https://www.youtube.com/watch?v=JZYFhNpobQo\n",
      "93/162: 고박사의 유니티 노트: 겹치지 않는 난수 생성 How to make a Non-Overlapping Random Numbers in Unity!: https://www.youtube.com/watch?v=eh04LRnh2Tg\n",
      "94/162: 고박사의 유니티 노트: How to make a Primitive Objects in Unity!: https://www.youtube.com/watch?v=unuZi0FEt8k\n",
      "95/162: 고박사의 유니티 노트: How to make a Primitive Objects II in Unity!: https://www.youtube.com/watch?v=atVEkx4v5cM\n",
      "96/162: 고박사의 유니티 노트: How to make a Polygon Generator in Unity!: https://www.youtube.com/watch?v=9lzASRQuWYM\n",
      "97/162: 고박사의 유니티 노트: 라인렌더러(LineRenderer) A to Z [Part 01][Basic]: https://www.youtube.com/watch?v=biL29u6YFpk\n",
      "98/162: 고박사의 유니티 노트: 라인렌더러(LineRenderer) A to Z [Part 02][Shapes]: https://www.youtube.com/watch?v=wAY9exBIw3A\n",
      "99/162: 고박사의 유니티 노트: 라인렌더러(LineRenderer) A to Z [Part 03][Morphology Conversion]: https://www.youtube.com/watch?v=fLdxtwm76Ok\n",
      "100/162: 고박사의 유니티 노트: 라인렌더러(LineRenderer) A to Z [Part 04][Collision]: https://www.youtube.com/watch?v=GXaW4GiyCHU\n",
      "101/162: 고박사의 유니티 노트: 2D 배경 스크롤 2D Infinite Parallax Background: https://www.youtube.com/watch?v=uyttyyB1HjI\n",
      "102/162: 고박사의 유니티 노트: 튜토리얼 제작 How to create Tutorial in Unity!: https://www.youtube.com/watch?v=82l6GZz32E8\n",
      "103/162: 고박사의 유니티 노트: 모바일 재화 축약 표현 (K, M, G, T, P, E, Z): https://www.youtube.com/watch?v=FgnLBO4DPA8\n",
      "104/162: 고박사의 유니티 노트: 선형 보간 (linear interpolate) - Lerp() 메소드: https://www.youtube.com/watch?v=zRfq2rZa9Ho\n",
      "105/162: 고박사의 유니티 노트: 확률을 이용한 오브젝트 생성 비율 조절 how to create Random Spawner with Probability in Unity!: https://www.youtube.com/watch?v=plrsQbdimpI\n",
      "106/162: 고박사의 유니티 노트: 씬을 실행할 때 현재 씬 자동 저장 how to create Save On Playmode in Unity!: https://www.youtube.com/watch?v=VJwLcSyY_uE\n",
      "107/162: 고박사의 유니티 노트: 0번 씬 또는 현재 씬 재생 how to create Edit Start Scene in Unity!: https://www.youtube.com/watch?v=8QBeWNb2yaw\n",
      "108/162: 고박사의 유니티 노트: [Custom Editor] Editor 폴더, Editor Window 제작: https://www.youtube.com/watch?v=_7EOwJEEVPs\n",
      "109/162: 고박사의 유니티 노트: [Custom Editor] GUI, GUILayout, EditorGUI, EditorGUILayout: https://www.youtube.com/watch?v=5BOMX5FHbD0\n",
      "110/162: 고박사의 유니티 노트: [Custom Editor] Field Methods - Input, Color, Object, Dropdown: https://www.youtube.com/watch?v=cImwp_-8hZY\n",
      "111/162: 고박사의 유니티 노트: [Custom Editor] Toggle - Toggle, Button Style Toggle, Toggle Group: https://www.youtube.com/watch?v=9LtIS4laeWw\n",
      "112/162: 고박사의 유니티 노트: [Custom Editor] Slider, HelpBox, Knob, IndentLevel, ProgressBar: https://www.youtube.com/watch?v=uOj9FiIKw_0\n",
      "113/162: 고박사의 유니티 노트: [Custom Editor] Begin/End Group: https://www.youtube.com/watch?v=FFuD4pRJaUg\n",
      "114/162: 고박사의 유니티 노트: 씬 자동 저장 how to create Scene Auto Save in Unity!: https://www.youtube.com/watch?v=2GtpnMbRRn0\n",
      "115/162: 고박사의 유니티 노트: 유니티 어트리뷰트 how to use attributes in Unity!: https://www.youtube.com/watch?v=yO0UxTo5Elk\n",
      "116/162: 고박사의 유니티 노트: 유니티 어트리뷰트 2   how to use attributes in Unity!: https://www.youtube.com/watch?v=dkbf75dt0AY\n",
      "키포인트 생성!!\n"
     ]
    },
    {
     "name": "stderr",
     "output_type": "stream",
     "text": [
      "INFO:httpx:HTTP Request: POST https://api.openai.com/v1/chat/completions \"HTTP/1.1 200 OK\"\n"
     ]
    },
    {
     "name": "stdout",
     "output_type": "stream",
     "text": [
      "117/162: 고박사의 유니티 노트: 폭발 오브젝트  how to create Explosive Object in Unity!: https://www.youtube.com/watch?v=snh2HrpV4No\n",
      "키포인트 생성!!\n"
     ]
    },
    {
     "name": "stderr",
     "output_type": "stream",
     "text": [
      "INFO:httpx:HTTP Request: POST https://api.openai.com/v1/chat/completions \"HTTP/1.1 200 OK\"\n"
     ]
    },
    {
     "name": "stdout",
     "output_type": "stream",
     "text": [
      "118/162: 고박사의 유니티 노트: 경로 따라가기  how to create Follow Path in Unity!: https://www.youtube.com/watch?v=ZVpdSmN_Sis\n",
      "키포인트 생성!!\n",
      "119/162: 고박사의 유니티 노트: 목표 에워싸기  how to create Surround Target in Unity!: https://www.youtube.com/watch?v=lMPymM0Q6Rs\n",
      "키포인트 생성!!\n"
     ]
    },
    {
     "name": "stderr",
     "output_type": "stream",
     "text": [
      "INFO:httpx:HTTP Request: POST https://api.openai.com/v1/chat/completions \"HTTP/1.1 200 OK\"\n"
     ]
    },
    {
     "name": "stdout",
     "output_type": "stream",
     "text": [
      "120/162: 고박사의 유니티 노트: 마우스 커서 방향으로 회전  Look At Me!!: https://www.youtube.com/watch?v=XI56ogm7eFI\n",
      "키포인트 생성!!\n"
     ]
    },
    {
     "name": "stderr",
     "output_type": "stream",
     "text": [
      "INFO:httpx:HTTP Request: POST https://api.openai.com/v1/chat/completions \"HTTP/1.1 200 OK\"\n"
     ]
    },
    {
     "name": "stdout",
     "output_type": "stream",
     "text": [
      "121/162: 고박사의 유니티 노트: 반사  how to use Vector3.Reflect in Unity!: https://www.youtube.com/watch?v=uJ9teYEqJ48\n",
      "122/162: 고박사의 유니티 노트: 완전한 어둠 how to create real dark world in Unity!: https://www.youtube.com/watch?v=kDIKrar2maE\n",
      "123/162: 고박사의 유니티 노트: 가장 근접한 목표 탐색 how to find closest target in Unity!: https://www.youtube.com/watch?v=-dBSfaC4Qss\n",
      "124/162: 고박사의 유니티 노트: 직선, 유도, 곡선 발사체 (1) how to create straight, homing, bezier curve projectile in Unity!: https://www.youtube.com/watch?v=hZKk5iXmGG0\n",
      "125/162: 고박사의 유니티 노트: 직선, 유도, 곡선 발사체 (2) how to create straight, homing, bezier curve projectile in Unity!: https://www.youtube.com/watch?v=9X13qf62UQA\n",
      "126/162: 고박사의 유니티 노트: [유니티6] 다중 언어 지원 how to use Localization in Unity!: https://www.youtube.com/watch?v=BVqMfq_ilbA\n",
      "127/162: 고박사의 유니티 노트: [유니티6] 아이템 수집 효과 how to create Item Collect Effect in Unity!: https://www.youtube.com/watch?v=6bg1ltzFor0\n",
      "128/162: 고박사의 유니티 노트: [유니티6] 2D 길 찾기 인공지능 how to use Navmesh 2D in Unity!: https://www.youtube.com/watch?v=y6omNlRAN3Q\n",
      "129/162: 고박사의 유니티 노트: [유니티6] Behavior Tree를 이용한 AI 구현 (순찰) [1/3]   how to use Behavior Tree in Unity!: https://www.youtube.com/watch?v=ZbWbxlCQ6cA\n",
      "130/162: 고박사의 유니티 노트: [유니티6] Behavior Tree를 이용한 AI 구현 (대기, 순찰, 배회) [2/3]: https://www.youtube.com/watch?v=Oa2LW2rxb48\n",
      "131/162: 고박사의 유니티 노트: [유니티6] Behavior Tree를 이용한 AI 구현 (추적, 공격) [3/3]: https://www.youtube.com/watch?v=mRH0i0iqQAM\n",
      "132/162: Unity Korea: [유니티 TIPS] 새로워진 길찾기 AI Navigation 2.0 공략: https://www.youtube.com/watch?v=A0nsAjsJqHg\n",
      "133/162: 오늘코딩: 유니티 시네머신 1 - 기본 컴포넌트 알아보기: https://www.youtube.com/watch?v=DXFrfh1oy3M\n",
      "134/162: 오늘코딩: 2개 이상의 애니메이션을 하나로 합쳐서 표현하는 방법: https://www.youtube.com/watch?v=gj3gMhMZWoE\n",
      "135/162: 오늘코딩: 체력에 따라 애니메이션이 달라지는 방법: https://www.youtube.com/watch?v=5WyebyiOayk\n",
      "136/162: 오늘코딩: 유니티 애니메이션 총정리 1편 - 기초 설명 및 구현: https://www.youtube.com/watch?v=Cru7ZVVgy28\n",
      "137/162: 오늘코딩: 유니티 애니메이션 총정리 2편 -  트랜지션과 파라미터 설명: https://www.youtube.com/watch?v=dLomdF5Z0DU\n",
      "138/162: 오늘코딩: [유니티] 클릭 이동 구현하기 | Navigation(NavMesh): https://www.youtube.com/watch?v=ILefNAZGVFY\n",
      "139/162: 오늘코딩: [유니티] 클릭 이동 구현하기 2 | Navigation(NavMesh): https://www.youtube.com/watch?v=cKBUcXDSqi4\n",
      "140/162: 오늘코딩: 이제는 필수가 되어버린 고급네비메쉬: https://www.youtube.com/watch?v=OIcqe4ad5oA\n",
      "141/162: WER's GAME DEVELOP YOUTUBE: 애니메이션 리타게팅 | 유니티: https://www.youtube.com/watch?v=2zU_FNym3ro\n",
      "142/162: WER's GAME DEVELOP YOUTUBE: 애니메이션 샘플 레이트 | 유니티: https://www.youtube.com/watch?v=aK1lfH8Q3SU\n",
      "143/162: Goldmetal: [프로젝트 MOD] 넥슨이 도전하는 메타버스 플랫폼, 저도 참가합니다!: https://www.youtube.com/watch?v=lJHJPzv3psQ\n",
      "144/162: Unity Korea: [유니티 TIPS] 객체지향의 기본기 Strategy 패턴 | 프로그래밍 디자인패턴: https://www.youtube.com/watch?v=ic2tGGQrq1c\n",
      "145/162: Goldmetal: 네이버 지식iN에서😇신이 되었습니다.: https://www.youtube.com/watch?v=PC6RPrTauK0\n",
      "146/162: Unity Korea: [유니티 TIPS] 객체 생성을 위한 Factory 패턴 | 프로그래밍 디자인패턴: https://www.youtube.com/watch?v=qhtL9EYtB3Q\n",
      "147/162: Unity Korea: [유니티 TIPS] 대량의 인스턴스가 가진 속성을 최적화하는 Flyweight 패턴 | 프로그래밍 디자인패턴: https://www.youtube.com/watch?v=0j3Y_YUV_Mw\n",
      "148/162: Unity Korea: [유니티 TIPS] 어디에서나 사용하는 DirtyFlag 패턴 | 프로그래밍 디자인패턴: https://www.youtube.com/watch?v=6lCrgdLBIGw\n",
      "149/162: SBS 뉴스: 딥시크에게 '시진핑' 평가 물었더니…돌아온 답변은 / SBS 8뉴스: https://www.youtube.com/watch?v=ueLllQ2g7yQ\n",
      "150/162: Unity Korea: [유니티 TIPS] 유니티 최적화를 위한 필수 기본기! Batching 방법 소개: https://www.youtube.com/watch?v=w14yjBlfNeQ\n",
      "151/162: 충주시: 공습경보 공습경보: https://www.youtube.com/watch?v=ohRNywG3Ih0\n",
      "키포인트 생성!!\n",
      "152/162: MBCNEWS: [와글와글] 거무튀튀해진 올림픽 메달‥루이뷔통 '침묵' (2025.01.23/뉴스투데이/MBC): https://www.youtube.com/watch?v=JFiAarerTFo\n",
      "153/162: 돈근육허벅지: 청약통장 고민! 완벽한 해결!!🤩 반드시 보셔야 합니다~!🙏: https://www.youtube.com/watch?v=t-BxtCQyxXA\n",
      "154/162: SBS 뉴스: 1등석 라운지만 즐기고 '티켓 취소'…33차례 반복하다 결국 / SBS / 뉴스딱: https://www.youtube.com/watch?v=SXj2hfK_xeQ\n",
      "키포인트 생성!!\n",
      "155/162: SBS 뉴스: 이재명 \"민생지원금 포기 가능\"…추경 물꼬 트이나? / SBS 8뉴스: https://www.youtube.com/watch?v=UjHTdocIj44\n",
      "156/162: JTBC News: \"밤 열시 KBS 생방\"…등돌린 이상민 진술 속 '반전' #뉴스다 / JTBC News: https://www.youtube.com/watch?v=sfzP0AbWePw\n",
      "키포인트 생성!!\n",
      "157/162: JTBC News: \"여왕벌 왜 없어\"…정읍서 벌통 판매업자 살해 후 암매장한 70대 체포 / JTBC 뉴스룸: https://www.youtube.com/watch?v=U__0hBcOGzo\n",
      "키포인트 생성!!\n",
      "158/162: SBS 뉴스: \"그 돈으로?\" 놀란 미국…딥시크에 묻자 \"이게 중국의 힘\" / SBS 8뉴스: https://www.youtube.com/watch?v=Ekg0jq5WZnw\n",
      "키포인트 생성!!\n",
      "159/162: SBS 뉴스: 삼성 반도체 4분기 영업이익↓…딥시크 영향은? / SBS 8뉴스: https://www.youtube.com/watch?v=s0PzAjGoWB8\n",
      "160/162: SBS 뉴스: 기상캐스터 '괴롭힘' 의혹…고용부, MBC에 '조사 지도' / SBS 8뉴스: https://www.youtube.com/watch?v=p7bbcgj92iA\n",
      "161/162: JTBC News: 중국서 맨홀로 튄 설날 폭죽, 가스 만나 '폭발'…여아 10m 치솟아 / JTBC 뉴스룸: https://www.youtube.com/watch?v=HSmD7FqMoMI\n",
      "162/162: MBCNEWS: 손발 안 맞는 尹 측‥발언 도중 마이크 뺏기도 (2025.02.05/뉴스데스크/MBC): https://www.youtube.com/watch?v=Dx9_ZS4haPM\n",
      "키포인트 생성!!\n"
     ]
    },
    {
     "name": "stderr",
     "output_type": "stream",
     "text": [
      "INFO:httpx:HTTP Request: POST https://api.openai.com/v1/chat/completions \"HTTP/1.1 200 OK\"\n"
     ]
    }
   ],
   "execution_count": 4
  }
 ],
 "metadata": {
  "kernelspec": {
   "display_name": "Python 3",
   "language": "python",
   "name": "python3"
  },
  "language_info": {
   "codemirror_mode": {
    "name": "ipython",
    "version": 2
   },
   "file_extension": ".py",
   "mimetype": "text/x-python",
   "name": "python",
   "nbconvert_exporter": "python",
   "pygments_lexer": "ipython2",
   "version": "2.7.6"
  }
 },
 "nbformat": 4,
 "nbformat_minor": 0
}
