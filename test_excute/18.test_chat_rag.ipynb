{
 "cells": [
  {
   "cell_type": "code",
   "id": "initial_id",
   "metadata": {
    "collapsed": true,
    "ExecuteTime": {
     "end_time": "2025-01-30T19:12:07.294549Z",
     "start_time": "2025-01-30T19:12:06.981060Z"
    }
   },
   "source": [
    "from infrastructure.database.mongo_client import MongoDBClient\n",
    "from infrastructure.repository import YoutubeContentRepository\n",
    "from infrastructure.repository import YoutubeScriptCollectionRepository\n",
    "from infrastructure.repository import YoutubeChatRepository\n",
    "\n",
    "from domain import YouTubeVideoLink, YoutubeChatSession, AdvancedMessageType, AdvancedAIMessage, AdvancedHumanMessage\n",
    "\n",
    "import os\n",
    "from dotenv import load_dotenv\n",
    "from langchain_openai import ChatOpenAI\n",
    "\n",
    "load_dotenv()\n",
    "OPENAI_API_KEY = os.environ['OPENAI_API_KEY']\n",
    "\n",
    "# MongoDB 클라이언트 초기화\n",
    "client = MongoDBClient(uri=os.environ['MONGO_CONNECTION_STRING'])\n",
    "client.connect()\n",
    "\n",
    "# 저장소 초기화\n",
    "youtube_content_repository = YoutubeContentRepository(client)\n",
    "youtube_script_repository = YoutubeScriptCollectionRepository(client)\n",
    "youtube_chat_repository = YoutubeChatRepository(client)\n",
    "\n",
    "# LLM\n",
    "openai_llm = ChatOpenAI(model=\"gpt-4o-mini\", api_key=OPENAI_API_KEY)\n",
    "\n",
    "# url\n",
    "url = 'https://www.youtube.com/watch?v=qOTbP9ciJ88'\n",
    "link = YouTubeVideoLink(url)\n",
    "\n",
    "content = youtube_content_repository.find_by_url(link)\n",
    "script_collection = youtube_script_repository.get(link.url)\n",
    "chat_session = youtube_chat_repository.get_session(link.url)\n",
    "print(content)\n",
    "print(script_collection)\n",
    "print(chat_session)"
   ],
   "outputs": [
    {
     "name": "stdout",
     "output_type": "stream",
     "text": [
      "Connected to MongoDB\n",
      "YouTubeContent(title=2D 오브젝트🧍만들기 [유니티 뱀서라이크 01], url=https://www.youtube.com/watch?v=qOTbP9ciJ88, category=뱀서라이크)\n",
      "YouTubeCollectionScript(youtube_url='https://www.youtube.com/watch?v=qOTbP9ciJ88', auto_script=present, whisper_script=present, refined_script=present)\n",
      "ChatSession(session_id=https://www.youtube.com/watch?v=qOTbP9ciJ88, messages_count=2)\n"
     ]
    }
   ],
   "execution_count": 71
  },
  {
   "metadata": {
    "ExecuteTime": {
     "end_time": "2025-01-30T19:12:07.303516Z",
     "start_time": "2025-01-30T19:12:07.298434Z"
    }
   },
   "cell_type": "code",
   "source": [
    "from langchain_text_splitters import RecursiveCharacterTextSplitter\n",
    "\n",
    "script_text = script_collection.refined_script.script\n",
    "\n",
    "text_splitter = RecursiveCharacterTextSplitter(chunk_size=1000, chunk_overlap=100)\n",
    "texts = text_splitter.split_text(script_text)"
   ],
   "id": "66de61d35c67f29e",
   "outputs": [],
   "execution_count": 72
  },
  {
   "metadata": {
    "ExecuteTime": {
     "end_time": "2025-01-30T19:12:07.317095Z",
     "start_time": "2025-01-30T19:12:07.312934Z"
    }
   },
   "cell_type": "code",
   "source": "print(texts[1])",
   "id": "840a3afb771be84c",
   "outputs": [
    {
     "name": "stdout",
     "output_type": "stream",
     "text": [
      "이미 2022.2 버전 그리고 2021이란 버전이 같이 설치가 되어 있습니다. 그런데 이 에디터도 허브와 마찬가지로 여러분들 드라이브 바로 다음에 설치하는 편이 정말 좋거든요. 그래서 자 여기 톱니바퀴 환경 설정 눌러보시면 프로젝트 위치가 있습니다. 그래서 프로젝트 위치를 미리 지정할 수 있는데요. 저는 이렇게 c 드라이브 바로 아래에다가 유니티 프로젝트라는 폴더를 새로 만들어서 딱 지정을 해놓았습니다. 자 이렇게 해두면은 나중에 여러분께서 플랫폼 빌드할 때 이 한글 폴더에 의해서 문제가 발생하지가 않아요. 괜찮죠? 그래서 미리 이렇게 하는 걸 추천드리고요. 마찬가지로 설치 탭에 가시면 에디터와 컨텐츠 이런 식으로도 깔끔하게 정리해 두시는 것을 추천드립니다. 이렇게 하면 제 C 드라이브 한번 보여드릴게요. 깔끔하죠? 유니티 콘텐츠, 에디터, 허브 이렇게 한꺼번에 다 볼 수 있다는 점 참고하시구요. 그럼 이제 에디터를 설치할 거 아닙니까? 저는 이미 에디터가 설치되어 있지만 여러분들은 아마 지금 없을 겁니다. 그래서 에디터를 설치 버튼을 눌러주시고 이번 뱀사라이크 언데드 서바이버는 2021.3 LTS 버전으로 진행합니다. 해서 이 맨 위에 거 설치를 진행해 주시면 되구요. 아, 근데 설치하실 때 주의할 점. 자, 일단 저는 설치가 이미 되었기 때문에 아래 거 눌러오면서 예시를 한번 들어보겠습니다. 아마 처음 설치하실 분들은 그 코드 스크립트, 마이크로소프트 비주얼 스튜디오도 같이 필요합니다. 그래서 여기에 체크 되어 있을 거예요. 네, 저도 체크 되어 있죠. 그리고 나중에 거의 마지막 부분에는 이 안드로이드 빌드도 같이 할 거기 때문에 꼭 여러분들 플랫폼 안드로이드 빌드 서포트에 체크해 주시면 좋겠습니다. 오픈 JDK와 안드로이드 SDK, NDK까지 이 세 개 꼭 같이 체크하시고 계속 눌러주셔서 설치해 주시면 좋겠습니다. 이렇게 모듈 설치 완료됐고요. 만약에 이미 설치된 모듈이 있다. 근데 안드로이드만 설치가 안 되어 있어요. 그럼 여기에 톱니바퀴\n"
     ]
    }
   ],
   "execution_count": 73
  },
  {
   "metadata": {
    "ExecuteTime": {
     "end_time": "2025-01-30T19:12:08.843923Z",
     "start_time": "2025-01-30T19:12:07.335374Z"
    }
   },
   "cell_type": "code",
   "source": [
    "from langchain_chroma import Chroma\n",
    "from langchain_openai import ChatOpenAI\n",
    "from langchain_openai import OpenAIEmbeddings\n",
    "\n",
    "vectorstore = Chroma.from_texts(\n",
    "    texts=texts,\n",
    "    embedding=OpenAIEmbeddings(api_key=OPENAI_API_KEY)\n",
    ")"
   ],
   "id": "85a0c962e4a7a10a",
   "outputs": [],
   "execution_count": 74
  },
  {
   "metadata": {
    "ExecuteTime": {
     "end_time": "2025-01-30T19:12:09.000447Z",
     "start_time": "2025-01-30T19:12:08.957578Z"
    }
   },
   "cell_type": "code",
   "source": "llm = ChatOpenAI(model=\"gpt-4o-mini\", api_key=OPENAI_API_KEY)\n",
   "id": "8b6d1316f82b8010",
   "outputs": [],
   "execution_count": 75
  },
  {
   "metadata": {
    "ExecuteTime": {
     "end_time": "2025-01-30T19:12:09.949714Z",
     "start_time": "2025-01-30T19:12:09.007102Z"
    }
   },
   "cell_type": "code",
   "source": [
    "retriever = vectorstore.as_retriever()\n",
    "\n",
    "user_msg = \"여기선 어떤 에셋을 어떻게 쓰나요?\"\n",
    "\n",
    "# 리트리버를 사용하여 사용자 메시지와 관련된 문서 검색\n",
    "retrieved_docs = retriever.invoke(user_msg)\n",
    "\n",
    "print(retrieved_docs)"
   ],
   "id": "57805ebaec3eb90b",
   "outputs": [
    {
     "name": "stdout",
     "output_type": "stream",
     "text": [
      "[Document(id='f4efa8f1-a8c5-4bfd-a322-b0c07882aa08', metadata={}, page_content='제공을 해드리고 있습니다. 그렇죠? 그래서 강좌 외에도 개인 학습용, 과제용 아니면 여러분께서 직접 만든 개인, 상용 플랫폼까지 자유롭게 사용이 가능하니까 이 점 참고하시면 좋겠습니다. 마음껏 해주세요. 여러분께서 개조하셔도 상관없습니다. 그러면 여기에서 이제 한번 이 에셋들을 사용해서 플레이어를 만들어야겠죠? 자, 그럼 플레이어를 한번 만들어 볼 건데요. 그 전에 지금 이 창을 편리하게 쓰도록 커스터마이즈 해볼 건데요. 요 창에 이름이 있죠? 이름 탭을 꾹 누르시면 이렇게 자유롭게 이동할 수 있는데요 이번에는 이런 식으로 한번 변경을 해보도록 하겠습니다. 그래서 어쨌든 나중에 여러분 이제 모바일로 할 거기 때문에요 요런 느낌으로 한번 세팅을 해보시면 어떨까 합니다. 플레이어를 놓으려면 이미지가 필요하죠. 게임 개발에서는 보통 이미지를 스프라이트라고 부릅니다. 스프라이트 폴더 들어가시면 다양한 스프라이트들이 이렇게 쭉 있는데요. 보통 우리가 게임을 개발할 때 아트 직군이 따로 있다 하시면 그 아트 분들께서 도트나 아니면 2D 만드실 때는 보통 이런 식으로 묶어서 주는 경우가 있어요. 자, 요런 것들을 우리는 아틀라스 혹은 스프라이트 시트라고 부릅니다. 그런데 이걸 자르셔야 하잖아요. 이거를 그대로 통째로 갖다 쓰기에는 조금 무리가 있습니다. 그래서 잘라야 되는데 그 자르는 방법에 대해서 먼저 설명 좀 해드리겠습니다. 자, 파머 0이 이게 플레이어 스프라이트인데요. 요거 선택하시고 여기 인스펙터 창 보시면 여러 가지 설정이 있습니다. 자, 좀 많죠? 우리는 세 가지만 보시면 될 것 같습니다. 일단은 픽셀 퍼 유닛, 지금 100으로 됐죠? 이 100이라는 의미는 지금 보시면 씬에 제가 한 칸 이렇게 보이잖아요? 모눈종이를 보이십니까? 한 칸에 픽셀이 몇 개가 들어가느냐 그 얘기입니다. 즉, 100이면 한 칸에 무려 100개가 들어간다는 얘기죠. 그런데, 뭐 100x100이면 만 개가 들어간다는 얘기고. 그래서 저는 지금 캐릭터 하나의 크기가 18이거든요. 그래서'), Document(id='2af6a006-5ab1-4623-8766-5169ca439b33', metadata={}, page_content='제공을 해드리고 있습니다. 그렇죠? 그래서 강좌 외에도 개인 학습용, 과제용 아니면 여러분께서 직접 만든 개인, 상용 플랫폼까지 자유롭게 사용이 가능하니까 이 점 참고하시면 좋겠습니다. 마음껏 해주세요. 여러분께서 개조하셔도 상관없습니다. 그러면 여기에서 이제 한번 이 에셋들을 사용해서 플레이어를 만들어야겠죠? 자, 그럼 플레이어를 한번 만들어 볼 건데요. 그 전에 지금 이 창을 편리하게 쓰도록 커스터마이즈 해볼 건데요. 요 창에 이름이 있죠? 이름 탭을 꾹 누르시면 이렇게 자유롭게 이동할 수 있는데요 이번에는 이런 식으로 한번 변경을 해보도록 하겠습니다. 그래서 어쨌든 나중에 여러분 이제 모바일로 할 거기 때문에요 요런 느낌으로 한번 세팅을 해보시면 어떨까 합니다. 플레이어를 놓으려면 이미지가 필요하죠. 게임 개발에서는 보통 이미지를 스프라이트라고 부릅니다. 스프라이트 폴더 들어가시면 다양한 스프라이트들이 이렇게 쭉 있는데요. 보통 우리가 게임을 개발할 때 아트 직군이 따로 있다 하시면 그 아트 분들께서 도트나 아니면 2D 만드실 때는 보통 이런 식으로 묶어서 주는 경우가 있어요. 자, 요런 것들을 우리는 아틀라스 혹은 스프라이트 시트라고 부릅니다. 그런데 이걸 자르셔야 하잖아요. 이거를 그대로 통째로 갖다 쓰기에는 조금 무리가 있습니다. 그래서 잘라야 되는데 그 자르는 방법에 대해서 먼저 설명 좀 해드리겠습니다. 자, 파머 0이 이게 플레이어 스프라이트인데요. 요거 선택하시고 여기 인스펙터 창 보시면 여러 가지 설정이 있습니다. 자, 좀 많죠? 우리는 세 가지만 보시면 될 것 같습니다. 일단은 픽셀 퍼 유닛, 지금 100으로 됐죠? 이 100이라는 의미는 지금 보시면 씬에 제가 한 칸 이렇게 보이잖아요? 모눈종이를 보이십니까? 한 칸에 픽셀이 몇 개가 들어가느냐 그 얘기입니다. 즉, 100이면 한 칸에 무려 100개가 들어간다는 얘기죠. 그런데, 뭐 100x100이면 만 개가 들어간다는 얘기고. 그래서 저는 지금 캐릭터 하나의 크기가 18이거든요. 그래서'), Document(id='c59c8a87-d066-4cd5-acde-57684d962d60', metadata={}, page_content='제공을 해드리고 있습니다. 그렇죠? 그래서 강좌 외에도 개인 학습용, 과제용 아니면 여러분께서 직접 만든 개인, 상용 플랫폼까지 자유롭게 사용이 가능하니까 이 점 참고하시면 좋겠습니다. 마음껏 해주세요. 여러분께서 개조하셔도 상관없습니다. 그러면 여기에서 이제 한번 이 에셋들을 사용해서 플레이어를 만들어야겠죠? 자, 그럼 플레이어를 한번 만들어 볼 건데요. 그 전에 지금 이 창을 편리하게 쓰도록 커스터마이즈 해볼 건데요. 요 창에 이름이 있죠? 이름 탭을 꾹 누르시면 이렇게 자유롭게 이동할 수 있는데요 이번에는 이런 식으로 한번 변경을 해보도록 하겠습니다. 그래서 어쨌든 나중에 여러분 이제 모바일로 할 거기 때문에요 요런 느낌으로 한번 세팅을 해보시면 어떨까 합니다. 플레이어를 놓으려면 이미지가 필요하죠. 게임 개발에서는 보통 이미지를 스프라이트라고 부릅니다. 스프라이트 폴더 들어가시면 다양한 스프라이트들이 이렇게 쭉 있는데요. 보통 우리가 게임을 개발할 때 아트 직군이 따로 있다 하시면 그 아트 분들께서 도트나 아니면 2D 만드실 때는 보통 이런 식으로 묶어서 주는 경우가 있어요. 자, 요런 것들을 우리는 아틀라스 혹은 스프라이트 시트라고 부릅니다. 그런데 이걸 자르셔야 하잖아요. 이거를 그대로 통째로 갖다 쓰기에는 조금 무리가 있습니다. 그래서 잘라야 되는데 그 자르는 방법에 대해서 먼저 설명 좀 해드리겠습니다. 자, 파머 0이 이게 플레이어 스프라이트인데요. 요거 선택하시고 여기 인스펙터 창 보시면 여러 가지 설정이 있습니다. 자, 좀 많죠? 우리는 세 가지만 보시면 될 것 같습니다. 일단은 픽셀 퍼 유닛, 지금 100으로 됐죠? 이 100이라는 의미는 지금 보시면 씬에 제가 한 칸 이렇게 보이잖아요? 모눈종이를 보이십니까? 한 칸에 픽셀이 몇 개가 들어가느냐 그 얘기입니다. 즉, 100이면 한 칸에 무려 100개가 들어간다는 얘기죠. 그런데, 뭐 100x100이면 만 개가 들어간다는 얘기고. 그래서 저는 지금 캐릭터 하나의 크기가 18이거든요. 그래서'), Document(id='34307f3e-8674-413a-97f2-da342ff0c04c', metadata={}, page_content='강좌는 조금 빠르게 진행한다는 점 참고해주시구요. 자, 그러면 보통 저런 강좌일 때는요 저걸 제가 숨겨두거든요? 깝끔하죠? 그렇다면 이제 본격적으로 한번 언데드 서바이버 개발에 착수해 보도록 하겠습니다. 자, 그럼 이제 뱀사라이크 개발을 위해서 그래픽이 필요하죠. 뭐 그래픽이라든가 사운드라든가 애니메이션이라든가. 그래서 제가 이번에 여러분들을 위해서 에셋을 준비했는데요. 자, 여러분들 네이버나 구글에 골드메탈을 검색하시면 제 골드메탈 스튜디오 브랜드 페이지가 보일 것입니다. 그래요 여기 들어가시면 이런 식으로 홈페이지가 나오게 되는데요 쭉 내려가셔야 되고 아니면 여기 강의 구석 쭉 내려가시면 여러분들에게 제공해 드리고 있는 에셋이 이렇게 있습니다. 그 중에 언데드 서바이버 에셋이 있어요. 여기 들어가시고 언데드 서바이버 패키지가 되어있네요. 다운로드 버튼 눌러주시고 받아보시면 되겠습니다. 받았으면요 이렇게 zip 파일이 나오는데 일단 압축을 해제해 주세요. 해제가 되었으면 이런 식으로 언데드 서바이버 유니티 패키지가 나올 겁니다. 자, 이거를 넣어주셔야 돼요. 어디에다가? 바로 이 유니티 에디터에다가 넣어주셔야 됩니다. 넣는 방법은 이거를 그냥 더블 클릭하셔도 되고요 아니면은 이걸 드래그 하셔서 여기 프로젝트 창 아래에다가 드랍을 해주시면 되겠습니다. 자, 전 드래그 드랍 하겠습니다. 드래그 드랍을 하시게 되면은 이렇게 임포트 유니티 패키지 넣으면서 여러 가지 내용물들이 나오게 되는데 그냥 임포트 해주시면 되겠습니다. 보시면 이 에셋이라고 하는 폴더 아래에 보시면 언데드 서바이버라고 있습니다. 그렇죠? 이렇게 압축이 풀리면서 여러 가지 에셋들이 포함되어 있고요. 그리고 라이센스에 대해서 궁금하신 분이 계실 거예요. 여기에 대해서는 제가 리드미를 열어보시게 되면 이렇게 제가 문서를 제공을 해드리고 있습니다. 그렇죠? 그래서 강좌 외에도 개인 학습용, 과제용 아니면 여러분께서 직접 만든 개인, 상용 플랫폼까지 자유롭게 사용이 가능하니까 이 점 참고하시면')]\n"
     ]
    }
   ],
   "execution_count": 76
  },
  {
   "metadata": {
    "ExecuteTime": {
     "end_time": "2025-01-30T19:18:47.719618Z",
     "start_time": "2025-01-30T19:18:47.716306Z"
    }
   },
   "cell_type": "code",
   "source": [
    "from langchain.prompts import PromptTemplate\n",
    "\n",
    "system_prompt = (\"\"\"\n",
    "            주어진 유튜브 영상의 설명과 스크립트 맥락을 사용하여 질문에 답하세요.\n",
    "            답을 모르면 모른다고 하세요.\n",
    "\n",
    "            [유튜브 영상 설명]:\n",
    "            {description}\n",
    "\n",
    "            [스크립트 맥락]:\n",
    "            {context}\n",
    "            \"\"\".format(description=content.description, context=\"{context}\"))"
   ],
   "id": "a7e3b3e9f4f57542",
   "outputs": [],
   "execution_count": 91
  },
  {
   "metadata": {
    "ExecuteTime": {
     "end_time": "2025-01-30T19:18:50.637815Z",
     "start_time": "2025-01-30T19:18:50.633635Z"
    }
   },
   "cell_type": "code",
   "source": [
    "from langchain_core.prompts import ChatPromptTemplate\n",
    "\n",
    "prompt = ChatPromptTemplate.from_messages(\n",
    "    [\n",
    "        (\"system\", system_prompt),\n",
    "        (\"human\", \"{input}\"),\n",
    "    ]\n",
    ")"
   ],
   "id": "befa70ad1df1c60a",
   "outputs": [],
   "execution_count": 92
  },
  {
   "metadata": {
    "ExecuteTime": {
     "end_time": "2025-01-30T19:18:52.832247Z",
     "start_time": "2025-01-30T19:18:52.776050Z"
    }
   },
   "cell_type": "code",
   "source": [
    "from langchain.chains import create_retrieval_chain\n",
    "from langchain.chains.combine_documents import create_stuff_documents_chain\n",
    "\n",
    "question_answer_chain = create_stuff_documents_chain(llm, prompt)\n",
    "chain = create_retrieval_chain(retriever, question_answer_chain)"
   ],
   "id": "66f868dd243c9a7d",
   "outputs": [],
   "execution_count": 93
  },
  {
   "metadata": {
    "ExecuteTime": {
     "end_time": "2025-01-30T19:20:11.419063Z",
     "start_time": "2025-01-30T19:20:03.927499Z"
    }
   },
   "cell_type": "code",
   "source": [
    "user_msg = \"어떤 에셋을 쓸 예정인가?? 그리고 에셋은 어디서 다운받을 수 있나요?\"\n",
    "print(user_msg)\n",
    "response = chain.invoke({\"input\": user_msg})\n",
    "print(response['answer'])"
   ],
   "id": "a1f126c29c528c55",
   "outputs": [
    {
     "name": "stdout",
     "output_type": "stream",
     "text": [
      "어떤 에셋을 쓸 예정인가?? 그리고 에셋은 어디서 다운받을 수 있나요?\n",
      "사용할 에셋은 \"언데드 서바이버\" 에셋입니다. 에셋은 네이버나 구글에서 \"골드메탈\"을 검색하면 나타나는 골드메탈 스튜디오 브랜드 페이지에서 다운로드할 수 있습니다. 페이지에 들어가면 언데드 서바이버 패키지를 다운로드할 수 있는 버튼이 있습니다. 다운로드 후 zip 파일의 압축을 해제하고 유니티 에디터에 임포트하면 됩니다.\n"
     ]
    }
   ],
   "execution_count": 96
  }
 ],
 "metadata": {
  "kernelspec": {
   "display_name": "Python 3",
   "language": "python",
   "name": "python3"
  },
  "language_info": {
   "codemirror_mode": {
    "name": "ipython",
    "version": 2
   },
   "file_extension": ".py",
   "mimetype": "text/x-python",
   "name": "python",
   "nbconvert_exporter": "python",
   "pygments_lexer": "ipython2",
   "version": "2.7.6"
  }
 },
 "nbformat": 4,
 "nbformat_minor": 5
}
