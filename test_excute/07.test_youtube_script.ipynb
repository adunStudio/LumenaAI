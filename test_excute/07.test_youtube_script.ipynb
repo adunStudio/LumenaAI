{
 "cells": [
  {
   "cell_type": "code",
   "execution_count": 1,
   "metadata": {
    "collapsed": true
   },
   "outputs": [
    {
     "name": "stderr",
     "output_type": "stream",
     "text": [
      "INFO:speechbrain.utils.quirks:Applied quirks (see `speechbrain.utils.quirks`): [allow_tf32, disable_jit_profiling]\n",
      "INFO:speechbrain.utils.quirks:Excluded quirks specified by the `SB_DISABLE_QUIRKS` environment (comma-separated list): []\n"
     ]
    },
    {
     "name": "stdout",
     "output_type": "stream",
     "text": [
      "Connected to MongoDB\n"
     ]
    },
    {
     "name": "stderr",
     "output_type": "stream",
     "text": [
      "Device set to use mps\n"
     ]
    }
   ],
   "source": [
    "from infrastructure.database.mongo_client import MongoDBClient\n",
    "from infrastructure.repository import YouTubeContentRepository\n",
    "from application.use_case import YouTubeContentDownloadAndStore\n",
    "from application.strategy.stt_strategy_factory import STTStrategyType, STTStrategyFactory\n",
    "\n",
    "import os\n",
    "from dotenv import load_dotenv\n",
    "\n",
    "load_dotenv()\n",
    "\n",
    "# MongoDB 클라이언트 초기화\n",
    "client = MongoDBClient(uri=os.environ['MONGO_CONNECTION_STRING'])\n",
    "client.connect()\n",
    "\n",
    "# 저장소 초기화\n",
    "repository = YouTubeContentRepository(client, 'test')\n",
    "\n",
    "# STT 초기화\n",
    "stt_strategy = STTStrategyFactory.create(STTStrategyType.LOCAL_WHISPER)\n",
    "\n",
    "# 유즈케이스 초기화\n",
    "yds = YouTubeContentDownloadAndStore(repository)"
   ]
  },
  {
   "cell_type": "code",
   "execution_count": 2,
   "outputs": [
    {
     "name": "stdout",
     "output_type": "stream",
     "text": [
      "데이터가 이미 존재합니다.\n",
      "../downloads/test\n",
      "파일이 이미 존재합니다: ../downloads/test/유니티 뱀서라이크 개발강좌가 온다?! 언데드 서바이버.mp3\n"
     ]
    },
    {
     "data": {
      "text/plain": "True"
     },
     "execution_count": 2,
     "metadata": {},
     "output_type": "execute_result"
    }
   ],
   "source": [
    "test_youtube_link = 'https://www.youtube.com/watch?v=MmW166cHj54'\n",
    "\n",
    "# 테스트 오디오 파일 다운로드\n",
    "yds.execute(test_youtube_link, 'test', '../downloads')"
   ],
   "metadata": {
    "collapsed": false
   }
  },
  {
   "cell_type": "code",
   "execution_count": 3,
   "outputs": [
    {
     "name": "stdout",
     "output_type": "stream",
     "text": [
      "YouTubeContent(title=유니티 뱀서라이크 개발강좌가 온다?! 언데드 서바이버, url=https://www.youtube.com/watch?v=MmW166cHj54, category=test)\n"
     ]
    }
   ],
   "source": [
    "contents = repository.find_without_script()\n",
    "print(contents[0])"
   ],
   "metadata": {
    "collapsed": false
   }
  },
  {
   "cell_type": "code",
   "execution_count": 4,
   "outputs": [
    {
     "name": "stderr",
     "output_type": "stream",
     "text": [
      "/Users/kimhongil/.conda/envs/LumenaAI/lib/python3.10/site-packages/transformers/models/whisper/generation_whisper.py:573: FutureWarning: The input name `inputs` is deprecated. Please make sure to use `input_features` instead.\n",
      "  warnings.warn(\n",
      "Due to a bug fix in https://github.com/huggingface/transformers/pull/28687 transcription using a multilingual Whisper will default to language detection followed by transcription instead of translation to English.This might be a breaking change for your use case. If you want to instead always translate your audio to English, make sure to pass `language='en'`.\n",
      "Passing a tuple of `past_key_values` is deprecated and will be removed in Transformers v4.43.0. You should pass an instance of `EncoderDecoderCache` instead, e.g. `past_key_values=EncoderDecoderCache.from_legacy_cache(past_key_values)`.\n"
     ]
    },
    {
     "name": "stdout",
     "output_type": "stream",
     "text": [
      "캐시가 성공적으로 비워졌습니다.\n"
     ]
    }
   ],
   "source": [
    "# 테스트 오디오 STT\n",
    "stt_result = stt_strategy.transcribe(f'../downloads/{contents[0].category}/{contents[0].title}.mp3')"
   ],
   "metadata": {
    "collapsed": false
   }
  },
  {
   "cell_type": "code",
   "execution_count": 5,
   "outputs": [
    {
     "name": "stdout",
     "output_type": "stream",
     "text": [
      "<class 'dict'>\n"
     ]
    }
   ],
   "source": [
    "print(type(stt_result))"
   ],
   "metadata": {
    "collapsed": false
   }
  },
  {
   "cell_type": "code",
   "execution_count": 6,
   "outputs": [
    {
     "name": "stdout",
     "output_type": "stream",
     "text": [
      "{'text': ' 요즘 너무나 유행하고 있는 이 장르 뱀파이어 서바이버와 비슷하다 뱀서 라이크 그래서 제가 들고 온 타이틀은 바로 언데드 서바이버 자 이 언데드 서바이버 강좌와 함께 여러분들은 유니티 게임 개발에 좀 더 익숙해지면서 뱀서 라이크를 좀 더 이해할 수 있는 그런 시간이 될 겁니다 매직 서바이버 탄탄 특강대 뱀파이어 서바이버 자 모든 개석거라 우리는 언데드 슈 서바이버다 500불도 안되는 적은 코드로 여러분들은 쉽게 따라 하실 수가 있습니다 절대로 약하는게 아니구요 이 강좌를 통해서 여러분들은 2D 기본 움직임에다가 무한이동, 클립팩, 스크립티블 오브젝트 사운드 매니저, 헤드업 디스플레이 조이스틱에 모바일 빌드까지 다채롭게 배우실 수가 있습니다 지금까지 저의 새로운 강좌 언데드 서버에 대한 소개였구요 앞으로 제가 준비한 커리큘럼에 따라서 차근차근 업로드 할테니깐요 많은 기대 바랍니다 감사합니다', 'chunks': [{'timestamp': (1.0, 3.9), 'text': ' 요즘 너무나 유행하고 있는 이 장르'}, {'timestamp': (3.9, 5.5), 'text': ' 뱀파이어 서바이버와 비슷하다'}, {'timestamp': (5.5, 7.0), 'text': ' 뱀서 라이크'}, {'timestamp': (7.0, 9.4), 'text': ' 그래서 제가 들고 온 타이틀은 바로'}, {'timestamp': (9.4, 11.8), 'text': ' 언데드 서바이버'}, {'timestamp': (13.1, 16.1), 'text': ' 자 이 언데드 서바이버 강좌와 함께 여러분들은'}, {'timestamp': (16.1, 19.1), 'text': ' 유니티 게임 개발에 좀 더 익숙해지면서'}, {'timestamp': (19.1, 23.3), 'text': ' 뱀서 라이크를 좀 더 이해할 수 있는 그런 시간이 될 겁니다'}, {'timestamp': (23.3, 25.6), 'text': ' 매직 서바이버 탄탄 특강대 뱀파이어 서바이버'}, {'timestamp': (25.6, 27.7), 'text': ' 자 모든 개석거라'}, {'timestamp': (27.7, 29.9), 'text': ' 우리는 언데드 슈 서바이버다'}, {'timestamp': (29.9, 0.0), 'text': ''}, {'timestamp': (3.68, 5.76), 'text': ' 500불도 안되는 적은 코드로 여러분들은 쉽게 따라 하실 수가 있습니다'}, {'timestamp': (5.76, 8.0), 'text': ' 절대로 약하는게 아니구요'}, {'timestamp': (8.0, 9.84), 'text': ' 이 강좌를 통해서 여러분들은'}, {'timestamp': (9.84, 11.38), 'text': ' 2D 기본 움직임에다가'}, {'timestamp': (11.38, 13.74), 'text': ' 무한이동, 클립팩, 스크립티블 오브젝트'}, {'timestamp': (13.74, 15.66), 'text': ' 사운드 매니저, 헤드업 디스플레이'}, {'timestamp': (15.66, 17.88), 'text': ' 조이스틱에 모바일 빌드까지'}, {'timestamp': (17.88, 20.04), 'text': ' 다채롭게 배우실 수가 있습니다'}, {'timestamp': (20.04, 22.74), 'text': ' 지금까지 저의 새로운 강좌'}, {'timestamp': (22.74, 24.98), 'text': ' 언데드 서버에 대한 소개였구요'}, {'timestamp': (24.98, 27.14), 'text': ' 앞으로 제가 준비한 커리큘럼에 따라서'}, {'timestamp': (27.14, 29.36), 'text': ' 차근차근 업로드 할테니깐요'}, {'timestamp': (29.36, 0.0), 'text': ''}, {'timestamp': (2.04, 3.44), 'text': ' 많은 기대 바랍니다 감사합니다'}]}\n"
     ]
    }
   ],
   "source": [
    "print(stt_result)"
   ],
   "metadata": {
    "collapsed": false
   }
  },
  {
   "cell_type": "code",
   "execution_count": 7,
   "outputs": [],
   "source": [
    "from domain.value_object import YouTubeScript\n",
    "from domain.value_object import YouTubeScriptChunk\n",
    "\n",
    "# 유튜브 스크립트 값 객체\n",
    "youtube_script = YouTubeScript(\n",
    "    script=stt_result[\"text\"],\n",
    "    chunks=[\n",
    "        YouTubeScriptChunk.from_dict(chunk)\n",
    "        for chunk in stt_result[\"chunks\"]\n",
    "    ],\n",
    ")"
   ],
   "metadata": {
    "collapsed": false
   }
  },
  {
   "cell_type": "code",
   "execution_count": 8,
   "outputs": [
    {
     "name": "stdout",
     "output_type": "stream",
     "text": [
      "YouTubeScript(script=' 요즘 너무나 유행하고 있는 이 장르 뱀파이어 서바이버와 비슷하다 뱀서 라이크 그래서 제가...', chunks=[(1.0-3.9:  요즘 너무나 유행하고 있는...), (3.9-5.5:  뱀파이어 서바이버와 비슷하...), (5.5-7.0:  뱀서 라이크...), ...] (26 chunks))\n"
     ]
    }
   ],
   "source": [
    "print(youtube_script)"
   ],
   "metadata": {
    "collapsed": false
   }
  },
  {
   "cell_type": "code",
   "execution_count": 9,
   "outputs": [
    {
     "name": "stdout",
     "output_type": "stream",
     "text": [
      "True\n"
     ]
    }
   ],
   "source": [
    "# DB에 저장\n",
    "contents[0].set_script(youtube_script)\n",
    "result = repository.save(contents[0])\n",
    "print(result)"
   ],
   "metadata": {
    "collapsed": false
   }
  },
  {
   "cell_type": "code",
   "execution_count": 10,
   "outputs": [
    {
     "name": "stdout",
     "output_type": "stream",
     "text": [
      "0\n"
     ]
    }
   ],
   "source": [
    "contents = repository.find_without_script()\n",
    "print(len(contents))"
   ],
   "metadata": {
    "collapsed": false
   }
  },
  {
   "cell_type": "code",
   "execution_count": 11,
   "outputs": [
    {
     "name": "stdout",
     "output_type": "stream",
     "text": [
      "YouTubeScript(script=' 요즘 너무나 유행하고 있는 이 장르 뱀파이어 서바이버와 비슷하다 뱀서 라이크 그래서 제가...', chunks=[(1.0-3.9:  요즘 너무나 유행하고 있는...), (3.9-5.5:  뱀파이어 서바이버와 비슷하...), (5.5-7.0:  뱀서 라이크...), ...] (26 chunks))\n"
     ]
    }
   ],
   "source": [
    "# DB 확인\n",
    "contents = repository.find_all()\n",
    "print(contents[0].script)"
   ],
   "metadata": {
    "collapsed": false
   }
  }
 ],
 "metadata": {
  "kernelspec": {
   "display_name": "Python 3",
   "language": "python",
   "name": "python3"
  },
  "language_info": {
   "codemirror_mode": {
    "name": "ipython",
    "version": 2
   },
   "file_extension": ".py",
   "mimetype": "text/x-python",
   "name": "python",
   "nbconvert_exporter": "python",
   "pygments_lexer": "ipython2",
   "version": "2.7.6"
  }
 },
 "nbformat": 4,
 "nbformat_minor": 0
}
