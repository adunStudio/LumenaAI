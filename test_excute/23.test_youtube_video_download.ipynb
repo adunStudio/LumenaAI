{
 "cells": [
  {
   "cell_type": "code",
   "execution_count": 1,
   "metadata": {
    "collapsed": true
   },
   "outputs": [
    {
     "name": "stdout",
     "output_type": "stream",
     "text": [
      "3\n"
     ]
    }
   ],
   "source": [
    "print(3)"
   ]
  },
  {
   "cell_type": "code",
   "execution_count": null,
   "outputs": [],
   "source": [],
   "metadata": {
    "collapsed": false
   }
  },
  {
   "cell_type": "code",
   "execution_count": 11,
   "outputs": [
    {
     "name": "stderr",
     "output_type": "stream",
     "text": [
      "WARNING: [youtube:tab] Incomplete data received. Retrying (1/3)...\n",
      "WARNING: [youtube:tab] Incomplete data received. Retrying (2/3)...\n",
      "WARNING: [youtube:tab] Incomplete data received. Retrying (3/3)...\n",
      "WARNING: [youtube:tab] Incomplete data received. Giving up after 3 retries\n",
      "WARNING: [youtube] MmW166cHj54: nsig extraction failed: Some formats may be missing\n",
      "         Install PhantomJS to workaround the issue. Please download it from https://phantomjs.org/download.html\n",
      "         n = yCBZca6AGjY6Hy2gN ; player = https://www.youtube.com/s/player/9a279502/player_ias.vflset/en_US/base.js\n",
      "WARNING: [youtube] MmW166cHj54: nsig extraction failed: Some formats may be missing\n",
      "         Install PhantomJS to workaround the issue. Please download it from https://phantomjs.org/download.html\n",
      "         n = un5juFDZrZWvVXv-Q ; player = https://www.youtube.com/s/player/9a279502/player_ias.vflset/en_US/base.js\n",
      "WARNING: [youtube] MmW166cHj54: nsig extraction failed: Some formats may be missing\n",
      "         Install PhantomJS to workaround the issue. Please download it from https://phantomjs.org/download.html\n",
      "         n = kLe4pqb5HFv9dktes ; player = https://www.youtube.com/s/player/9a279502/player_ias.vflset/en_US/base.js\n",
      "WARNING: [youtube] MmW166cHj54: nsig extraction failed: Some formats may be missing\n",
      "         Install PhantomJS to workaround the issue. Please download it from https://phantomjs.org/download.html\n",
      "         n = Z7r1FoPGT3IwRAUe_ ; player = https://www.youtube.com/s/player/9a279502/player_ias.vflset/en_US/base.js\n"
     ]
    },
    {
     "name": "stdout",
     "output_type": "stream",
     "text": [
      "유니티 뱀서라이크 개발강좌가 온다?! 언데드 서바이버\n"
     ]
    },
    {
     "name": "stderr",
     "output_type": "stream",
     "text": [
      "WARNING: [youtube] Falling back to generic n function search\n",
      "         player = https://www.youtube.com/s/player/6450230e/player_ias.vflset/en_US/base.js\n",
      "WARNING: [youtube] MmW166cHj54: nsig extraction failed: Some formats may be missing\n",
      "         n = b0Po69DfMSeCjtO8 ; player = https://www.youtube.com/s/player/6450230e/player_ias.vflset/en_US/base.js\n",
      "WARNING: [youtube] Falling back to generic n function search\n",
      "         player = https://www.youtube.com/s/player/6450230e/player_ias.vflset/en_US/base.js\n",
      "WARNING: [youtube] MmW166cHj54: nsig extraction failed: Some formats may be missing\n",
      "         n = pBURZ2jQXoFBgIA5 ; player = https://www.youtube.com/s/player/6450230e/player_ias.vflset/en_US/base.js\n",
      "WARNING: [youtube] Falling back to generic n function search\n",
      "         player = https://www.youtube.com/s/player/6450230e/player_ias.vflset/en_US/base.js\n",
      "WARNING: [youtube] MmW166cHj54: nsig extraction failed: Some formats may be missing\n",
      "         n = Y0Y2qbB8zwKOQiV4 ; player = https://www.youtube.com/s/player/6450230e/player_ias.vflset/en_US/base.js\n",
      "WARNING: [youtube] Falling back to generic n function search\n",
      "         player = https://www.youtube.com/s/player/6450230e/player_ias.vflset/en_US/base.js\n",
      "WARNING: [youtube] MmW166cHj54: nsig extraction failed: Some formats may be missing\n",
      "         n = DxY_353GP1f6PNMI ; player = https://www.youtube.com/s/player/6450230e/player_ias.vflset/en_US/base.js\n",
      "ERROR: [youtube] MmW166cHj54: Requested format is not available. Use --list-formats for a list of available formats\n"
     ]
    },
    {
     "name": "stdout",
     "output_type": "stream",
     "text": [
      "비디오 다운로드 실패(유니티 뱀서라이크 개발강좌가 온다?! 언데드 서바이버): ERROR: [youtube] MmW166cHj54: Requested format is not available. Use --list-formats for a list of available formats\n"
     ]
    },
    {
     "name": "stderr",
     "output_type": "stream",
     "text": [
      "WARNING: [youtube] qOTbP9ciJ88: nsig extraction failed: Some formats may be missing\n",
      "         Install PhantomJS to workaround the issue. Please download it from https://phantomjs.org/download.html\n",
      "         n = EV1tNoaLM6EBPyb2j ; player = https://www.youtube.com/s/player/9a279502/player_ias.vflset/en_US/base.js\n",
      "WARNING: [youtube] qOTbP9ciJ88: nsig extraction failed: Some formats may be missing\n",
      "         Install PhantomJS to workaround the issue. Please download it from https://phantomjs.org/download.html\n",
      "         n = ULcAiR4WwTE2D9_XR ; player = https://www.youtube.com/s/player/9a279502/player_ias.vflset/en_US/base.js\n",
      "WARNING: [youtube] qOTbP9ciJ88: nsig extraction failed: Some formats may be missing\n",
      "         Install PhantomJS to workaround the issue. Please download it from https://phantomjs.org/download.html\n",
      "         n = O_R3ZjH3bf39ZUmQR ; player = https://www.youtube.com/s/player/9a279502/player_ias.vflset/en_US/base.js\n",
      "WARNING: [youtube] qOTbP9ciJ88: nsig extraction failed: Some formats may be missing\n",
      "         Install PhantomJS to workaround the issue. Please download it from https://phantomjs.org/download.html\n",
      "         n = tqKl3VkbN5SmX8qYL ; player = https://www.youtube.com/s/player/9a279502/player_ias.vflset/en_US/base.js\n"
     ]
    },
    {
     "name": "stdout",
     "output_type": "stream",
     "text": [
      "2D 오브젝트🧍만들기 [유니티 뱀서라이크 01]\n"
     ]
    },
    {
     "name": "stderr",
     "output_type": "stream",
     "text": [
      "WARNING: [youtube] qOTbP9ciJ88: nsig extraction failed: Some formats may be missing\n",
      "         Install PhantomJS to workaround the issue. Please download it from https://phantomjs.org/download.html\n",
      "         n = d6tswVmmX5vXTZt7Q ; player = https://www.youtube.com/s/player/9a279502/player_ias.vflset/en_US/base.js\n",
      "WARNING: [youtube] qOTbP9ciJ88: nsig extraction failed: Some formats may be missing\n",
      "         Install PhantomJS to workaround the issue. Please download it from https://phantomjs.org/download.html\n",
      "         n = pcrxL9uF4HJODaqs1 ; player = https://www.youtube.com/s/player/9a279502/player_ias.vflset/en_US/base.js\n",
      "WARNING: [youtube] qOTbP9ciJ88: nsig extraction failed: Some formats may be missing\n",
      "         Install PhantomJS to workaround the issue. Please download it from https://phantomjs.org/download.html\n",
      "         n = zzE-rTsWXUMNXzMmi ; player = https://www.youtube.com/s/player/9a279502/player_ias.vflset/en_US/base.js\n",
      "WARNING: [youtube] qOTbP9ciJ88: nsig extraction failed: Some formats may be missing\n",
      "         Install PhantomJS to workaround the issue. Please download it from https://phantomjs.org/download.html\n",
      "         n = LNVjNIXHi4GYZnX35 ; player = https://www.youtube.com/s/player/9a279502/player_ias.vflset/en_US/base.js\n",
      "ERROR: [youtube] qOTbP9ciJ88: Requested format is not available. Use --list-formats for a list of available formats\n"
     ]
    },
    {
     "name": "stdout",
     "output_type": "stream",
     "text": [
      "비디오 다운로드 실패(2D 오브젝트🧍만들기 [유니티 뱀서라이크 01]): ERROR: [youtube] qOTbP9ciJ88: Requested format is not available. Use --list-formats for a list of available formats\n"
     ]
    },
    {
     "name": "stderr",
     "output_type": "stream",
     "text": [
      "WARNING: [youtube] YAu4yWU5D5U: nsig extraction failed: Some formats may be missing\n",
      "         Install PhantomJS to workaround the issue. Please download it from https://phantomjs.org/download.html\n",
      "         n = bkVioURNIYHk9j8PC ; player = https://www.youtube.com/s/player/9a279502/player_ias.vflset/en_US/base.js\n",
      "WARNING: [youtube] YAu4yWU5D5U: nsig extraction failed: Some formats may be missing\n",
      "         Install PhantomJS to workaround the issue. Please download it from https://phantomjs.org/download.html\n",
      "         n = kDHrAX_cJYAiZCXe_ ; player = https://www.youtube.com/s/player/9a279502/player_ias.vflset/en_US/base.js\n",
      "WARNING: [youtube] YAu4yWU5D5U: nsig extraction failed: Some formats may be missing\n",
      "         Install PhantomJS to workaround the issue. Please download it from https://phantomjs.org/download.html\n",
      "         n = UjQ3TtrQwbBMt9XqF ; player = https://www.youtube.com/s/player/9a279502/player_ias.vflset/en_US/base.js\n",
      "WARNING: [youtube] YAu4yWU5D5U: nsig extraction failed: Some formats may be missing\n",
      "         Install PhantomJS to workaround the issue. Please download it from https://phantomjs.org/download.html\n",
      "         n = rUcGkDPz_ZF9J0p1A ; player = https://www.youtube.com/s/player/9a279502/player_ias.vflset/en_US/base.js\n"
     ]
    },
    {
     "name": "stdout",
     "output_type": "stream",
     "text": [
      "플레이어 이동🚶구현하기 [유니티 뱀서라이크 02]\n"
     ]
    },
    {
     "ename": "KeyboardInterrupt",
     "evalue": "",
     "output_type": "error",
     "traceback": [
      "\u001B[0;31m---------------------------------------------------------------------------\u001B[0m",
      "\u001B[0;31mKeyboardInterrupt\u001B[0m                         Traceback (most recent call last)",
      "Cell \u001B[0;32mIn[11], line 89\u001B[0m\n\u001B[1;32m     87\u001B[0m \u001B[38;5;28;01mtry\u001B[39;00m:\n\u001B[1;32m     88\u001B[0m     \u001B[38;5;28;01mwith\u001B[39;00m yt_dlp\u001B[38;5;241m.\u001B[39mYoutubeDL(ydl_opts) \u001B[38;5;28;01mas\u001B[39;00m ydl:\n\u001B[0;32m---> 89\u001B[0m         \u001B[43mydl\u001B[49m\u001B[38;5;241;43m.\u001B[39;49m\u001B[43mdownload\u001B[49m\u001B[43m(\u001B[49m\u001B[43m[\u001B[49m\u001B[43mlink\u001B[49m\u001B[43m]\u001B[49m\u001B[43m)\u001B[49m\n\u001B[1;32m     90\u001B[0m     \u001B[38;5;28mprint\u001B[39m(\u001B[38;5;124mf\u001B[39m\u001B[38;5;124m\"\u001B[39m\u001B[38;5;124m비디오가 성공적으로 다운로드되어 저장되었습니다 (\u001B[39m\u001B[38;5;132;01m{\u001B[39;00mtitle\u001B[38;5;132;01m}\u001B[39;00m\u001B[38;5;124m\"\u001B[39m)\n\u001B[1;32m     92\u001B[0m \u001B[38;5;28;01mexcept\u001B[39;00m \u001B[38;5;167;01mException\u001B[39;00m \u001B[38;5;28;01mas\u001B[39;00m e:\n",
      "File \u001B[0;32m~/.conda/envs/LumenaAI/lib/python3.10/site-packages/yt_dlp/YoutubeDL.py:3618\u001B[0m, in \u001B[0;36mYoutubeDL.download\u001B[0;34m(self, url_list)\u001B[0m\n\u001B[1;32m   3615\u001B[0m     \u001B[38;5;28;01mraise\u001B[39;00m SameFileError(outtmpl)\n\u001B[1;32m   3617\u001B[0m \u001B[38;5;28;01mfor\u001B[39;00m url \u001B[38;5;129;01min\u001B[39;00m url_list:\n\u001B[0;32m-> 3618\u001B[0m     \u001B[38;5;28;43mself\u001B[39;49m\u001B[38;5;241;43m.\u001B[39;49m\u001B[43m__download_wrapper\u001B[49m\u001B[43m(\u001B[49m\u001B[38;5;28;43mself\u001B[39;49m\u001B[38;5;241;43m.\u001B[39;49m\u001B[43mextract_info\u001B[49m\u001B[43m)\u001B[49m\u001B[43m(\u001B[49m\n\u001B[1;32m   3619\u001B[0m \u001B[43m        \u001B[49m\u001B[43murl\u001B[49m\u001B[43m,\u001B[49m\u001B[43m \u001B[49m\u001B[43mforce_generic_extractor\u001B[49m\u001B[38;5;241;43m=\u001B[39;49m\u001B[38;5;28;43mself\u001B[39;49m\u001B[38;5;241;43m.\u001B[39;49m\u001B[43mparams\u001B[49m\u001B[38;5;241;43m.\u001B[39;49m\u001B[43mget\u001B[49m\u001B[43m(\u001B[49m\u001B[38;5;124;43m'\u001B[39;49m\u001B[38;5;124;43mforce_generic_extractor\u001B[39;49m\u001B[38;5;124;43m'\u001B[39;49m\u001B[43m,\u001B[49m\u001B[43m \u001B[49m\u001B[38;5;28;43;01mFalse\u001B[39;49;00m\u001B[43m)\u001B[49m\u001B[43m)\u001B[49m\n\u001B[1;32m   3621\u001B[0m \u001B[38;5;28;01mreturn\u001B[39;00m \u001B[38;5;28mself\u001B[39m\u001B[38;5;241m.\u001B[39m_download_retcode\n",
      "File \u001B[0;32m~/.conda/envs/LumenaAI/lib/python3.10/site-packages/yt_dlp/YoutubeDL.py:3591\u001B[0m, in \u001B[0;36mYoutubeDL.__download_wrapper.<locals>.wrapper\u001B[0;34m(*args, **kwargs)\u001B[0m\n\u001B[1;32m   3588\u001B[0m \u001B[38;5;129m@functools\u001B[39m\u001B[38;5;241m.\u001B[39mwraps(func)\n\u001B[1;32m   3589\u001B[0m \u001B[38;5;28;01mdef\u001B[39;00m \u001B[38;5;21mwrapper\u001B[39m(\u001B[38;5;241m*\u001B[39margs, \u001B[38;5;241m*\u001B[39m\u001B[38;5;241m*\u001B[39mkwargs):\n\u001B[1;32m   3590\u001B[0m     \u001B[38;5;28;01mtry\u001B[39;00m:\n\u001B[0;32m-> 3591\u001B[0m         res \u001B[38;5;241m=\u001B[39m \u001B[43mfunc\u001B[49m\u001B[43m(\u001B[49m\u001B[38;5;241;43m*\u001B[39;49m\u001B[43margs\u001B[49m\u001B[43m,\u001B[49m\u001B[43m \u001B[49m\u001B[38;5;241;43m*\u001B[39;49m\u001B[38;5;241;43m*\u001B[39;49m\u001B[43mkwargs\u001B[49m\u001B[43m)\u001B[49m\n\u001B[1;32m   3592\u001B[0m     \u001B[38;5;28;01mexcept\u001B[39;00m CookieLoadError:\n\u001B[1;32m   3593\u001B[0m         \u001B[38;5;28;01mraise\u001B[39;00m\n",
      "File \u001B[0;32m~/.conda/envs/LumenaAI/lib/python3.10/site-packages/yt_dlp/YoutubeDL.py:1626\u001B[0m, in \u001B[0;36mYoutubeDL.extract_info\u001B[0;34m(self, url, download, ie_key, extra_info, process, force_generic_extractor)\u001B[0m\n\u001B[1;32m   1624\u001B[0m             \u001B[38;5;28;01mraise\u001B[39;00m ExistingVideoReached\n\u001B[1;32m   1625\u001B[0m         \u001B[38;5;28;01mbreak\u001B[39;00m\n\u001B[0;32m-> 1626\u001B[0m     \u001B[38;5;28;01mreturn\u001B[39;00m \u001B[38;5;28;43mself\u001B[39;49m\u001B[38;5;241;43m.\u001B[39;49m\u001B[43m__extract_info\u001B[49m\u001B[43m(\u001B[49m\u001B[43murl\u001B[49m\u001B[43m,\u001B[49m\u001B[43m \u001B[49m\u001B[38;5;28;43mself\u001B[39;49m\u001B[38;5;241;43m.\u001B[39;49m\u001B[43mget_info_extractor\u001B[49m\u001B[43m(\u001B[49m\u001B[43mkey\u001B[49m\u001B[43m)\u001B[49m\u001B[43m,\u001B[49m\u001B[43m \u001B[49m\u001B[43mdownload\u001B[49m\u001B[43m,\u001B[49m\u001B[43m \u001B[49m\u001B[43mextra_info\u001B[49m\u001B[43m,\u001B[49m\u001B[43m \u001B[49m\u001B[43mprocess\u001B[49m\u001B[43m)\u001B[49m\n\u001B[1;32m   1627\u001B[0m \u001B[38;5;28;01melse\u001B[39;00m:\n\u001B[1;32m   1628\u001B[0m     extractors_restricted \u001B[38;5;241m=\u001B[39m \u001B[38;5;28mself\u001B[39m\u001B[38;5;241m.\u001B[39mparams\u001B[38;5;241m.\u001B[39mget(\u001B[38;5;124m'\u001B[39m\u001B[38;5;124mallowed_extractors\u001B[39m\u001B[38;5;124m'\u001B[39m) \u001B[38;5;129;01mnot\u001B[39;00m \u001B[38;5;129;01min\u001B[39;00m (\u001B[38;5;28;01mNone\u001B[39;00m, [\u001B[38;5;124m'\u001B[39m\u001B[38;5;124mdefault\u001B[39m\u001B[38;5;124m'\u001B[39m])\n",
      "File \u001B[0;32m~/.conda/envs/LumenaAI/lib/python3.10/site-packages/yt_dlp/YoutubeDL.py:1637\u001B[0m, in \u001B[0;36mYoutubeDL._handle_extraction_exceptions.<locals>.wrapper\u001B[0;34m(self, *args, **kwargs)\u001B[0m\n\u001B[1;32m   1635\u001B[0m \u001B[38;5;28;01mwhile\u001B[39;00m \u001B[38;5;28;01mTrue\u001B[39;00m:\n\u001B[1;32m   1636\u001B[0m     \u001B[38;5;28;01mtry\u001B[39;00m:\n\u001B[0;32m-> 1637\u001B[0m         \u001B[38;5;28;01mreturn\u001B[39;00m \u001B[43mfunc\u001B[49m\u001B[43m(\u001B[49m\u001B[38;5;28;43mself\u001B[39;49m\u001B[43m,\u001B[49m\u001B[43m \u001B[49m\u001B[38;5;241;43m*\u001B[39;49m\u001B[43margs\u001B[49m\u001B[43m,\u001B[49m\u001B[43m \u001B[49m\u001B[38;5;241;43m*\u001B[39;49m\u001B[38;5;241;43m*\u001B[39;49m\u001B[43mkwargs\u001B[49m\u001B[43m)\u001B[49m\n\u001B[1;32m   1638\u001B[0m     \u001B[38;5;28;01mexcept\u001B[39;00m (CookieLoadError, DownloadCancelled, LazyList\u001B[38;5;241m.\u001B[39mIndexError, PagedList\u001B[38;5;241m.\u001B[39mIndexError):\n\u001B[1;32m   1639\u001B[0m         \u001B[38;5;28;01mraise\u001B[39;00m\n",
      "File \u001B[0;32m~/.conda/envs/LumenaAI/lib/python3.10/site-packages/yt_dlp/YoutubeDL.py:1772\u001B[0m, in \u001B[0;36mYoutubeDL.__extract_info\u001B[0;34m(self, url, ie, download, extra_info, process)\u001B[0m\n\u001B[1;32m   1769\u001B[0m \u001B[38;5;28mself\u001B[39m\u001B[38;5;241m.\u001B[39m_apply_header_cookies(url)\n\u001B[1;32m   1771\u001B[0m \u001B[38;5;28;01mtry\u001B[39;00m:\n\u001B[0;32m-> 1772\u001B[0m     ie_result \u001B[38;5;241m=\u001B[39m \u001B[43mie\u001B[49m\u001B[38;5;241;43m.\u001B[39;49m\u001B[43mextract\u001B[49m\u001B[43m(\u001B[49m\u001B[43murl\u001B[49m\u001B[43m)\u001B[49m\n\u001B[1;32m   1773\u001B[0m \u001B[38;5;28;01mexcept\u001B[39;00m UserNotLive \u001B[38;5;28;01mas\u001B[39;00m e:\n\u001B[1;32m   1774\u001B[0m     \u001B[38;5;28;01mif\u001B[39;00m process:\n",
      "File \u001B[0;32m~/.conda/envs/LumenaAI/lib/python3.10/site-packages/yt_dlp/extractor/common.py:742\u001B[0m, in \u001B[0;36mInfoExtractor.extract\u001B[0;34m(self, url)\u001B[0m\n\u001B[1;32m    739\u001B[0m \u001B[38;5;28mself\u001B[39m\u001B[38;5;241m.\u001B[39minitialize()\n\u001B[1;32m    740\u001B[0m \u001B[38;5;28mself\u001B[39m\u001B[38;5;241m.\u001B[39mto_screen(\u001B[38;5;124m'\u001B[39m\u001B[38;5;124mExtracting URL: \u001B[39m\u001B[38;5;132;01m%s\u001B[39;00m\u001B[38;5;124m'\u001B[39m \u001B[38;5;241m%\u001B[39m (\n\u001B[1;32m    741\u001B[0m     url \u001B[38;5;28;01mif\u001B[39;00m \u001B[38;5;28mself\u001B[39m\u001B[38;5;241m.\u001B[39mget_param(\u001B[38;5;124m'\u001B[39m\u001B[38;5;124mverbose\u001B[39m\u001B[38;5;124m'\u001B[39m) \u001B[38;5;28;01melse\u001B[39;00m truncate_string(url, \u001B[38;5;241m100\u001B[39m, \u001B[38;5;241m20\u001B[39m)))\n\u001B[0;32m--> 742\u001B[0m ie_result \u001B[38;5;241m=\u001B[39m \u001B[38;5;28;43mself\u001B[39;49m\u001B[38;5;241;43m.\u001B[39;49m\u001B[43m_real_extract\u001B[49m\u001B[43m(\u001B[49m\u001B[43murl\u001B[49m\u001B[43m)\u001B[49m\n\u001B[1;32m    743\u001B[0m \u001B[38;5;28;01mif\u001B[39;00m ie_result \u001B[38;5;129;01mis\u001B[39;00m \u001B[38;5;28;01mNone\u001B[39;00m:\n\u001B[1;32m    744\u001B[0m     \u001B[38;5;28;01mreturn\u001B[39;00m \u001B[38;5;28;01mNone\u001B[39;00m\n",
      "File \u001B[0;32m~/.conda/envs/LumenaAI/lib/python3.10/site-packages/yt_dlp/extractor/youtube.py:4600\u001B[0m, in \u001B[0;36mYoutubeIE._real_extract\u001B[0;34m(self, url)\u001B[0m\n\u001B[1;32m   4597\u001B[0m base_url \u001B[38;5;241m=\u001B[39m \u001B[38;5;28mself\u001B[39m\u001B[38;5;241m.\u001B[39mhttp_scheme() \u001B[38;5;241m+\u001B[39m \u001B[38;5;124m'\u001B[39m\u001B[38;5;124m//www.youtube.com/\u001B[39m\u001B[38;5;124m'\u001B[39m\n\u001B[1;32m   4598\u001B[0m webpage_url \u001B[38;5;241m=\u001B[39m base_url \u001B[38;5;241m+\u001B[39m \u001B[38;5;124m'\u001B[39m\u001B[38;5;124mwatch?v=\u001B[39m\u001B[38;5;124m'\u001B[39m \u001B[38;5;241m+\u001B[39m video_id\n\u001B[0;32m-> 4600\u001B[0m webpage, master_ytcfg, player_responses, player_url \u001B[38;5;241m=\u001B[39m \u001B[38;5;28;43mself\u001B[39;49m\u001B[38;5;241;43m.\u001B[39;49m\u001B[43m_download_player_responses\u001B[49m\u001B[43m(\u001B[49m\u001B[43murl\u001B[49m\u001B[43m,\u001B[49m\u001B[43m \u001B[49m\u001B[43msmuggled_data\u001B[49m\u001B[43m,\u001B[49m\u001B[43m \u001B[49m\u001B[43mvideo_id\u001B[49m\u001B[43m,\u001B[49m\u001B[43m \u001B[49m\u001B[43mwebpage_url\u001B[49m\u001B[43m)\u001B[49m\n\u001B[1;32m   4602\u001B[0m playability_statuses \u001B[38;5;241m=\u001B[39m traverse_obj(\n\u001B[1;32m   4603\u001B[0m     player_responses, (\u001B[38;5;241m.\u001B[39m\u001B[38;5;241m.\u001B[39m\u001B[38;5;241m.\u001B[39m, \u001B[38;5;124m'\u001B[39m\u001B[38;5;124mplayabilityStatus\u001B[39m\u001B[38;5;124m'\u001B[39m), expected_type\u001B[38;5;241m=\u001B[39m\u001B[38;5;28mdict\u001B[39m)\n\u001B[1;32m   4605\u001B[0m trailer_video_id \u001B[38;5;241m=\u001B[39m get_first(\n\u001B[1;32m   4606\u001B[0m     playability_statuses,\n\u001B[1;32m   4607\u001B[0m     (\u001B[38;5;124m'\u001B[39m\u001B[38;5;124merrorScreen\u001B[39m\u001B[38;5;124m'\u001B[39m, \u001B[38;5;124m'\u001B[39m\u001B[38;5;124mplayerLegacyDesktopYpcTrailerRenderer\u001B[39m\u001B[38;5;124m'\u001B[39m, \u001B[38;5;124m'\u001B[39m\u001B[38;5;124mtrailerVideoId\u001B[39m\u001B[38;5;124m'\u001B[39m),\n\u001B[1;32m   4608\u001B[0m     expected_type\u001B[38;5;241m=\u001B[39m\u001B[38;5;28mstr\u001B[39m)\n",
      "File \u001B[0;32m~/.conda/envs/LumenaAI/lib/python3.10/site-packages/yt_dlp/extractor/youtube.py:4559\u001B[0m, in \u001B[0;36mYoutubeIE._download_player_responses\u001B[0;34m(self, url, smuggled_data, video_id, webpage_url)\u001B[0m\n\u001B[1;32m   4557\u001B[0m     \u001B[38;5;28;01mif\u001B[39;00m pp:\n\u001B[1;32m   4558\u001B[0m         query[\u001B[38;5;124m'\u001B[39m\u001B[38;5;124mpp\u001B[39m\u001B[38;5;124m'\u001B[39m] \u001B[38;5;241m=\u001B[39m pp\n\u001B[0;32m-> 4559\u001B[0m     webpage \u001B[38;5;241m=\u001B[39m \u001B[38;5;28;43mself\u001B[39;49m\u001B[38;5;241;43m.\u001B[39;49m\u001B[43m_download_webpage\u001B[49m\u001B[43m(\u001B[49m\n\u001B[1;32m   4560\u001B[0m \u001B[43m        \u001B[49m\u001B[43mwebpage_url\u001B[49m\u001B[43m,\u001B[49m\u001B[43m \u001B[49m\u001B[43mvideo_id\u001B[49m\u001B[43m,\u001B[49m\u001B[43m \u001B[49m\u001B[43mfatal\u001B[49m\u001B[38;5;241;43m=\u001B[39;49m\u001B[38;5;28;43;01mFalse\u001B[39;49;00m\u001B[43m,\u001B[49m\u001B[43m \u001B[49m\u001B[43mquery\u001B[49m\u001B[38;5;241;43m=\u001B[39;49m\u001B[43mquery\u001B[49m\u001B[43m)\u001B[49m\n\u001B[1;32m   4562\u001B[0m master_ytcfg \u001B[38;5;241m=\u001B[39m \u001B[38;5;28mself\u001B[39m\u001B[38;5;241m.\u001B[39mextract_ytcfg(video_id, webpage) \u001B[38;5;129;01mor\u001B[39;00m \u001B[38;5;28mself\u001B[39m\u001B[38;5;241m.\u001B[39m_get_default_ytcfg()\n\u001B[1;32m   4564\u001B[0m player_responses, player_url \u001B[38;5;241m=\u001B[39m \u001B[38;5;28mself\u001B[39m\u001B[38;5;241m.\u001B[39m_extract_player_responses(\n\u001B[1;32m   4565\u001B[0m     \u001B[38;5;28mself\u001B[39m\u001B[38;5;241m.\u001B[39m_get_requested_clients(url, smuggled_data),\n\u001B[1;32m   4566\u001B[0m     video_id, webpage, master_ytcfg, smuggled_data)\n",
      "File \u001B[0;32m~/.conda/envs/LumenaAI/lib/python3.10/site-packages/yt_dlp/extractor/common.py:1201\u001B[0m, in \u001B[0;36mInfoExtractor._download_webpage\u001B[0;34m(self, url_or_request, video_id, note, errnote, fatal, tries, timeout, *args, **kwargs)\u001B[0m\n\u001B[1;32m   1199\u001B[0m \u001B[38;5;28;01mwhile\u001B[39;00m \u001B[38;5;28;01mTrue\u001B[39;00m:\n\u001B[1;32m   1200\u001B[0m     \u001B[38;5;28;01mtry\u001B[39;00m:\n\u001B[0;32m-> 1201\u001B[0m         \u001B[38;5;28;01mreturn\u001B[39;00m \u001B[38;5;28;43mself\u001B[39;49m\u001B[38;5;241;43m.\u001B[39;49m\u001B[43m__download_webpage\u001B[49m\u001B[43m(\u001B[49m\u001B[43murl_or_request\u001B[49m\u001B[43m,\u001B[49m\u001B[43m \u001B[49m\u001B[43mvideo_id\u001B[49m\u001B[43m,\u001B[49m\u001B[43m \u001B[49m\u001B[43mnote\u001B[49m\u001B[43m,\u001B[49m\u001B[43m \u001B[49m\u001B[43merrnote\u001B[49m\u001B[43m,\u001B[49m\u001B[43m \u001B[49m\u001B[38;5;28;43;01mNone\u001B[39;49;00m\u001B[43m,\u001B[49m\u001B[43m \u001B[49m\u001B[43mfatal\u001B[49m\u001B[43m,\u001B[49m\u001B[43m \u001B[49m\u001B[38;5;241;43m*\u001B[39;49m\u001B[43margs\u001B[49m\u001B[43m,\u001B[49m\u001B[43m \u001B[49m\u001B[38;5;241;43m*\u001B[39;49m\u001B[38;5;241;43m*\u001B[39;49m\u001B[43mkwargs\u001B[49m\u001B[43m)\u001B[49m\n\u001B[1;32m   1202\u001B[0m     \u001B[38;5;28;01mexcept\u001B[39;00m IncompleteRead \u001B[38;5;28;01mas\u001B[39;00m e:\n\u001B[1;32m   1203\u001B[0m         try_count \u001B[38;5;241m+\u001B[39m\u001B[38;5;241m=\u001B[39m \u001B[38;5;241m1\u001B[39m\n",
      "File \u001B[0;32m~/.conda/envs/LumenaAI/lib/python3.10/site-packages/yt_dlp/extractor/common.py:1152\u001B[0m, in \u001B[0;36mInfoExtractor.__create_download_methods.<locals>.download_content\u001B[0;34m(self, url_or_request, video_id, note, errnote, transform_source, fatal, encoding, data, headers, query, expected_status, impersonate, require_impersonation)\u001B[0m\n\u001B[1;32m   1150\u001B[0m     kwargs\u001B[38;5;241m.\u001B[39mpop(\u001B[38;5;124m'\u001B[39m\u001B[38;5;124mtransform_source\u001B[39m\u001B[38;5;124m'\u001B[39m)\n\u001B[1;32m   1151\u001B[0m \u001B[38;5;66;03m# The method is fetched by name so subclasses can override _download_..._handle\u001B[39;00m\n\u001B[0;32m-> 1152\u001B[0m res \u001B[38;5;241m=\u001B[39m \u001B[38;5;28;43mgetattr\u001B[39;49m\u001B[43m(\u001B[49m\u001B[38;5;28;43mself\u001B[39;49m\u001B[43m,\u001B[49m\u001B[43m \u001B[49m\u001B[43mdownload_handle\u001B[49m\u001B[38;5;241;43m.\u001B[39;49m\u001B[38;5;18;43m__name__\u001B[39;49m\u001B[43m)\u001B[49m\u001B[43m(\u001B[49m\u001B[43murl_or_request\u001B[49m\u001B[43m,\u001B[49m\u001B[43m \u001B[49m\u001B[43mvideo_id\u001B[49m\u001B[43m,\u001B[49m\u001B[43m \u001B[49m\u001B[38;5;241;43m*\u001B[39;49m\u001B[38;5;241;43m*\u001B[39;49m\u001B[43mkwargs\u001B[49m\u001B[43m)\u001B[49m\n\u001B[1;32m   1153\u001B[0m \u001B[38;5;28;01mreturn\u001B[39;00m res \u001B[38;5;28;01mif\u001B[39;00m res \u001B[38;5;129;01mis\u001B[39;00m \u001B[38;5;28;01mFalse\u001B[39;00m \u001B[38;5;28;01melse\u001B[39;00m res[\u001B[38;5;241m0\u001B[39m]\n",
      "File \u001B[0;32m~/.conda/envs/LumenaAI/lib/python3.10/site-packages/yt_dlp/extractor/common.py:968\u001B[0m, in \u001B[0;36mInfoExtractor._download_webpage_handle\u001B[0;34m(self, url_or_request, video_id, note, errnote, fatal, encoding, data, headers, query, expected_status, impersonate, require_impersonation)\u001B[0m\n\u001B[1;32m    966\u001B[0m     \u001B[38;5;28;01massert\u001B[39;00m \u001B[38;5;129;01mnot\u001B[39;00m fatal\n\u001B[1;32m    967\u001B[0m     \u001B[38;5;28;01mreturn\u001B[39;00m \u001B[38;5;28;01mFalse\u001B[39;00m\n\u001B[0;32m--> 968\u001B[0m content \u001B[38;5;241m=\u001B[39m \u001B[38;5;28;43mself\u001B[39;49m\u001B[38;5;241;43m.\u001B[39;49m\u001B[43m_webpage_read_content\u001B[49m\u001B[43m(\u001B[49m\u001B[43murlh\u001B[49m\u001B[43m,\u001B[49m\u001B[43m \u001B[49m\u001B[43murl_or_request\u001B[49m\u001B[43m,\u001B[49m\u001B[43m \u001B[49m\u001B[43mvideo_id\u001B[49m\u001B[43m,\u001B[49m\u001B[43m \u001B[49m\u001B[43mnote\u001B[49m\u001B[43m,\u001B[49m\u001B[43m \u001B[49m\u001B[43merrnote\u001B[49m\u001B[43m,\u001B[49m\u001B[43m \u001B[49m\u001B[43mfatal\u001B[49m\u001B[43m,\u001B[49m\n\u001B[1;32m    969\u001B[0m \u001B[43m                                     \u001B[49m\u001B[43mencoding\u001B[49m\u001B[38;5;241;43m=\u001B[39;49m\u001B[43mencoding\u001B[49m\u001B[43m,\u001B[49m\u001B[43m \u001B[49m\u001B[43mdata\u001B[49m\u001B[38;5;241;43m=\u001B[39;49m\u001B[43mdata\u001B[49m\u001B[43m)\u001B[49m\n\u001B[1;32m    970\u001B[0m \u001B[38;5;28;01mif\u001B[39;00m content \u001B[38;5;129;01mis\u001B[39;00m \u001B[38;5;28;01mFalse\u001B[39;00m:\n\u001B[1;32m    971\u001B[0m     \u001B[38;5;28;01massert\u001B[39;00m \u001B[38;5;129;01mnot\u001B[39;00m fatal\n",
      "File \u001B[0;32m~/.conda/envs/LumenaAI/lib/python3.10/site-packages/yt_dlp/extractor/common.py:1048\u001B[0m, in \u001B[0;36mInfoExtractor._webpage_read_content\u001B[0;34m(self, urlh, url_or_request, video_id, note, errnote, fatal, prefix, encoding, data)\u001B[0m\n\u001B[1;32m   1045\u001B[0m \u001B[38;5;28;01mdef\u001B[39;00m \u001B[38;5;21m_webpage_read_content\u001B[39m(\u001B[38;5;28mself\u001B[39m, urlh, url_or_request, video_id, note\u001B[38;5;241m=\u001B[39m\u001B[38;5;28;01mNone\u001B[39;00m, errnote\u001B[38;5;241m=\u001B[39m\u001B[38;5;28;01mNone\u001B[39;00m, fatal\u001B[38;5;241m=\u001B[39m\u001B[38;5;28;01mTrue\u001B[39;00m,\n\u001B[1;32m   1046\u001B[0m                           prefix\u001B[38;5;241m=\u001B[39m\u001B[38;5;28;01mNone\u001B[39;00m, encoding\u001B[38;5;241m=\u001B[39m\u001B[38;5;28;01mNone\u001B[39;00m, data\u001B[38;5;241m=\u001B[39m\u001B[38;5;28;01mNone\u001B[39;00m):\n\u001B[1;32m   1047\u001B[0m     \u001B[38;5;28;01mtry\u001B[39;00m:\n\u001B[0;32m-> 1048\u001B[0m         webpage_bytes \u001B[38;5;241m=\u001B[39m \u001B[43murlh\u001B[49m\u001B[38;5;241;43m.\u001B[39;49m\u001B[43mread\u001B[49m\u001B[43m(\u001B[49m\u001B[43m)\u001B[49m\n\u001B[1;32m   1049\u001B[0m     \u001B[38;5;28;01mexcept\u001B[39;00m TransportError \u001B[38;5;28;01mas\u001B[39;00m err:\n\u001B[1;32m   1050\u001B[0m         errmsg \u001B[38;5;241m=\u001B[39m \u001B[38;5;124mf\u001B[39m\u001B[38;5;124m'\u001B[39m\u001B[38;5;132;01m{\u001B[39;00mvideo_id\u001B[38;5;132;01m}\u001B[39;00m\u001B[38;5;124m: Error reading response: \u001B[39m\u001B[38;5;132;01m{\u001B[39;00merr\u001B[38;5;241m.\u001B[39mmsg\u001B[38;5;132;01m}\u001B[39;00m\u001B[38;5;124m'\u001B[39m\n",
      "File \u001B[0;32m~/.conda/envs/LumenaAI/lib/python3.10/site-packages/yt_dlp/networking/_requests.py:143\u001B[0m, in \u001B[0;36mRequestsResponseAdapter.read\u001B[0;34m(self, amt)\u001B[0m\n\u001B[1;32m    140\u001B[0m \u001B[38;5;28;01mdef\u001B[39;00m \u001B[38;5;21mread\u001B[39m(\u001B[38;5;28mself\u001B[39m, amt: \u001B[38;5;28mint\u001B[39m \u001B[38;5;241m|\u001B[39m \u001B[38;5;28;01mNone\u001B[39;00m \u001B[38;5;241m=\u001B[39m \u001B[38;5;28;01mNone\u001B[39;00m):\n\u001B[1;32m    141\u001B[0m     \u001B[38;5;28;01mtry\u001B[39;00m:\n\u001B[1;32m    142\u001B[0m         \u001B[38;5;66;03m# Interact with urllib3 response directly.\u001B[39;00m\n\u001B[0;32m--> 143\u001B[0m         \u001B[38;5;28;01mreturn\u001B[39;00m \u001B[38;5;28;43mself\u001B[39;49m\u001B[38;5;241;43m.\u001B[39;49m\u001B[43mfp\u001B[49m\u001B[38;5;241;43m.\u001B[39;49m\u001B[43mread\u001B[49m\u001B[43m(\u001B[49m\u001B[43mamt\u001B[49m\u001B[43m,\u001B[49m\u001B[43m \u001B[49m\u001B[43mdecode_content\u001B[49m\u001B[38;5;241;43m=\u001B[39;49m\u001B[38;5;28;43;01mTrue\u001B[39;49;00m\u001B[43m)\u001B[49m\n\u001B[1;32m    145\u001B[0m     \u001B[38;5;66;03m# See urllib3.response.HTTPResponse.read() for exceptions raised on read\u001B[39;00m\n\u001B[1;32m    146\u001B[0m     \u001B[38;5;28;01mexcept\u001B[39;00m urllib3\u001B[38;5;241m.\u001B[39mexceptions\u001B[38;5;241m.\u001B[39mSSLError \u001B[38;5;28;01mas\u001B[39;00m e:\n",
      "File \u001B[0;32m~/.conda/envs/LumenaAI/lib/python3.10/site-packages/urllib3/response.py:955\u001B[0m, in \u001B[0;36mHTTPResponse.read\u001B[0;34m(self, amt, decode_content, cache_content)\u001B[0m\n\u001B[1;32m    952\u001B[0m     \u001B[38;5;28;01mif\u001B[39;00m \u001B[38;5;28mlen\u001B[39m(\u001B[38;5;28mself\u001B[39m\u001B[38;5;241m.\u001B[39m_decoded_buffer) \u001B[38;5;241m>\u001B[39m\u001B[38;5;241m=\u001B[39m amt:\n\u001B[1;32m    953\u001B[0m         \u001B[38;5;28;01mreturn\u001B[39;00m \u001B[38;5;28mself\u001B[39m\u001B[38;5;241m.\u001B[39m_decoded_buffer\u001B[38;5;241m.\u001B[39mget(amt)\n\u001B[0;32m--> 955\u001B[0m data \u001B[38;5;241m=\u001B[39m \u001B[38;5;28;43mself\u001B[39;49m\u001B[38;5;241;43m.\u001B[39;49m\u001B[43m_raw_read\u001B[49m\u001B[43m(\u001B[49m\u001B[43mamt\u001B[49m\u001B[43m)\u001B[49m\n\u001B[1;32m    957\u001B[0m flush_decoder \u001B[38;5;241m=\u001B[39m amt \u001B[38;5;129;01mis\u001B[39;00m \u001B[38;5;28;01mNone\u001B[39;00m \u001B[38;5;129;01mor\u001B[39;00m (amt \u001B[38;5;241m!=\u001B[39m \u001B[38;5;241m0\u001B[39m \u001B[38;5;129;01mand\u001B[39;00m \u001B[38;5;129;01mnot\u001B[39;00m data)\n\u001B[1;32m    959\u001B[0m \u001B[38;5;28;01mif\u001B[39;00m \u001B[38;5;129;01mnot\u001B[39;00m data \u001B[38;5;129;01mand\u001B[39;00m \u001B[38;5;28mlen\u001B[39m(\u001B[38;5;28mself\u001B[39m\u001B[38;5;241m.\u001B[39m_decoded_buffer) \u001B[38;5;241m==\u001B[39m \u001B[38;5;241m0\u001B[39m:\n",
      "File \u001B[0;32m~/.conda/envs/LumenaAI/lib/python3.10/site-packages/urllib3/response.py:879\u001B[0m, in \u001B[0;36mHTTPResponse._raw_read\u001B[0;34m(self, amt, read1)\u001B[0m\n\u001B[1;32m    876\u001B[0m fp_closed \u001B[38;5;241m=\u001B[39m \u001B[38;5;28mgetattr\u001B[39m(\u001B[38;5;28mself\u001B[39m\u001B[38;5;241m.\u001B[39m_fp, \u001B[38;5;124m\"\u001B[39m\u001B[38;5;124mclosed\u001B[39m\u001B[38;5;124m\"\u001B[39m, \u001B[38;5;28;01mFalse\u001B[39;00m)\n\u001B[1;32m    878\u001B[0m \u001B[38;5;28;01mwith\u001B[39;00m \u001B[38;5;28mself\u001B[39m\u001B[38;5;241m.\u001B[39m_error_catcher():\n\u001B[0;32m--> 879\u001B[0m     data \u001B[38;5;241m=\u001B[39m \u001B[38;5;28;43mself\u001B[39;49m\u001B[38;5;241;43m.\u001B[39;49m\u001B[43m_fp_read\u001B[49m\u001B[43m(\u001B[49m\u001B[43mamt\u001B[49m\u001B[43m,\u001B[49m\u001B[43m \u001B[49m\u001B[43mread1\u001B[49m\u001B[38;5;241;43m=\u001B[39;49m\u001B[43mread1\u001B[49m\u001B[43m)\u001B[49m \u001B[38;5;28;01mif\u001B[39;00m \u001B[38;5;129;01mnot\u001B[39;00m fp_closed \u001B[38;5;28;01melse\u001B[39;00m \u001B[38;5;124mb\u001B[39m\u001B[38;5;124m\"\u001B[39m\u001B[38;5;124m\"\u001B[39m\n\u001B[1;32m    880\u001B[0m     \u001B[38;5;28;01mif\u001B[39;00m amt \u001B[38;5;129;01mis\u001B[39;00m \u001B[38;5;129;01mnot\u001B[39;00m \u001B[38;5;28;01mNone\u001B[39;00m \u001B[38;5;129;01mand\u001B[39;00m amt \u001B[38;5;241m!=\u001B[39m \u001B[38;5;241m0\u001B[39m \u001B[38;5;129;01mand\u001B[39;00m \u001B[38;5;129;01mnot\u001B[39;00m data:\n\u001B[1;32m    881\u001B[0m         \u001B[38;5;66;03m# Platform-specific: Buggy versions of Python.\u001B[39;00m\n\u001B[1;32m    882\u001B[0m         \u001B[38;5;66;03m# Close the connection when no data is returned\u001B[39;00m\n\u001B[0;32m   (...)\u001B[0m\n\u001B[1;32m    887\u001B[0m         \u001B[38;5;66;03m# not properly close the connection in all cases. There is\u001B[39;00m\n\u001B[1;32m    888\u001B[0m         \u001B[38;5;66;03m# no harm in redundantly calling close.\u001B[39;00m\n\u001B[1;32m    889\u001B[0m         \u001B[38;5;28mself\u001B[39m\u001B[38;5;241m.\u001B[39m_fp\u001B[38;5;241m.\u001B[39mclose()\n",
      "File \u001B[0;32m~/.conda/envs/LumenaAI/lib/python3.10/site-packages/urllib3/response.py:862\u001B[0m, in \u001B[0;36mHTTPResponse._fp_read\u001B[0;34m(self, amt, read1)\u001B[0m\n\u001B[1;32m    859\u001B[0m     \u001B[38;5;28;01mreturn\u001B[39;00m \u001B[38;5;28mself\u001B[39m\u001B[38;5;241m.\u001B[39m_fp\u001B[38;5;241m.\u001B[39mread1(amt) \u001B[38;5;28;01mif\u001B[39;00m amt \u001B[38;5;129;01mis\u001B[39;00m \u001B[38;5;129;01mnot\u001B[39;00m \u001B[38;5;28;01mNone\u001B[39;00m \u001B[38;5;28;01melse\u001B[39;00m \u001B[38;5;28mself\u001B[39m\u001B[38;5;241m.\u001B[39m_fp\u001B[38;5;241m.\u001B[39mread1()\n\u001B[1;32m    860\u001B[0m \u001B[38;5;28;01melse\u001B[39;00m:\n\u001B[1;32m    861\u001B[0m     \u001B[38;5;66;03m# StringIO doesn't like amt=None\u001B[39;00m\n\u001B[0;32m--> 862\u001B[0m     \u001B[38;5;28;01mreturn\u001B[39;00m \u001B[38;5;28mself\u001B[39m\u001B[38;5;241m.\u001B[39m_fp\u001B[38;5;241m.\u001B[39mread(amt) \u001B[38;5;28;01mif\u001B[39;00m amt \u001B[38;5;129;01mis\u001B[39;00m \u001B[38;5;129;01mnot\u001B[39;00m \u001B[38;5;28;01mNone\u001B[39;00m \u001B[38;5;28;01melse\u001B[39;00m \u001B[38;5;28;43mself\u001B[39;49m\u001B[38;5;241;43m.\u001B[39;49m\u001B[43m_fp\u001B[49m\u001B[38;5;241;43m.\u001B[39;49m\u001B[43mread\u001B[49m\u001B[43m(\u001B[49m\u001B[43m)\u001B[49m\n",
      "File \u001B[0;32m~/.conda/envs/LumenaAI/lib/python3.10/http/client.py:460\u001B[0m, in \u001B[0;36mHTTPResponse.read\u001B[0;34m(self, amt)\u001B[0m\n\u001B[1;32m    457\u001B[0m     \u001B[38;5;28;01mreturn\u001B[39;00m \u001B[38;5;124mb\u001B[39m\u001B[38;5;124m\"\u001B[39m\u001B[38;5;124m\"\u001B[39m\n\u001B[1;32m    459\u001B[0m \u001B[38;5;28;01mif\u001B[39;00m \u001B[38;5;28mself\u001B[39m\u001B[38;5;241m.\u001B[39mchunked:\n\u001B[0;32m--> 460\u001B[0m     \u001B[38;5;28;01mreturn\u001B[39;00m \u001B[38;5;28;43mself\u001B[39;49m\u001B[38;5;241;43m.\u001B[39;49m\u001B[43m_read_chunked\u001B[49m\u001B[43m(\u001B[49m\u001B[43mamt\u001B[49m\u001B[43m)\u001B[49m\n\u001B[1;32m    462\u001B[0m \u001B[38;5;28;01mif\u001B[39;00m amt \u001B[38;5;129;01mis\u001B[39;00m \u001B[38;5;129;01mnot\u001B[39;00m \u001B[38;5;28;01mNone\u001B[39;00m:\n\u001B[1;32m    463\u001B[0m     \u001B[38;5;28;01mif\u001B[39;00m \u001B[38;5;28mself\u001B[39m\u001B[38;5;241m.\u001B[39mlength \u001B[38;5;129;01mis\u001B[39;00m \u001B[38;5;129;01mnot\u001B[39;00m \u001B[38;5;28;01mNone\u001B[39;00m \u001B[38;5;129;01mand\u001B[39;00m amt \u001B[38;5;241m>\u001B[39m \u001B[38;5;28mself\u001B[39m\u001B[38;5;241m.\u001B[39mlength:\n\u001B[1;32m    464\u001B[0m         \u001B[38;5;66;03m# clip the read to the \"end of response\"\u001B[39;00m\n",
      "File \u001B[0;32m~/.conda/envs/LumenaAI/lib/python3.10/http/client.py:583\u001B[0m, in \u001B[0;36mHTTPResponse._read_chunked\u001B[0;34m(self, amt)\u001B[0m\n\u001B[1;32m    581\u001B[0m \u001B[38;5;28;01mtry\u001B[39;00m:\n\u001B[1;32m    582\u001B[0m     \u001B[38;5;28;01mwhile\u001B[39;00m \u001B[38;5;28;01mTrue\u001B[39;00m:\n\u001B[0;32m--> 583\u001B[0m         chunk_left \u001B[38;5;241m=\u001B[39m \u001B[38;5;28;43mself\u001B[39;49m\u001B[38;5;241;43m.\u001B[39;49m\u001B[43m_get_chunk_left\u001B[49m\u001B[43m(\u001B[49m\u001B[43m)\u001B[49m\n\u001B[1;32m    584\u001B[0m         \u001B[38;5;28;01mif\u001B[39;00m chunk_left \u001B[38;5;129;01mis\u001B[39;00m \u001B[38;5;28;01mNone\u001B[39;00m:\n\u001B[1;32m    585\u001B[0m             \u001B[38;5;28;01mbreak\u001B[39;00m\n",
      "File \u001B[0;32m~/.conda/envs/LumenaAI/lib/python3.10/http/client.py:566\u001B[0m, in \u001B[0;36mHTTPResponse._get_chunk_left\u001B[0;34m(self)\u001B[0m\n\u001B[1;32m    564\u001B[0m     \u001B[38;5;28mself\u001B[39m\u001B[38;5;241m.\u001B[39m_safe_read(\u001B[38;5;241m2\u001B[39m)  \u001B[38;5;66;03m# toss the CRLF at the end of the chunk\u001B[39;00m\n\u001B[1;32m    565\u001B[0m \u001B[38;5;28;01mtry\u001B[39;00m:\n\u001B[0;32m--> 566\u001B[0m     chunk_left \u001B[38;5;241m=\u001B[39m \u001B[38;5;28;43mself\u001B[39;49m\u001B[38;5;241;43m.\u001B[39;49m\u001B[43m_read_next_chunk_size\u001B[49m\u001B[43m(\u001B[49m\u001B[43m)\u001B[49m\n\u001B[1;32m    567\u001B[0m \u001B[38;5;28;01mexcept\u001B[39;00m \u001B[38;5;167;01mValueError\u001B[39;00m:\n\u001B[1;32m    568\u001B[0m     \u001B[38;5;28;01mraise\u001B[39;00m IncompleteRead(\u001B[38;5;124mb\u001B[39m\u001B[38;5;124m'\u001B[39m\u001B[38;5;124m'\u001B[39m)\n",
      "File \u001B[0;32m~/.conda/envs/LumenaAI/lib/python3.10/http/client.py:526\u001B[0m, in \u001B[0;36mHTTPResponse._read_next_chunk_size\u001B[0;34m(self)\u001B[0m\n\u001B[1;32m    524\u001B[0m \u001B[38;5;28;01mdef\u001B[39;00m \u001B[38;5;21m_read_next_chunk_size\u001B[39m(\u001B[38;5;28mself\u001B[39m):\n\u001B[1;32m    525\u001B[0m     \u001B[38;5;66;03m# Read the next chunk size from the file\u001B[39;00m\n\u001B[0;32m--> 526\u001B[0m     line \u001B[38;5;241m=\u001B[39m \u001B[38;5;28;43mself\u001B[39;49m\u001B[38;5;241;43m.\u001B[39;49m\u001B[43mfp\u001B[49m\u001B[38;5;241;43m.\u001B[39;49m\u001B[43mreadline\u001B[49m\u001B[43m(\u001B[49m\u001B[43m_MAXLINE\u001B[49m\u001B[43m \u001B[49m\u001B[38;5;241;43m+\u001B[39;49m\u001B[43m \u001B[49m\u001B[38;5;241;43m1\u001B[39;49m\u001B[43m)\u001B[49m\n\u001B[1;32m    527\u001B[0m     \u001B[38;5;28;01mif\u001B[39;00m \u001B[38;5;28mlen\u001B[39m(line) \u001B[38;5;241m>\u001B[39m _MAXLINE:\n\u001B[1;32m    528\u001B[0m         \u001B[38;5;28;01mraise\u001B[39;00m LineTooLong(\u001B[38;5;124m\"\u001B[39m\u001B[38;5;124mchunk size\u001B[39m\u001B[38;5;124m\"\u001B[39m)\n",
      "File \u001B[0;32m~/.conda/envs/LumenaAI/lib/python3.10/socket.py:717\u001B[0m, in \u001B[0;36mSocketIO.readinto\u001B[0;34m(self, b)\u001B[0m\n\u001B[1;32m    715\u001B[0m \u001B[38;5;28;01mwhile\u001B[39;00m \u001B[38;5;28;01mTrue\u001B[39;00m:\n\u001B[1;32m    716\u001B[0m     \u001B[38;5;28;01mtry\u001B[39;00m:\n\u001B[0;32m--> 717\u001B[0m         \u001B[38;5;28;01mreturn\u001B[39;00m \u001B[38;5;28;43mself\u001B[39;49m\u001B[38;5;241;43m.\u001B[39;49m\u001B[43m_sock\u001B[49m\u001B[38;5;241;43m.\u001B[39;49m\u001B[43mrecv_into\u001B[49m\u001B[43m(\u001B[49m\u001B[43mb\u001B[49m\u001B[43m)\u001B[49m\n\u001B[1;32m    718\u001B[0m     \u001B[38;5;28;01mexcept\u001B[39;00m timeout:\n\u001B[1;32m    719\u001B[0m         \u001B[38;5;28mself\u001B[39m\u001B[38;5;241m.\u001B[39m_timeout_occurred \u001B[38;5;241m=\u001B[39m \u001B[38;5;28;01mTrue\u001B[39;00m\n",
      "File \u001B[0;32m~/.conda/envs/LumenaAI/lib/python3.10/ssl.py:1307\u001B[0m, in \u001B[0;36mSSLSocket.recv_into\u001B[0;34m(self, buffer, nbytes, flags)\u001B[0m\n\u001B[1;32m   1303\u001B[0m     \u001B[38;5;28;01mif\u001B[39;00m flags \u001B[38;5;241m!=\u001B[39m \u001B[38;5;241m0\u001B[39m:\n\u001B[1;32m   1304\u001B[0m         \u001B[38;5;28;01mraise\u001B[39;00m \u001B[38;5;167;01mValueError\u001B[39;00m(\n\u001B[1;32m   1305\u001B[0m           \u001B[38;5;124m\"\u001B[39m\u001B[38;5;124mnon-zero flags not allowed in calls to recv_into() on \u001B[39m\u001B[38;5;132;01m%s\u001B[39;00m\u001B[38;5;124m\"\u001B[39m \u001B[38;5;241m%\u001B[39m\n\u001B[1;32m   1306\u001B[0m           \u001B[38;5;28mself\u001B[39m\u001B[38;5;241m.\u001B[39m\u001B[38;5;18m__class__\u001B[39m)\n\u001B[0;32m-> 1307\u001B[0m     \u001B[38;5;28;01mreturn\u001B[39;00m \u001B[38;5;28;43mself\u001B[39;49m\u001B[38;5;241;43m.\u001B[39;49m\u001B[43mread\u001B[49m\u001B[43m(\u001B[49m\u001B[43mnbytes\u001B[49m\u001B[43m,\u001B[49m\u001B[43m \u001B[49m\u001B[43mbuffer\u001B[49m\u001B[43m)\u001B[49m\n\u001B[1;32m   1308\u001B[0m \u001B[38;5;28;01melse\u001B[39;00m:\n\u001B[1;32m   1309\u001B[0m     \u001B[38;5;28;01mreturn\u001B[39;00m \u001B[38;5;28msuper\u001B[39m()\u001B[38;5;241m.\u001B[39mrecv_into(buffer, nbytes, flags)\n",
      "File \u001B[0;32m~/.conda/envs/LumenaAI/lib/python3.10/ssl.py:1163\u001B[0m, in \u001B[0;36mSSLSocket.read\u001B[0;34m(self, len, buffer)\u001B[0m\n\u001B[1;32m   1161\u001B[0m \u001B[38;5;28;01mtry\u001B[39;00m:\n\u001B[1;32m   1162\u001B[0m     \u001B[38;5;28;01mif\u001B[39;00m buffer \u001B[38;5;129;01mis\u001B[39;00m \u001B[38;5;129;01mnot\u001B[39;00m \u001B[38;5;28;01mNone\u001B[39;00m:\n\u001B[0;32m-> 1163\u001B[0m         \u001B[38;5;28;01mreturn\u001B[39;00m \u001B[38;5;28;43mself\u001B[39;49m\u001B[38;5;241;43m.\u001B[39;49m\u001B[43m_sslobj\u001B[49m\u001B[38;5;241;43m.\u001B[39;49m\u001B[43mread\u001B[49m\u001B[43m(\u001B[49m\u001B[38;5;28;43mlen\u001B[39;49m\u001B[43m,\u001B[49m\u001B[43m \u001B[49m\u001B[43mbuffer\u001B[49m\u001B[43m)\u001B[49m\n\u001B[1;32m   1164\u001B[0m     \u001B[38;5;28;01melse\u001B[39;00m:\n\u001B[1;32m   1165\u001B[0m         \u001B[38;5;28;01mreturn\u001B[39;00m \u001B[38;5;28mself\u001B[39m\u001B[38;5;241m.\u001B[39m_sslobj\u001B[38;5;241m.\u001B[39mread(\u001B[38;5;28mlen\u001B[39m)\n",
      "\u001B[0;31mKeyboardInterrupt\u001B[0m: "
     ]
    }
   ],
   "source": [
    "import os\n",
    "import yt_dlp\n",
    "\n",
    "import yt_dlp\n",
    "import warnings\n",
    "import logging\n",
    "import contextlib\n",
    "import io\n",
    "import sys\n",
    "\n",
    "# 경고 메시지 무시 (DeprecationWarning 등)\n",
    "warnings.filterwarnings(\"ignore\")\n",
    "\n",
    "# yt_dlp 로깅 레벨 낮추기\n",
    "yt_dlp.utils.std_headers['User-Agent'] = 'Mozilla/5.0'\n",
    "logging.getLogger(\"yt_dlp\").setLevel(logging.CRITICAL)\n",
    "\n",
    "PATH = 'videos/'\n",
    "\n",
    "\n",
    "def get_video_urls_from_playlist(playlist_url: str) -> list[str]:\n",
    "    ydl_opts = {\n",
    "        'quiet': True,\n",
    "        'extract_flat': 'in_playlist',  # 세부 정보 없이 URL만 추출\n",
    "        'skip_download': True,\n",
    "    }\n",
    "\n",
    "    video_urls = []\n",
    "    try:\n",
    "        with yt_dlp.YoutubeDL(ydl_opts) as ydl:\n",
    "            info = ydl.extract_info(playlist_url, download=False)\n",
    "\n",
    "            if 'entries' in info:\n",
    "                for entry in info['entries']:\n",
    "                    if entry and 'url' in entry:\n",
    "                        # 전체 URL이 아닌 경우가 있으므로, prefix를 붙여준다\n",
    "                        video_url = f\"https://www.youtube.com/watch?v={entry['url']}\" if not entry['url'].startswith(\"http\") else entry['url']\n",
    "                        video_urls.append(video_url)\n",
    "\n",
    "    except Exception as e:\n",
    "        print(f\"재생목록 처리 중 오류 발생: {e}\")\n",
    "\n",
    "    return video_urls\n",
    "\n",
    "links = get_video_urls_from_playlist('https://www.youtube.com/playlist?list=PLO-mt5Iu5TeZF8xMHqtT_DhAPKmjF6i3x')\n",
    "\n",
    "\n",
    "\n",
    "for link in links:\n",
    "    ydl_opts = {\n",
    "                'quiet': True,\n",
    "                'http_headers': {\n",
    "                    'Accept-Language': 'ko',  # HTTP 요청에 한국어 언어 설정\n",
    "                },\n",
    "            }\n",
    "\n",
    "    with yt_dlp.YoutubeDL(ydl_opts) as ydl:\n",
    "        info = ydl.extract_info(link, download=False)\n",
    "\n",
    "    title = info.get('title', 'Unknown Title')\n",
    "\n",
    "    print(title)\n",
    "\n",
    "\n",
    "    download_folder = os.path.join(PATH)\n",
    "\n",
    "    # 4. 파일 중복 검사\n",
    "    file_name = title\n",
    "    file_path = os.path.join(download_folder, f'{file_name}.mp4')\n",
    "    if os.path.exists(file_path):\n",
    "        print(f\"이미 있습니다.{file_name}\")\n",
    "        continue\n",
    "\n",
    "    ydl_opts = {\n",
    "            'format': 'bestvideo[ext=mp4][vcodec^=avc1]+bestaudio[ext=m4a]/best[ext=mp4]',\n",
    "            'outtmpl': os.path.join(PATH, f\"{title}.%(ext)s\"),\n",
    "            'merge_output_format': 'mp4',\n",
    "            'quiet': True,\n",
    "        }\n",
    "\n",
    "    try:\n",
    "        with yt_dlp.YoutubeDL(ydl_opts) as ydl:\n",
    "            ydl.download([link])\n",
    "        print(f\"비디오가 성공적으로 다운로드되어 저장되었습니다 ({title}\")\n",
    "\n",
    "    except Exception as e:\n",
    "        print(f\"비디오 다운로드 실패({title}): {e}\")\n"
   ],
   "metadata": {
    "collapsed": false
   }
  },
  {
   "cell_type": "code",
   "execution_count": 24,
   "outputs": [
    {
     "name": "stdout",
     "output_type": "stream",
     "text": [
      "00.유니티 뱀서라이크 개발강좌가 온다?! 언데드 서바이버.mp4\n",
      "102.98149394989014\n",
      "71.787\n",
      "01.2D 오브젝트🧍만들기 [유니티 뱀서라이크 01].mp4\n",
      "563.7569341659546\n",
      "1482.39\n",
      "02+.새로운 인풋시스템🎮적용하기 [유니티 뱀서라이크 02+].mp4\n",
      "31.59879779815674\n",
      "674.45\n",
      "02.플레이어 이동🚶구현하기 [유니티 뱀서라이크 02].mp4\n",
      "255.5854263305664\n",
      "1260.288\n",
      "03.2D 셀 애니메이션🏃제작하기 [유니티 뱀서라이크 03].mp4\n",
      "342.14880752563477\n",
      "1499.798\n",
      "04.무한🌍맵 이동 [유니티 뱀서라이크 04].mp4\n",
      "372.5969820022583\n",
      "1260.283333\n",
      "05.몬스터🧟만들기 [유니티 뱀서라이크 05].mp4\n",
      "76.99404525756836\n",
      "1355.975692\n",
      "06+.소환 레벨⏳적용하기 [유니티 뱀서라이크 06+].mp4\n",
      "110.7802038192749\n",
      "1554.088345\n",
      "06.오브젝트 풀링🏊으로 소환하기 [유니티 뱀서라이크 06].mp4\n",
      "136.81719398498535\n",
      "2494.937687\n",
      "07.회전하는🪓근접무기 구현 [유니티 뱀서라이크 07].mp4\n",
      "151.64703845977783\n",
      "2423.118367\n",
      "08.자동🎯원거리 공격 구현 [유니티 뱀서라이크 08].mp4\n",
      "138.17235279083252\n",
      "2309.17805\n",
      "09.타격감🌟있는 몬스터 처치 만들기 [유니티 뱀서라이크 09].mp4\n",
      "143.515944480896\n",
      "1784.685714\n",
      "10.HUD📐제작하기 [유니티 뱀서라이크 10].mp4\n",
      "173.63161373138428\n",
      "2685.689615\n",
      "11+.플레이어 무기 장착 표현하기 [유니티 뱀서라이크 11+].mp4\n",
      "86.20256233215332\n",
      "1182.883333\n",
      "11.능력 업그레이드💪구현 [유니티 뱀서라이크 11].mp4\n",
      "263.283447265625\n",
      "3844.283333\n",
      "12.레벨업🥳시스템 [유니티 뱀서라이크 12].mp4\n",
      "151.46850776672363\n",
      "2669.389206\n",
      "13.게임 시작과 종료 [유니티 뱀서라이크 13].mp4\n",
      "210.5288438796997\n",
      "2116.313107\n",
      "14+.캐릭터 해금🔓시스템 [유니티 뱀서라이크 14+].mp4\n",
      "129.21297359466553\n",
      "2161.800998\n",
      "14.플레이 캐릭터🧑‍🤝‍🧑선택 [유니티 뱀서라이크 14].mp4\n",
      "74.04586982727051\n",
      "1232.840272\n",
      "15.편리한 오디오🔊시스템 구축 [유니티 뱀서라이크 15].mp4\n",
      "132.075608253479\n",
      "2232.737959\n",
      "16.로직🛠️보완하기 [유니티 뱀서라이크 16].mp4\n",
      "49.60117721557617\n",
      "707.117279\n",
      "17.모바일📱빌드하기 [유니티 뱀서라이크 17].mp4\n",
      "178.9095458984375\n",
      "1930.785669\n"
     ]
    }
   ],
   "source": [
    "import subprocess\n",
    "import json\n",
    "\n",
    "\n",
    "def get_video_duration(path):\n",
    "    cmd = [\n",
    "        \"ffprobe\", \"-v\", \"error\",\n",
    "        \"-show_entries\", \"format=duration\",\n",
    "        \"-of\", \"json\",\n",
    "        path\n",
    "    ]\n",
    "    result = subprocess.run(cmd, stdout=subprocess.PIPE, stderr=subprocess.PIPE, text=True)\n",
    "    output = json.loads(result.stdout)\n",
    "    return float(output[\"format\"][\"duration\"])\n",
    "\n",
    "def generate_ffmpeg_concat_list(folder_path: str, output_txt: str = \"list.txt\"):\n",
    "    with open(\"list.txt\", \"w\", encoding=\"utf-8\") as f:\n",
    "        for file in sorted(os.listdir(folder_path)):\n",
    "            if file.endswith(\".mp4\"):\n",
    "                print(file)\n",
    "                print(os.path.getsize(os.path.join(folder_path, file))/(1024*1024))\n",
    "                duration = get_video_duration(os.path.join(folder_path, file))\n",
    "                print(duration)\n",
    "                f.write(f\"file '{os.path.join(folder_path, file)}'\\n\")\n",
    "\n",
    "generate_ffmpeg_concat_list(PATH)"
   ],
   "metadata": {
    "collapsed": false
   }
  },
  {
   "cell_type": "code",
   "execution_count": 21,
   "outputs": [
    {
     "name": "stdout",
     "output_type": "stream",
     "text": [
      "102.98149394989014\n",
      "563.7569341659546\n",
      "31.59879779815674\n",
      "255.5854263305664\n",
      "342.14880752563477\n",
      "372.5969820022583\n",
      "76.99404525756836\n",
      "110.7802038192749\n",
      "136.81719398498535\n",
      "151.64703845977783\n",
      "138.17235279083252\n",
      "143.515944480896\n",
      "173.63161373138428\n",
      "86.20256233215332\n",
      "263.283447265625\n",
      "151.46850776672363\n",
      "210.5288438796997\n",
      "129.21297359466553\n",
      "74.04586982727051\n",
      "132.075608253479\n",
      "49.60117721557617\n",
      "178.9095458984375\n"
     ]
    }
   ],
   "source": [
    "def generate_ffmpeg_concat_list(folder_path: str, output_txt: str = \"list.txt\"):\n",
    "    with open(\"list.txt\", \"w\", encoding=\"utf-8\") as f:\n",
    "        for file in sorted(os.listdir(folder_path)):\n",
    "            if file.endswith(\".mp4\"):\n",
    "                print(os.path.getsize(os.path.join(folder_path, file))/(1024*1024))\n",
    "                #f.write(f\"file '{os.path.join(folder_path, file)}'\\n\")\n",
    "\n",
    "generate_ffmpeg_concat_list(PATH)"
   ],
   "metadata": {
    "collapsed": false
   }
  }
 ],
 "metadata": {
  "kernelspec": {
   "display_name": "Python 3",
   "language": "python",
   "name": "python3"
  },
  "language_info": {
   "codemirror_mode": {
    "name": "ipython",
    "version": 2
   },
   "file_extension": ".py",
   "mimetype": "text/x-python",
   "name": "python",
   "nbconvert_exporter": "python",
   "pygments_lexer": "ipython2",
   "version": "2.7.6"
  }
 },
 "nbformat": 4,
 "nbformat_minor": 0
}
