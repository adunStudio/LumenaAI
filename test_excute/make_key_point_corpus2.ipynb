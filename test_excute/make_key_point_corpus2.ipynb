{
 "cells": [
  {
   "cell_type": "code",
   "execution_count": 2,
   "metadata": {
    "collapsed": true
   },
   "outputs": [
    {
     "name": "stdout",
     "output_type": "stream",
     "text": [
      "Connected to MongoDB\n",
      "1045\n",
      "Corpus JSON 파일이 성공적으로 저장되었습니다.\n"
     ]
    }
   ],
   "source": [
    "from infrastructure.database.mongo_client import MongoDBClient\n",
    "from infrastructure.repository import YoutubeContentRepository, YoutubeKeyPointCollectionRepository\n",
    "from domain import YouTubeContent\n",
    "from domain import YoutubeTimelineSummary, YoutubeTimelineSection\n",
    "from domain import YoutubeKeyPointCollection, YoutubeKeyPoint\n",
    "\n",
    "import pandas as pd\n",
    "import json\n",
    "import os\n",
    "from dotenv import load_dotenv\n",
    "\n",
    "load_dotenv()\n",
    "\n",
    "# MongoDB 클라이언트 초기화\n",
    "client = MongoDBClient(uri=os.environ['MONGO_CONNECTION_STRING'])\n",
    "client.connect()\n",
    "\n",
    "# 저장소 초기화\n",
    "content_repo = YoutubeContentRepository(client)\n",
    "keypoint_repo = YoutubeKeyPointCollectionRepository(client)\n",
    "\n",
    "contents = content_repo.find_all()\n",
    "\n",
    "# 🔹 전체 데이터를 누적할 리스트\n",
    "corpus_data = []\n",
    "\n",
    "keys = []\n",
    "\n",
    "for content in contents:\n",
    "    content: YouTubeContent\n",
    "\n",
    "    if content.timeline_summary is None:\n",
    "        continue\n",
    "\n",
    "    collection: YoutubeKeyPointCollection = keypoint_repo.get(content.url.url)\n",
    "\n",
    "    if collection is None:\n",
    "        continue\n",
    "\n",
    "\n",
    "    for key_point in collection.key_points:\n",
    "        term = key_point.term\n",
    "        if term in keys:\n",
    "            continue\n",
    "\n",
    "        # 🔹 Corpus 데이터에 추가\n",
    "        corpus_data.append({\n",
    "            \"term\": term,\n",
    "            \"description\": key_point.description\n",
    "        })\n",
    "\n",
    "        keys.append(term)\n",
    "\n",
    "# 🔹 pandas DataFrame으로 변환\n",
    "df = pd.DataFrame(corpus_data)\n",
    "print(len(df))\n",
    "\n",
    "# 🔹 JSON 파일로 저장\n",
    "output_file = 'corpus2.json'\n",
    "with open(output_file, 'w', encoding='utf-8') as f:\n",
    "    json.dump(corpus_data, f, ensure_ascii=False, indent=4)\n",
    "\n",
    "\n",
    "print(f\"Corpus JSON 파일이 성공적으로 저장되었습니다.\")"
   ]
  }
 ],
 "metadata": {
  "kernelspec": {
   "display_name": "Python 3",
   "language": "python",
   "name": "python3"
  },
  "language_info": {
   "codemirror_mode": {
    "name": "ipython",
    "version": 2
   },
   "file_extension": ".py",
   "mimetype": "text/x-python",
   "name": "python",
   "nbconvert_exporter": "python",
   "pygments_lexer": "ipython2",
   "version": "2.7.6"
  }
 },
 "nbformat": 4,
 "nbformat_minor": 0
}
